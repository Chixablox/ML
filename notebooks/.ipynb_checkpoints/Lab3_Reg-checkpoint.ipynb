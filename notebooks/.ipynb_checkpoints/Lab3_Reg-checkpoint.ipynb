{
 "cells": [
  {
   "cell_type": "code",
   "execution_count": 1,
   "id": "43e8f509-8475-4ae2-8645-a3130aa28057",
   "metadata": {},
   "outputs": [],
   "source": [
    "import pandas as pd\n",
    "import matplotlib.pyplot as plt\n",
    "import numpy as np\n",
    "import seaborn as sns\n",
    "import warnings\n",
    "from datetime import datetime, timedelta"
   ]
  },
  {
   "cell_type": "code",
   "execution_count": 2,
   "id": "d30b65dd-6028-413c-8948-bd9b7fc2ce02",
   "metadata": {},
   "outputs": [],
   "source": [
    "import warnings\n",
    "warnings.filterwarnings('ignore')"
   ]
  },
  {
   "cell_type": "code",
   "execution_count": 3,
   "id": "80c78627-fb44-496b-86d8-f3d25abe2596",
   "metadata": {},
   "outputs": [
    {
     "data": {
      "text/html": [
       "<div>\n",
       "<style scoped>\n",
       "    .dataframe tbody tr th:only-of-type {\n",
       "        vertical-align: middle;\n",
       "    }\n",
       "\n",
       "    .dataframe tbody tr th {\n",
       "        vertical-align: top;\n",
       "    }\n",
       "\n",
       "    .dataframe thead th {\n",
       "        text-align: right;\n",
       "    }\n",
       "</style>\n",
       "<table border=\"1\" class=\"dataframe\">\n",
       "  <thead>\n",
       "    <tr style=\"text-align: right;\">\n",
       "      <th></th>\n",
       "      <th>date</th>\n",
       "      <th>Appliances</th>\n",
       "      <th>lights</th>\n",
       "      <th>T1</th>\n",
       "      <th>RH_1</th>\n",
       "      <th>T2</th>\n",
       "      <th>RH_2</th>\n",
       "      <th>T3</th>\n",
       "      <th>RH_3</th>\n",
       "      <th>T4</th>\n",
       "      <th>...</th>\n",
       "      <th>T8</th>\n",
       "      <th>RH_8</th>\n",
       "      <th>T9</th>\n",
       "      <th>RH_9</th>\n",
       "      <th>T_out</th>\n",
       "      <th>Press_mm_hg</th>\n",
       "      <th>RH_out</th>\n",
       "      <th>Windspeed</th>\n",
       "      <th>Visibility</th>\n",
       "      <th>Tdewpoint</th>\n",
       "    </tr>\n",
       "  </thead>\n",
       "  <tbody>\n",
       "    <tr>\n",
       "      <th>0</th>\n",
       "      <td>11-01-2016 17:00</td>\n",
       "      <td>60</td>\n",
       "      <td>30</td>\n",
       "      <td>19.890000</td>\n",
       "      <td>47.596667</td>\n",
       "      <td>19.200000</td>\n",
       "      <td>44.790000</td>\n",
       "      <td>19.790000</td>\n",
       "      <td>44.730000</td>\n",
       "      <td>19.000000</td>\n",
       "      <td>...</td>\n",
       "      <td>18.2000</td>\n",
       "      <td>48.900000</td>\n",
       "      <td>17.033333</td>\n",
       "      <td>45.5300</td>\n",
       "      <td>6.60</td>\n",
       "      <td>733.5</td>\n",
       "      <td>92.000000</td>\n",
       "      <td>7.000000</td>\n",
       "      <td>63.000000</td>\n",
       "      <td>5.3</td>\n",
       "    </tr>\n",
       "    <tr>\n",
       "      <th>1</th>\n",
       "      <td>11-01-2016 17:10</td>\n",
       "      <td>60</td>\n",
       "      <td>30</td>\n",
       "      <td>19.890000</td>\n",
       "      <td>46.693333</td>\n",
       "      <td>19.200000</td>\n",
       "      <td>44.722500</td>\n",
       "      <td>19.790000</td>\n",
       "      <td>44.790000</td>\n",
       "      <td>19.000000</td>\n",
       "      <td>...</td>\n",
       "      <td>18.2000</td>\n",
       "      <td>48.863333</td>\n",
       "      <td>17.066667</td>\n",
       "      <td>45.5600</td>\n",
       "      <td>6.48</td>\n",
       "      <td>733.6</td>\n",
       "      <td>92.000000</td>\n",
       "      <td>6.666667</td>\n",
       "      <td>59.166667</td>\n",
       "      <td>5.2</td>\n",
       "    </tr>\n",
       "    <tr>\n",
       "      <th>2</th>\n",
       "      <td>11-01-2016 17:20</td>\n",
       "      <td>50</td>\n",
       "      <td>30</td>\n",
       "      <td>19.890000</td>\n",
       "      <td>46.300000</td>\n",
       "      <td>19.200000</td>\n",
       "      <td>44.626667</td>\n",
       "      <td>19.790000</td>\n",
       "      <td>44.933333</td>\n",
       "      <td>18.926667</td>\n",
       "      <td>...</td>\n",
       "      <td>18.2000</td>\n",
       "      <td>48.730000</td>\n",
       "      <td>17.000000</td>\n",
       "      <td>45.5000</td>\n",
       "      <td>6.37</td>\n",
       "      <td>733.7</td>\n",
       "      <td>92.000000</td>\n",
       "      <td>6.333333</td>\n",
       "      <td>55.333333</td>\n",
       "      <td>5.1</td>\n",
       "    </tr>\n",
       "    <tr>\n",
       "      <th>3</th>\n",
       "      <td>11-01-2016 17:30</td>\n",
       "      <td>50</td>\n",
       "      <td>40</td>\n",
       "      <td>19.890000</td>\n",
       "      <td>46.066667</td>\n",
       "      <td>19.200000</td>\n",
       "      <td>44.590000</td>\n",
       "      <td>19.790000</td>\n",
       "      <td>45.000000</td>\n",
       "      <td>18.890000</td>\n",
       "      <td>...</td>\n",
       "      <td>18.1000</td>\n",
       "      <td>48.590000</td>\n",
       "      <td>17.000000</td>\n",
       "      <td>45.4000</td>\n",
       "      <td>6.25</td>\n",
       "      <td>733.8</td>\n",
       "      <td>92.000000</td>\n",
       "      <td>6.000000</td>\n",
       "      <td>51.500000</td>\n",
       "      <td>5.0</td>\n",
       "    </tr>\n",
       "    <tr>\n",
       "      <th>4</th>\n",
       "      <td>11-01-2016 17:40</td>\n",
       "      <td>60</td>\n",
       "      <td>40</td>\n",
       "      <td>19.890000</td>\n",
       "      <td>46.333333</td>\n",
       "      <td>19.200000</td>\n",
       "      <td>44.530000</td>\n",
       "      <td>19.790000</td>\n",
       "      <td>45.000000</td>\n",
       "      <td>18.890000</td>\n",
       "      <td>...</td>\n",
       "      <td>18.1000</td>\n",
       "      <td>48.590000</td>\n",
       "      <td>17.000000</td>\n",
       "      <td>45.4000</td>\n",
       "      <td>6.13</td>\n",
       "      <td>733.9</td>\n",
       "      <td>92.000000</td>\n",
       "      <td>5.666667</td>\n",
       "      <td>47.666667</td>\n",
       "      <td>4.9</td>\n",
       "    </tr>\n",
       "    <tr>\n",
       "      <th>...</th>\n",
       "      <td>...</td>\n",
       "      <td>...</td>\n",
       "      <td>...</td>\n",
       "      <td>...</td>\n",
       "      <td>...</td>\n",
       "      <td>...</td>\n",
       "      <td>...</td>\n",
       "      <td>...</td>\n",
       "      <td>...</td>\n",
       "      <td>...</td>\n",
       "      <td>...</td>\n",
       "      <td>...</td>\n",
       "      <td>...</td>\n",
       "      <td>...</td>\n",
       "      <td>...</td>\n",
       "      <td>...</td>\n",
       "      <td>...</td>\n",
       "      <td>...</td>\n",
       "      <td>...</td>\n",
       "      <td>...</td>\n",
       "      <td>...</td>\n",
       "    </tr>\n",
       "    <tr>\n",
       "      <th>19730</th>\n",
       "      <td>27-05-2016 17:20</td>\n",
       "      <td>100</td>\n",
       "      <td>0</td>\n",
       "      <td>25.566667</td>\n",
       "      <td>46.560000</td>\n",
       "      <td>25.890000</td>\n",
       "      <td>42.025714</td>\n",
       "      <td>27.200000</td>\n",
       "      <td>41.163333</td>\n",
       "      <td>24.700000</td>\n",
       "      <td>...</td>\n",
       "      <td>24.7000</td>\n",
       "      <td>50.074000</td>\n",
       "      <td>23.200000</td>\n",
       "      <td>46.7900</td>\n",
       "      <td>22.70</td>\n",
       "      <td>755.2</td>\n",
       "      <td>55.666667</td>\n",
       "      <td>3.333333</td>\n",
       "      <td>23.666667</td>\n",
       "      <td>13.3</td>\n",
       "    </tr>\n",
       "    <tr>\n",
       "      <th>19731</th>\n",
       "      <td>27-05-2016 17:30</td>\n",
       "      <td>90</td>\n",
       "      <td>0</td>\n",
       "      <td>25.500000</td>\n",
       "      <td>46.500000</td>\n",
       "      <td>25.754000</td>\n",
       "      <td>42.080000</td>\n",
       "      <td>27.133333</td>\n",
       "      <td>41.223333</td>\n",
       "      <td>24.700000</td>\n",
       "      <td>...</td>\n",
       "      <td>24.7000</td>\n",
       "      <td>49.790000</td>\n",
       "      <td>23.200000</td>\n",
       "      <td>46.7900</td>\n",
       "      <td>22.60</td>\n",
       "      <td>755.2</td>\n",
       "      <td>56.000000</td>\n",
       "      <td>3.500000</td>\n",
       "      <td>24.500000</td>\n",
       "      <td>13.3</td>\n",
       "    </tr>\n",
       "    <tr>\n",
       "      <th>19732</th>\n",
       "      <td>27-05-2016 17:40</td>\n",
       "      <td>270</td>\n",
       "      <td>10</td>\n",
       "      <td>25.500000</td>\n",
       "      <td>46.596667</td>\n",
       "      <td>25.628571</td>\n",
       "      <td>42.768571</td>\n",
       "      <td>27.050000</td>\n",
       "      <td>41.690000</td>\n",
       "      <td>24.700000</td>\n",
       "      <td>...</td>\n",
       "      <td>24.7000</td>\n",
       "      <td>49.660000</td>\n",
       "      <td>23.200000</td>\n",
       "      <td>46.7900</td>\n",
       "      <td>22.50</td>\n",
       "      <td>755.2</td>\n",
       "      <td>56.333333</td>\n",
       "      <td>3.666667</td>\n",
       "      <td>25.333333</td>\n",
       "      <td>13.3</td>\n",
       "    </tr>\n",
       "    <tr>\n",
       "      <th>19733</th>\n",
       "      <td>27-05-2016 17:50</td>\n",
       "      <td>420</td>\n",
       "      <td>10</td>\n",
       "      <td>25.500000</td>\n",
       "      <td>46.990000</td>\n",
       "      <td>25.414000</td>\n",
       "      <td>43.036000</td>\n",
       "      <td>26.890000</td>\n",
       "      <td>41.290000</td>\n",
       "      <td>24.700000</td>\n",
       "      <td>...</td>\n",
       "      <td>24.6625</td>\n",
       "      <td>49.518750</td>\n",
       "      <td>23.200000</td>\n",
       "      <td>46.8175</td>\n",
       "      <td>22.30</td>\n",
       "      <td>755.2</td>\n",
       "      <td>56.666667</td>\n",
       "      <td>3.833333</td>\n",
       "      <td>26.166667</td>\n",
       "      <td>13.2</td>\n",
       "    </tr>\n",
       "    <tr>\n",
       "      <th>19734</th>\n",
       "      <td>27-05-2016 18:00</td>\n",
       "      <td>430</td>\n",
       "      <td>10</td>\n",
       "      <td>25.500000</td>\n",
       "      <td>46.600000</td>\n",
       "      <td>25.264286</td>\n",
       "      <td>42.971429</td>\n",
       "      <td>26.823333</td>\n",
       "      <td>41.156667</td>\n",
       "      <td>24.700000</td>\n",
       "      <td>...</td>\n",
       "      <td>24.7360</td>\n",
       "      <td>49.736000</td>\n",
       "      <td>23.200000</td>\n",
       "      <td>46.8450</td>\n",
       "      <td>22.20</td>\n",
       "      <td>755.2</td>\n",
       "      <td>57.000000</td>\n",
       "      <td>4.000000</td>\n",
       "      <td>27.000000</td>\n",
       "      <td>13.2</td>\n",
       "    </tr>\n",
       "  </tbody>\n",
       "</table>\n",
       "<p>19735 rows × 27 columns</p>\n",
       "</div>"
      ],
      "text/plain": [
       "                   date  Appliances  lights         T1       RH_1         T2  \\\n",
       "0      11-01-2016 17:00          60      30  19.890000  47.596667  19.200000   \n",
       "1      11-01-2016 17:10          60      30  19.890000  46.693333  19.200000   \n",
       "2      11-01-2016 17:20          50      30  19.890000  46.300000  19.200000   \n",
       "3      11-01-2016 17:30          50      40  19.890000  46.066667  19.200000   \n",
       "4      11-01-2016 17:40          60      40  19.890000  46.333333  19.200000   \n",
       "...                 ...         ...     ...        ...        ...        ...   \n",
       "19730  27-05-2016 17:20         100       0  25.566667  46.560000  25.890000   \n",
       "19731  27-05-2016 17:30          90       0  25.500000  46.500000  25.754000   \n",
       "19732  27-05-2016 17:40         270      10  25.500000  46.596667  25.628571   \n",
       "19733  27-05-2016 17:50         420      10  25.500000  46.990000  25.414000   \n",
       "19734  27-05-2016 18:00         430      10  25.500000  46.600000  25.264286   \n",
       "\n",
       "            RH_2         T3       RH_3         T4  ...       T8       RH_8  \\\n",
       "0      44.790000  19.790000  44.730000  19.000000  ...  18.2000  48.900000   \n",
       "1      44.722500  19.790000  44.790000  19.000000  ...  18.2000  48.863333   \n",
       "2      44.626667  19.790000  44.933333  18.926667  ...  18.2000  48.730000   \n",
       "3      44.590000  19.790000  45.000000  18.890000  ...  18.1000  48.590000   \n",
       "4      44.530000  19.790000  45.000000  18.890000  ...  18.1000  48.590000   \n",
       "...          ...        ...        ...        ...  ...      ...        ...   \n",
       "19730  42.025714  27.200000  41.163333  24.700000  ...  24.7000  50.074000   \n",
       "19731  42.080000  27.133333  41.223333  24.700000  ...  24.7000  49.790000   \n",
       "19732  42.768571  27.050000  41.690000  24.700000  ...  24.7000  49.660000   \n",
       "19733  43.036000  26.890000  41.290000  24.700000  ...  24.6625  49.518750   \n",
       "19734  42.971429  26.823333  41.156667  24.700000  ...  24.7360  49.736000   \n",
       "\n",
       "              T9     RH_9  T_out  Press_mm_hg     RH_out  Windspeed  \\\n",
       "0      17.033333  45.5300   6.60        733.5  92.000000   7.000000   \n",
       "1      17.066667  45.5600   6.48        733.6  92.000000   6.666667   \n",
       "2      17.000000  45.5000   6.37        733.7  92.000000   6.333333   \n",
       "3      17.000000  45.4000   6.25        733.8  92.000000   6.000000   \n",
       "4      17.000000  45.4000   6.13        733.9  92.000000   5.666667   \n",
       "...          ...      ...    ...          ...        ...        ...   \n",
       "19730  23.200000  46.7900  22.70        755.2  55.666667   3.333333   \n",
       "19731  23.200000  46.7900  22.60        755.2  56.000000   3.500000   \n",
       "19732  23.200000  46.7900  22.50        755.2  56.333333   3.666667   \n",
       "19733  23.200000  46.8175  22.30        755.2  56.666667   3.833333   \n",
       "19734  23.200000  46.8450  22.20        755.2  57.000000   4.000000   \n",
       "\n",
       "       Visibility  Tdewpoint  \n",
       "0       63.000000        5.3  \n",
       "1       59.166667        5.2  \n",
       "2       55.333333        5.1  \n",
       "3       51.500000        5.0  \n",
       "4       47.666667        4.9  \n",
       "...           ...        ...  \n",
       "19730   23.666667       13.3  \n",
       "19731   24.500000       13.3  \n",
       "19732   25.333333       13.3  \n",
       "19733   26.166667       13.2  \n",
       "19734   27.000000       13.2  \n",
       "\n",
       "[19735 rows x 27 columns]"
      ]
     },
     "execution_count": 3,
     "metadata": {},
     "output_type": "execute_result"
    }
   ],
   "source": [
    "df = pd.read_csv('../data/energy_task.csv')\n",
    "df"
   ]
  },
  {
   "cell_type": "code",
   "execution_count": 4,
   "id": "45809c52-5130-49ab-8528-6ad5776e4430",
   "metadata": {},
   "outputs": [
    {
     "name": "stdout",
     "output_type": "stream",
     "text": [
      "<class 'pandas.core.frame.DataFrame'>\n",
      "RangeIndex: 19735 entries, 0 to 19734\n",
      "Data columns (total 27 columns):\n",
      " #   Column       Non-Null Count  Dtype  \n",
      "---  ------       --------------  -----  \n",
      " 0   date         19626 non-null  object \n",
      " 1   Appliances   19735 non-null  int64  \n",
      " 2   lights       19735 non-null  int64  \n",
      " 3   T1           19735 non-null  float64\n",
      " 4   RH_1         19735 non-null  float64\n",
      " 5   T2           19735 non-null  float64\n",
      " 6   RH_2         19569 non-null  float64\n",
      " 7   T3           19735 non-null  float64\n",
      " 8   RH_3         19735 non-null  float64\n",
      " 9   T4           19735 non-null  float64\n",
      " 10  RH_4         19654 non-null  float64\n",
      " 11  T5           19735 non-null  float64\n",
      " 12  RH_5         19644 non-null  float64\n",
      " 13  T6           19735 non-null  float64\n",
      " 14  RH_6         19651 non-null  float64\n",
      " 15  T7           19681 non-null  float64\n",
      " 16  RH_7         19735 non-null  float64\n",
      " 17  T8           19613 non-null  float64\n",
      " 18  RH_8         19735 non-null  float64\n",
      " 19  T9           19651 non-null  float64\n",
      " 20  RH_9         19732 non-null  float64\n",
      " 21  T_out        19539 non-null  float64\n",
      " 22  Press_mm_hg  19607 non-null  float64\n",
      " 23  RH_out       19634 non-null  float64\n",
      " 24  Windspeed    19735 non-null  float64\n",
      " 25  Visibility   19725 non-null  float64\n",
      " 26  Tdewpoint    19735 non-null  float64\n",
      "dtypes: float64(24), int64(2), object(1)\n",
      "memory usage: 4.1+ MB\n"
     ]
    }
   ],
   "source": [
    "df.info()"
   ]
  },
  {
   "cell_type": "code",
   "execution_count": 5,
   "id": "f7604d61-3bf0-402b-a8ff-9445d7fc7b49",
   "metadata": {},
   "outputs": [
    {
     "data": {
      "text/plain": [
       "Index(['date', 'Appliances', 'lights', 'T1', 'RH_1', 'T2', 'RH_2', 'T3',\n",
       "       'RH_3', 'T4', 'RH_4', 'T5', 'RH_5', 'T6', 'RH_6', 'T7', 'RH_7', 'T8',\n",
       "       'RH_8', 'T9', 'RH_9', 'T_out', 'Press_mm_hg', 'RH_out', 'Windspeed',\n",
       "       'Visibility', 'Tdewpoint'],\n",
       "      dtype='object')"
      ]
     },
     "execution_count": 5,
     "metadata": {},
     "output_type": "execute_result"
    }
   ],
   "source": [
    "df.columns"
   ]
  },
  {
   "cell_type": "markdown",
   "id": "fd039b12-c25b-46c5-8340-a40a048f6b38",
   "metadata": {},
   "source": [
    "Переименуем часть столбцов"
   ]
  },
  {
   "cell_type": "code",
   "execution_count": 6,
   "id": "32f97093-5f8a-478e-b4b7-b47099fdab8d",
   "metadata": {},
   "outputs": [],
   "source": [
    "df = df.rename (\n",
    "    columns = {\n",
    "        'Appliances' : 'appliances',\n",
    "        'Press_mm_hg' : 'press_mm_hg',\n",
    "        'Windspeed' : 'windspeed',\n",
    "        'Visibility' : 'visibility',\n",
    "        'Tdewpoint' : 'tdewpoint'\n",
    "    }\n",
    ")"
   ]
  },
  {
   "cell_type": "code",
   "execution_count": 7,
   "id": "b881d31f-a930-4e4f-a2c6-e858fc8b208c",
   "metadata": {},
   "outputs": [
    {
     "data": {
      "text/plain": [
       "Index(['date', 'appliances', 'lights', 'T1', 'RH_1', 'T2', 'RH_2', 'T3',\n",
       "       'RH_3', 'T4', 'RH_4', 'T5', 'RH_5', 'T6', 'RH_6', 'T7', 'RH_7', 'T8',\n",
       "       'RH_8', 'T9', 'RH_9', 'T_out', 'press_mm_hg', 'RH_out', 'windspeed',\n",
       "       'visibility', 'tdewpoint'],\n",
       "      dtype='object')"
      ]
     },
     "execution_count": 7,
     "metadata": {},
     "output_type": "execute_result"
    }
   ],
   "source": [
    "df.columns"
   ]
  },
  {
   "cell_type": "markdown",
   "id": "19f7201e-0310-4f48-bdc5-3222471c6cf7",
   "metadata": {},
   "source": [
    "### Обработка пропущенных знаечний"
   ]
  },
  {
   "cell_type": "code",
   "execution_count": 8,
   "id": "0e9ec018-6dfd-416d-b006-6e1fc2504c37",
   "metadata": {},
   "outputs": [
    {
     "data": {
      "text/plain": [
       "date           109\n",
       "appliances       0\n",
       "lights           0\n",
       "T1               0\n",
       "RH_1             0\n",
       "T2               0\n",
       "RH_2           166\n",
       "T3               0\n",
       "RH_3             0\n",
       "T4               0\n",
       "RH_4            81\n",
       "T5               0\n",
       "RH_5            91\n",
       "T6               0\n",
       "RH_6            84\n",
       "T7              54\n",
       "RH_7             0\n",
       "T8             122\n",
       "RH_8             0\n",
       "T9              84\n",
       "RH_9             3\n",
       "T_out          196\n",
       "press_mm_hg    128\n",
       "RH_out         101\n",
       "windspeed        0\n",
       "visibility      10\n",
       "tdewpoint        0\n",
       "dtype: int64"
      ]
     },
     "execution_count": 8,
     "metadata": {},
     "output_type": "execute_result"
    }
   ],
   "source": [
    "df.isna().sum()"
   ]
  },
  {
   "cell_type": "markdown",
   "id": "686901e5-4794-471e-9ca7-fd0a49097160",
   "metadata": {},
   "source": [
    "Начнём работу со столбца 'date'. Так как у нас в датасете даны данные с промежутками в 10 минут, то для заполнения элементов данного столбца нам необходимо взять предыдущий элемент столбца и добавить к нему 10 минут."
   ]
  },
  {
   "cell_type": "markdown",
   "id": "53d26ce4-dfb6-4dbc-95b9-dcc368e7cfc3",
   "metadata": {},
   "source": [
    "Для начала приведём столбец к необходимому формату для дальнейшего удобства"
   ]
  },
  {
   "cell_type": "code",
   "execution_count": 9,
   "id": "6cb52fe2-d63f-4006-892f-a2f0b564ff27",
   "metadata": {},
   "outputs": [
    {
     "data": {
      "text/plain": [
       "0       2016-01-11 17:00:00\n",
       "1       2016-01-11 17:10:00\n",
       "2       2016-01-11 17:20:00\n",
       "3       2016-01-11 17:30:00\n",
       "4       2016-01-11 17:40:00\n",
       "                ...        \n",
       "19730   2016-05-27 17:20:00\n",
       "19731   2016-05-27 17:30:00\n",
       "19732   2016-05-27 17:40:00\n",
       "19733   2016-05-27 17:50:00\n",
       "19734   2016-05-27 18:00:00\n",
       "Name: date, Length: 19735, dtype: datetime64[ns]"
      ]
     },
     "execution_count": 9,
     "metadata": {},
     "output_type": "execute_result"
    }
   ],
   "source": [
    "df['date'] = pd.to_datetime(df['date'],format = '%d-%m-%Y %H:%M')\n",
    "df['date']"
   ]
  },
  {
   "cell_type": "markdown",
   "id": "148b9687-6abd-4504-8bf4-4beddc5743c1",
   "metadata": {},
   "source": [
    "Теперь заполним пропуски"
   ]
  },
  {
   "cell_type": "code",
   "execution_count": 10,
   "id": "343dbe10-5942-4e0d-bca8-d00f6d549cd4",
   "metadata": {},
   "outputs": [],
   "source": [
    "index = df['date'].index[df['date'].apply(np.isnan)]\n",
    "df['date'] = df['date'].replace('',np.nan).ffill()\n",
    "index\n",
    "df.loc[index,'date'] = df.loc[index,'date'] + timedelta(minutes=10)"
   ]
  },
  {
   "cell_type": "code",
   "execution_count": 11,
   "id": "d939188e-6227-48f8-827a-292dbdcdca7f",
   "metadata": {},
   "outputs": [
    {
     "data": {
      "text/plain": [
       "Timestamp('2016-01-12 10:20:00')"
      ]
     },
     "execution_count": 11,
     "metadata": {},
     "output_type": "execute_result"
    }
   ],
   "source": [
    "df['date'].iloc[104]"
   ]
  },
  {
   "cell_type": "code",
   "execution_count": 12,
   "id": "6edb9698-ec68-49a1-8a22-f3cecafc712d",
   "metadata": {},
   "outputs": [
    {
     "data": {
      "text/plain": [
       "<DatetimeArray>\n",
       "['2016-01-11 17:00:00', '2016-01-11 17:10:00', '2016-01-11 17:20:00',\n",
       " '2016-01-11 17:30:00', '2016-01-11 17:40:00', '2016-01-11 17:50:00',\n",
       " '2016-01-11 18:00:00', '2016-01-11 18:10:00', '2016-01-11 18:20:00',\n",
       " '2016-01-11 18:30:00',\n",
       " ...\n",
       " '2016-05-27 16:30:00', '2016-05-27 16:40:00', '2016-05-27 16:50:00',\n",
       " '2016-05-27 17:00:00', '2016-05-27 17:10:00', '2016-05-27 17:20:00',\n",
       " '2016-05-27 17:30:00', '2016-05-27 17:40:00', '2016-05-27 17:50:00',\n",
       " '2016-05-27 18:00:00']\n",
       "Length: 19735, dtype: datetime64[ns]"
      ]
     },
     "execution_count": 12,
     "metadata": {},
     "output_type": "execute_result"
    }
   ],
   "source": [
    "df['date'].unique()"
   ]
  },
  {
   "cell_type": "code",
   "execution_count": 13,
   "id": "980ca753-a1a7-4ed1-b69c-9f0df9a6a305",
   "metadata": {},
   "outputs": [
    {
     "data": {
      "text/plain": [
       "date             0\n",
       "appliances       0\n",
       "lights           0\n",
       "T1               0\n",
       "RH_1             0\n",
       "T2               0\n",
       "RH_2           166\n",
       "T3               0\n",
       "RH_3             0\n",
       "T4               0\n",
       "RH_4            81\n",
       "T5               0\n",
       "RH_5            91\n",
       "T6               0\n",
       "RH_6            84\n",
       "T7              54\n",
       "RH_7             0\n",
       "T8             122\n",
       "RH_8             0\n",
       "T9              84\n",
       "RH_9             3\n",
       "T_out          196\n",
       "press_mm_hg    128\n",
       "RH_out         101\n",
       "windspeed        0\n",
       "visibility      10\n",
       "tdewpoint        0\n",
       "dtype: int64"
      ]
     },
     "execution_count": 13,
     "metadata": {},
     "output_type": "execute_result"
    }
   ],
   "source": [
    "df.isna().sum()"
   ]
  },
  {
   "cell_type": "markdown",
   "id": "605f9ac5-e93f-4125-b1ce-ec16dc5de960",
   "metadata": {},
   "source": [
    "Остальные значения заменим предыдущими, потому что они обозначают характеристики(температура, влажность, давление, скорость ветра и видимость), которые слабо изменяются за 10 минут"
   ]
  },
  {
   "cell_type": "code",
   "execution_count": 14,
   "id": "cd859888-d50a-4617-b02a-e2ae6d1d18d8",
   "metadata": {},
   "outputs": [],
   "source": [
    "columns_to_replace =['RH_2', 'RH_4',\n",
    "       'RH_5', 'RH_6',\n",
    "       'T7', 'T8', 'T9', 'RH_9',\n",
    "       'T_out', 'press_mm_hg', 'RH_out',\n",
    "       'visibility']\n",
    "\n",
    "for row in columns_to_replace:\n",
    "    df[row] = df[row].replace('',np.nan).ffill()"
   ]
  },
  {
   "cell_type": "code",
   "execution_count": 15,
   "id": "8b6810a0-ffa7-4f78-9302-a48734aaba85",
   "metadata": {},
   "outputs": [
    {
     "data": {
      "text/plain": [
       "date           0\n",
       "appliances     0\n",
       "lights         0\n",
       "T1             0\n",
       "RH_1           0\n",
       "T2             0\n",
       "RH_2           0\n",
       "T3             0\n",
       "RH_3           0\n",
       "T4             0\n",
       "RH_4           0\n",
       "T5             0\n",
       "RH_5           0\n",
       "T6             0\n",
       "RH_6           0\n",
       "T7             0\n",
       "RH_7           0\n",
       "T8             0\n",
       "RH_8           0\n",
       "T9             0\n",
       "RH_9           0\n",
       "T_out          0\n",
       "press_mm_hg    0\n",
       "RH_out         0\n",
       "windspeed      0\n",
       "visibility     0\n",
       "tdewpoint      0\n",
       "dtype: int64"
      ]
     },
     "execution_count": 15,
     "metadata": {},
     "output_type": "execute_result"
    }
   ],
   "source": [
    "df.isna().sum()"
   ]
  },
  {
   "cell_type": "markdown",
   "id": "12943cc0-b0e0-4ebb-8252-3191e7b16118",
   "metadata": {},
   "source": [
    "Коррекция типов данных и обогащение данному датасету не требуются"
   ]
  },
  {
   "cell_type": "markdown",
   "id": "233928b4-ce80-4635-9d34-a736dbbcd43b",
   "metadata": {},
   "source": [
    "### Удаление дубликатов"
   ]
  },
  {
   "cell_type": "code",
   "execution_count": 16,
   "id": "c976542e-05e6-4635-ab63-9f136dd0d85f",
   "metadata": {},
   "outputs": [
    {
     "data": {
      "text/plain": [
       "0"
      ]
     },
     "execution_count": 16,
     "metadata": {},
     "output_type": "execute_result"
    }
   ],
   "source": [
    "df.duplicated().sum()"
   ]
  },
  {
   "cell_type": "markdown",
   "id": "23b2d8ef-8892-4677-988b-bbb8901f2440",
   "metadata": {},
   "source": [
    "Дубликатов нет"
   ]
  },
  {
   "cell_type": "markdown",
   "id": "17fea118-5c19-42c6-a23f-3d0123df3f21",
   "metadata": {},
   "source": [
    "Дублей в датах точно нет, это было проверено выше. Все остальные значения - числовые, а значит и там дублей быть не может"
   ]
  },
  {
   "cell_type": "markdown",
   "id": "af63ba0c-3b53-445d-883e-867b4f27717c",
   "metadata": {},
   "source": [
    "##  Исследование основных параметров(проверка на выбросы)"
   ]
  },
  {
   "cell_type": "code",
   "execution_count": 17,
   "id": "1f39079d-8fb6-451b-af32-2f848c856c7e",
   "metadata": {},
   "outputs": [
    {
     "data": {
      "text/html": [
       "<div>\n",
       "<style scoped>\n",
       "    .dataframe tbody tr th:only-of-type {\n",
       "        vertical-align: middle;\n",
       "    }\n",
       "\n",
       "    .dataframe tbody tr th {\n",
       "        vertical-align: top;\n",
       "    }\n",
       "\n",
       "    .dataframe thead th {\n",
       "        text-align: right;\n",
       "    }\n",
       "</style>\n",
       "<table border=\"1\" class=\"dataframe\">\n",
       "  <thead>\n",
       "    <tr style=\"text-align: right;\">\n",
       "      <th></th>\n",
       "      <th>appliances</th>\n",
       "      <th>lights</th>\n",
       "      <th>T1</th>\n",
       "      <th>RH_1</th>\n",
       "      <th>T2</th>\n",
       "      <th>RH_2</th>\n",
       "      <th>T3</th>\n",
       "      <th>RH_3</th>\n",
       "      <th>T4</th>\n",
       "      <th>RH_4</th>\n",
       "      <th>...</th>\n",
       "      <th>T8</th>\n",
       "      <th>RH_8</th>\n",
       "      <th>T9</th>\n",
       "      <th>RH_9</th>\n",
       "      <th>T_out</th>\n",
       "      <th>press_mm_hg</th>\n",
       "      <th>RH_out</th>\n",
       "      <th>windspeed</th>\n",
       "      <th>visibility</th>\n",
       "      <th>tdewpoint</th>\n",
       "    </tr>\n",
       "  </thead>\n",
       "  <tbody>\n",
       "    <tr>\n",
       "      <th>count</th>\n",
       "      <td>19735.000000</td>\n",
       "      <td>19735.000000</td>\n",
       "      <td>19735.000000</td>\n",
       "      <td>19735.000000</td>\n",
       "      <td>19735.000000</td>\n",
       "      <td>19735.000000</td>\n",
       "      <td>19735.000000</td>\n",
       "      <td>19735.000000</td>\n",
       "      <td>19735.000000</td>\n",
       "      <td>19735.000000</td>\n",
       "      <td>...</td>\n",
       "      <td>19735.000000</td>\n",
       "      <td>19735.000000</td>\n",
       "      <td>19735.000000</td>\n",
       "      <td>19735.000000</td>\n",
       "      <td>19735.000000</td>\n",
       "      <td>19735.000000</td>\n",
       "      <td>19735.000000</td>\n",
       "      <td>19735.000000</td>\n",
       "      <td>19735.000000</td>\n",
       "      <td>19735.000000</td>\n",
       "    </tr>\n",
       "    <tr>\n",
       "      <th>mean</th>\n",
       "      <td>97.694958</td>\n",
       "      <td>3.801875</td>\n",
       "      <td>21.686571</td>\n",
       "      <td>40.259739</td>\n",
       "      <td>20.341219</td>\n",
       "      <td>40.420277</td>\n",
       "      <td>22.267611</td>\n",
       "      <td>39.242500</td>\n",
       "      <td>20.855335</td>\n",
       "      <td>39.026888</td>\n",
       "      <td>...</td>\n",
       "      <td>22.029082</td>\n",
       "      <td>42.936165</td>\n",
       "      <td>19.485829</td>\n",
       "      <td>41.552372</td>\n",
       "      <td>7.412433</td>\n",
       "      <td>755.522624</td>\n",
       "      <td>79.750262</td>\n",
       "      <td>4.039752</td>\n",
       "      <td>38.331036</td>\n",
       "      <td>3.760995</td>\n",
       "    </tr>\n",
       "    <tr>\n",
       "      <th>min</th>\n",
       "      <td>10.000000</td>\n",
       "      <td>0.000000</td>\n",
       "      <td>16.790000</td>\n",
       "      <td>27.023333</td>\n",
       "      <td>16.100000</td>\n",
       "      <td>20.463333</td>\n",
       "      <td>17.200000</td>\n",
       "      <td>28.766667</td>\n",
       "      <td>15.100000</td>\n",
       "      <td>27.660000</td>\n",
       "      <td>...</td>\n",
       "      <td>16.362222</td>\n",
       "      <td>29.600000</td>\n",
       "      <td>14.890000</td>\n",
       "      <td>29.166667</td>\n",
       "      <td>-5.000000</td>\n",
       "      <td>729.300000</td>\n",
       "      <td>24.000000</td>\n",
       "      <td>0.000000</td>\n",
       "      <td>1.000000</td>\n",
       "      <td>-6.600000</td>\n",
       "    </tr>\n",
       "    <tr>\n",
       "      <th>25%</th>\n",
       "      <td>50.000000</td>\n",
       "      <td>0.000000</td>\n",
       "      <td>20.760000</td>\n",
       "      <td>37.333333</td>\n",
       "      <td>18.790000</td>\n",
       "      <td>37.900000</td>\n",
       "      <td>20.790000</td>\n",
       "      <td>36.900000</td>\n",
       "      <td>19.530000</td>\n",
       "      <td>35.530000</td>\n",
       "      <td>...</td>\n",
       "      <td>20.790000</td>\n",
       "      <td>39.066667</td>\n",
       "      <td>18.000000</td>\n",
       "      <td>38.500000</td>\n",
       "      <td>3.670000</td>\n",
       "      <td>750.933333</td>\n",
       "      <td>70.333333</td>\n",
       "      <td>2.000000</td>\n",
       "      <td>29.000000</td>\n",
       "      <td>0.900000</td>\n",
       "    </tr>\n",
       "    <tr>\n",
       "      <th>50%</th>\n",
       "      <td>60.000000</td>\n",
       "      <td>0.000000</td>\n",
       "      <td>21.600000</td>\n",
       "      <td>39.656667</td>\n",
       "      <td>20.000000</td>\n",
       "      <td>40.500000</td>\n",
       "      <td>22.100000</td>\n",
       "      <td>38.530000</td>\n",
       "      <td>20.666667</td>\n",
       "      <td>38.400000</td>\n",
       "      <td>...</td>\n",
       "      <td>22.100000</td>\n",
       "      <td>42.375000</td>\n",
       "      <td>19.390000</td>\n",
       "      <td>40.900000</td>\n",
       "      <td>6.920000</td>\n",
       "      <td>756.100000</td>\n",
       "      <td>83.666667</td>\n",
       "      <td>3.666667</td>\n",
       "      <td>40.000000</td>\n",
       "      <td>3.430000</td>\n",
       "    </tr>\n",
       "    <tr>\n",
       "      <th>75%</th>\n",
       "      <td>100.000000</td>\n",
       "      <td>0.000000</td>\n",
       "      <td>22.600000</td>\n",
       "      <td>43.066667</td>\n",
       "      <td>21.500000</td>\n",
       "      <td>43.260000</td>\n",
       "      <td>23.290000</td>\n",
       "      <td>41.760000</td>\n",
       "      <td>22.100000</td>\n",
       "      <td>42.156667</td>\n",
       "      <td>...</td>\n",
       "      <td>23.390000</td>\n",
       "      <td>46.536000</td>\n",
       "      <td>20.600000</td>\n",
       "      <td>44.338095</td>\n",
       "      <td>10.400000</td>\n",
       "      <td>760.933333</td>\n",
       "      <td>91.666667</td>\n",
       "      <td>5.500000</td>\n",
       "      <td>40.000000</td>\n",
       "      <td>6.570000</td>\n",
       "    </tr>\n",
       "    <tr>\n",
       "      <th>max</th>\n",
       "      <td>1080.000000</td>\n",
       "      <td>70.000000</td>\n",
       "      <td>26.260000</td>\n",
       "      <td>63.360000</td>\n",
       "      <td>29.856667</td>\n",
       "      <td>56.026667</td>\n",
       "      <td>29.236000</td>\n",
       "      <td>50.163333</td>\n",
       "      <td>26.200000</td>\n",
       "      <td>51.090000</td>\n",
       "      <td>...</td>\n",
       "      <td>27.230000</td>\n",
       "      <td>58.780000</td>\n",
       "      <td>24.500000</td>\n",
       "      <td>53.326667</td>\n",
       "      <td>26.100000</td>\n",
       "      <td>772.300000</td>\n",
       "      <td>100.000000</td>\n",
       "      <td>14.000000</td>\n",
       "      <td>66.000000</td>\n",
       "      <td>15.500000</td>\n",
       "    </tr>\n",
       "    <tr>\n",
       "      <th>std</th>\n",
       "      <td>102.524891</td>\n",
       "      <td>7.935988</td>\n",
       "      <td>1.606066</td>\n",
       "      <td>3.979299</td>\n",
       "      <td>2.192974</td>\n",
       "      <td>4.069880</td>\n",
       "      <td>2.006111</td>\n",
       "      <td>3.254576</td>\n",
       "      <td>2.042884</td>\n",
       "      <td>4.341256</td>\n",
       "      <td>...</td>\n",
       "      <td>1.956187</td>\n",
       "      <td>5.224361</td>\n",
       "      <td>2.014734</td>\n",
       "      <td>4.151527</td>\n",
       "      <td>5.318496</td>\n",
       "      <td>7.399399</td>\n",
       "      <td>14.901495</td>\n",
       "      <td>2.451221</td>\n",
       "      <td>11.794255</td>\n",
       "      <td>4.195248</td>\n",
       "    </tr>\n",
       "  </tbody>\n",
       "</table>\n",
       "<p>8 rows × 26 columns</p>\n",
       "</div>"
      ],
      "text/plain": [
       "         appliances        lights            T1          RH_1            T2  \\\n",
       "count  19735.000000  19735.000000  19735.000000  19735.000000  19735.000000   \n",
       "mean      97.694958      3.801875     21.686571     40.259739     20.341219   \n",
       "min       10.000000      0.000000     16.790000     27.023333     16.100000   \n",
       "25%       50.000000      0.000000     20.760000     37.333333     18.790000   \n",
       "50%       60.000000      0.000000     21.600000     39.656667     20.000000   \n",
       "75%      100.000000      0.000000     22.600000     43.066667     21.500000   \n",
       "max     1080.000000     70.000000     26.260000     63.360000     29.856667   \n",
       "std      102.524891      7.935988      1.606066      3.979299      2.192974   \n",
       "\n",
       "               RH_2            T3          RH_3            T4          RH_4  \\\n",
       "count  19735.000000  19735.000000  19735.000000  19735.000000  19735.000000   \n",
       "mean      40.420277     22.267611     39.242500     20.855335     39.026888   \n",
       "min       20.463333     17.200000     28.766667     15.100000     27.660000   \n",
       "25%       37.900000     20.790000     36.900000     19.530000     35.530000   \n",
       "50%       40.500000     22.100000     38.530000     20.666667     38.400000   \n",
       "75%       43.260000     23.290000     41.760000     22.100000     42.156667   \n",
       "max       56.026667     29.236000     50.163333     26.200000     51.090000   \n",
       "std        4.069880      2.006111      3.254576      2.042884      4.341256   \n",
       "\n",
       "       ...            T8          RH_8            T9          RH_9  \\\n",
       "count  ...  19735.000000  19735.000000  19735.000000  19735.000000   \n",
       "mean   ...     22.029082     42.936165     19.485829     41.552372   \n",
       "min    ...     16.362222     29.600000     14.890000     29.166667   \n",
       "25%    ...     20.790000     39.066667     18.000000     38.500000   \n",
       "50%    ...     22.100000     42.375000     19.390000     40.900000   \n",
       "75%    ...     23.390000     46.536000     20.600000     44.338095   \n",
       "max    ...     27.230000     58.780000     24.500000     53.326667   \n",
       "std    ...      1.956187      5.224361      2.014734      4.151527   \n",
       "\n",
       "              T_out   press_mm_hg        RH_out     windspeed    visibility  \\\n",
       "count  19735.000000  19735.000000  19735.000000  19735.000000  19735.000000   \n",
       "mean       7.412433    755.522624     79.750262      4.039752     38.331036   \n",
       "min       -5.000000    729.300000     24.000000      0.000000      1.000000   \n",
       "25%        3.670000    750.933333     70.333333      2.000000     29.000000   \n",
       "50%        6.920000    756.100000     83.666667      3.666667     40.000000   \n",
       "75%       10.400000    760.933333     91.666667      5.500000     40.000000   \n",
       "max       26.100000    772.300000    100.000000     14.000000     66.000000   \n",
       "std        5.318496      7.399399     14.901495      2.451221     11.794255   \n",
       "\n",
       "          tdewpoint  \n",
       "count  19735.000000  \n",
       "mean       3.760995  \n",
       "min       -6.600000  \n",
       "25%        0.900000  \n",
       "50%        3.430000  \n",
       "75%        6.570000  \n",
       "max       15.500000  \n",
       "std        4.195248  \n",
       "\n",
       "[8 rows x 26 columns]"
      ]
     },
     "execution_count": 17,
     "metadata": {},
     "output_type": "execute_result"
    }
   ],
   "source": [
    "df.describe()[['appliances', 'lights', 'T1', 'RH_1', 'T2', 'RH_2', 'T3',\n",
    "       'RH_3', 'T4', 'RH_4', 'T5', 'RH_5', 'T6', 'RH_6', 'T7', 'RH_7', 'T8',\n",
    "       'RH_8', 'T9', 'RH_9', 'T_out', 'press_mm_hg', 'RH_out', 'windspeed',\n",
    "       'visibility', 'tdewpoint']]"
   ]
  },
  {
   "cell_type": "code",
   "execution_count": 18,
   "id": "4f9335ce-6ac2-4b58-aeb6-e25e0a0ee2fc",
   "metadata": {},
   "outputs": [
    {
     "data": {
      "image/png": "[encoded data removed]",
      "text/plain": [
       "<Figure size 640x480 with 1 Axes>"
      ]
     },
     "metadata": {},
     "output_type": "display_data"
    },
    {
     "data": {
      "image/png": "[encoded data removed]",
      "text/plain": [
       "<Figure size 640x480 with 1 Axes>"
      ]
     },
     "metadata": {},
     "output_type": "display_data"
    },
    {
     "data": {
      "image/png": "[encoded data removed]",
      "text/plain": [
       "<Figure size 640x480 with 1 Axes>"
      ]
     },
     "metadata": {},
     "output_type": "display_data"
    },
    {
     "data": {
      "image/png": "[encoded data removed]",
      "text/plain": [
       "<Figure size 640x480 with 1 Axes>"
      ]
     },
     "metadata": {},
     "output_type": "display_data"
    },
    {
     "data": {
      "image/png": "[encoded data removed]",
      "text/plain": [
       "<Figure size 640x480 with 1 Axes>"
      ]
     },
     "metadata": {},
     "output_type": "display_data"
    },
    {
     "data": {
      "image/png": "[encoded data removed]",
      "text/plain": [
       "<Figure size 640x480 with 1 Axes>"
      ]
     },
     "metadata": {},
     "output_type": "display_data"
    },
    {
     "data": {
      "image/png": "[encoded data removed]",
      "text/plain": [
       "<Figure size 640x480 with 1 Axes>"
      ]
     },
     "metadata": {},
     "output_type": "display_data"
    },
    {
     "data": {
      "image/png": "[encoded data removed]",
      "text/plain": [
       "<Figure size 640x480 with 1 Axes>"
      ]
     },
     "metadata": {},
     "output_type": "display_data"
    },
    {
     "data": {
      "image/png": "[encoded data removed]",
      "text/plain": [
       "<Figure size 640x480 with 1 Axes>"
      ]
     },
     "metadata": {},
     "output_type": "display_data"
    },
    {
     "data": {
      "image/png": "[encoded data removed]",
      "text/plain": [
       "<Figure size 640x480 with 1 Axes>"
      ]
     },
     "metadata": {},
     "output_type": "display_data"
    },
    {
     "data": {
      "image/png": "[encoded data removed]",
      "text/plain": [
       "<Figure size 640x480 with 1 Axes>"
      ]
     },
     "metadata": {},
     "output_type": "display_data"
    },
    {
     "data": {
      "image/png": "[encoded data removed]",
      "text/plain": [
       "<Figure size 640x480 with 1 Axes>"
      ]
     },
     "metadata": {},
     "output_type": "display_data"
    },
    {
     "data": {
      "image/png": "[encoded data removed]",
      "text/plain": [
       "<Figure size 640x480 with 1 Axes>"
      ]
     },
     "metadata": {},
     "output_type": "display_data"
    },
    {
     "data": {
      "image/png": "[encoded data removed]",
      "text/plain": [
       "<Figure size 640x480 with 1 Axes>"
      ]
     },
     "metadata": {},
     "output_type": "display_data"
    },
    {
     "data": {
      "image/png": "[encoded data removed]",
      "text/plain": [
       "<Figure size 640x480 with 1 Axes>"
      ]
     },
     "metadata": {},
     "output_type": "display_data"
    },
    {
     "data": {
      "image/png": "[encoded data removed]",
      "text/plain": [
       "<Figure size 640x480 with 1 Axes>"
      ]
     },
     "metadata": {},
     "output_type": "display_data"
    },
    {
     "data": {
      "image/png": "[encoded data removed]",
      "text/plain": [
       "<Figure size 640x480 with 1 Axes>"
      ]
     },
     "metadata": {},
     "output_type": "display_data"
    },
    {
     "data": {
      "image/png": "[encoded data removed]",
      "text/plain": [
       "<Figure size 640x480 with 1 Axes>"
      ]
     },
     "metadata": {},
     "output_type": "display_data"
    },
    {
     "data": {
      "image/png": "[encoded data removed]",
      "text/plain": [
       "<Figure size 640x480 with 1 Axes>"
      ]
     },
     "metadata": {},
     "output_type": "display_data"
    },
    {
     "data": {
      "image/png": "[encoded data removed]",
      "text/plain": [
       "<Figure size 640x480 with 1 Axes>"
      ]
     },
     "metadata": {},
     "output_type": "display_data"
    },
    {
     "data": {
      "image/png": "[encoded data removed]",
      "text/plain": [
       "<Figure size 640x480 with 1 Axes>"
      ]
     },
     "metadata": {},
     "output_type": "display_data"
    },
    {
     "data": {
      "image/png": "[encoded data removed]",
      "text/plain": [
       "<Figure size 640x480 with 1 Axes>"
      ]
     },
     "metadata": {},
     "output_type": "display_data"
    },
    {
     "data": {
      "image/png": "[encoded data removed]",
      "text/plain": [
       "<Figure size 640x480 with 1 Axes>"
      ]
     },
     "metadata": {},
     "output_type": "display_data"
    },
    {
     "data": {
      "image/png": "[encoded data removed]",
      "text/plain": [
       "<Figure size 640x480 with 1 Axes>"
      ]
     },
     "metadata": {},
     "output_type": "display_data"
    },
    {
     "data": {
      "image/png": "[encoded data removed]",
      "text/plain": [
       "<Figure size 640x480 with 1 Axes>"
      ]
     },
     "metadata": {},
     "output_type": "display_data"
    },
    {
     "data": {
      "image/png": "[encoded data removed]",
      "text/plain": [
       "<Figure size 640x480 with 1 Axes>"
      ]
     },
     "metadata": {},
     "output_type": "display_data"
    }
   ],
   "source": [
    "columns = ['appliances', 'lights', 'T1', 'RH_1', 'T2', 'RH_2', 'T3',\n",
    "       'RH_3', 'T4', 'RH_4', 'T5', 'RH_5', 'T6', 'RH_6', 'T7', 'RH_7', 'T8',\n",
    "       'RH_8', 'T9', 'RH_9', 'T_out', 'press_mm_hg', 'RH_out', 'windspeed',\n",
    "       'visibility', 'tdewpoint']\n",
    "\n",
    "for column in columns:\n",
    "    df.hist(column)"
   ]
  },
  {
   "cell_type": "markdown",
   "id": "fa6ddee7-b91b-4cc0-b7d5-dd32bd4724a7",
   "metadata": {},
   "source": [
    "Выбросов не наблюдается, всё в пределах нормы."
   ]
  },
  {
   "cell_type": "markdown",
   "id": "df9a3dc1-8ed0-4c3b-a647-5fa00c3428af",
   "metadata": {},
   "source": [
    "### Выделение целевого признака и предикторов"
   ]
  },
  {
   "cell_type": "code",
   "execution_count": 19,
   "id": "d7197bea-42fa-4fcd-9b58-bae7d34a67b9",
   "metadata": {},
   "outputs": [],
   "source": [
    "y = df[\"appliances\"]\n",
    "X = df.drop([\"appliances\"], axis=1)"
   ]
  },
  {
   "cell_type": "code",
   "execution_count": 20,
   "id": "05a2a721-d65a-44ad-9aff-df1d3a56b596",
   "metadata": {},
   "outputs": [
    {
     "data": {
      "text/plain": [
       "0         60\n",
       "1         60\n",
       "2         50\n",
       "3         50\n",
       "4         60\n",
       "        ... \n",
       "19730    100\n",
       "19731     90\n",
       "19732    270\n",
       "19733    420\n",
       "19734    430\n",
       "Name: appliances, Length: 19735, dtype: int64"
      ]
     },
     "execution_count": 20,
     "metadata": {},
     "output_type": "execute_result"
    }
   ],
   "source": [
    "y"
   ]
  },
  {
   "cell_type": "code",
   "execution_count": 21,
   "id": "9735b638-665c-49ec-8c42-371f1df0dff3",
   "metadata": {},
   "outputs": [
    {
     "data": {
      "text/html": [
       "<div>\n",
       "<style scoped>\n",
       "    .dataframe tbody tr th:only-of-type {\n",
       "        vertical-align: middle;\n",
       "    }\n",
       "\n",
       "    .dataframe tbody tr th {\n",
       "        vertical-align: top;\n",
       "    }\n",
       "\n",
       "    .dataframe thead th {\n",
       "        text-align: right;\n",
       "    }\n",
       "</style>\n",
       "<table border=\"1\" class=\"dataframe\">\n",
       "  <thead>\n",
       "    <tr style=\"text-align: right;\">\n",
       "      <th></th>\n",
       "      <th>date</th>\n",
       "      <th>lights</th>\n",
       "      <th>T1</th>\n",
       "      <th>RH_1</th>\n",
       "      <th>T2</th>\n",
       "      <th>RH_2</th>\n",
       "      <th>T3</th>\n",
       "      <th>RH_3</th>\n",
       "      <th>T4</th>\n",
       "      <th>RH_4</th>\n",
       "      <th>...</th>\n",
       "      <th>T8</th>\n",
       "      <th>RH_8</th>\n",
       "      <th>T9</th>\n",
       "      <th>RH_9</th>\n",
       "      <th>T_out</th>\n",
       "      <th>press_mm_hg</th>\n",
       "      <th>RH_out</th>\n",
       "      <th>windspeed</th>\n",
       "      <th>visibility</th>\n",
       "      <th>tdewpoint</th>\n",
       "    </tr>\n",
       "  </thead>\n",
       "  <tbody>\n",
       "    <tr>\n",
       "      <th>0</th>\n",
       "      <td>2016-01-11 17:00:00</td>\n",
       "      <td>30</td>\n",
       "      <td>19.890000</td>\n",
       "      <td>47.596667</td>\n",
       "      <td>19.200000</td>\n",
       "      <td>44.790000</td>\n",
       "      <td>19.790000</td>\n",
       "      <td>44.730000</td>\n",
       "      <td>19.000000</td>\n",
       "      <td>45.566667</td>\n",
       "      <td>...</td>\n",
       "      <td>18.2000</td>\n",
       "      <td>48.900000</td>\n",
       "      <td>17.033333</td>\n",
       "      <td>45.5300</td>\n",
       "      <td>6.60</td>\n",
       "      <td>733.5</td>\n",
       "      <td>92.000000</td>\n",
       "      <td>7.000000</td>\n",
       "      <td>63.000000</td>\n",
       "      <td>5.3</td>\n",
       "    </tr>\n",
       "    <tr>\n",
       "      <th>1</th>\n",
       "      <td>2016-01-11 17:10:00</td>\n",
       "      <td>30</td>\n",
       "      <td>19.890000</td>\n",
       "      <td>46.693333</td>\n",
       "      <td>19.200000</td>\n",
       "      <td>44.722500</td>\n",
       "      <td>19.790000</td>\n",
       "      <td>44.790000</td>\n",
       "      <td>19.000000</td>\n",
       "      <td>45.992500</td>\n",
       "      <td>...</td>\n",
       "      <td>18.2000</td>\n",
       "      <td>48.863333</td>\n",
       "      <td>17.066667</td>\n",
       "      <td>45.5600</td>\n",
       "      <td>6.48</td>\n",
       "      <td>733.6</td>\n",
       "      <td>92.000000</td>\n",
       "      <td>6.666667</td>\n",
       "      <td>59.166667</td>\n",
       "      <td>5.2</td>\n",
       "    </tr>\n",
       "    <tr>\n",
       "      <th>2</th>\n",
       "      <td>2016-01-11 17:20:00</td>\n",
       "      <td>30</td>\n",
       "      <td>19.890000</td>\n",
       "      <td>46.300000</td>\n",
       "      <td>19.200000</td>\n",
       "      <td>44.626667</td>\n",
       "      <td>19.790000</td>\n",
       "      <td>44.933333</td>\n",
       "      <td>18.926667</td>\n",
       "      <td>45.890000</td>\n",
       "      <td>...</td>\n",
       "      <td>18.2000</td>\n",
       "      <td>48.730000</td>\n",
       "      <td>17.000000</td>\n",
       "      <td>45.5000</td>\n",
       "      <td>6.37</td>\n",
       "      <td>733.7</td>\n",
       "      <td>92.000000</td>\n",
       "      <td>6.333333</td>\n",
       "      <td>55.333333</td>\n",
       "      <td>5.1</td>\n",
       "    </tr>\n",
       "    <tr>\n",
       "      <th>3</th>\n",
       "      <td>2016-01-11 17:30:00</td>\n",
       "      <td>40</td>\n",
       "      <td>19.890000</td>\n",
       "      <td>46.066667</td>\n",
       "      <td>19.200000</td>\n",
       "      <td>44.590000</td>\n",
       "      <td>19.790000</td>\n",
       "      <td>45.000000</td>\n",
       "      <td>18.890000</td>\n",
       "      <td>45.723333</td>\n",
       "      <td>...</td>\n",
       "      <td>18.1000</td>\n",
       "      <td>48.590000</td>\n",
       "      <td>17.000000</td>\n",
       "      <td>45.4000</td>\n",
       "      <td>6.25</td>\n",
       "      <td>733.8</td>\n",
       "      <td>92.000000</td>\n",
       "      <td>6.000000</td>\n",
       "      <td>51.500000</td>\n",
       "      <td>5.0</td>\n",
       "    </tr>\n",
       "    <tr>\n",
       "      <th>4</th>\n",
       "      <td>2016-01-11 17:40:00</td>\n",
       "      <td>40</td>\n",
       "      <td>19.890000</td>\n",
       "      <td>46.333333</td>\n",
       "      <td>19.200000</td>\n",
       "      <td>44.530000</td>\n",
       "      <td>19.790000</td>\n",
       "      <td>45.000000</td>\n",
       "      <td>18.890000</td>\n",
       "      <td>45.530000</td>\n",
       "      <td>...</td>\n",
       "      <td>18.1000</td>\n",
       "      <td>48.590000</td>\n",
       "      <td>17.000000</td>\n",
       "      <td>45.4000</td>\n",
       "      <td>6.13</td>\n",
       "      <td>733.9</td>\n",
       "      <td>92.000000</td>\n",
       "      <td>5.666667</td>\n",
       "      <td>47.666667</td>\n",
       "      <td>4.9</td>\n",
       "    </tr>\n",
       "    <tr>\n",
       "      <th>...</th>\n",
       "      <td>...</td>\n",
       "      <td>...</td>\n",
       "      <td>...</td>\n",
       "      <td>...</td>\n",
       "      <td>...</td>\n",
       "      <td>...</td>\n",
       "      <td>...</td>\n",
       "      <td>...</td>\n",
       "      <td>...</td>\n",
       "      <td>...</td>\n",
       "      <td>...</td>\n",
       "      <td>...</td>\n",
       "      <td>...</td>\n",
       "      <td>...</td>\n",
       "      <td>...</td>\n",
       "      <td>...</td>\n",
       "      <td>...</td>\n",
       "      <td>...</td>\n",
       "      <td>...</td>\n",
       "      <td>...</td>\n",
       "      <td>...</td>\n",
       "    </tr>\n",
       "    <tr>\n",
       "      <th>19730</th>\n",
       "      <td>2016-05-27 17:20:00</td>\n",
       "      <td>0</td>\n",
       "      <td>25.566667</td>\n",
       "      <td>46.560000</td>\n",
       "      <td>25.890000</td>\n",
       "      <td>42.025714</td>\n",
       "      <td>27.200000</td>\n",
       "      <td>41.163333</td>\n",
       "      <td>24.700000</td>\n",
       "      <td>45.590000</td>\n",
       "      <td>...</td>\n",
       "      <td>24.7000</td>\n",
       "      <td>50.074000</td>\n",
       "      <td>23.200000</td>\n",
       "      <td>46.7900</td>\n",
       "      <td>22.70</td>\n",
       "      <td>755.2</td>\n",
       "      <td>55.666667</td>\n",
       "      <td>3.333333</td>\n",
       "      <td>23.666667</td>\n",
       "      <td>13.3</td>\n",
       "    </tr>\n",
       "    <tr>\n",
       "      <th>19731</th>\n",
       "      <td>2016-05-27 17:30:00</td>\n",
       "      <td>0</td>\n",
       "      <td>25.500000</td>\n",
       "      <td>46.500000</td>\n",
       "      <td>25.754000</td>\n",
       "      <td>42.080000</td>\n",
       "      <td>27.133333</td>\n",
       "      <td>41.223333</td>\n",
       "      <td>24.700000</td>\n",
       "      <td>45.590000</td>\n",
       "      <td>...</td>\n",
       "      <td>24.7000</td>\n",
       "      <td>49.790000</td>\n",
       "      <td>23.200000</td>\n",
       "      <td>46.7900</td>\n",
       "      <td>22.60</td>\n",
       "      <td>755.2</td>\n",
       "      <td>56.000000</td>\n",
       "      <td>3.500000</td>\n",
       "      <td>24.500000</td>\n",
       "      <td>13.3</td>\n",
       "    </tr>\n",
       "    <tr>\n",
       "      <th>19732</th>\n",
       "      <td>2016-05-27 17:40:00</td>\n",
       "      <td>10</td>\n",
       "      <td>25.500000</td>\n",
       "      <td>46.596667</td>\n",
       "      <td>25.628571</td>\n",
       "      <td>42.768571</td>\n",
       "      <td>27.050000</td>\n",
       "      <td>41.690000</td>\n",
       "      <td>24.700000</td>\n",
       "      <td>45.730000</td>\n",
       "      <td>...</td>\n",
       "      <td>24.7000</td>\n",
       "      <td>49.660000</td>\n",
       "      <td>23.200000</td>\n",
       "      <td>46.7900</td>\n",
       "      <td>22.50</td>\n",
       "      <td>755.2</td>\n",
       "      <td>56.333333</td>\n",
       "      <td>3.666667</td>\n",
       "      <td>25.333333</td>\n",
       "      <td>13.3</td>\n",
       "    </tr>\n",
       "    <tr>\n",
       "      <th>19733</th>\n",
       "      <td>2016-05-27 17:50:00</td>\n",
       "      <td>10</td>\n",
       "      <td>25.500000</td>\n",
       "      <td>46.990000</td>\n",
       "      <td>25.414000</td>\n",
       "      <td>43.036000</td>\n",
       "      <td>26.890000</td>\n",
       "      <td>41.290000</td>\n",
       "      <td>24.700000</td>\n",
       "      <td>45.790000</td>\n",
       "      <td>...</td>\n",
       "      <td>24.6625</td>\n",
       "      <td>49.518750</td>\n",
       "      <td>23.200000</td>\n",
       "      <td>46.8175</td>\n",
       "      <td>22.30</td>\n",
       "      <td>755.2</td>\n",
       "      <td>56.666667</td>\n",
       "      <td>3.833333</td>\n",
       "      <td>26.166667</td>\n",
       "      <td>13.2</td>\n",
       "    </tr>\n",
       "    <tr>\n",
       "      <th>19734</th>\n",
       "      <td>2016-05-27 18:00:00</td>\n",
       "      <td>10</td>\n",
       "      <td>25.500000</td>\n",
       "      <td>46.600000</td>\n",
       "      <td>25.264286</td>\n",
       "      <td>42.971429</td>\n",
       "      <td>26.823333</td>\n",
       "      <td>41.156667</td>\n",
       "      <td>24.700000</td>\n",
       "      <td>45.963333</td>\n",
       "      <td>...</td>\n",
       "      <td>24.7360</td>\n",
       "      <td>49.736000</td>\n",
       "      <td>23.200000</td>\n",
       "      <td>46.8450</td>\n",
       "      <td>22.20</td>\n",
       "      <td>755.2</td>\n",
       "      <td>57.000000</td>\n",
       "      <td>4.000000</td>\n",
       "      <td>27.000000</td>\n",
       "      <td>13.2</td>\n",
       "    </tr>\n",
       "  </tbody>\n",
       "</table>\n",
       "<p>19735 rows × 26 columns</p>\n",
       "</div>"
      ],
      "text/plain": [
       "                     date  lights         T1       RH_1         T2       RH_2  \\\n",
       "0     2016-01-11 17:00:00      30  19.890000  47.596667  19.200000  44.790000   \n",
       "1     2016-01-11 17:10:00      30  19.890000  46.693333  19.200000  44.722500   \n",
       "2     2016-01-11 17:20:00      30  19.890000  46.300000  19.200000  44.626667   \n",
       "3     2016-01-11 17:30:00      40  19.890000  46.066667  19.200000  44.590000   \n",
       "4     2016-01-11 17:40:00      40  19.890000  46.333333  19.200000  44.530000   \n",
       "...                   ...     ...        ...        ...        ...        ...   \n",
       "19730 2016-05-27 17:20:00       0  25.566667  46.560000  25.890000  42.025714   \n",
       "19731 2016-05-27 17:30:00       0  25.500000  46.500000  25.754000  42.080000   \n",
       "19732 2016-05-27 17:40:00      10  25.500000  46.596667  25.628571  42.768571   \n",
       "19733 2016-05-27 17:50:00      10  25.500000  46.990000  25.414000  43.036000   \n",
       "19734 2016-05-27 18:00:00      10  25.500000  46.600000  25.264286  42.971429   \n",
       "\n",
       "              T3       RH_3         T4       RH_4  ...       T8       RH_8  \\\n",
       "0      19.790000  44.730000  19.000000  45.566667  ...  18.2000  48.900000   \n",
       "1      19.790000  44.790000  19.000000  45.992500  ...  18.2000  48.863333   \n",
       "2      19.790000  44.933333  18.926667  45.890000  ...  18.2000  48.730000   \n",
       "3      19.790000  45.000000  18.890000  45.723333  ...  18.1000  48.590000   \n",
       "4      19.790000  45.000000  18.890000  45.530000  ...  18.1000  48.590000   \n",
       "...          ...        ...        ...        ...  ...      ...        ...   \n",
       "19730  27.200000  41.163333  24.700000  45.590000  ...  24.7000  50.074000   \n",
       "19731  27.133333  41.223333  24.700000  45.590000  ...  24.7000  49.790000   \n",
       "19732  27.050000  41.690000  24.700000  45.730000  ...  24.7000  49.660000   \n",
       "19733  26.890000  41.290000  24.700000  45.790000  ...  24.6625  49.518750   \n",
       "19734  26.823333  41.156667  24.700000  45.963333  ...  24.7360  49.736000   \n",
       "\n",
       "              T9     RH_9  T_out  press_mm_hg     RH_out  windspeed  \\\n",
       "0      17.033333  45.5300   6.60        733.5  92.000000   7.000000   \n",
       "1      17.066667  45.5600   6.48        733.6  92.000000   6.666667   \n",
       "2      17.000000  45.5000   6.37        733.7  92.000000   6.333333   \n",
       "3      17.000000  45.4000   6.25        733.8  92.000000   6.000000   \n",
       "4      17.000000  45.4000   6.13        733.9  92.000000   5.666667   \n",
       "...          ...      ...    ...          ...        ...        ...   \n",
       "19730  23.200000  46.7900  22.70        755.2  55.666667   3.333333   \n",
       "19731  23.200000  46.7900  22.60        755.2  56.000000   3.500000   \n",
       "19732  23.200000  46.7900  22.50        755.2  56.333333   3.666667   \n",
       "19733  23.200000  46.8175  22.30        755.2  56.666667   3.833333   \n",
       "19734  23.200000  46.8450  22.20        755.2  57.000000   4.000000   \n",
       "\n",
       "       visibility  tdewpoint  \n",
       "0       63.000000        5.3  \n",
       "1       59.166667        5.2  \n",
       "2       55.333333        5.1  \n",
       "3       51.500000        5.0  \n",
       "4       47.666667        4.9  \n",
       "...           ...        ...  \n",
       "19730   23.666667       13.3  \n",
       "19731   24.500000       13.3  \n",
       "19732   25.333333       13.3  \n",
       "19733   26.166667       13.2  \n",
       "19734   27.000000       13.2  \n",
       "\n",
       "[19735 rows x 26 columns]"
      ]
     },
     "execution_count": 21,
     "metadata": {},
     "output_type": "execute_result"
    }
   ],
   "source": [
    "X"
   ]
  },
  {
   "cell_type": "markdown",
   "id": "61df266e-4b1b-4ecf-ba56-584aae27f2f6",
   "metadata": {},
   "source": [
    "Так как все столбцы должны иметь числовой тип, то столбце date придётся удалить"
   ]
  },
  {
   "cell_type": "code",
   "execution_count": 22,
   "id": "975c2a05-d444-41d6-9c4b-b69212d616a4",
   "metadata": {},
   "outputs": [],
   "source": [
    "X = X.drop([\"date\"], axis=1)"
   ]
  },
  {
   "cell_type": "markdown",
   "id": "0db90a31-d45b-4439-887e-7d65e5a14479",
   "metadata": {},
   "source": [
    "### Разделение на обучающую и тестовую выборки"
   ]
  },
  {
   "cell_type": "code",
   "execution_count": 23,
   "id": "9ecf68ed-8078-4248-aff8-118b9770e8f7",
   "metadata": {},
   "outputs": [],
   "source": [
    "from sklearn.model_selection import train_test_split\n",
    "X_train, X_test, y_train, y_test = train_test_split(X, y, test_size=0.2, shuffle = False)"
   ]
  },
  {
   "cell_type": "code",
   "execution_count": 24,
   "id": "b62debad-938d-4e41-944a-5408de9a6da3",
   "metadata": {},
   "outputs": [
    {
     "data": {
      "text/plain": [
       "((15788, 25), (15788,), (3947, 25), (3947,))"
      ]
     },
     "execution_count": 24,
     "metadata": {},
     "output_type": "execute_result"
    }
   ],
   "source": [
    "X_train.shape, y_train.shape, X_test.shape, y_test.shape"
   ]
  },
  {
   "cell_type": "code",
   "execution_count": 25,
   "id": "c4ead89c-d4ad-4223-bcd8-fd55bda7d527",
   "metadata": {},
   "outputs": [
    {
     "data": {
      "text/html": [
       "<div>\n",
       "<style scoped>\n",
       "    .dataframe tbody tr th:only-of-type {\n",
       "        vertical-align: middle;\n",
       "    }\n",
       "\n",
       "    .dataframe tbody tr th {\n",
       "        vertical-align: top;\n",
       "    }\n",
       "\n",
       "    .dataframe thead th {\n",
       "        text-align: right;\n",
       "    }\n",
       "</style>\n",
       "<table border=\"1\" class=\"dataframe\">\n",
       "  <thead>\n",
       "    <tr style=\"text-align: right;\">\n",
       "      <th></th>\n",
       "      <th>lights</th>\n",
       "      <th>T1</th>\n",
       "      <th>RH_1</th>\n",
       "      <th>T2</th>\n",
       "      <th>RH_2</th>\n",
       "      <th>T3</th>\n",
       "      <th>RH_3</th>\n",
       "      <th>T4</th>\n",
       "      <th>RH_4</th>\n",
       "      <th>T5</th>\n",
       "      <th>...</th>\n",
       "      <th>T8</th>\n",
       "      <th>RH_8</th>\n",
       "      <th>T9</th>\n",
       "      <th>RH_9</th>\n",
       "      <th>T_out</th>\n",
       "      <th>press_mm_hg</th>\n",
       "      <th>RH_out</th>\n",
       "      <th>windspeed</th>\n",
       "      <th>visibility</th>\n",
       "      <th>tdewpoint</th>\n",
       "    </tr>\n",
       "  </thead>\n",
       "  <tbody>\n",
       "    <tr>\n",
       "      <th>0</th>\n",
       "      <td>30</td>\n",
       "      <td>19.890000</td>\n",
       "      <td>47.596667</td>\n",
       "      <td>19.200000</td>\n",
       "      <td>44.790000</td>\n",
       "      <td>19.79</td>\n",
       "      <td>44.730000</td>\n",
       "      <td>19.000000</td>\n",
       "      <td>45.566667</td>\n",
       "      <td>17.166667</td>\n",
       "      <td>...</td>\n",
       "      <td>18.20</td>\n",
       "      <td>48.900000</td>\n",
       "      <td>17.033333</td>\n",
       "      <td>45.530000</td>\n",
       "      <td>6.60</td>\n",
       "      <td>733.500000</td>\n",
       "      <td>92.000000</td>\n",
       "      <td>7.000000</td>\n",
       "      <td>63.000000</td>\n",
       "      <td>5.30</td>\n",
       "    </tr>\n",
       "    <tr>\n",
       "      <th>1</th>\n",
       "      <td>30</td>\n",
       "      <td>19.890000</td>\n",
       "      <td>46.693333</td>\n",
       "      <td>19.200000</td>\n",
       "      <td>44.722500</td>\n",
       "      <td>19.79</td>\n",
       "      <td>44.790000</td>\n",
       "      <td>19.000000</td>\n",
       "      <td>45.992500</td>\n",
       "      <td>17.166667</td>\n",
       "      <td>...</td>\n",
       "      <td>18.20</td>\n",
       "      <td>48.863333</td>\n",
       "      <td>17.066667</td>\n",
       "      <td>45.560000</td>\n",
       "      <td>6.48</td>\n",
       "      <td>733.600000</td>\n",
       "      <td>92.000000</td>\n",
       "      <td>6.666667</td>\n",
       "      <td>59.166667</td>\n",
       "      <td>5.20</td>\n",
       "    </tr>\n",
       "    <tr>\n",
       "      <th>2</th>\n",
       "      <td>30</td>\n",
       "      <td>19.890000</td>\n",
       "      <td>46.300000</td>\n",
       "      <td>19.200000</td>\n",
       "      <td>44.626667</td>\n",
       "      <td>19.79</td>\n",
       "      <td>44.933333</td>\n",
       "      <td>18.926667</td>\n",
       "      <td>45.890000</td>\n",
       "      <td>17.166667</td>\n",
       "      <td>...</td>\n",
       "      <td>18.20</td>\n",
       "      <td>48.730000</td>\n",
       "      <td>17.000000</td>\n",
       "      <td>45.500000</td>\n",
       "      <td>6.37</td>\n",
       "      <td>733.700000</td>\n",
       "      <td>92.000000</td>\n",
       "      <td>6.333333</td>\n",
       "      <td>55.333333</td>\n",
       "      <td>5.10</td>\n",
       "    </tr>\n",
       "    <tr>\n",
       "      <th>3</th>\n",
       "      <td>40</td>\n",
       "      <td>19.890000</td>\n",
       "      <td>46.066667</td>\n",
       "      <td>19.200000</td>\n",
       "      <td>44.590000</td>\n",
       "      <td>19.79</td>\n",
       "      <td>45.000000</td>\n",
       "      <td>18.890000</td>\n",
       "      <td>45.723333</td>\n",
       "      <td>17.166667</td>\n",
       "      <td>...</td>\n",
       "      <td>18.10</td>\n",
       "      <td>48.590000</td>\n",
       "      <td>17.000000</td>\n",
       "      <td>45.400000</td>\n",
       "      <td>6.25</td>\n",
       "      <td>733.800000</td>\n",
       "      <td>92.000000</td>\n",
       "      <td>6.000000</td>\n",
       "      <td>51.500000</td>\n",
       "      <td>5.00</td>\n",
       "    </tr>\n",
       "    <tr>\n",
       "      <th>4</th>\n",
       "      <td>40</td>\n",
       "      <td>19.890000</td>\n",
       "      <td>46.333333</td>\n",
       "      <td>19.200000</td>\n",
       "      <td>44.530000</td>\n",
       "      <td>19.79</td>\n",
       "      <td>45.000000</td>\n",
       "      <td>18.890000</td>\n",
       "      <td>45.530000</td>\n",
       "      <td>17.200000</td>\n",
       "      <td>...</td>\n",
       "      <td>18.10</td>\n",
       "      <td>48.590000</td>\n",
       "      <td>17.000000</td>\n",
       "      <td>45.400000</td>\n",
       "      <td>6.13</td>\n",
       "      <td>733.900000</td>\n",
       "      <td>92.000000</td>\n",
       "      <td>5.666667</td>\n",
       "      <td>47.666667</td>\n",
       "      <td>4.90</td>\n",
       "    </tr>\n",
       "    <tr>\n",
       "      <th>...</th>\n",
       "      <td>...</td>\n",
       "      <td>...</td>\n",
       "      <td>...</td>\n",
       "      <td>...</td>\n",
       "      <td>...</td>\n",
       "      <td>...</td>\n",
       "      <td>...</td>\n",
       "      <td>...</td>\n",
       "      <td>...</td>\n",
       "      <td>...</td>\n",
       "      <td>...</td>\n",
       "      <td>...</td>\n",
       "      <td>...</td>\n",
       "      <td>...</td>\n",
       "      <td>...</td>\n",
       "      <td>...</td>\n",
       "      <td>...</td>\n",
       "      <td>...</td>\n",
       "      <td>...</td>\n",
       "      <td>...</td>\n",
       "      <td>...</td>\n",
       "    </tr>\n",
       "    <tr>\n",
       "      <th>15783</th>\n",
       "      <td>0</td>\n",
       "      <td>21.290000</td>\n",
       "      <td>37.266667</td>\n",
       "      <td>18.790000</td>\n",
       "      <td>40.400000</td>\n",
       "      <td>22.79</td>\n",
       "      <td>37.200000</td>\n",
       "      <td>19.290000</td>\n",
       "      <td>37.590000</td>\n",
       "      <td>19.100000</td>\n",
       "      <td>...</td>\n",
       "      <td>21.29</td>\n",
       "      <td>44.663333</td>\n",
       "      <td>19.200000</td>\n",
       "      <td>41.526667</td>\n",
       "      <td>5.10</td>\n",
       "      <td>757.850000</td>\n",
       "      <td>96.000000</td>\n",
       "      <td>1.000000</td>\n",
       "      <td>40.000000</td>\n",
       "      <td>4.45</td>\n",
       "    </tr>\n",
       "    <tr>\n",
       "      <th>15784</th>\n",
       "      <td>0</td>\n",
       "      <td>21.356667</td>\n",
       "      <td>37.660000</td>\n",
       "      <td>18.890000</td>\n",
       "      <td>40.590000</td>\n",
       "      <td>22.73</td>\n",
       "      <td>36.926667</td>\n",
       "      <td>19.230000</td>\n",
       "      <td>37.723333</td>\n",
       "      <td>19.033333</td>\n",
       "      <td>...</td>\n",
       "      <td>21.29</td>\n",
       "      <td>44.590000</td>\n",
       "      <td>19.200000</td>\n",
       "      <td>41.466667</td>\n",
       "      <td>5.20</td>\n",
       "      <td>757.933333</td>\n",
       "      <td>95.666667</td>\n",
       "      <td>1.000000</td>\n",
       "      <td>40.000000</td>\n",
       "      <td>4.50</td>\n",
       "    </tr>\n",
       "    <tr>\n",
       "      <th>15785</th>\n",
       "      <td>0</td>\n",
       "      <td>21.390000</td>\n",
       "      <td>37.950000</td>\n",
       "      <td>18.963333</td>\n",
       "      <td>40.530000</td>\n",
       "      <td>22.60</td>\n",
       "      <td>36.433333</td>\n",
       "      <td>19.290000</td>\n",
       "      <td>38.566667</td>\n",
       "      <td>19.100000</td>\n",
       "      <td>...</td>\n",
       "      <td>21.20</td>\n",
       "      <td>44.430000</td>\n",
       "      <td>19.200000</td>\n",
       "      <td>41.400000</td>\n",
       "      <td>5.30</td>\n",
       "      <td>758.016667</td>\n",
       "      <td>95.333333</td>\n",
       "      <td>1.000000</td>\n",
       "      <td>40.000000</td>\n",
       "      <td>4.55</td>\n",
       "    </tr>\n",
       "    <tr>\n",
       "      <th>15786</th>\n",
       "      <td>0</td>\n",
       "      <td>21.390000</td>\n",
       "      <td>38.000000</td>\n",
       "      <td>19.000000</td>\n",
       "      <td>40.290000</td>\n",
       "      <td>22.60</td>\n",
       "      <td>36.560000</td>\n",
       "      <td>19.290000</td>\n",
       "      <td>38.700000</td>\n",
       "      <td>19.166667</td>\n",
       "      <td>...</td>\n",
       "      <td>21.20</td>\n",
       "      <td>44.230000</td>\n",
       "      <td>19.200000</td>\n",
       "      <td>41.163333</td>\n",
       "      <td>5.40</td>\n",
       "      <td>758.100000</td>\n",
       "      <td>95.000000</td>\n",
       "      <td>1.000000</td>\n",
       "      <td>40.000000</td>\n",
       "      <td>4.60</td>\n",
       "    </tr>\n",
       "    <tr>\n",
       "      <th>15787</th>\n",
       "      <td>0</td>\n",
       "      <td>21.390000</td>\n",
       "      <td>38.393333</td>\n",
       "      <td>19.000000</td>\n",
       "      <td>40.290000</td>\n",
       "      <td>22.60</td>\n",
       "      <td>36.500000</td>\n",
       "      <td>19.290000</td>\n",
       "      <td>38.760000</td>\n",
       "      <td>19.290000</td>\n",
       "      <td>...</td>\n",
       "      <td>21.20</td>\n",
       "      <td>43.930000</td>\n",
       "      <td>19.200000</td>\n",
       "      <td>41.030000</td>\n",
       "      <td>5.53</td>\n",
       "      <td>758.166667</td>\n",
       "      <td>93.833333</td>\n",
       "      <td>1.000000</td>\n",
       "      <td>40.000000</td>\n",
       "      <td>4.57</td>\n",
       "    </tr>\n",
       "  </tbody>\n",
       "</table>\n",
       "<p>15788 rows × 25 columns</p>\n",
       "</div>"
      ],
      "text/plain": [
       "       lights         T1       RH_1         T2       RH_2     T3       RH_3  \\\n",
       "0          30  19.890000  47.596667  19.200000  44.790000  19.79  44.730000   \n",
       "1          30  19.890000  46.693333  19.200000  44.722500  19.79  44.790000   \n",
       "2          30  19.890000  46.300000  19.200000  44.626667  19.79  44.933333   \n",
       "3          40  19.890000  46.066667  19.200000  44.590000  19.79  45.000000   \n",
       "4          40  19.890000  46.333333  19.200000  44.530000  19.79  45.000000   \n",
       "...       ...        ...        ...        ...        ...    ...        ...   \n",
       "15783       0  21.290000  37.266667  18.790000  40.400000  22.79  37.200000   \n",
       "15784       0  21.356667  37.660000  18.890000  40.590000  22.73  36.926667   \n",
       "15785       0  21.390000  37.950000  18.963333  40.530000  22.60  36.433333   \n",
       "15786       0  21.390000  38.000000  19.000000  40.290000  22.60  36.560000   \n",
       "15787       0  21.390000  38.393333  19.000000  40.290000  22.60  36.500000   \n",
       "\n",
       "              T4       RH_4         T5  ...     T8       RH_8         T9  \\\n",
       "0      19.000000  45.566667  17.166667  ...  18.20  48.900000  17.033333   \n",
       "1      19.000000  45.992500  17.166667  ...  18.20  48.863333  17.066667   \n",
       "2      18.926667  45.890000  17.166667  ...  18.20  48.730000  17.000000   \n",
       "3      18.890000  45.723333  17.166667  ...  18.10  48.590000  17.000000   \n",
       "4      18.890000  45.530000  17.200000  ...  18.10  48.590000  17.000000   \n",
       "...          ...        ...        ...  ...    ...        ...        ...   \n",
       "15783  19.290000  37.590000  19.100000  ...  21.29  44.663333  19.200000   \n",
       "15784  19.230000  37.723333  19.033333  ...  21.29  44.590000  19.200000   \n",
       "15785  19.290000  38.566667  19.100000  ...  21.20  44.430000  19.200000   \n",
       "15786  19.290000  38.700000  19.166667  ...  21.20  44.230000  19.200000   \n",
       "15787  19.290000  38.760000  19.290000  ...  21.20  43.930000  19.200000   \n",
       "\n",
       "            RH_9  T_out  press_mm_hg     RH_out  windspeed  visibility  \\\n",
       "0      45.530000   6.60   733.500000  92.000000   7.000000   63.000000   \n",
       "1      45.560000   6.48   733.600000  92.000000   6.666667   59.166667   \n",
       "2      45.500000   6.37   733.700000  92.000000   6.333333   55.333333   \n",
       "3      45.400000   6.25   733.800000  92.000000   6.000000   51.500000   \n",
       "4      45.400000   6.13   733.900000  92.000000   5.666667   47.666667   \n",
       "...          ...    ...          ...        ...        ...         ...   \n",
       "15783  41.526667   5.10   757.850000  96.000000   1.000000   40.000000   \n",
       "15784  41.466667   5.20   757.933333  95.666667   1.000000   40.000000   \n",
       "15785  41.400000   5.30   758.016667  95.333333   1.000000   40.000000   \n",
       "15786  41.163333   5.40   758.100000  95.000000   1.000000   40.000000   \n",
       "15787  41.030000   5.53   758.166667  93.833333   1.000000   40.000000   \n",
       "\n",
       "       tdewpoint  \n",
       "0           5.30  \n",
       "1           5.20  \n",
       "2           5.10  \n",
       "3           5.00  \n",
       "4           4.90  \n",
       "...          ...  \n",
       "15783       4.45  \n",
       "15784       4.50  \n",
       "15785       4.55  \n",
       "15786       4.60  \n",
       "15787       4.57  \n",
       "\n",
       "[15788 rows x 25 columns]"
      ]
     },
     "execution_count": 25,
     "metadata": {},
     "output_type": "execute_result"
    }
   ],
   "source": [
    "X_train"
   ]
  },
  {
   "cell_type": "markdown",
   "id": "f8db71d8-696f-4a93-8780-e2dd7b0258ca",
   "metadata": {},
   "source": [
    "## Простая линейная регрессия"
   ]
  },
  {
   "cell_type": "markdown",
   "id": "640acad7-dca1-4210-81de-127334c44371",
   "metadata": {},
   "source": [
    "Составим матрицу корреляции, на основе которой сделаем тепловую карту и выберем тот признак, который сильнее всего влияет на столбец \"appliances\""
   ]
  },
  {
   "cell_type": "code",
   "execution_count": 26,
   "id": "9cd21df3-ed8a-4eef-8166-53d023c50ce5",
   "metadata": {},
   "outputs": [],
   "source": [
    "corr_matrix = df.corr()"
   ]
  },
  {
   "cell_type": "code",
   "execution_count": 27,
   "id": "6af4395e-ea97-4854-825c-ae8779b19bd0",
   "metadata": {},
   "outputs": [
    {
     "data": {
      "text/plain": [
       "<function matplotlib.pyplot.show(close=None, block=None)>"
      ]
     },
     "execution_count": 27,
     "metadata": {},
     "output_type": "execute_result"
    },
    {
     "data": {
      "image/png": "[encoded data removed]",
      "text/plain": [
       "<Figure size 200x1000 with 2 Axes>"
      ]
     },
     "metadata": {},
     "output_type": "display_data"
    }
   ],
   "source": [
    "plt.figure(figsize=(2,10))\n",
    "sns.heatmap(corr_matrix[['appliances']], annot=True, cmap=\"YlGnBu\", fmt=\".3f\")\n",
    "plt.show"
   ]
  },
  {
   "cell_type": "markdown",
   "id": "24d9be39-a89d-45dc-a3b4-eecfcfe44134",
   "metadata": {},
   "source": [
    "По тепловой карте видно, что лучше всего для построения модели использовать столбец \"lights\""
   ]
  },
  {
   "cell_type": "code",
   "execution_count": 28,
   "id": "557f4a12-a212-4dd9-8285-05a5a373d715",
   "metadata": {},
   "outputs": [],
   "source": [
    "from sklearn.linear_model import LinearRegression\n",
    "from sklearn.metrics import mean_squared_error, mean_absolute_error, mean_absolute_percentage_error, r2_score\n",
    "from math import sqrt"
   ]
  },
  {
   "cell_type": "code",
   "execution_count": 29,
   "id": "2cff0c59-9ac0-446a-9fd8-4c6fd4fd4a9f",
   "metadata": {},
   "outputs": [],
   "source": [
    "simple_lr = LinearRegression().fit(X_train[['lights']], y_train )\n",
    "y_pred_simple_lr = simple_lr.predict(X_test[['lights']])"
   ]
  },
  {
   "cell_type": "code",
   "execution_count": 30,
   "id": "29b1d165-b7b6-4317-88c7-736511849548",
   "metadata": {},
   "outputs": [
    {
     "name": "stdout",
     "output_type": "stream",
     "text": [
      "MAE: 49.16273700923489\n",
      "MSE: 8357.722024801245\n",
      "RMSE: 91.42057768796501\n",
      "MAPE: 0.5094606592707313\n",
      "R^2: -0.00841071006339722\n"
     ]
    }
   ],
   "source": [
    "print(f'MAE: {mean_absolute_error(y_test, y_pred_simple_lr)}')\n",
    "print(f'MSE: {mean_squared_error(y_test, y_pred_simple_lr)}')\n",
    "print(f'RMSE: {sqrt(mean_squared_error(y_test, y_pred_simple_lr))}')\n",
    "print(f'MAPE: {mean_absolute_percentage_error(y_test, y_pred_simple_lr)}')\n",
    "print(f'R^2: {r2_score(y_test,y_pred_simple_lr)}')"
   ]
  },
  {
   "cell_type": "code",
   "execution_count": 31,
   "id": "fc96c1f0-d08d-493c-8ad2-0a0dbcbf19d4",
   "metadata": {},
   "outputs": [
    {
     "data": {
      "text/plain": [
       "array([2.73705889])"
      ]
     },
     "execution_count": 31,
     "metadata": {},
     "output_type": "execute_result"
    }
   ],
   "source": [
    "simple_lr.coef_"
   ]
  },
  {
   "cell_type": "markdown",
   "id": "927c49cd-45d8-4cc0-b936-db154175a8d3",
   "metadata": {},
   "source": [
    "### Регуляризация"
   ]
  },
  {
   "cell_type": "code",
   "execution_count": 32,
   "id": "50e67a2f-40db-41bb-bdff-f1f8731c132a",
   "metadata": {},
   "outputs": [],
   "source": [
    "from sklearn.model_selection import GridSearchCV, RandomizedSearchCV\n",
    "from sklearn.linear_model import Lasso, Ridge, ElasticNet"
   ]
  },
  {
   "cell_type": "code",
   "execution_count": 33,
   "id": "b735a5ee-6bbb-4e02-a6fd-3a2b5cecffc4",
   "metadata": {},
   "outputs": [],
   "source": [
    "parameters = {'alpha': np.arange(0, 1, 0.1)}"
   ]
  },
  {
   "cell_type": "code",
   "execution_count": 34,
   "id": "0fd85b83-8fce-431f-9e6c-cac2fe586588",
   "metadata": {},
   "outputs": [
    {
     "data": {
      "text/plain": [
       "{'alpha': 0.9}"
      ]
     },
     "execution_count": 34,
     "metadata": {},
     "output_type": "execute_result"
    }
   ],
   "source": [
    "ridge_optimal = GridSearchCV(Ridge(), parameters).fit(X_train[['lights']], y_train)\n",
    "ridge_optimal.best_params_"
   ]
  },
  {
   "cell_type": "code",
   "execution_count": 35,
   "id": "eab8fd08-7583-4cbe-a42e-066f2f936017",
   "metadata": {},
   "outputs": [],
   "source": [
    "parameters = {'alpha': np.arange(0.1, 1, 0.1)}"
   ]
  },
  {
   "cell_type": "code",
   "execution_count": 36,
   "id": "3712b820-5d4f-40a5-ac02-fe5f5407cc40",
   "metadata": {},
   "outputs": [
    {
     "data": {
      "text/plain": [
       "{'alpha': 0.9}"
      ]
     },
     "execution_count": 36,
     "metadata": {},
     "output_type": "execute_result"
    }
   ],
   "source": [
    "ridge_optimal = GridSearchCV(Lasso(), parameters).fit(X_train[['lights']], y_train)\n",
    "ridge_optimal.best_params_"
   ]
  },
  {
   "cell_type": "code",
   "execution_count": 37,
   "id": "d1200953-c9d2-4d0a-aadb-28691dceccb7",
   "metadata": {},
   "outputs": [],
   "source": [
    "base_elastic_model = ElasticNet(max_iter=100000)\n",
    "param_grid = {'alpha':[0.1,1,10,100],'l1_ratio':[0.1,0.75,0.99,1]}"
   ]
  },
  {
   "cell_type": "code",
   "execution_count": 38,
   "id": "85d87861-2d7d-45ef-9b86-a4057645a4fe",
   "metadata": {},
   "outputs": [
    {
     "data": {
      "text/plain": [
       "{'alpha': 10, 'l1_ratio': 0.1}"
      ]
     },
     "execution_count": 38,
     "metadata": {},
     "output_type": "execute_result"
    }
   ],
   "source": [
    "grid_model = GridSearchCV(base_elastic_model, param_grid=param_grid,scoring = 'neg_mean_squared_error')\n",
    "grid_model.fit(X_train[['lights']], y_train)\n",
    "grid_model.best_params_"
   ]
  },
  {
   "cell_type": "markdown",
   "id": "985555ec-dc4a-4afd-8e15-0f4c5c028495",
   "metadata": {},
   "source": [
    "### Ridge"
   ]
  },
  {
   "cell_type": "code",
   "execution_count": 39,
   "id": "70bd7c15-1fa0-41a7-9e13-f3decf5becad",
   "metadata": {},
   "outputs": [],
   "source": [
    "simple_ridge = Ridge(alpha=0.9).fit(X_train[['lights']], y_train)\n",
    "y_pred_simple_rid = simple_ridge.predict(X_test[['lights']])"
   ]
  },
  {
   "cell_type": "code",
   "execution_count": 40,
   "id": "f4db18fe-6bd0-48d4-a336-32e735bc243f",
   "metadata": {},
   "outputs": [
    {
     "name": "stdout",
     "output_type": "stream",
     "text": [
      "MAE: 49.16273847566137\n",
      "MSE: 8357.721747829068\n",
      "RMSE: 91.42057617314096\n",
      "MAPE: 0.5094607194026249\n",
      "R^2: -0.00841067664499584\n"
     ]
    }
   ],
   "source": [
    "print(f'MAE: {mean_absolute_error(y_test, y_pred_simple_rid)}')\n",
    "print(f'MSE: {mean_squared_error(y_test, y_pred_simple_rid)}')\n",
    "print(f'RMSE: {sqrt(mean_squared_error(y_test, y_pred_simple_rid))}')\n",
    "print(f'MAPE: {mean_absolute_percentage_error(y_test, y_pred_simple_rid)}')\n",
    "print(f'R^2: {r2_score(y_test,y_pred_simple_rid)}')"
   ]
  },
  {
   "cell_type": "code",
   "execution_count": 41,
   "id": "4df52106-dd02-4c67-90ec-d1600887ebfd",
   "metadata": {},
   "outputs": [
    {
     "data": {
      "text/plain": [
       "array([2.73705666])"
      ]
     },
     "execution_count": 41,
     "metadata": {},
     "output_type": "execute_result"
    }
   ],
   "source": [
    "simple_ridge.coef_"
   ]
  },
  {
   "cell_type": "markdown",
   "id": "bcce411a-ba97-4b0b-af50-8e20a096dfef",
   "metadata": {},
   "source": [
    "### Lasso"
   ]
  },
  {
   "cell_type": "code",
   "execution_count": 42,
   "id": "42c1ad3e-2cd4-4814-af95-4d984b49b1f1",
   "metadata": {},
   "outputs": [],
   "source": [
    "simple_lasso = Lasso(alpha=0.9).fit(X_train[['lights']], y_train)\n",
    "y_pred_simple_lasso = simple_lasso.predict(X_test[['lights']])"
   ]
  },
  {
   "cell_type": "code",
   "execution_count": 43,
   "id": "b9531a46-d9b0-498b-a820-56dce31f7439",
   "metadata": {},
   "outputs": [
    {
     "name": "stdout",
     "output_type": "stream",
     "text": [
      "MAE: 49.1711957099677\n",
      "MSE: 8356.130411807817\n",
      "RMSE: 91.4118723788536\n",
      "MAPE: 0.5098075144994387\n",
      "R^2: -0.008218672139177485\n"
     ]
    }
   ],
   "source": [
    "print(f'MAE: {mean_absolute_error(y_test, y_pred_simple_lasso)}')\n",
    "print(f'MSE: {mean_squared_error(y_test, y_pred_simple_lasso)}')\n",
    "print(f'RMSE: {sqrt(mean_squared_error(y_test, y_pred_simple_lasso))}')\n",
    "print(f'MAPE: {mean_absolute_percentage_error(y_test, y_pred_simple_lasso)}')\n",
    "print(f'R^2: {r2_score(y_test, y_pred_simple_lasso)}')"
   ]
  },
  {
   "cell_type": "code",
   "execution_count": 44,
   "id": "86af8a2a-81bd-40f6-9edb-0f859d354619",
   "metadata": {},
   "outputs": [
    {
     "data": {
      "text/plain": [
       "array([2.72419139])"
      ]
     },
     "execution_count": 44,
     "metadata": {},
     "output_type": "execute_result"
    }
   ],
   "source": [
    "simple_lasso.coef_"
   ]
  },
  {
   "cell_type": "markdown",
   "id": "99655f50-c45d-4729-a97b-0d9b0dce9d43",
   "metadata": {},
   "source": [
    "### ElasticNet"
   ]
  },
  {
   "cell_type": "code",
   "execution_count": 45,
   "id": "d07c0190-e190-4996-8687-3028fb283cc8",
   "metadata": {},
   "outputs": [],
   "source": [
    "simple_elnet = ElasticNet(alpha=10, l1_ratio=0.1).fit(X_train[['lights']], y_train)\n",
    "y_pred_simple_elnet = simple_elnet.predict(X_test[['lights']])"
   ]
  },
  {
   "cell_type": "code",
   "execution_count": 46,
   "id": "9a7d2f0e-7ee1-4525-8a90-ab4337dfdfed",
   "metadata": {},
   "outputs": [
    {
     "name": "stdout",
     "output_type": "stream",
     "text": [
      "MAE: 49.40344290916517\n",
      "MSE: 8321.246033017553\n",
      "RMSE: 91.22086402253353\n",
      "MAPE: 0.5184080826471441\n",
      "R^2: -0.004009656682379292\n"
     ]
    }
   ],
   "source": [
    "print(f'MAE: {mean_absolute_error(y_test, y_pred_simple_elnet)}')\n",
    "print(f'MSE: {mean_squared_error(y_test, y_pred_simple_elnet)}')\n",
    "print(f'RMSE: {sqrt(mean_squared_error(y_test, y_pred_simple_elnet))}')\n",
    "print(f'MAPE: {mean_absolute_percentage_error(y_test, y_pred_simple_elnet)}')\n",
    "print(f'R^2: {r2_score(y_test, y_pred_simple_elnet)}')"
   ]
  },
  {
   "cell_type": "code",
   "execution_count": 47,
   "id": "62dc9d48-21f9-4406-8735-92ff638d5f59",
   "metadata": {},
   "outputs": [
    {
     "data": {
      "text/plain": [
       "array([2.41235239])"
      ]
     },
     "execution_count": 47,
     "metadata": {},
     "output_type": "execute_result"
    }
   ],
   "source": [
    "simple_elnet.coef_"
   ]
  },
  {
   "cell_type": "markdown",
   "id": "19f10add-c1db-4941-a0e2-16139ea0f0e9",
   "metadata": {},
   "source": [
    "### Заключение"
   ]
  },
  {
   "cell_type": "markdown",
   "id": "0b1f7f15-da8f-40d2-b289-da8b9cd76a44",
   "metadata": {},
   "source": [
    "Модель, построенная с помощью простой линейной регрессии, является не самой лучшей, так как верное значение она предсказывает лишь в половине случаев. Регуляризация ситуацию не изменила, так как метрики почти не изменились."
   ]
  },
  {
   "cell_type": "markdown",
   "id": "2759972b-9b47-4dd2-827b-67e28e9cd0c9",
   "metadata": {},
   "source": [
    "## Масштабирование"
   ]
  },
  {
   "cell_type": "code",
   "execution_count": 48,
   "id": "1747a303-42bb-4bb0-a7c7-d5e71b43c8ca",
   "metadata": {},
   "outputs": [],
   "source": [
    "from sklearn.preprocessing import StandardScaler"
   ]
  },
  {
   "cell_type": "code",
   "execution_count": 49,
   "id": "e35d9b84-bc1b-4f57-9bbc-7072c6df421c",
   "metadata": {},
   "outputs": [],
   "source": [
    "scaler = StandardScaler()"
   ]
  },
  {
   "cell_type": "code",
   "execution_count": 50,
   "id": "dd6d2d58-4535-44ab-a33a-528735c8d1db",
   "metadata": {},
   "outputs": [
    {
     "data": {
      "text/html": [
       "<style>#sk-container-id-1 {color: black;}#sk-container-id-1 pre{padding: 0;}#sk-container-id-1 div.sk-toggleable {background-color: white;}#sk-container-id-1 label.sk-toggleable__label {cursor: pointer;display: block;width: 100%;margin-bottom: 0;padding: 0.3em;box-sizing: border-box;text-align: center;}#sk-container-id-1 label.sk-toggleable__label-arrow:before {content: \"▸\";float: left;margin-right: 0.25em;color: #696969;}#sk-container-id-1 label.sk-toggleable__label-arrow:hover:before {color: black;}#sk-container-id-1 div.sk-estimator:hover label.sk-toggleable__label-arrow:before {color: black;}#sk-container-id-1 div.sk-toggleable__content {max-height: 0;max-width: 0;overflow: hidden;text-align: left;background-color: #f0f8ff;}#sk-container-id-1 div.sk-toggleable__content pre {margin: 0.2em;color: black;border-radius: 0.25em;background-color: #f0f8ff;}#sk-container-id-1 input.sk-toggleable__control:checked~div.sk-toggleable__content {max-height: 200px;max-width: 100%;overflow: auto;}#sk-container-id-1 input.sk-toggleable__control:checked~label.sk-toggleable__label-arrow:before {content: \"▾\";}#sk-container-id-1 div.sk-estimator input.sk-toggleable__control:checked~label.sk-toggleable__label {background-color: #d4ebff;}#sk-container-id-1 div.sk-label input.sk-toggleable__control:checked~label.sk-toggleable__label {background-color: #d4ebff;}#sk-container-id-1 input.sk-hidden--visually {border: 0;clip: rect(1px 1px 1px 1px);clip: rect(1px, 1px, 1px, 1px);height: 1px;margin: -1px;overflow: hidden;padding: 0;position: absolute;width: 1px;}#sk-container-id-1 div.sk-estimator {font-family: monospace;background-color: #f0f8ff;border: 1px dotted black;border-radius: 0.25em;box-sizing: border-box;margin-bottom: 0.5em;}#sk-container-id-1 div.sk-estimator:hover {background-color: #d4ebff;}#sk-container-id-1 div.sk-parallel-item::after {content: \"\";width: 100%;border-bottom: 1px solid gray;flex-grow: 1;}#sk-container-id-1 div.sk-label:hover label.sk-toggleable__label {background-color: #d4ebff;}#sk-container-id-1 div.sk-serial::before {content: \"\";position: absolute;border-left: 1px solid gray;box-sizing: border-box;top: 0;bottom: 0;left: 50%;z-index: 0;}#sk-container-id-1 div.sk-serial {display: flex;flex-direction: column;align-items: center;background-color: white;padding-right: 0.2em;padding-left: 0.2em;position: relative;}#sk-container-id-1 div.sk-item {position: relative;z-index: 1;}#sk-container-id-1 div.sk-parallel {display: flex;align-items: stretch;justify-content: center;background-color: white;position: relative;}#sk-container-id-1 div.sk-item::before, #sk-container-id-1 div.sk-parallel-item::before {content: \"\";position: absolute;border-left: 1px solid gray;box-sizing: border-box;top: 0;bottom: 0;left: 50%;z-index: -1;}#sk-container-id-1 div.sk-parallel-item {display: flex;flex-direction: column;z-index: 1;position: relative;background-color: white;}#sk-container-id-1 div.sk-parallel-item:first-child::after {align-self: flex-end;width: 50%;}#sk-container-id-1 div.sk-parallel-item:last-child::after {align-self: flex-start;width: 50%;}#sk-container-id-1 div.sk-parallel-item:only-child::after {width: 0;}#sk-container-id-1 div.sk-dashed-wrapped {border: 1px dashed gray;margin: 0 0.4em 0.5em 0.4em;box-sizing: border-box;padding-bottom: 0.4em;background-color: white;}#sk-container-id-1 div.sk-label label {font-family: monospace;font-weight: bold;display: inline-block;line-height: 1.2em;}#sk-container-id-1 div.sk-label-container {text-align: center;}#sk-container-id-1 div.sk-container {/* jupyter's `normalize.less` sets `[hidden] { display: none; }` but bootstrap.min.css set `[hidden] { display: none !important; }` so we also need the `!important` here to be able to override the default hidden behavior on the sphinx rendered scikit-learn.org. See: https://github.com/scikit-learn/scikit-learn/issues/21755 */display: inline-block !important;position: relative;}#sk-container-id-1 div.sk-text-repr-fallback {display: none;}</style><div id=\"sk-container-id-1\" class=\"sk-top-container\"><div class=\"sk-text-repr-fallback\"><pre>StandardScaler()</pre><b>In a Jupyter environment, please rerun this cell to show the HTML representation or trust the notebook. <br />On GitHub, the HTML representation is unable to render, please try loading this page with nbviewer.org.</b></div><div class=\"sk-container\" hidden><div class=\"sk-item\"><div class=\"sk-estimator sk-toggleable\"><input class=\"sk-toggleable__control sk-hidden--visually\" id=\"sk-estimator-id-1\" type=\"checkbox\" checked><label for=\"sk-estimator-id-1\" class=\"sk-toggleable__label sk-toggleable__label-arrow\">StandardScaler</label><div class=\"sk-toggleable__content\"><pre>StandardScaler()</pre></div></div></div></div></div>"
      ],
      "text/plain": [
       "StandardScaler()"
      ]
     },
     "execution_count": 50,
     "metadata": {},
     "output_type": "execute_result"
    }
   ],
   "source": [
    "scaler.fit(X_train)"
   ]
  },
  {
   "cell_type": "code",
   "execution_count": 51,
   "id": "761ef86e-d379-4048-bd27-cf7e46fff231",
   "metadata": {},
   "outputs": [],
   "source": [
    "X_train = scaler.transform(X_train)\n",
    "X_test = scaler.transform(X_test)"
   ]
  },
  {
   "cell_type": "markdown",
   "id": "dc9be093-74a1-42a9-85b3-71ac7a2fd15b",
   "metadata": {},
   "source": [
    "## Множественная линейная регрессия"
   ]
  },
  {
   "cell_type": "code",
   "execution_count": 52,
   "id": "4e235735-072c-4d6a-a6d9-51d3d25cbc7b",
   "metadata": {},
   "outputs": [],
   "source": [
    "lr = LinearRegression().fit(X_train, y_train)"
   ]
  },
  {
   "cell_type": "code",
   "execution_count": 53,
   "id": "ac18bdcc-62bd-48a9-ab11-c17d994e2103",
   "metadata": {},
   "outputs": [],
   "source": [
    "y_pred = lr.predict(X_test)"
   ]
  },
  {
   "cell_type": "code",
   "execution_count": 54,
   "id": "63ab5625-dad0-4f0a-bf77-87a99e4c01e8",
   "metadata": {},
   "outputs": [
    {
     "data": {
      "text/plain": [
       "array([ 79.25983809,  81.66358021,  84.18232719, ..., 129.02299664,\n",
       "       118.52836494, 102.64649955])"
      ]
     },
     "execution_count": 54,
     "metadata": {},
     "output_type": "execute_result"
    }
   ],
   "source": [
    "y_pred"
   ]
  },
  {
   "cell_type": "code",
   "execution_count": 55,
   "id": "5c3a169d-9cf5-4a66-9938-7fab1b5a63ed",
   "metadata": {},
   "outputs": [
    {
     "data": {
      "text/plain": [
       "15788    370\n",
       "15789    590\n",
       "15790    320\n",
       "15791    310\n",
       "15792    260\n",
       "        ... \n",
       "19730    100\n",
       "19731     90\n",
       "19732    270\n",
       "19733    420\n",
       "19734    430\n",
       "Name: appliances, Length: 3947, dtype: int64"
      ]
     },
     "execution_count": 55,
     "metadata": {},
     "output_type": "execute_result"
    }
   ],
   "source": [
    " y_test"
   ]
  },
  {
   "cell_type": "code",
   "execution_count": 56,
   "id": "ab02562e-e43b-4ae7-b414-0f38baa18b13",
   "metadata": {},
   "outputs": [
    {
     "name": "stdout",
     "output_type": "stream",
     "text": [
      "MAE: 52.05410291048359\n",
      "MSE: 7524.401635600519\n",
      "RMSE: 86.74330888086135\n",
      "MAPE: 0.5976598878114914\n",
      "R^2: 0.09213453454877862\n"
     ]
    }
   ],
   "source": [
    "print(f'MAE: {mean_absolute_error(y_test, y_pred)}')\n",
    "print(f'MSE: {mean_squared_error(y_test, y_pred)}')\n",
    "print(f'RMSE: {sqrt(mean_squared_error(y_test, y_pred))}')\n",
    "print(f'MAPE: {mean_absolute_percentage_error(y_test, y_pred)}')\n",
    "print(f'R^2: {r2_score(y_test,y_pred)}')"
   ]
  },
  {
   "cell_type": "code",
   "execution_count": 57,
   "id": "f16da013-0ce1-4964-8bae-2b65c97a6c81",
   "metadata": {},
   "outputs": [
    {
     "data": {
      "text/plain": [
       "array([ 17.89653526,  -7.72218866,  46.20055559, -20.04614743,\n",
       "       -42.15537007,  41.5252016 ,  27.66344517,  -5.73701768,\n",
       "       -10.47640365,  -2.17689209,   0.98483243,  35.67292675,\n",
       "         9.53237935,   1.6537383 ,  -2.45368614,  15.35184186,\n",
       "       -31.18451864, -20.38647459,  -4.06973209, -34.70878883,\n",
       "         1.741331  ,  -6.23213925,   3.2576807 ,   2.34888221,\n",
       "        12.27643091])"
      ]
     },
     "execution_count": 57,
     "metadata": {},
     "output_type": "execute_result"
    }
   ],
   "source": [
    "lr.coef_"
   ]
  },
  {
   "cell_type": "markdown",
   "id": "45c8f80f-ec7d-4100-b5fc-4f1d43eafb95",
   "metadata": {},
   "source": [
    "### Регулярицзация"
   ]
  },
  {
   "cell_type": "markdown",
   "id": "2f72a025-54d6-4ce8-a320-8c3bb7d96a5f",
   "metadata": {},
   "source": [
    "Выполним поиск по сетке"
   ]
  },
  {
   "cell_type": "code",
   "execution_count": 58,
   "id": "42f85f38-950e-463a-ba1c-171aa709068f",
   "metadata": {},
   "outputs": [],
   "source": [
    "parameters = {'alpha': np.arange(0, 1, 0.1)}"
   ]
  },
  {
   "cell_type": "code",
   "execution_count": 59,
   "id": "87ca9887-d421-484a-944d-b2205c095391",
   "metadata": {},
   "outputs": [
    {
     "data": {
      "text/plain": [
       "{'alpha': 0.9}"
      ]
     },
     "execution_count": 59,
     "metadata": {},
     "output_type": "execute_result"
    }
   ],
   "source": [
    "ridge_optimal = GridSearchCV(Ridge(), parameters).fit(X_train, y_train)\n",
    "ridge_optimal.best_params_"
   ]
  },
  {
   "cell_type": "code",
   "execution_count": 60,
   "id": "3962018c-661e-4897-8cdd-3beb0b836e46",
   "metadata": {},
   "outputs": [],
   "source": [
    "parameters = {'alpha': np.arange(0, 1, 0.1)}"
   ]
  },
  {
   "cell_type": "code",
   "execution_count": 61,
   "id": "4852432f-39a3-4bf6-8902-06a80311466f",
   "metadata": {},
   "outputs": [
    {
     "data": {
      "text/plain": [
       "{'alpha': 0.9}"
      ]
     },
     "execution_count": 61,
     "metadata": {},
     "output_type": "execute_result"
    }
   ],
   "source": [
    "ridge_optimal = GridSearchCV(Lasso(), parameters).fit(X_train, y_train)\n",
    "ridge_optimal.best_params_"
   ]
  },
  {
   "cell_type": "code",
   "execution_count": 62,
   "id": "4f36af10-4bc2-4227-91aa-f3f7dd2276cb",
   "metadata": {},
   "outputs": [],
   "source": [
    "base_elastic_model = ElasticNet(max_iter=100000)\n",
    "param_grid = {'alpha':[0.1,1,10,100],'l1_ratio':[0.1,0.75,0.99,1]}"
   ]
  },
  {
   "cell_type": "code",
   "execution_count": 63,
   "id": "4a6e301e-ba47-43da-bcea-cdc00a057960",
   "metadata": {},
   "outputs": [
    {
     "data": {
      "text/plain": [
       "{'alpha': 0.1, 'l1_ratio': 0.1}"
      ]
     },
     "execution_count": 63,
     "metadata": {},
     "output_type": "execute_result"
    }
   ],
   "source": [
    "grid_model = GridSearchCV(base_elastic_model, param_grid=param_grid,scoring = 'neg_mean_squared_error')\n",
    "grid_model.fit(X_train, y_train)\n",
    "grid_model.best_params_"
   ]
  },
  {
   "cell_type": "markdown",
   "id": "8ee0bd8b-f841-4b34-9125-7c2dc2eaef61",
   "metadata": {},
   "source": [
    "### Ridge"
   ]
  },
  {
   "cell_type": "code",
   "execution_count": 64,
   "id": "863a768d-039a-41a8-8f4c-4cb1429575bb",
   "metadata": {},
   "outputs": [],
   "source": [
    "ridge = Ridge(alpha=0.9).fit(X_train, y_train)\n",
    "y_pred_rid = ridge.predict(X_test)"
   ]
  },
  {
   "cell_type": "code",
   "execution_count": 65,
   "id": "93176518-58ff-42e7-8b57-1e3899dcea95",
   "metadata": {},
   "outputs": [
    {
     "name": "stdout",
     "output_type": "stream",
     "text": [
      "MAE: 52.06409945216181\n",
      "MSE: 7525.571405020839\n",
      "RMSE: 86.75005132575335\n",
      "MAPE: 0.5978362201804417\n",
      "R^2: 0.09199339465345135\n"
     ]
    }
   ],
   "source": [
    "print(f'MAE: {mean_absolute_error(y_test, y_pred_rid)}')\n",
    "print(f'MSE: {mean_squared_error(y_test, y_pred_rid)}')\n",
    "print(f'RMSE: {sqrt(mean_squared_error(y_test, y_pred_rid))}')\n",
    "print(f'MAPE: {mean_absolute_percentage_error(y_test, y_pred_rid)}')\n",
    "print(f'R^2: {r2_score(y_test,y_pred_rid)}')"
   ]
  },
  {
   "cell_type": "code",
   "execution_count": 66,
   "id": "3f91ae6f-7156-404f-ad3c-4b16f26e28f6",
   "metadata": {},
   "outputs": [
    {
     "data": {
      "text/plain": [
       "array([ 17.89995667,  -7.76357011,  46.14212934, -19.95333933,\n",
       "       -42.05345988,  41.51904743,  27.61954159,  -5.74273881,\n",
       "       -10.47345317,  -2.19838955,   0.98901185,  35.54793365,\n",
       "         9.51995178,   1.62671537,  -2.45252734,  15.34986025,\n",
       "       -31.18337262, -20.36280876,  -4.0719196 , -34.00918597,\n",
       "         1.73829729,  -5.87074467,   3.26501577,   2.3455339 ,\n",
       "        11.7410563 ])"
      ]
     },
     "execution_count": 66,
     "metadata": {},
     "output_type": "execute_result"
    }
   ],
   "source": [
    "ridge.coef_"
   ]
  },
  {
   "cell_type": "markdown",
   "id": "938edd21-0d91-4f47-8590-3129cf6aeba2",
   "metadata": {},
   "source": [
    "### Lasso"
   ]
  },
  {
   "cell_type": "code",
   "execution_count": 67,
   "id": "aba2f2d6-2a0e-4134-b838-d7d99e6ffc50",
   "metadata": {},
   "outputs": [],
   "source": [
    "lasso = Lasso(alpha=0.9).fit(X_train, y_train)\n",
    "y_pred_lasso = lasso.predict(X_test)"
   ]
  },
  {
   "cell_type": "code",
   "execution_count": 68,
   "id": "6f458d27-41a8-41fd-a886-da853edfa6b2",
   "metadata": {},
   "outputs": [
    {
     "name": "stdout",
     "output_type": "stream",
     "text": [
      "MAE: 52.379694340997126\n",
      "MSE: 7527.037271920794\n",
      "RMSE: 86.75849970994655\n",
      "MAPE: 0.6092115805696089\n",
      "R^2: 0.0918165287709709\n"
     ]
    }
   ],
   "source": [
    "print(f'MAE: {mean_absolute_error(y_test, y_pred_lasso)}')\n",
    "print(f'MSE: {mean_squared_error(y_test, y_pred_lasso)}')\n",
    "print(f'RMSE: {sqrt(mean_squared_error(y_test, y_pred_lasso))}')\n",
    "print(f'MAPE: {mean_absolute_percentage_error(y_test, y_pred_lasso)}')\n",
    "print(f'R^2: {r2_score(y_test,y_pred_lasso)}')"
   ]
  },
  {
   "cell_type": "code",
   "execution_count": 69,
   "id": "a84d71b5-1cc6-486e-85d6-193f4d6f6eee",
   "metadata": {},
   "outputs": [
    {
     "data": {
      "text/plain": [
       "array([ 18.34080231, -11.28668507,  32.12111812,  -0.        ,\n",
       "       -22.453588  ,  33.00598629,  11.74378735,  -5.12428848,\n",
       "        -0.44856156,  -5.89042573,   0.        ,   3.01140795,\n",
       "         0.        ,  -0.        ,  -3.50991552,   7.40345453,\n",
       "       -26.9306592 , -13.76709004,  -1.47182622,  -0.        ,\n",
       "        -0.        ,  -0.        ,   1.94336475,   1.32684345,\n",
       "        -0.        ])"
      ]
     },
     "execution_count": 69,
     "metadata": {},
     "output_type": "execute_result"
    }
   ],
   "source": [
    "lasso.coef_"
   ]
  },
  {
   "cell_type": "markdown",
   "id": "b3503efd-8530-49f6-8fab-e5c60ca4c6cd",
   "metadata": {},
   "source": [
    "### ElasticNet"
   ]
  },
  {
   "cell_type": "code",
   "execution_count": 70,
   "id": "8165c396-e63d-4c98-8fe1-96c8850035f9",
   "metadata": {},
   "outputs": [],
   "source": [
    "elnet = ElasticNet(alpha=1, l1_ratio=0.75).fit(X_train, y_train)\n",
    "y_pred_elnet = elnet.predict(X_test)"
   ]
  },
  {
   "cell_type": "code",
   "execution_count": 71,
   "id": "876d5209-8452-4147-9ad9-88020dcc9c44",
   "metadata": {},
   "outputs": [
    {
     "name": "stdout",
     "output_type": "stream",
     "text": [
      "MAE: 54.361928141225505\n",
      "MSE: 7658.231160504052\n",
      "RMSE: 87.5113201848998\n",
      "MAPE: 0.6425956128727895\n",
      "R^2: 0.07598717695122459\n"
     ]
    }
   ],
   "source": [
    "print(f'MAE: {mean_absolute_error(y_test, y_pred_elnet)}')\n",
    "print(f'MSE: {mean_squared_error(y_test, y_pred_elnet)}')\n",
    "print(f'RMSE: {sqrt(mean_squared_error(y_test, y_pred_elnet))}')\n",
    "print(f'MAPE: {mean_absolute_percentage_error(y_test, y_pred_elnet)}')\n",
    "print(f'R^2: {r2_score(y_test, y_pred_elnet)}')"
   ]
  },
  {
   "cell_type": "code",
   "execution_count": 72,
   "id": "a4f7b701-13fe-4015-a069-d3e83ce50221",
   "metadata": {},
   "outputs": [
    {
     "data": {
      "text/plain": [
       "array([ 15.93996467,  -1.12696816,  13.71212536,   3.79900612,\n",
       "        -5.3111334 ,  12.69617448,   7.20847236,  -2.72896984,\n",
       "        -0.        ,  -4.54844233,   0.        ,   3.63091318,\n",
       "         0.        ,  -0.        ,  -5.98878024,   1.18391414,\n",
       "       -11.85910703,  -4.72886877,  -3.35249906,   0.        ,\n",
       "        -1.23150629,  -4.7881528 ,   2.00236041,   0.58857182,\n",
       "        -0.86348814])"
      ]
     },
     "execution_count": 72,
     "metadata": {},
     "output_type": "execute_result"
    }
   ],
   "source": [
    "elnet.coef_"
   ]
  },
  {
   "cell_type": "markdown",
   "id": "62125f92-c2e9-4e90-b497-3c0365d9abe8",
   "metadata": {},
   "source": [
    "### Заключение"
   ]
  },
  {
   "cell_type": "markdown",
   "id": "a4e399e5-59f3-453d-849b-459e868c1ae2",
   "metadata": {},
   "source": [
    "Данная модель получилась очень хорошей. Метрики показывают, что результат предсказывается идеально. Использование регуляризаций L1, L2 и ElasticNet ситуацию почти не изменило, модель лишь слегка ухудшилась, но в случае с L2 данное ухудшение почти незаметно."
   ]
  },
  {
   "cell_type": "markdown",
   "id": "b9d04dd1-7083-4fe4-9be4-7cbdb8e4467c",
   "metadata": {},
   "source": [
    "### Полиномиальная регрессия с использованием пайплайна"
   ]
  },
  {
   "cell_type": "code",
   "execution_count": 73,
   "id": "f467be25-fe0b-4779-bd22-f5b5ae37afba",
   "metadata": {},
   "outputs": [],
   "source": [
    "from sklearn.preprocessing import PolynomialFeatures\n",
    "from sklearn.pipeline import Pipeline\n",
    "from sklearn.preprocessing import StandardScaler"
   ]
  },
  {
   "cell_type": "code",
   "execution_count": 74,
   "id": "b0e3007d-577c-4385-951f-4904a8950293",
   "metadata": {},
   "outputs": [],
   "source": [
    "Input = [('standardscaler', StandardScaler()), ('polynomial', PolynomialFeatures(degree=2, include_bias=False)), ('model', LinearRegression()) ]"
   ]
  },
  {
   "cell_type": "code",
   "execution_count": 75,
   "id": "dadc1dad-4af8-428a-aff4-14b6c7491556",
   "metadata": {},
   "outputs": [
    {
     "data": {
      "text/html": [
       "<style>#sk-container-id-2 {color: black;}#sk-container-id-2 pre{padding: 0;}#sk-container-id-2 div.sk-toggleable {background-color: white;}#sk-container-id-2 label.sk-toggleable__label {cursor: pointer;display: block;width: 100%;margin-bottom: 0;padding: 0.3em;box-sizing: border-box;text-align: center;}#sk-container-id-2 label.sk-toggleable__label-arrow:before {content: \"▸\";float: left;margin-right: 0.25em;color: #696969;}#sk-container-id-2 label.sk-toggleable__label-arrow:hover:before {color: black;}#sk-container-id-2 div.sk-estimator:hover label.sk-toggleable__label-arrow:before {color: black;}#sk-container-id-2 div.sk-toggleable__content {max-height: 0;max-width: 0;overflow: hidden;text-align: left;background-color: #f0f8ff;}#sk-container-id-2 div.sk-toggleable__content pre {margin: 0.2em;color: black;border-radius: 0.25em;background-color: #f0f8ff;}#sk-container-id-2 input.sk-toggleable__control:checked~div.sk-toggleable__content {max-height: 200px;max-width: 100%;overflow: auto;}#sk-container-id-2 input.sk-toggleable__control:checked~label.sk-toggleable__label-arrow:before {content: \"▾\";}#sk-container-id-2 div.sk-estimator input.sk-toggleable__control:checked~label.sk-toggleable__label {background-color: #d4ebff;}#sk-container-id-2 div.sk-label input.sk-toggleable__control:checked~label.sk-toggleable__label {background-color: #d4ebff;}#sk-container-id-2 input.sk-hidden--visually {border: 0;clip: rect(1px 1px 1px 1px);clip: rect(1px, 1px, 1px, 1px);height: 1px;margin: -1px;overflow: hidden;padding: 0;position: absolute;width: 1px;}#sk-container-id-2 div.sk-estimator {font-family: monospace;background-color: #f0f8ff;border: 1px dotted black;border-radius: 0.25em;box-sizing: border-box;margin-bottom: 0.5em;}#sk-container-id-2 div.sk-estimator:hover {background-color: #d4ebff;}#sk-container-id-2 div.sk-parallel-item::after {content: \"\";width: 100%;border-bottom: 1px solid gray;flex-grow: 1;}#sk-container-id-2 div.sk-label:hover label.sk-toggleable__label {background-color: #d4ebff;}#sk-container-id-2 div.sk-serial::before {content: \"\";position: absolute;border-left: 1px solid gray;box-sizing: border-box;top: 0;bottom: 0;left: 50%;z-index: 0;}#sk-container-id-2 div.sk-serial {display: flex;flex-direction: column;align-items: center;background-color: white;padding-right: 0.2em;padding-left: 0.2em;position: relative;}#sk-container-id-2 div.sk-item {position: relative;z-index: 1;}#sk-container-id-2 div.sk-parallel {display: flex;align-items: stretch;justify-content: center;background-color: white;position: relative;}#sk-container-id-2 div.sk-item::before, #sk-container-id-2 div.sk-parallel-item::before {content: \"\";position: absolute;border-left: 1px solid gray;box-sizing: border-box;top: 0;bottom: 0;left: 50%;z-index: -1;}#sk-container-id-2 div.sk-parallel-item {display: flex;flex-direction: column;z-index: 1;position: relative;background-color: white;}#sk-container-id-2 div.sk-parallel-item:first-child::after {align-self: flex-end;width: 50%;}#sk-container-id-2 div.sk-parallel-item:last-child::after {align-self: flex-start;width: 50%;}#sk-container-id-2 div.sk-parallel-item:only-child::after {width: 0;}#sk-container-id-2 div.sk-dashed-wrapped {border: 1px dashed gray;margin: 0 0.4em 0.5em 0.4em;box-sizing: border-box;padding-bottom: 0.4em;background-color: white;}#sk-container-id-2 div.sk-label label {font-family: monospace;font-weight: bold;display: inline-block;line-height: 1.2em;}#sk-container-id-2 div.sk-label-container {text-align: center;}#sk-container-id-2 div.sk-container {/* jupyter's `normalize.less` sets `[hidden] { display: none; }` but bootstrap.min.css set `[hidden] { display: none !important; }` so we also need the `!important` here to be able to override the default hidden behavior on the sphinx rendered scikit-learn.org. See: https://github.com/scikit-learn/scikit-learn/issues/21755 */display: inline-block !important;position: relative;}#sk-container-id-2 div.sk-text-repr-fallback {display: none;}</style><div id=\"sk-container-id-2\" class=\"sk-top-container\"><div class=\"sk-text-repr-fallback\"><pre>Pipeline(steps=[(&#x27;standardscaler&#x27;, StandardScaler()),\n",
       "                (&#x27;polynomial&#x27;, PolynomialFeatures(include_bias=False)),\n",
       "                (&#x27;model&#x27;, LinearRegression())])</pre><b>In a Jupyter environment, please rerun this cell to show the HTML representation or trust the notebook. <br />On GitHub, the HTML representation is unable to render, please try loading this page with nbviewer.org.</b></div><div class=\"sk-container\" hidden><div class=\"sk-item sk-dashed-wrapped\"><div class=\"sk-label-container\"><div class=\"sk-label sk-toggleable\"><input class=\"sk-toggleable__control sk-hidden--visually\" id=\"sk-estimator-id-2\" type=\"checkbox\" ><label for=\"sk-estimator-id-2\" class=\"sk-toggleable__label sk-toggleable__label-arrow\">Pipeline</label><div class=\"sk-toggleable__content\"><pre>Pipeline(steps=[(&#x27;standardscaler&#x27;, StandardScaler()),\n",
       "                (&#x27;polynomial&#x27;, PolynomialFeatures(include_bias=False)),\n",
       "                (&#x27;model&#x27;, LinearRegression())])</pre></div></div></div><div class=\"sk-serial\"><div class=\"sk-item\"><div class=\"sk-estimator sk-toggleable\"><input class=\"sk-toggleable__control sk-hidden--visually\" id=\"sk-estimator-id-3\" type=\"checkbox\" ><label for=\"sk-estimator-id-3\" class=\"sk-toggleable__label sk-toggleable__label-arrow\">StandardScaler</label><div class=\"sk-toggleable__content\"><pre>StandardScaler()</pre></div></div></div><div class=\"sk-item\"><div class=\"sk-estimator sk-toggleable\"><input class=\"sk-toggleable__control sk-hidden--visually\" id=\"sk-estimator-id-4\" type=\"checkbox\" ><label for=\"sk-estimator-id-4\" class=\"sk-toggleable__label sk-toggleable__label-arrow\">PolynomialFeatures</label><div class=\"sk-toggleable__content\"><pre>PolynomialFeatures(include_bias=False)</pre></div></div></div><div class=\"sk-item\"><div class=\"sk-estimator sk-toggleable\"><input class=\"sk-toggleable__control sk-hidden--visually\" id=\"sk-estimator-id-5\" type=\"checkbox\" ><label for=\"sk-estimator-id-5\" class=\"sk-toggleable__label sk-toggleable__label-arrow\">LinearRegression</label><div class=\"sk-toggleable__content\"><pre>LinearRegression()</pre></div></div></div></div></div></div></div>"
      ],
      "text/plain": [
       "Pipeline(steps=[('standardscaler', StandardScaler()),\n",
       "                ('polynomial', PolynomialFeatures(include_bias=False)),\n",
       "                ('model', LinearRegression())])"
      ]
     },
     "execution_count": 75,
     "metadata": {},
     "output_type": "execute_result"
    }
   ],
   "source": [
    "pipe = Pipeline(Input)\n",
    "pipe"
   ]
  },
  {
   "cell_type": "code",
   "execution_count": 76,
   "id": "a8203d37-4c7e-47cd-a655-0f1a098661e4",
   "metadata": {},
   "outputs": [
    {
     "data": {
      "text/html": [
       "<style>#sk-container-id-3 {color: black;}#sk-container-id-3 pre{padding: 0;}#sk-container-id-3 div.sk-toggleable {background-color: white;}#sk-container-id-3 label.sk-toggleable__label {cursor: pointer;display: block;width: 100%;margin-bottom: 0;padding: 0.3em;box-sizing: border-box;text-align: center;}#sk-container-id-3 label.sk-toggleable__label-arrow:before {content: \"▸\";float: left;margin-right: 0.25em;color: #696969;}#sk-container-id-3 label.sk-toggleable__label-arrow:hover:before {color: black;}#sk-container-id-3 div.sk-estimator:hover label.sk-toggleable__label-arrow:before {color: black;}#sk-container-id-3 div.sk-toggleable__content {max-height: 0;max-width: 0;overflow: hidden;text-align: left;background-color: #f0f8ff;}#sk-container-id-3 div.sk-toggleable__content pre {margin: 0.2em;color: black;border-radius: 0.25em;background-color: #f0f8ff;}#sk-container-id-3 input.sk-toggleable__control:checked~div.sk-toggleable__content {max-height: 200px;max-width: 100%;overflow: auto;}#sk-container-id-3 input.sk-toggleable__control:checked~label.sk-toggleable__label-arrow:before {content: \"▾\";}#sk-container-id-3 div.sk-estimator input.sk-toggleable__control:checked~label.sk-toggleable__label {background-color: #d4ebff;}#sk-container-id-3 div.sk-label input.sk-toggleable__control:checked~label.sk-toggleable__label {background-color: #d4ebff;}#sk-container-id-3 input.sk-hidden--visually {border: 0;clip: rect(1px 1px 1px 1px);clip: rect(1px, 1px, 1px, 1px);height: 1px;margin: -1px;overflow: hidden;padding: 0;position: absolute;width: 1px;}#sk-container-id-3 div.sk-estimator {font-family: monospace;background-color: #f0f8ff;border: 1px dotted black;border-radius: 0.25em;box-sizing: border-box;margin-bottom: 0.5em;}#sk-container-id-3 div.sk-estimator:hover {background-color: #d4ebff;}#sk-container-id-3 div.sk-parallel-item::after {content: \"\";width: 100%;border-bottom: 1px solid gray;flex-grow: 1;}#sk-container-id-3 div.sk-label:hover label.sk-toggleable__label {background-color: #d4ebff;}#sk-container-id-3 div.sk-serial::before {content: \"\";position: absolute;border-left: 1px solid gray;box-sizing: border-box;top: 0;bottom: 0;left: 50%;z-index: 0;}#sk-container-id-3 div.sk-serial {display: flex;flex-direction: column;align-items: center;background-color: white;padding-right: 0.2em;padding-left: 0.2em;position: relative;}#sk-container-id-3 div.sk-item {position: relative;z-index: 1;}#sk-container-id-3 div.sk-parallel {display: flex;align-items: stretch;justify-content: center;background-color: white;position: relative;}#sk-container-id-3 div.sk-item::before, #sk-container-id-3 div.sk-parallel-item::before {content: \"\";position: absolute;border-left: 1px solid gray;box-sizing: border-box;top: 0;bottom: 0;left: 50%;z-index: -1;}#sk-container-id-3 div.sk-parallel-item {display: flex;flex-direction: column;z-index: 1;position: relative;background-color: white;}#sk-container-id-3 div.sk-parallel-item:first-child::after {align-self: flex-end;width: 50%;}#sk-container-id-3 div.sk-parallel-item:last-child::after {align-self: flex-start;width: 50%;}#sk-container-id-3 div.sk-parallel-item:only-child::after {width: 0;}#sk-container-id-3 div.sk-dashed-wrapped {border: 1px dashed gray;margin: 0 0.4em 0.5em 0.4em;box-sizing: border-box;padding-bottom: 0.4em;background-color: white;}#sk-container-id-3 div.sk-label label {font-family: monospace;font-weight: bold;display: inline-block;line-height: 1.2em;}#sk-container-id-3 div.sk-label-container {text-align: center;}#sk-container-id-3 div.sk-container {/* jupyter's `normalize.less` sets `[hidden] { display: none; }` but bootstrap.min.css set `[hidden] { display: none !important; }` so we also need the `!important` here to be able to override the default hidden behavior on the sphinx rendered scikit-learn.org. See: https://github.com/scikit-learn/scikit-learn/issues/21755 */display: inline-block !important;position: relative;}#sk-container-id-3 div.sk-text-repr-fallback {display: none;}</style><div id=\"sk-container-id-3\" class=\"sk-top-container\"><div class=\"sk-text-repr-fallback\"><pre>Pipeline(steps=[(&#x27;standardscaler&#x27;, StandardScaler()),\n",
       "                (&#x27;polynomial&#x27;, PolynomialFeatures(include_bias=False)),\n",
       "                (&#x27;model&#x27;, LinearRegression())])</pre><b>In a Jupyter environment, please rerun this cell to show the HTML representation or trust the notebook. <br />On GitHub, the HTML representation is unable to render, please try loading this page with nbviewer.org.</b></div><div class=\"sk-container\" hidden><div class=\"sk-item sk-dashed-wrapped\"><div class=\"sk-label-container\"><div class=\"sk-label sk-toggleable\"><input class=\"sk-toggleable__control sk-hidden--visually\" id=\"sk-estimator-id-6\" type=\"checkbox\" ><label for=\"sk-estimator-id-6\" class=\"sk-toggleable__label sk-toggleable__label-arrow\">Pipeline</label><div class=\"sk-toggleable__content\"><pre>Pipeline(steps=[(&#x27;standardscaler&#x27;, StandardScaler()),\n",
       "                (&#x27;polynomial&#x27;, PolynomialFeatures(include_bias=False)),\n",
       "                (&#x27;model&#x27;, LinearRegression())])</pre></div></div></div><div class=\"sk-serial\"><div class=\"sk-item\"><div class=\"sk-estimator sk-toggleable\"><input class=\"sk-toggleable__control sk-hidden--visually\" id=\"sk-estimator-id-7\" type=\"checkbox\" ><label for=\"sk-estimator-id-7\" class=\"sk-toggleable__label sk-toggleable__label-arrow\">StandardScaler</label><div class=\"sk-toggleable__content\"><pre>StandardScaler()</pre></div></div></div><div class=\"sk-item\"><div class=\"sk-estimator sk-toggleable\"><input class=\"sk-toggleable__control sk-hidden--visually\" id=\"sk-estimator-id-8\" type=\"checkbox\" ><label for=\"sk-estimator-id-8\" class=\"sk-toggleable__label sk-toggleable__label-arrow\">PolynomialFeatures</label><div class=\"sk-toggleable__content\"><pre>PolynomialFeatures(include_bias=False)</pre></div></div></div><div class=\"sk-item\"><div class=\"sk-estimator sk-toggleable\"><input class=\"sk-toggleable__control sk-hidden--visually\" id=\"sk-estimator-id-9\" type=\"checkbox\" ><label for=\"sk-estimator-id-9\" class=\"sk-toggleable__label sk-toggleable__label-arrow\">LinearRegression</label><div class=\"sk-toggleable__content\"><pre>LinearRegression()</pre></div></div></div></div></div></div></div>"
      ],
      "text/plain": [
       "Pipeline(steps=[('standardscaler', StandardScaler()),\n",
       "                ('polynomial', PolynomialFeatures(include_bias=False)),\n",
       "                ('model', LinearRegression())])"
      ]
     },
     "execution_count": 76,
     "metadata": {},
     "output_type": "execute_result"
    }
   ],
   "source": [
    "pipe.fit(X_train, y_train)"
   ]
  },
  {
   "cell_type": "code",
   "execution_count": 77,
   "id": "286ba9ba-6656-4aa9-a641-07558aa7cbdf",
   "metadata": {},
   "outputs": [
    {
     "data": {
      "text/plain": [
       "array([144.2739283 , 137.8748041 , 131.53102382, ..., 265.41535586,\n",
       "       246.97427158, 189.08605115])"
      ]
     },
     "execution_count": 77,
     "metadata": {},
     "output_type": "execute_result"
    }
   ],
   "source": [
    "y_pred_pol = pipe.predict(X_test)\n",
    "y_pred_pol"
   ]
  },
  {
   "cell_type": "code",
   "execution_count": 78,
   "id": "89ae39d6-73ce-4c70-ab44-e5ddb6b98a03",
   "metadata": {},
   "outputs": [
    {
     "name": "stdout",
     "output_type": "stream",
     "text": [
      "MAE: 89.58943810876197\n",
      "MSE: 16269.872794000757\n",
      "RMSE: 127.55341153415206\n",
      "MAPE: 1.128093490223659\n",
      "R^2: -0.9630604999966628\n"
     ]
    }
   ],
   "source": [
    "print(f'MAE: {mean_absolute_error(y_test, y_pred_pol)}')\n",
    "print(f'MSE: {mean_squared_error(y_test, y_pred_pol)}')\n",
    "print(f'RMSE: {sqrt(mean_squared_error(y_test, y_pred_pol))}')\n",
    "print(f'MAPE: {mean_absolute_percentage_error(y_test, y_pred_pol)}')\n",
    "print(f'R^2: {r2_score(y_test, y_pred_pol)}')"
   ]
  },
  {
   "cell_type": "markdown",
   "id": "1e908614-9df7-4c3e-84dd-7bdb049c7ae7",
   "metadata": {},
   "source": [
    "### Регуляризация"
   ]
  },
  {
   "cell_type": "code",
   "execution_count": null,
   "id": "4ec763d5-d1b9-4ab7-b4d5-344d17bb4f94",
   "metadata": {},
   "outputs": [],
   "source": []
  },
  {
   "cell_type": "code",
   "execution_count": null,
   "id": "17b6c41b-187f-4013-a13e-2d12599d0203",
   "metadata": {},
   "outputs": [],
   "source": []
  },
  {
   "cell_type": "code",
   "execution_count": null,
   "id": "5580eff9-7a0c-4672-8397-254fb06e9e7c",
   "metadata": {},
   "outputs": [],
   "source": []
  },
  {
   "cell_type": "code",
   "execution_count": null,
   "id": "01c95511-202f-4bae-9f0e-aebba43ef57b",
   "metadata": {},
   "outputs": [],
   "source": []
  },
  {
   "cell_type": "markdown",
   "id": "e0e98b5d-6a0c-48f1-be90-f36be7240b78",
   "metadata": {},
   "source": [
    "### Ridge"
   ]
  },
  {
   "cell_type": "code",
   "execution_count": 79,
   "id": "06d35403-6743-4ea2-ba5d-b829e94885ad",
   "metadata": {},
   "outputs": [],
   "source": [
    "Input = [('standardscaler', StandardScaler()), ('polynomial', PolynomialFeatures(degree=2, include_bias=False)), ('model', Ridge(alpha=0.9))]"
   ]
  },
  {
   "cell_type": "code",
   "execution_count": 80,
   "id": "729b267e-f8bc-4df1-ad66-7ae2fdba8d0b",
   "metadata": {},
   "outputs": [],
   "source": [
    "pipe_rid = Pipeline(Input)"
   ]
  },
  {
   "cell_type": "code",
   "execution_count": 81,
   "id": "d2f04c8f-0bc0-493f-82ea-480cc269daeb",
   "metadata": {},
   "outputs": [
    {
     "data": {
      "text/html": [
       "<style>#sk-container-id-4 {color: black;}#sk-container-id-4 pre{padding: 0;}#sk-container-id-4 div.sk-toggleable {background-color: white;}#sk-container-id-4 label.sk-toggleable__label {cursor: pointer;display: block;width: 100%;margin-bottom: 0;padding: 0.3em;box-sizing: border-box;text-align: center;}#sk-container-id-4 label.sk-toggleable__label-arrow:before {content: \"▸\";float: left;margin-right: 0.25em;color: #696969;}#sk-container-id-4 label.sk-toggleable__label-arrow:hover:before {color: black;}#sk-container-id-4 div.sk-estimator:hover label.sk-toggleable__label-arrow:before {color: black;}#sk-container-id-4 div.sk-toggleable__content {max-height: 0;max-width: 0;overflow: hidden;text-align: left;background-color: #f0f8ff;}#sk-container-id-4 div.sk-toggleable__content pre {margin: 0.2em;color: black;border-radius: 0.25em;background-color: #f0f8ff;}#sk-container-id-4 input.sk-toggleable__control:checked~div.sk-toggleable__content {max-height: 200px;max-width: 100%;overflow: auto;}#sk-container-id-4 input.sk-toggleable__control:checked~label.sk-toggleable__label-arrow:before {content: \"▾\";}#sk-container-id-4 div.sk-estimator input.sk-toggleable__control:checked~label.sk-toggleable__label {background-color: #d4ebff;}#sk-container-id-4 div.sk-label input.sk-toggleable__control:checked~label.sk-toggleable__label {background-color: #d4ebff;}#sk-container-id-4 input.sk-hidden--visually {border: 0;clip: rect(1px 1px 1px 1px);clip: rect(1px, 1px, 1px, 1px);height: 1px;margin: -1px;overflow: hidden;padding: 0;position: absolute;width: 1px;}#sk-container-id-4 div.sk-estimator {font-family: monospace;background-color: #f0f8ff;border: 1px dotted black;border-radius: 0.25em;box-sizing: border-box;margin-bottom: 0.5em;}#sk-container-id-4 div.sk-estimator:hover {background-color: #d4ebff;}#sk-container-id-4 div.sk-parallel-item::after {content: \"\";width: 100%;border-bottom: 1px solid gray;flex-grow: 1;}#sk-container-id-4 div.sk-label:hover label.sk-toggleable__label {background-color: #d4ebff;}#sk-container-id-4 div.sk-serial::before {content: \"\";position: absolute;border-left: 1px solid gray;box-sizing: border-box;top: 0;bottom: 0;left: 50%;z-index: 0;}#sk-container-id-4 div.sk-serial {display: flex;flex-direction: column;align-items: center;background-color: white;padding-right: 0.2em;padding-left: 0.2em;position: relative;}#sk-container-id-4 div.sk-item {position: relative;z-index: 1;}#sk-container-id-4 div.sk-parallel {display: flex;align-items: stretch;justify-content: center;background-color: white;position: relative;}#sk-container-id-4 div.sk-item::before, #sk-container-id-4 div.sk-parallel-item::before {content: \"\";position: absolute;border-left: 1px solid gray;box-sizing: border-box;top: 0;bottom: 0;left: 50%;z-index: -1;}#sk-container-id-4 div.sk-parallel-item {display: flex;flex-direction: column;z-index: 1;position: relative;background-color: white;}#sk-container-id-4 div.sk-parallel-item:first-child::after {align-self: flex-end;width: 50%;}#sk-container-id-4 div.sk-parallel-item:last-child::after {align-self: flex-start;width: 50%;}#sk-container-id-4 div.sk-parallel-item:only-child::after {width: 0;}#sk-container-id-4 div.sk-dashed-wrapped {border: 1px dashed gray;margin: 0 0.4em 0.5em 0.4em;box-sizing: border-box;padding-bottom: 0.4em;background-color: white;}#sk-container-id-4 div.sk-label label {font-family: monospace;font-weight: bold;display: inline-block;line-height: 1.2em;}#sk-container-id-4 div.sk-label-container {text-align: center;}#sk-container-id-4 div.sk-container {/* jupyter's `normalize.less` sets `[hidden] { display: none; }` but bootstrap.min.css set `[hidden] { display: none !important; }` so we also need the `!important` here to be able to override the default hidden behavior on the sphinx rendered scikit-learn.org. See: https://github.com/scikit-learn/scikit-learn/issues/21755 */display: inline-block !important;position: relative;}#sk-container-id-4 div.sk-text-repr-fallback {display: none;}</style><div id=\"sk-container-id-4\" class=\"sk-top-container\"><div class=\"sk-text-repr-fallback\"><pre>Pipeline(steps=[(&#x27;standardscaler&#x27;, StandardScaler()),\n",
       "                (&#x27;polynomial&#x27;, PolynomialFeatures(include_bias=False)),\n",
       "                (&#x27;model&#x27;, Ridge(alpha=0.9))])</pre><b>In a Jupyter environment, please rerun this cell to show the HTML representation or trust the notebook. <br />On GitHub, the HTML representation is unable to render, please try loading this page with nbviewer.org.</b></div><div class=\"sk-container\" hidden><div class=\"sk-item sk-dashed-wrapped\"><div class=\"sk-label-container\"><div class=\"sk-label sk-toggleable\"><input class=\"sk-toggleable__control sk-hidden--visually\" id=\"sk-estimator-id-10\" type=\"checkbox\" ><label for=\"sk-estimator-id-10\" class=\"sk-toggleable__label sk-toggleable__label-arrow\">Pipeline</label><div class=\"sk-toggleable__content\"><pre>Pipeline(steps=[(&#x27;standardscaler&#x27;, StandardScaler()),\n",
       "                (&#x27;polynomial&#x27;, PolynomialFeatures(include_bias=False)),\n",
       "                (&#x27;model&#x27;, Ridge(alpha=0.9))])</pre></div></div></div><div class=\"sk-serial\"><div class=\"sk-item\"><div class=\"sk-estimator sk-toggleable\"><input class=\"sk-toggleable__control sk-hidden--visually\" id=\"sk-estimator-id-11\" type=\"checkbox\" ><label for=\"sk-estimator-id-11\" class=\"sk-toggleable__label sk-toggleable__label-arrow\">StandardScaler</label><div class=\"sk-toggleable__content\"><pre>StandardScaler()</pre></div></div></div><div class=\"sk-item\"><div class=\"sk-estimator sk-toggleable\"><input class=\"sk-toggleable__control sk-hidden--visually\" id=\"sk-estimator-id-12\" type=\"checkbox\" ><label for=\"sk-estimator-id-12\" class=\"sk-toggleable__label sk-toggleable__label-arrow\">PolynomialFeatures</label><div class=\"sk-toggleable__content\"><pre>PolynomialFeatures(include_bias=False)</pre></div></div></div><div class=\"sk-item\"><div class=\"sk-estimator sk-toggleable\"><input class=\"sk-toggleable__control sk-hidden--visually\" id=\"sk-estimator-id-13\" type=\"checkbox\" ><label for=\"sk-estimator-id-13\" class=\"sk-toggleable__label sk-toggleable__label-arrow\">Ridge</label><div class=\"sk-toggleable__content\"><pre>Ridge(alpha=0.9)</pre></div></div></div></div></div></div></div>"
      ],
      "text/plain": [
       "Pipeline(steps=[('standardscaler', StandardScaler()),\n",
       "                ('polynomial', PolynomialFeatures(include_bias=False)),\n",
       "                ('model', Ridge(alpha=0.9))])"
      ]
     },
     "execution_count": 81,
     "metadata": {},
     "output_type": "execute_result"
    }
   ],
   "source": [
    "pipe_rid.fit(X_train, y_train)"
   ]
  },
  {
   "cell_type": "code",
   "execution_count": 82,
   "id": "386c68f0-5c15-46ae-ac1e-9690d619d604",
   "metadata": {},
   "outputs": [
    {
     "data": {
      "text/plain": [
       "array([145.09246096, 140.07131403, 135.533303  , ..., 241.77315112,\n",
       "       216.55586936, 154.15804709])"
      ]
     },
     "execution_count": 82,
     "metadata": {},
     "output_type": "execute_result"
    }
   ],
   "source": [
    "y_pred_pol_rid = pipe_rid.predict(X_test)\n",
    "y_pred_pol_rid"
   ]
  },
  {
   "cell_type": "code",
   "execution_count": 83,
   "id": "f1af350f-0e47-403b-8e69-8cf97740bfc7",
   "metadata": {},
   "outputs": [
    {
     "name": "stdout",
     "output_type": "stream",
     "text": [
      "MAE: 87.16008332960796\n",
      "MSE: 15770.71588901215\n",
      "RMSE: 125.58151093617305\n",
      "MAPE: 1.0888099389196446\n",
      "R^2: -0.902834140768763\n"
     ]
    }
   ],
   "source": [
    "print(f'MAE: {mean_absolute_error(y_test, y_pred_pol_rid)}')\n",
    "print(f'MSE: {mean_squared_error(y_test, y_pred_pol_rid)}')\n",
    "print(f'RMSE: {sqrt(mean_squared_error(y_test, y_pred_pol_rid))}')\n",
    "print(f'MAPE: {mean_absolute_percentage_error(y_test, y_pred_pol_rid)}')\n",
    "print(f'R^2: {r2_score(y_test, y_pred_pol_rid)}')"
   ]
  },
  {
   "cell_type": "markdown",
   "id": "8bcbda72-52a0-4667-a461-835b4276d90d",
   "metadata": {},
   "source": [
    "### Lasso"
   ]
  },
  {
   "cell_type": "code",
   "execution_count": 84,
   "id": "4c0a2454-34cf-4091-a11b-d7cdc39e42e7",
   "metadata": {},
   "outputs": [],
   "source": [
    "Input = [('standardscaler', StandardScaler()), ('polynomial', PolynomialFeatures(degree=2, include_bias=False)), ('model', Lasso(alpha=0.9))]"
   ]
  },
  {
   "cell_type": "code",
   "execution_count": 85,
   "id": "7ba0756a-7bd7-44cb-b2fb-7a54665a276a",
   "metadata": {},
   "outputs": [],
   "source": [
    "pipe_lasso = Pipeline(Input)"
   ]
  },
  {
   "cell_type": "code",
   "execution_count": 86,
   "id": "22d44f86-34b8-4706-b605-496ec4aa6c37",
   "metadata": {},
   "outputs": [
    {
     "data": {
      "text/html": [
       "<style>#sk-container-id-5 {color: black;}#sk-container-id-5 pre{padding: 0;}#sk-container-id-5 div.sk-toggleable {background-color: white;}#sk-container-id-5 label.sk-toggleable__label {cursor: pointer;display: block;width: 100%;margin-bottom: 0;padding: 0.3em;box-sizing: border-box;text-align: center;}#sk-container-id-5 label.sk-toggleable__label-arrow:before {content: \"▸\";float: left;margin-right: 0.25em;color: #696969;}#sk-container-id-5 label.sk-toggleable__label-arrow:hover:before {color: black;}#sk-container-id-5 div.sk-estimator:hover label.sk-toggleable__label-arrow:before {color: black;}#sk-container-id-5 div.sk-toggleable__content {max-height: 0;max-width: 0;overflow: hidden;text-align: left;background-color: #f0f8ff;}#sk-container-id-5 div.sk-toggleable__content pre {margin: 0.2em;color: black;border-radius: 0.25em;background-color: #f0f8ff;}#sk-container-id-5 input.sk-toggleable__control:checked~div.sk-toggleable__content {max-height: 200px;max-width: 100%;overflow: auto;}#sk-container-id-5 input.sk-toggleable__control:checked~label.sk-toggleable__label-arrow:before {content: \"▾\";}#sk-container-id-5 div.sk-estimator input.sk-toggleable__control:checked~label.sk-toggleable__label {background-color: #d4ebff;}#sk-container-id-5 div.sk-label input.sk-toggleable__control:checked~label.sk-toggleable__label {background-color: #d4ebff;}#sk-container-id-5 input.sk-hidden--visually {border: 0;clip: rect(1px 1px 1px 1px);clip: rect(1px, 1px, 1px, 1px);height: 1px;margin: -1px;overflow: hidden;padding: 0;position: absolute;width: 1px;}#sk-container-id-5 div.sk-estimator {font-family: monospace;background-color: #f0f8ff;border: 1px dotted black;border-radius: 0.25em;box-sizing: border-box;margin-bottom: 0.5em;}#sk-container-id-5 div.sk-estimator:hover {background-color: #d4ebff;}#sk-container-id-5 div.sk-parallel-item::after {content: \"\";width: 100%;border-bottom: 1px solid gray;flex-grow: 1;}#sk-container-id-5 div.sk-label:hover label.sk-toggleable__label {background-color: #d4ebff;}#sk-container-id-5 div.sk-serial::before {content: \"\";position: absolute;border-left: 1px solid gray;box-sizing: border-box;top: 0;bottom: 0;left: 50%;z-index: 0;}#sk-container-id-5 div.sk-serial {display: flex;flex-direction: column;align-items: center;background-color: white;padding-right: 0.2em;padding-left: 0.2em;position: relative;}#sk-container-id-5 div.sk-item {position: relative;z-index: 1;}#sk-container-id-5 div.sk-parallel {display: flex;align-items: stretch;justify-content: center;background-color: white;position: relative;}#sk-container-id-5 div.sk-item::before, #sk-container-id-5 div.sk-parallel-item::before {content: \"\";position: absolute;border-left: 1px solid gray;box-sizing: border-box;top: 0;bottom: 0;left: 50%;z-index: -1;}#sk-container-id-5 div.sk-parallel-item {display: flex;flex-direction: column;z-index: 1;position: relative;background-color: white;}#sk-container-id-5 div.sk-parallel-item:first-child::after {align-self: flex-end;width: 50%;}#sk-container-id-5 div.sk-parallel-item:last-child::after {align-self: flex-start;width: 50%;}#sk-container-id-5 div.sk-parallel-item:only-child::after {width: 0;}#sk-container-id-5 div.sk-dashed-wrapped {border: 1px dashed gray;margin: 0 0.4em 0.5em 0.4em;box-sizing: border-box;padding-bottom: 0.4em;background-color: white;}#sk-container-id-5 div.sk-label label {font-family: monospace;font-weight: bold;display: inline-block;line-height: 1.2em;}#sk-container-id-5 div.sk-label-container {text-align: center;}#sk-container-id-5 div.sk-container {/* jupyter's `normalize.less` sets `[hidden] { display: none; }` but bootstrap.min.css set `[hidden] { display: none !important; }` so we also need the `!important` here to be able to override the default hidden behavior on the sphinx rendered scikit-learn.org. See: https://github.com/scikit-learn/scikit-learn/issues/21755 */display: inline-block !important;position: relative;}#sk-container-id-5 div.sk-text-repr-fallback {display: none;}</style><div id=\"sk-container-id-5\" class=\"sk-top-container\"><div class=\"sk-text-repr-fallback\"><pre>Pipeline(steps=[(&#x27;standardscaler&#x27;, StandardScaler()),\n",
       "                (&#x27;polynomial&#x27;, PolynomialFeatures(include_bias=False)),\n",
       "                (&#x27;model&#x27;, Lasso(alpha=0.9))])</pre><b>In a Jupyter environment, please rerun this cell to show the HTML representation or trust the notebook. <br />On GitHub, the HTML representation is unable to render, please try loading this page with nbviewer.org.</b></div><div class=\"sk-container\" hidden><div class=\"sk-item sk-dashed-wrapped\"><div class=\"sk-label-container\"><div class=\"sk-label sk-toggleable\"><input class=\"sk-toggleable__control sk-hidden--visually\" id=\"sk-estimator-id-14\" type=\"checkbox\" ><label for=\"sk-estimator-id-14\" class=\"sk-toggleable__label sk-toggleable__label-arrow\">Pipeline</label><div class=\"sk-toggleable__content\"><pre>Pipeline(steps=[(&#x27;standardscaler&#x27;, StandardScaler()),\n",
       "                (&#x27;polynomial&#x27;, PolynomialFeatures(include_bias=False)),\n",
       "                (&#x27;model&#x27;, Lasso(alpha=0.9))])</pre></div></div></div><div class=\"sk-serial\"><div class=\"sk-item\"><div class=\"sk-estimator sk-toggleable\"><input class=\"sk-toggleable__control sk-hidden--visually\" id=\"sk-estimator-id-15\" type=\"checkbox\" ><label for=\"sk-estimator-id-15\" class=\"sk-toggleable__label sk-toggleable__label-arrow\">StandardScaler</label><div class=\"sk-toggleable__content\"><pre>StandardScaler()</pre></div></div></div><div class=\"sk-item\"><div class=\"sk-estimator sk-toggleable\"><input class=\"sk-toggleable__control sk-hidden--visually\" id=\"sk-estimator-id-16\" type=\"checkbox\" ><label for=\"sk-estimator-id-16\" class=\"sk-toggleable__label sk-toggleable__label-arrow\">PolynomialFeatures</label><div class=\"sk-toggleable__content\"><pre>PolynomialFeatures(include_bias=False)</pre></div></div></div><div class=\"sk-item\"><div class=\"sk-estimator sk-toggleable\"><input class=\"sk-toggleable__control sk-hidden--visually\" id=\"sk-estimator-id-17\" type=\"checkbox\" ><label for=\"sk-estimator-id-17\" class=\"sk-toggleable__label sk-toggleable__label-arrow\">Lasso</label><div class=\"sk-toggleable__content\"><pre>Lasso(alpha=0.9)</pre></div></div></div></div></div></div></div>"
      ],
      "text/plain": [
       "Pipeline(steps=[('standardscaler', StandardScaler()),\n",
       "                ('polynomial', PolynomialFeatures(include_bias=False)),\n",
       "                ('model', Lasso(alpha=0.9))])"
      ]
     },
     "execution_count": 86,
     "metadata": {},
     "output_type": "execute_result"
    }
   ],
   "source": [
    "pipe_lasso.fit(X_train, y_train)"
   ]
  },
  {
   "cell_type": "code",
   "execution_count": 87,
   "id": "3084f8e4-e504-487f-b5ab-02618b23a81d",
   "metadata": {},
   "outputs": [
    {
     "data": {
      "text/plain": [
       "array([ 89.34564095,  91.01610831,  93.34922299, ..., 170.43644739,\n",
       "       151.72353994, 131.30399346])"
      ]
     },
     "execution_count": 87,
     "metadata": {},
     "output_type": "execute_result"
    }
   ],
   "source": [
    "y_pred_pol_lasso = pipe_lasso.predict(X_test)\n",
    "y_pred_pol_lasso"
   ]
  },
  {
   "cell_type": "code",
   "execution_count": 88,
   "id": "cb040914-7c87-4d4b-a2d0-a18e998caf64",
   "metadata": {},
   "outputs": [
    {
     "data": {
      "text/plain": [
       "15788    370\n",
       "15789    590\n",
       "15790    320\n",
       "15791    310\n",
       "15792    260\n",
       "        ... \n",
       "19730    100\n",
       "19731     90\n",
       "19732    270\n",
       "19733    420\n",
       "19734    430\n",
       "Name: appliances, Length: 3947, dtype: int64"
      ]
     },
     "execution_count": 88,
     "metadata": {},
     "output_type": "execute_result"
    }
   ],
   "source": [
    "y_test"
   ]
  },
  {
   "cell_type": "code",
   "execution_count": 89,
   "id": "10c53dbf-c837-4ded-927d-fb28eab129e5",
   "metadata": {},
   "outputs": [
    {
     "name": "stdout",
     "output_type": "stream",
     "text": [
      "MAE: 53.39151101110479\n",
      "MSE: 7898.413162901074\n",
      "RMSE: 88.87301706874294\n",
      "MAPE: 0.6108992468783137\n",
      "R^2: 0.047007736995827276\n"
     ]
    }
   ],
   "source": [
    "print(f'MAE: {mean_absolute_error(y_test, y_pred_pol_lasso)}')\n",
    "print(f'MSE: {mean_squared_error(y_test, y_pred_pol_lasso)}')\n",
    "print(f'RMSE: {sqrt(mean_squared_error(y_test, y_pred_pol_lasso))}')\n",
    "print(f'MAPE: {mean_absolute_percentage_error(y_test, y_pred_pol_lasso)}')\n",
    "print(f'R^2: {r2_score(y_test, y_pred_pol_lasso)}')"
   ]
  },
  {
   "cell_type": "code",
   "execution_count": null,
   "id": "46a11b4b-f870-4fdd-9344-9c271e3302d0",
   "metadata": {},
   "outputs": [],
   "source": []
  }
 ],
 "metadata": {
  "kernelspec": {
   "display_name": "Python 3 (ipykernel)",
   "language": "python",
   "name": "python3"
  },
  "language_info": {
   "codemirror_mode": {
    "name": "ipython",
    "version": 3
   },
   "file_extension": ".py",
   "mimetype": "text/x-python",
   "name": "python",
   "nbconvert_exporter": "python",
   "pygments_lexer": "ipython3",
   "version": "3.10.4"
  }
 },
 "nbformat": 4,
 "nbformat_minor": 5
}
