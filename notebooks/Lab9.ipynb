{
 "cells": [
  {
   "cell_type": "code",
   "execution_count": 1,
   "id": "39895a29-8356-4e6d-9684-e32362308922",
   "metadata": {},
   "outputs": [],
   "source": [
    "import pandas as pd\n",
    "import matplotlib.pyplot as plt\n",
    "import numpy as np\n",
    "import seaborn as sns\n",
    "from sklearn.model_selection import GridSearchCV\n",
    "from sklearn.model_selection import train_test_split\n",
    "from sklearn.preprocessing import StandardScaler\n",
    "from sklearn.linear_model import LinearRegression\n",
    "from sklearn.linear_model import LogisticRegression\n",
    "from sklearn.metrics import classification_report\n",
    "from imblearn.under_sampling import NearMiss"
   ]
  },
  {
   "cell_type": "code",
   "execution_count": 2,
   "id": "fb813630-b1d4-47e5-9fc5-d940b0524284",
   "metadata": {},
   "outputs": [],
   "source": [
    "import warnings\n",
    "warnings.filterwarnings('ignore')"
   ]
  },
  {
   "cell_type": "markdown",
   "id": "ddfba0cd-0391-4b3d-a9bc-efa77fcf5183",
   "metadata": {},
   "source": [
    "# Задание №1"
   ]
  },
  {
   "cell_type": "markdown",
   "id": "61acec9c-d1f9-4a6f-9df0-8f3a1c60c564",
   "metadata": {},
   "source": [
    "ЗАДАНИЕ №1.\n",
    "1. Для выполнения задания №1 используйте датасеты для задачи классификации и регрессии.\n",
    "2. С помощью классов библиотеки sklearn выполните понижение размерности (размерность выберите сами, можно разные) с использованием всех описанных методов (VarianceThreshold, SelectKBest, RFE, PCA, tSNE, Isomap).\n",
    "3. Выберите две модели (одна - для регрессии и другая - для классификации). Обучите выбранные модели с использованием данных в пространстве низкой размерности - используйте результаты выполнения пункта 3 (не забудьте, что понижать нужно и X_train и X_test, но проще всего понижать X).\n",
    "4. Сформулируйте вывод о том, какие методы понижения размерности лучше всего подходят для Ваших данных."
   ]
  },
  {
   "cell_type": "code",
   "execution_count": 3,
   "id": "a1513fb7-a52e-4a0b-b953-5a03ebed982b",
   "metadata": {},
   "outputs": [
    {
     "data": {
      "text/html": [
       "<div>\n",
       "<style scoped>\n",
       "    .dataframe tbody tr th:only-of-type {\n",
       "        vertical-align: middle;\n",
       "    }\n",
       "\n",
       "    .dataframe tbody tr th {\n",
       "        vertical-align: top;\n",
       "    }\n",
       "\n",
       "    .dataframe thead th {\n",
       "        text-align: right;\n",
       "    }\n",
       "</style>\n",
       "<table border=\"1\" class=\"dataframe\">\n",
       "  <thead>\n",
       "    <tr style=\"text-align: right;\">\n",
       "      <th></th>\n",
       "      <th>Unnamed: 0</th>\n",
       "      <th>date</th>\n",
       "      <th>appliances</th>\n",
       "      <th>lights</th>\n",
       "      <th>T1</th>\n",
       "      <th>RH_1</th>\n",
       "      <th>T2</th>\n",
       "      <th>RH_2</th>\n",
       "      <th>T3</th>\n",
       "      <th>RH_3</th>\n",
       "      <th>...</th>\n",
       "      <th>RH_8</th>\n",
       "      <th>T9</th>\n",
       "      <th>RH_9</th>\n",
       "      <th>T_out</th>\n",
       "      <th>press_mm_hg</th>\n",
       "      <th>RH_out</th>\n",
       "      <th>windspeed</th>\n",
       "      <th>visibility</th>\n",
       "      <th>tdewpoint</th>\n",
       "      <th>weekday</th>\n",
       "    </tr>\n",
       "  </thead>\n",
       "  <tbody>\n",
       "    <tr>\n",
       "      <th>0</th>\n",
       "      <td>0</td>\n",
       "      <td>2016-01-11 17:00:00</td>\n",
       "      <td>60</td>\n",
       "      <td>30</td>\n",
       "      <td>19.89</td>\n",
       "      <td>47.596667</td>\n",
       "      <td>19.2</td>\n",
       "      <td>44.790000</td>\n",
       "      <td>19.79</td>\n",
       "      <td>44.730000</td>\n",
       "      <td>...</td>\n",
       "      <td>48.900000</td>\n",
       "      <td>17.033333</td>\n",
       "      <td>45.53</td>\n",
       "      <td>6.60</td>\n",
       "      <td>733.5</td>\n",
       "      <td>92.0</td>\n",
       "      <td>7.000000</td>\n",
       "      <td>63.000000</td>\n",
       "      <td>5.3</td>\n",
       "      <td>Monday</td>\n",
       "    </tr>\n",
       "    <tr>\n",
       "      <th>1</th>\n",
       "      <td>1</td>\n",
       "      <td>2016-01-11 17:10:00</td>\n",
       "      <td>60</td>\n",
       "      <td>30</td>\n",
       "      <td>19.89</td>\n",
       "      <td>46.693333</td>\n",
       "      <td>19.2</td>\n",
       "      <td>44.722500</td>\n",
       "      <td>19.79</td>\n",
       "      <td>44.790000</td>\n",
       "      <td>...</td>\n",
       "      <td>48.863333</td>\n",
       "      <td>17.066667</td>\n",
       "      <td>45.56</td>\n",
       "      <td>6.48</td>\n",
       "      <td>733.6</td>\n",
       "      <td>92.0</td>\n",
       "      <td>6.666667</td>\n",
       "      <td>59.166667</td>\n",
       "      <td>5.2</td>\n",
       "      <td>Monday</td>\n",
       "    </tr>\n",
       "    <tr>\n",
       "      <th>2</th>\n",
       "      <td>2</td>\n",
       "      <td>2016-01-11 17:20:00</td>\n",
       "      <td>50</td>\n",
       "      <td>30</td>\n",
       "      <td>19.89</td>\n",
       "      <td>46.300000</td>\n",
       "      <td>19.2</td>\n",
       "      <td>44.626667</td>\n",
       "      <td>19.79</td>\n",
       "      <td>44.933333</td>\n",
       "      <td>...</td>\n",
       "      <td>48.730000</td>\n",
       "      <td>17.000000</td>\n",
       "      <td>45.50</td>\n",
       "      <td>6.37</td>\n",
       "      <td>733.7</td>\n",
       "      <td>92.0</td>\n",
       "      <td>6.333333</td>\n",
       "      <td>55.333333</td>\n",
       "      <td>5.1</td>\n",
       "      <td>Monday</td>\n",
       "    </tr>\n",
       "    <tr>\n",
       "      <th>3</th>\n",
       "      <td>3</td>\n",
       "      <td>2016-01-11 17:30:00</td>\n",
       "      <td>50</td>\n",
       "      <td>40</td>\n",
       "      <td>19.89</td>\n",
       "      <td>46.066667</td>\n",
       "      <td>19.2</td>\n",
       "      <td>44.590000</td>\n",
       "      <td>19.79</td>\n",
       "      <td>45.000000</td>\n",
       "      <td>...</td>\n",
       "      <td>48.590000</td>\n",
       "      <td>17.000000</td>\n",
       "      <td>45.40</td>\n",
       "      <td>6.25</td>\n",
       "      <td>733.8</td>\n",
       "      <td>92.0</td>\n",
       "      <td>6.000000</td>\n",
       "      <td>51.500000</td>\n",
       "      <td>5.0</td>\n",
       "      <td>Monday</td>\n",
       "    </tr>\n",
       "    <tr>\n",
       "      <th>4</th>\n",
       "      <td>4</td>\n",
       "      <td>2016-01-11 17:40:00</td>\n",
       "      <td>60</td>\n",
       "      <td>40</td>\n",
       "      <td>19.89</td>\n",
       "      <td>46.333333</td>\n",
       "      <td>19.2</td>\n",
       "      <td>44.530000</td>\n",
       "      <td>19.79</td>\n",
       "      <td>45.000000</td>\n",
       "      <td>...</td>\n",
       "      <td>48.590000</td>\n",
       "      <td>17.000000</td>\n",
       "      <td>45.40</td>\n",
       "      <td>6.13</td>\n",
       "      <td>733.9</td>\n",
       "      <td>92.0</td>\n",
       "      <td>5.666667</td>\n",
       "      <td>47.666667</td>\n",
       "      <td>4.9</td>\n",
       "      <td>Monday</td>\n",
       "    </tr>\n",
       "  </tbody>\n",
       "</table>\n",
       "<p>5 rows × 29 columns</p>\n",
       "</div>"
      ],
      "text/plain": [
       "   Unnamed: 0                 date  appliances  lights     T1       RH_1  \\\n",
       "0           0  2016-01-11 17:00:00          60      30  19.89  47.596667   \n",
       "1           1  2016-01-11 17:10:00          60      30  19.89  46.693333   \n",
       "2           2  2016-01-11 17:20:00          50      30  19.89  46.300000   \n",
       "3           3  2016-01-11 17:30:00          50      40  19.89  46.066667   \n",
       "4           4  2016-01-11 17:40:00          60      40  19.89  46.333333   \n",
       "\n",
       "     T2       RH_2     T3       RH_3  ...       RH_8         T9   RH_9  T_out  \\\n",
       "0  19.2  44.790000  19.79  44.730000  ...  48.900000  17.033333  45.53   6.60   \n",
       "1  19.2  44.722500  19.79  44.790000  ...  48.863333  17.066667  45.56   6.48   \n",
       "2  19.2  44.626667  19.79  44.933333  ...  48.730000  17.000000  45.50   6.37   \n",
       "3  19.2  44.590000  19.79  45.000000  ...  48.590000  17.000000  45.40   6.25   \n",
       "4  19.2  44.530000  19.79  45.000000  ...  48.590000  17.000000  45.40   6.13   \n",
       "\n",
       "   press_mm_hg  RH_out  windspeed  visibility  tdewpoint  weekday  \n",
       "0        733.5    92.0   7.000000   63.000000        5.3   Monday  \n",
       "1        733.6    92.0   6.666667   59.166667        5.2   Monday  \n",
       "2        733.7    92.0   6.333333   55.333333        5.1   Monday  \n",
       "3        733.8    92.0   6.000000   51.500000        5.0   Monday  \n",
       "4        733.9    92.0   5.666667   47.666667        4.9   Monday  \n",
       "\n",
       "[5 rows x 29 columns]"
      ]
     },
     "execution_count": 3,
     "metadata": {},
     "output_type": "execute_result"
    }
   ],
   "source": [
    "df_reg = pd.read_csv('../data/Lab3_Mrdak_MO-221.csv')\n",
    "df_reg.head()"
   ]
  },
  {
   "cell_type": "code",
   "execution_count": 4,
   "id": "7889a2d7-a697-431b-98d2-e23766b9739e",
   "metadata": {},
   "outputs": [
    {
     "data": {
      "text/html": [
       "<div>\n",
       "<style scoped>\n",
       "    .dataframe tbody tr th:only-of-type {\n",
       "        vertical-align: middle;\n",
       "    }\n",
       "\n",
       "    .dataframe tbody tr th {\n",
       "        vertical-align: top;\n",
       "    }\n",
       "\n",
       "    .dataframe thead th {\n",
       "        text-align: right;\n",
       "    }\n",
       "</style>\n",
       "<table border=\"1\" class=\"dataframe\">\n",
       "  <thead>\n",
       "    <tr style=\"text-align: right;\">\n",
       "      <th></th>\n",
       "      <th>Unnamed: 0</th>\n",
       "      <th>name</th>\n",
       "      <th>est_diameter_min</th>\n",
       "      <th>est_diameter_max</th>\n",
       "      <th>relative_velocity</th>\n",
       "      <th>miss_distance</th>\n",
       "      <th>absolute_magnitude</th>\n",
       "      <th>hazardous</th>\n",
       "    </tr>\n",
       "  </thead>\n",
       "  <tbody>\n",
       "    <tr>\n",
       "      <th>0</th>\n",
       "      <td>0</td>\n",
       "      <td>(2011 GZ2)</td>\n",
       "      <td>0.016016</td>\n",
       "      <td>0.035813</td>\n",
       "      <td>56014.078517</td>\n",
       "      <td>1.024333e+06</td>\n",
       "      <td>26.1</td>\n",
       "      <td>0</td>\n",
       "    </tr>\n",
       "    <tr>\n",
       "      <th>1</th>\n",
       "      <td>1</td>\n",
       "      <td>(2020 HT6)</td>\n",
       "      <td>0.030518</td>\n",
       "      <td>0.068240</td>\n",
       "      <td>7864.348060</td>\n",
       "      <td>3.268186e+07</td>\n",
       "      <td>24.7</td>\n",
       "      <td>0</td>\n",
       "    </tr>\n",
       "    <tr>\n",
       "      <th>2</th>\n",
       "      <td>2</td>\n",
       "      <td>(2016 ED156)</td>\n",
       "      <td>0.055533</td>\n",
       "      <td>0.124177</td>\n",
       "      <td>55257.544508</td>\n",
       "      <td>6.538636e+07</td>\n",
       "      <td>23.4</td>\n",
       "      <td>0</td>\n",
       "    </tr>\n",
       "    <tr>\n",
       "      <th>3</th>\n",
       "      <td>3</td>\n",
       "      <td>(2013 FD8)</td>\n",
       "      <td>0.019256</td>\n",
       "      <td>0.043057</td>\n",
       "      <td>41531.404722</td>\n",
       "      <td>1.260796e+07</td>\n",
       "      <td>25.7</td>\n",
       "      <td>0</td>\n",
       "    </tr>\n",
       "    <tr>\n",
       "      <th>4</th>\n",
       "      <td>4</td>\n",
       "      <td>(2016 CW31)</td>\n",
       "      <td>0.139494</td>\n",
       "      <td>0.311918</td>\n",
       "      <td>67639.394481</td>\n",
       "      <td>7.130590e+07</td>\n",
       "      <td>21.4</td>\n",
       "      <td>0</td>\n",
       "    </tr>\n",
       "  </tbody>\n",
       "</table>\n",
       "</div>"
      ],
      "text/plain": [
       "   Unnamed: 0          name  est_diameter_min  est_diameter_max  \\\n",
       "0           0    (2011 GZ2)          0.016016          0.035813   \n",
       "1           1    (2020 HT6)          0.030518          0.068240   \n",
       "2           2  (2016 ED156)          0.055533          0.124177   \n",
       "3           3    (2013 FD8)          0.019256          0.043057   \n",
       "4           4   (2016 CW31)          0.139494          0.311918   \n",
       "\n",
       "   relative_velocity  miss_distance  absolute_magnitude  hazardous  \n",
       "0       56014.078517   1.024333e+06                26.1          0  \n",
       "1        7864.348060   3.268186e+07                24.7          0  \n",
       "2       55257.544508   6.538636e+07                23.4          0  \n",
       "3       41531.404722   1.260796e+07                25.7          0  \n",
       "4       67639.394481   7.130590e+07                21.4          0  "
      ]
     },
     "execution_count": 4,
     "metadata": {},
     "output_type": "execute_result"
    }
   ],
   "source": [
    "df_class = pd.read_csv('../data/Lab4_Mrdak_MO-221.csv')\n",
    "df_class.head()"
   ]
  },
  {
   "cell_type": "markdown",
   "id": "cb30336b-af15-420b-a38f-1cca8f4c04f2",
   "metadata": {},
   "source": [
    "## Удаление ненужных столбцов"
   ]
  },
  {
   "cell_type": "code",
   "execution_count": 5,
   "id": "cadffe0b-b3e3-4a5b-bc6d-d28d1065246b",
   "metadata": {},
   "outputs": [
    {
     "data": {
      "text/html": [
       "<div>\n",
       "<style scoped>\n",
       "    .dataframe tbody tr th:only-of-type {\n",
       "        vertical-align: middle;\n",
       "    }\n",
       "\n",
       "    .dataframe tbody tr th {\n",
       "        vertical-align: top;\n",
       "    }\n",
       "\n",
       "    .dataframe thead th {\n",
       "        text-align: right;\n",
       "    }\n",
       "</style>\n",
       "<table border=\"1\" class=\"dataframe\">\n",
       "  <thead>\n",
       "    <tr style=\"text-align: right;\">\n",
       "      <th></th>\n",
       "      <th>appliances</th>\n",
       "      <th>lights</th>\n",
       "      <th>T1</th>\n",
       "      <th>RH_1</th>\n",
       "      <th>T2</th>\n",
       "      <th>RH_2</th>\n",
       "      <th>T3</th>\n",
       "      <th>RH_3</th>\n",
       "      <th>T4</th>\n",
       "      <th>RH_4</th>\n",
       "      <th>...</th>\n",
       "      <th>T8</th>\n",
       "      <th>RH_8</th>\n",
       "      <th>T9</th>\n",
       "      <th>RH_9</th>\n",
       "      <th>T_out</th>\n",
       "      <th>press_mm_hg</th>\n",
       "      <th>RH_out</th>\n",
       "      <th>windspeed</th>\n",
       "      <th>visibility</th>\n",
       "      <th>tdewpoint</th>\n",
       "    </tr>\n",
       "  </thead>\n",
       "  <tbody>\n",
       "    <tr>\n",
       "      <th>0</th>\n",
       "      <td>60</td>\n",
       "      <td>30</td>\n",
       "      <td>19.89</td>\n",
       "      <td>47.596667</td>\n",
       "      <td>19.2</td>\n",
       "      <td>44.790000</td>\n",
       "      <td>19.79</td>\n",
       "      <td>44.730000</td>\n",
       "      <td>19.000000</td>\n",
       "      <td>45.566667</td>\n",
       "      <td>...</td>\n",
       "      <td>18.2</td>\n",
       "      <td>48.900000</td>\n",
       "      <td>17.033333</td>\n",
       "      <td>45.53</td>\n",
       "      <td>6.60</td>\n",
       "      <td>733.5</td>\n",
       "      <td>92.0</td>\n",
       "      <td>7.000000</td>\n",
       "      <td>63.000000</td>\n",
       "      <td>5.3</td>\n",
       "    </tr>\n",
       "    <tr>\n",
       "      <th>1</th>\n",
       "      <td>60</td>\n",
       "      <td>30</td>\n",
       "      <td>19.89</td>\n",
       "      <td>46.693333</td>\n",
       "      <td>19.2</td>\n",
       "      <td>44.722500</td>\n",
       "      <td>19.79</td>\n",
       "      <td>44.790000</td>\n",
       "      <td>19.000000</td>\n",
       "      <td>45.992500</td>\n",
       "      <td>...</td>\n",
       "      <td>18.2</td>\n",
       "      <td>48.863333</td>\n",
       "      <td>17.066667</td>\n",
       "      <td>45.56</td>\n",
       "      <td>6.48</td>\n",
       "      <td>733.6</td>\n",
       "      <td>92.0</td>\n",
       "      <td>6.666667</td>\n",
       "      <td>59.166667</td>\n",
       "      <td>5.2</td>\n",
       "    </tr>\n",
       "    <tr>\n",
       "      <th>2</th>\n",
       "      <td>50</td>\n",
       "      <td>30</td>\n",
       "      <td>19.89</td>\n",
       "      <td>46.300000</td>\n",
       "      <td>19.2</td>\n",
       "      <td>44.626667</td>\n",
       "      <td>19.79</td>\n",
       "      <td>44.933333</td>\n",
       "      <td>18.926667</td>\n",
       "      <td>45.890000</td>\n",
       "      <td>...</td>\n",
       "      <td>18.2</td>\n",
       "      <td>48.730000</td>\n",
       "      <td>17.000000</td>\n",
       "      <td>45.50</td>\n",
       "      <td>6.37</td>\n",
       "      <td>733.7</td>\n",
       "      <td>92.0</td>\n",
       "      <td>6.333333</td>\n",
       "      <td>55.333333</td>\n",
       "      <td>5.1</td>\n",
       "    </tr>\n",
       "    <tr>\n",
       "      <th>3</th>\n",
       "      <td>50</td>\n",
       "      <td>40</td>\n",
       "      <td>19.89</td>\n",
       "      <td>46.066667</td>\n",
       "      <td>19.2</td>\n",
       "      <td>44.590000</td>\n",
       "      <td>19.79</td>\n",
       "      <td>45.000000</td>\n",
       "      <td>18.890000</td>\n",
       "      <td>45.723333</td>\n",
       "      <td>...</td>\n",
       "      <td>18.1</td>\n",
       "      <td>48.590000</td>\n",
       "      <td>17.000000</td>\n",
       "      <td>45.40</td>\n",
       "      <td>6.25</td>\n",
       "      <td>733.8</td>\n",
       "      <td>92.0</td>\n",
       "      <td>6.000000</td>\n",
       "      <td>51.500000</td>\n",
       "      <td>5.0</td>\n",
       "    </tr>\n",
       "    <tr>\n",
       "      <th>4</th>\n",
       "      <td>60</td>\n",
       "      <td>40</td>\n",
       "      <td>19.89</td>\n",
       "      <td>46.333333</td>\n",
       "      <td>19.2</td>\n",
       "      <td>44.530000</td>\n",
       "      <td>19.79</td>\n",
       "      <td>45.000000</td>\n",
       "      <td>18.890000</td>\n",
       "      <td>45.530000</td>\n",
       "      <td>...</td>\n",
       "      <td>18.1</td>\n",
       "      <td>48.590000</td>\n",
       "      <td>17.000000</td>\n",
       "      <td>45.40</td>\n",
       "      <td>6.13</td>\n",
       "      <td>733.9</td>\n",
       "      <td>92.0</td>\n",
       "      <td>5.666667</td>\n",
       "      <td>47.666667</td>\n",
       "      <td>4.9</td>\n",
       "    </tr>\n",
       "  </tbody>\n",
       "</table>\n",
       "<p>5 rows × 26 columns</p>\n",
       "</div>"
      ],
      "text/plain": [
       "   appliances  lights     T1       RH_1    T2       RH_2     T3       RH_3  \\\n",
       "0          60      30  19.89  47.596667  19.2  44.790000  19.79  44.730000   \n",
       "1          60      30  19.89  46.693333  19.2  44.722500  19.79  44.790000   \n",
       "2          50      30  19.89  46.300000  19.2  44.626667  19.79  44.933333   \n",
       "3          50      40  19.89  46.066667  19.2  44.590000  19.79  45.000000   \n",
       "4          60      40  19.89  46.333333  19.2  44.530000  19.79  45.000000   \n",
       "\n",
       "          T4       RH_4  ...    T8       RH_8         T9   RH_9  T_out  \\\n",
       "0  19.000000  45.566667  ...  18.2  48.900000  17.033333  45.53   6.60   \n",
       "1  19.000000  45.992500  ...  18.2  48.863333  17.066667  45.56   6.48   \n",
       "2  18.926667  45.890000  ...  18.2  48.730000  17.000000  45.50   6.37   \n",
       "3  18.890000  45.723333  ...  18.1  48.590000  17.000000  45.40   6.25   \n",
       "4  18.890000  45.530000  ...  18.1  48.590000  17.000000  45.40   6.13   \n",
       "\n",
       "   press_mm_hg  RH_out  windspeed  visibility  tdewpoint  \n",
       "0        733.5    92.0   7.000000   63.000000        5.3  \n",
       "1        733.6    92.0   6.666667   59.166667        5.2  \n",
       "2        733.7    92.0   6.333333   55.333333        5.1  \n",
       "3        733.8    92.0   6.000000   51.500000        5.0  \n",
       "4        733.9    92.0   5.666667   47.666667        4.9  \n",
       "\n",
       "[5 rows x 26 columns]"
      ]
     },
     "execution_count": 5,
     "metadata": {},
     "output_type": "execute_result"
    }
   ],
   "source": [
    "df_reg = df_reg.drop(['Unnamed: 0', 'date', 'weekday'], axis=1)\n",
    "df_reg.head()"
   ]
  },
  {
   "cell_type": "code",
   "execution_count": 6,
   "id": "208d2a51-14e6-446f-a6f2-18d03c613921",
   "metadata": {},
   "outputs": [
    {
     "data": {
      "text/html": [
       "<div>\n",
       "<style scoped>\n",
       "    .dataframe tbody tr th:only-of-type {\n",
       "        vertical-align: middle;\n",
       "    }\n",
       "\n",
       "    .dataframe tbody tr th {\n",
       "        vertical-align: top;\n",
       "    }\n",
       "\n",
       "    .dataframe thead th {\n",
       "        text-align: right;\n",
       "    }\n",
       "</style>\n",
       "<table border=\"1\" class=\"dataframe\">\n",
       "  <thead>\n",
       "    <tr style=\"text-align: right;\">\n",
       "      <th></th>\n",
       "      <th>est_diameter_min</th>\n",
       "      <th>est_diameter_max</th>\n",
       "      <th>relative_velocity</th>\n",
       "      <th>miss_distance</th>\n",
       "      <th>absolute_magnitude</th>\n",
       "      <th>hazardous</th>\n",
       "    </tr>\n",
       "  </thead>\n",
       "  <tbody>\n",
       "    <tr>\n",
       "      <th>0</th>\n",
       "      <td>0.016016</td>\n",
       "      <td>0.035813</td>\n",
       "      <td>56014.078517</td>\n",
       "      <td>1.024333e+06</td>\n",
       "      <td>26.1</td>\n",
       "      <td>0</td>\n",
       "    </tr>\n",
       "    <tr>\n",
       "      <th>1</th>\n",
       "      <td>0.030518</td>\n",
       "      <td>0.068240</td>\n",
       "      <td>7864.348060</td>\n",
       "      <td>3.268186e+07</td>\n",
       "      <td>24.7</td>\n",
       "      <td>0</td>\n",
       "    </tr>\n",
       "    <tr>\n",
       "      <th>2</th>\n",
       "      <td>0.055533</td>\n",
       "      <td>0.124177</td>\n",
       "      <td>55257.544508</td>\n",
       "      <td>6.538636e+07</td>\n",
       "      <td>23.4</td>\n",
       "      <td>0</td>\n",
       "    </tr>\n",
       "    <tr>\n",
       "      <th>3</th>\n",
       "      <td>0.019256</td>\n",
       "      <td>0.043057</td>\n",
       "      <td>41531.404722</td>\n",
       "      <td>1.260796e+07</td>\n",
       "      <td>25.7</td>\n",
       "      <td>0</td>\n",
       "    </tr>\n",
       "    <tr>\n",
       "      <th>4</th>\n",
       "      <td>0.139494</td>\n",
       "      <td>0.311918</td>\n",
       "      <td>67639.394481</td>\n",
       "      <td>7.130590e+07</td>\n",
       "      <td>21.4</td>\n",
       "      <td>0</td>\n",
       "    </tr>\n",
       "  </tbody>\n",
       "</table>\n",
       "</div>"
      ],
      "text/plain": [
       "   est_diameter_min  est_diameter_max  relative_velocity  miss_distance  \\\n",
       "0          0.016016          0.035813       56014.078517   1.024333e+06   \n",
       "1          0.030518          0.068240        7864.348060   3.268186e+07   \n",
       "2          0.055533          0.124177       55257.544508   6.538636e+07   \n",
       "3          0.019256          0.043057       41531.404722   1.260796e+07   \n",
       "4          0.139494          0.311918       67639.394481   7.130590e+07   \n",
       "\n",
       "   absolute_magnitude  hazardous  \n",
       "0                26.1          0  \n",
       "1                24.7          0  \n",
       "2                23.4          0  \n",
       "3                25.7          0  \n",
       "4                21.4          0  "
      ]
     },
     "execution_count": 6,
     "metadata": {},
     "output_type": "execute_result"
    }
   ],
   "source": [
    "df_class = df_class.drop(['Unnamed: 0', 'name'], axis=1)\n",
    "df_class.head()"
   ]
  },
  {
   "cell_type": "markdown",
   "id": "5dda825a-ce27-4a8d-ac06-8e8fe3eb2cc1",
   "metadata": {},
   "source": [
    "## Выделение целевого признака для обоих датасетов"
   ]
  },
  {
   "cell_type": "markdown",
   "id": "59972abe-3c8d-401a-867f-b6d04782be35",
   "metadata": {},
   "source": [
    "### Регрессия"
   ]
  },
  {
   "cell_type": "code",
   "execution_count": 7,
   "id": "2ae06a06-ee33-4ed3-b5fd-7dfcd0abe84a",
   "metadata": {},
   "outputs": [],
   "source": [
    "y_reg = df_reg[\"appliances\"]\n",
    "X_reg = df_reg.drop([\"appliances\"], axis=1)"
   ]
  },
  {
   "cell_type": "markdown",
   "id": "e5ffb8d1-93a6-4d9f-a701-69b182567353",
   "metadata": {},
   "source": [
    "### Классификация"
   ]
  },
  {
   "cell_type": "code",
   "execution_count": 8,
   "id": "1465723a-467c-45ad-a9a1-4eccdf66806d",
   "metadata": {},
   "outputs": [],
   "source": [
    "y_class = df_class[\"hazardous\"]\n",
    "X_class = df_class.drop([\"hazardous\"], axis=1)"
   ]
  },
  {
   "cell_type": "markdown",
   "id": "38dbb570-7dd1-41e2-9a3f-9d3f307cb004",
   "metadata": {},
   "source": [
    "## Балансировка"
   ]
  },
  {
   "cell_type": "code",
   "execution_count": 9,
   "id": "ee5aa07d-0cb8-45c3-aef5-4b5f19cabf11",
   "metadata": {},
   "outputs": [],
   "source": [
    "nm = NearMiss()\n",
    "X_class, y_class = nm.fit_resample(X_class, y_class.ravel())"
   ]
  },
  {
   "cell_type": "markdown",
   "id": "284f11fd-072f-4112-acd1-99ba8b2322dc",
   "metadata": {},
   "source": [
    "## Масштабирование"
   ]
  },
  {
   "cell_type": "code",
   "execution_count": 10,
   "id": "465f7450-0968-49bd-a6dc-c1899697b6fb",
   "metadata": {},
   "outputs": [],
   "source": [
    "from sklearn.preprocessing import StandardScaler\n",
    "sc_reg = StandardScaler()\n",
    "X_reg = sc_reg.fit_transform(X_reg)"
   ]
  },
  {
   "cell_type": "code",
   "execution_count": 11,
   "id": "3bd9c57f-51dd-47ff-b45a-20a3a27c3323",
   "metadata": {},
   "outputs": [],
   "source": [
    "sc_class = StandardScaler()\n",
    "X_class = sc_class.fit_transform(X_class)"
   ]
  },
  {
   "cell_type": "markdown",
   "id": "52da6c22-dd02-4c6e-889d-85f1f38519fb",
   "metadata": {},
   "source": [
    "## Создание методов для тестирования"
   ]
  },
  {
   "cell_type": "markdown",
   "id": "982ac1c6-2b35-4031-a162-549f7f75e254",
   "metadata": {},
   "source": [
    "### Регрессия"
   ]
  },
  {
   "cell_type": "code",
   "execution_count": 65,
   "id": "f2f42060-bb98-41d6-940d-d119e2ee87c8",
   "metadata": {},
   "outputs": [],
   "source": [
    "from sklearn.metrics import mean_squared_error, mean_absolute_error, mean_absolute_percentage_error, r2_score\n",
    "from math import sqrt\n",
    "\n",
    "def metrics(y_test, y_pred):\n",
    "    print(f'MAE: {mean_absolute_error(y_test, y_pred)}')\n",
    "    print(f'MSE: {mean_squared_error(y_test, y_pred)}')\n",
    "    print(f'RMSE: {sqrt(mean_squared_error(y_test, y_pred))}')\n",
    "    print(f'MAPE: {mean_absolute_percentage_error(y_test, y_pred)}')\n",
    "    print(f'R^2: {r2_score(y_test, y_pred)}')"
   ]
  },
  {
   "cell_type": "code",
   "execution_count": 13,
   "id": "e17e3450-a46f-4caf-83fd-9b58a121b63e",
   "metadata": {},
   "outputs": [],
   "source": [
    "def test_reg(X, y):\n",
    "  X_train, X_test, y_train, y_test = train_test_split(X, y, test_size=0.2, stratify = y)\n",
    "  lr = LinearRegression().fit(X_train, y_train)\n",
    "  metrics(y_test, lr.predict(X_test))"
   ]
  },
  {
   "cell_type": "code",
   "execution_count": 14,
   "id": "bf88830c-887f-419d-a6b8-5e3f55ed4418",
   "metadata": {},
   "outputs": [
    {
     "name": "stdout",
     "output_type": "stream",
     "text": [
      "MAE: 16.887005661300726\n",
      "MSE: 523.2083778136652\n",
      "RMSE: 22.873748661154455\n",
      "MAPE: 0.28548629882590154\n",
      "R^2: 0.3547073119559516\n"
     ]
    }
   ],
   "source": [
    "test_reg(X_reg, y_reg)"
   ]
  },
  {
   "cell_type": "markdown",
   "id": "377c19b6-9e4b-463c-964d-01dcd2b798c2",
   "metadata": {},
   "source": [
    "### Классификация"
   ]
  },
  {
   "cell_type": "code",
   "execution_count": 15,
   "id": "57ba9b99-b932-4201-84f7-c55506c8c1f7",
   "metadata": {},
   "outputs": [],
   "source": [
    "def test_class(X, y):\n",
    "  X_train, X_test, y_train, y_test = train_test_split(X, y, test_size=0.2, stratify = y)\n",
    "  lr = LogisticRegression().fit(X_train, y_train)\n",
    "  print(classification_report(y_test, lr.predict(X_test)))"
   ]
  },
  {
   "cell_type": "code",
   "execution_count": 16,
   "id": "b266d119-b80c-4364-b025-d0c0d653ef77",
   "metadata": {},
   "outputs": [
    {
     "name": "stdout",
     "output_type": "stream",
     "text": [
      "              precision    recall  f1-score   support\n",
      "\n",
      "           0       0.96      0.80      0.87      1288\n",
      "           1       0.83      0.97      0.89      1288\n",
      "\n",
      "    accuracy                           0.88      2576\n",
      "   macro avg       0.90      0.88      0.88      2576\n",
      "weighted avg       0.90      0.88      0.88      2576\n",
      "\n"
     ]
    }
   ],
   "source": [
    "test_class(X_class, y_class)"
   ]
  },
  {
   "cell_type": "markdown",
   "id": "b40d7077-efe4-4da6-9e86-a2e8ff7972d4",
   "metadata": {},
   "source": [
    "# Снижение размерности"
   ]
  },
  {
   "cell_type": "markdown",
   "id": "ac67d1ac-79c5-4514-a024-d0e8837aa660",
   "metadata": {},
   "source": [
    "## VarianceThreshold"
   ]
  },
  {
   "cell_type": "markdown",
   "id": "fa0b5bd2-f087-46e3-95da-deb9527c44aa",
   "metadata": {},
   "source": [
    "Отбор признаков с высокой дисперсией. Берём соответственно признаки с дисперсией 1 и выше."
   ]
  },
  {
   "cell_type": "code",
   "execution_count": 17,
   "id": "a6900709-2eeb-4dd5-92c7-7c807fdaf095",
   "metadata": {},
   "outputs": [],
   "source": [
    "from sklearn.feature_selection import VarianceThreshold"
   ]
  },
  {
   "cell_type": "code",
   "execution_count": 71,
   "id": "567558d8-d62a-4f7d-9bb2-4e1a747d179e",
   "metadata": {},
   "outputs": [
    {
     "data": {
      "text/plain": [
       "(17597, 6)"
      ]
     },
     "execution_count": 71,
     "metadata": {},
     "output_type": "execute_result"
    }
   ],
   "source": [
    "vt = VarianceThreshold(1)\n",
    "X_reg_vt = vt.fit_transform(X_reg)\n",
    "X_reg_vt.shape"
   ]
  },
  {
   "cell_type": "code",
   "execution_count": 72,
   "id": "52f538cf-0134-4311-92fc-99349a47f864",
   "metadata": {},
   "outputs": [
    {
     "data": {
      "text/html": [
       "<div>\n",
       "<style scoped>\n",
       "    .dataframe tbody tr th:only-of-type {\n",
       "        vertical-align: middle;\n",
       "    }\n",
       "\n",
       "    .dataframe tbody tr th {\n",
       "        vertical-align: top;\n",
       "    }\n",
       "\n",
       "    .dataframe thead th {\n",
       "        text-align: right;\n",
       "    }\n",
       "</style>\n",
       "<table border=\"1\" class=\"dataframe\">\n",
       "  <thead>\n",
       "    <tr style=\"text-align: right;\">\n",
       "      <th></th>\n",
       "      <th>x0</th>\n",
       "      <th>x5</th>\n",
       "      <th>x10</th>\n",
       "      <th>x11</th>\n",
       "      <th>x16</th>\n",
       "      <th>x23</th>\n",
       "    </tr>\n",
       "  </thead>\n",
       "  <tbody>\n",
       "    <tr>\n",
       "      <th>0</th>\n",
       "      <td>3.529821</td>\n",
       "      <td>-1.239148</td>\n",
       "      <td>0.468781</td>\n",
       "      <td>-0.119145</td>\n",
       "      <td>1.129838</td>\n",
       "      <td>2.063939</td>\n",
       "    </tr>\n",
       "    <tr>\n",
       "      <th>1</th>\n",
       "      <td>3.529821</td>\n",
       "      <td>-1.239148</td>\n",
       "      <td>0.468781</td>\n",
       "      <td>-0.151217</td>\n",
       "      <td>1.122786</td>\n",
       "      <td>1.743485</td>\n",
       "    </tr>\n",
       "    <tr>\n",
       "      <th>2</th>\n",
       "      <td>3.529821</td>\n",
       "      <td>-1.239148</td>\n",
       "      <td>0.456555</td>\n",
       "      <td>-0.196559</td>\n",
       "      <td>1.097143</td>\n",
       "      <td>1.423030</td>\n",
       "    </tr>\n",
       "    <tr>\n",
       "      <th>3</th>\n",
       "      <td>4.858128</td>\n",
       "      <td>-1.239148</td>\n",
       "      <td>0.456555</td>\n",
       "      <td>-0.217572</td>\n",
       "      <td>1.070218</td>\n",
       "      <td>1.102576</td>\n",
       "    </tr>\n",
       "    <tr>\n",
       "      <th>4</th>\n",
       "      <td>4.858128</td>\n",
       "      <td>-1.239148</td>\n",
       "      <td>0.456555</td>\n",
       "      <td>-0.228631</td>\n",
       "      <td>1.070218</td>\n",
       "      <td>0.782121</td>\n",
       "    </tr>\n",
       "  </tbody>\n",
       "</table>\n",
       "</div>"
      ],
      "text/plain": [
       "         x0        x5       x10       x11       x16       x23\n",
       "0  3.529821 -1.239148  0.468781 -0.119145  1.129838  2.063939\n",
       "1  3.529821 -1.239148  0.468781 -0.151217  1.122786  1.743485\n",
       "2  3.529821 -1.239148  0.456555 -0.196559  1.097143  1.423030\n",
       "3  4.858128 -1.239148  0.456555 -0.217572  1.070218  1.102576\n",
       "4  4.858128 -1.239148  0.456555 -0.228631  1.070218  0.782121"
      ]
     },
     "execution_count": 72,
     "metadata": {},
     "output_type": "execute_result"
    }
   ],
   "source": [
    "X_reg_vt = pd.DataFrame(X_reg_vt, columns=vt.get_feature_names_out())\n",
    "X_reg_vt.head()"
   ]
  },
  {
   "cell_type": "code",
   "execution_count": 73,
   "id": "805f0913-aef7-4f3b-8b60-5bbe614dd354",
   "metadata": {},
   "outputs": [
    {
     "name": "stdout",
     "output_type": "stream",
     "text": [
      "MAE: 18.861437758886943\n",
      "MSE: 631.430416737941\n",
      "RMSE: 25.1282792235748\n",
      "MAPE: 0.3169112486296496\n",
      "R^2: 0.2212329767496365\n"
     ]
    }
   ],
   "source": [
    "test_reg(X_reg_vt, y_reg)"
   ]
  },
  {
   "cell_type": "code",
   "execution_count": 74,
   "id": "2b554510-674d-4bfa-abed-de8252732bca",
   "metadata": {},
   "outputs": [
    {
     "data": {
      "text/plain": [
       "(12878, 2)"
      ]
     },
     "execution_count": 74,
     "metadata": {},
     "output_type": "execute_result"
    }
   ],
   "source": [
    "X_class_vt = vt.fit_transform(X_class)\n",
    "X_class_vt.shape"
   ]
  },
  {
   "cell_type": "code",
   "execution_count": 75,
   "id": "55b3ceb2-f7a5-4b46-882f-c60f89df771c",
   "metadata": {},
   "outputs": [
    {
     "data": {
      "text/html": [
       "<div>\n",
       "<style scoped>\n",
       "    .dataframe tbody tr th:only-of-type {\n",
       "        vertical-align: middle;\n",
       "    }\n",
       "\n",
       "    .dataframe tbody tr th {\n",
       "        vertical-align: top;\n",
       "    }\n",
       "\n",
       "    .dataframe thead th {\n",
       "        text-align: right;\n",
       "    }\n",
       "</style>\n",
       "<table border=\"1\" class=\"dataframe\">\n",
       "  <thead>\n",
       "    <tr style=\"text-align: right;\">\n",
       "      <th></th>\n",
       "      <th>x2</th>\n",
       "      <th>x4</th>\n",
       "    </tr>\n",
       "  </thead>\n",
       "  <tbody>\n",
       "    <tr>\n",
       "      <th>0</th>\n",
       "      <td>-0.271907</td>\n",
       "      <td>-0.839079</td>\n",
       "    </tr>\n",
       "    <tr>\n",
       "      <th>1</th>\n",
       "      <td>-0.331233</td>\n",
       "      <td>2.371637</td>\n",
       "    </tr>\n",
       "    <tr>\n",
       "      <th>2</th>\n",
       "      <td>-1.010881</td>\n",
       "      <td>0.074540</td>\n",
       "    </tr>\n",
       "    <tr>\n",
       "      <th>3</th>\n",
       "      <td>-0.508347</td>\n",
       "      <td>-0.804274</td>\n",
       "    </tr>\n",
       "    <tr>\n",
       "      <th>4</th>\n",
       "      <td>1.424533</td>\n",
       "      <td>1.205686</td>\n",
       "    </tr>\n",
       "  </tbody>\n",
       "</table>\n",
       "</div>"
      ],
      "text/plain": [
       "         x2        x4\n",
       "0 -0.271907 -0.839079\n",
       "1 -0.331233  2.371637\n",
       "2 -1.010881  0.074540\n",
       "3 -0.508347 -0.804274\n",
       "4  1.424533  1.205686"
      ]
     },
     "execution_count": 75,
     "metadata": {},
     "output_type": "execute_result"
    }
   ],
   "source": [
    "X_class_vt = pd.DataFrame(X_class_vt, columns=vt.get_feature_names_out())\n",
    "X_class_vt.head()"
   ]
  },
  {
   "cell_type": "code",
   "execution_count": 76,
   "id": "fcfe79c9-0ba1-4d55-9fa9-1287d9e784fe",
   "metadata": {},
   "outputs": [
    {
     "name": "stdout",
     "output_type": "stream",
     "text": [
      "              precision    recall  f1-score   support\n",
      "\n",
      "           0       0.96      0.81      0.88      1288\n",
      "           1       0.84      0.96      0.90      1288\n",
      "\n",
      "    accuracy                           0.89      2576\n",
      "   macro avg       0.90      0.89      0.89      2576\n",
      "weighted avg       0.90      0.89      0.89      2576\n",
      "\n"
     ]
    }
   ],
   "source": [
    "test_class(X_class_vt, y_class)"
   ]
  },
  {
   "cell_type": "markdown",
   "id": "0602653e-645f-4f03-95d1-003f6291ef3b",
   "metadata": {},
   "source": [
    "## SelectKBest"
   ]
  },
  {
   "cell_type": "markdown",
   "id": "bb13833c-846a-4a2d-b134-5cade3be7eeb",
   "metadata": {},
   "source": [
    "Отбор k признаков с наибольшим влиянием на целевую переменную"
   ]
  },
  {
   "cell_type": "code",
   "execution_count": 22,
   "id": "e7fbfeb4-db38-4622-a545-96e11f46c291",
   "metadata": {},
   "outputs": [],
   "source": [
    "from sklearn.feature_selection import SelectKBest"
   ]
  },
  {
   "cell_type": "code",
   "execution_count": 23,
   "id": "f6986d48-5fc4-482b-a569-6ca23c9767bf",
   "metadata": {},
   "outputs": [
    {
     "name": "stdout",
     "output_type": "stream",
     "text": [
      "MAE: 17.890458372988174\n",
      "MSE: 575.1734529726638\n",
      "RMSE: 23.98277408834649\n",
      "MAPE: 0.298996648507786\n",
      "R^2: 0.2906168186540583\n"
     ]
    }
   ],
   "source": [
    "skb_reg = SelectKBest(k=15)\n",
    "X_reg_skb = skb_reg.fit_transform(X_reg, y_reg)\n",
    "test_reg(X_reg_skb, y_reg)"
   ]
  },
  {
   "cell_type": "code",
   "execution_count": 25,
   "id": "36906387-95f9-4f95-b23e-372c95d7d31e",
   "metadata": {},
   "outputs": [
    {
     "data": {
      "text/html": [
       "<div>\n",
       "<style scoped>\n",
       "    .dataframe tbody tr th:only-of-type {\n",
       "        vertical-align: middle;\n",
       "    }\n",
       "\n",
       "    .dataframe tbody tr th {\n",
       "        vertical-align: top;\n",
       "    }\n",
       "\n",
       "    .dataframe thead th {\n",
       "        text-align: right;\n",
       "    }\n",
       "</style>\n",
       "<table border=\"1\" class=\"dataframe\">\n",
       "  <thead>\n",
       "    <tr style=\"text-align: right;\">\n",
       "      <th></th>\n",
       "      <th>x0</th>\n",
       "      <th>x1</th>\n",
       "      <th>x3</th>\n",
       "      <th>x5</th>\n",
       "      <th>x7</th>\n",
       "      <th>x9</th>\n",
       "      <th>x11</th>\n",
       "      <th>x12</th>\n",
       "      <th>x13</th>\n",
       "      <th>x15</th>\n",
       "      <th>x16</th>\n",
       "      <th>x17</th>\n",
       "      <th>x18</th>\n",
       "      <th>x19</th>\n",
       "      <th>x21</th>\n",
       "    </tr>\n",
       "  </thead>\n",
       "  <tbody>\n",
       "    <tr>\n",
       "      <th>0</th>\n",
       "      <td>3.529821</td>\n",
       "      <td>-1.120785</td>\n",
       "      <td>-0.502294</td>\n",
       "      <td>-1.239148</td>\n",
       "      <td>-0.907751</td>\n",
       "      <td>-1.330155</td>\n",
       "      <td>-0.119145</td>\n",
       "      <td>0.955186</td>\n",
       "      <td>-1.466295</td>\n",
       "      <td>-1.962166</td>\n",
       "      <td>1.129838</td>\n",
       "      <td>-1.229047</td>\n",
       "      <td>0.954814</td>\n",
       "      <td>-0.132913</td>\n",
       "      <td>0.793236</td>\n",
       "    </tr>\n",
       "    <tr>\n",
       "      <th>1</th>\n",
       "      <td>3.529821</td>\n",
       "      <td>-1.120785</td>\n",
       "      <td>-0.502294</td>\n",
       "      <td>-1.239148</td>\n",
       "      <td>-0.907751</td>\n",
       "      <td>-1.330155</td>\n",
       "      <td>-0.151217</td>\n",
       "      <td>0.948888</td>\n",
       "      <td>-1.466295</td>\n",
       "      <td>-1.962166</td>\n",
       "      <td>1.122786</td>\n",
       "      <td>-1.212467</td>\n",
       "      <td>0.962018</td>\n",
       "      <td>-0.155596</td>\n",
       "      <td>0.793236</td>\n",
       "    </tr>\n",
       "    <tr>\n",
       "      <th>2</th>\n",
       "      <td>3.529821</td>\n",
       "      <td>-1.120785</td>\n",
       "      <td>-0.502294</td>\n",
       "      <td>-1.239148</td>\n",
       "      <td>-0.943565</td>\n",
       "      <td>-1.330155</td>\n",
       "      <td>-0.196559</td>\n",
       "      <td>0.919355</td>\n",
       "      <td>-1.466295</td>\n",
       "      <td>-1.962166</td>\n",
       "      <td>1.097143</td>\n",
       "      <td>-1.245626</td>\n",
       "      <td>0.947609</td>\n",
       "      <td>-0.176388</td>\n",
       "      <td>0.793236</td>\n",
       "    </tr>\n",
       "    <tr>\n",
       "      <th>3</th>\n",
       "      <td>4.858128</td>\n",
       "      <td>-1.120785</td>\n",
       "      <td>-0.502294</td>\n",
       "      <td>-1.239148</td>\n",
       "      <td>-0.961473</td>\n",
       "      <td>-1.330155</td>\n",
       "      <td>-0.217572</td>\n",
       "      <td>0.928041</td>\n",
       "      <td>-1.498038</td>\n",
       "      <td>-2.013136</td>\n",
       "      <td>1.070218</td>\n",
       "      <td>-1.245626</td>\n",
       "      <td>0.923595</td>\n",
       "      <td>-0.199070</td>\n",
       "      <td>0.793236</td>\n",
       "    </tr>\n",
       "    <tr>\n",
       "      <th>4</th>\n",
       "      <td>4.858128</td>\n",
       "      <td>-1.120785</td>\n",
       "      <td>-0.502294</td>\n",
       "      <td>-1.239148</td>\n",
       "      <td>-0.961473</td>\n",
       "      <td>-1.312009</td>\n",
       "      <td>-0.228631</td>\n",
       "      <td>0.975925</td>\n",
       "      <td>-1.466295</td>\n",
       "      <td>-2.013136</td>\n",
       "      <td>1.070218</td>\n",
       "      <td>-1.245626</td>\n",
       "      <td>0.923595</td>\n",
       "      <td>-0.221752</td>\n",
       "      <td>0.793236</td>\n",
       "    </tr>\n",
       "  </tbody>\n",
       "</table>\n",
       "</div>"
      ],
      "text/plain": [
       "         x0        x1        x3        x5        x7        x9       x11  \\\n",
       "0  3.529821 -1.120785 -0.502294 -1.239148 -0.907751 -1.330155 -0.119145   \n",
       "1  3.529821 -1.120785 -0.502294 -1.239148 -0.907751 -1.330155 -0.151217   \n",
       "2  3.529821 -1.120785 -0.502294 -1.239148 -0.943565 -1.330155 -0.196559   \n",
       "3  4.858128 -1.120785 -0.502294 -1.239148 -0.961473 -1.330155 -0.217572   \n",
       "4  4.858128 -1.120785 -0.502294 -1.239148 -0.961473 -1.312009 -0.228631   \n",
       "\n",
       "        x12       x13       x15       x16       x17       x18       x19  \\\n",
       "0  0.955186 -1.466295 -1.962166  1.129838 -1.229047  0.954814 -0.132913   \n",
       "1  0.948888 -1.466295 -1.962166  1.122786 -1.212467  0.962018 -0.155596   \n",
       "2  0.919355 -1.466295 -1.962166  1.097143 -1.245626  0.947609 -0.176388   \n",
       "3  0.928041 -1.498038 -2.013136  1.070218 -1.245626  0.923595 -0.199070   \n",
       "4  0.975925 -1.466295 -2.013136  1.070218 -1.245626  0.923595 -0.221752   \n",
       "\n",
       "        x21  \n",
       "0  0.793236  \n",
       "1  0.793236  \n",
       "2  0.793236  \n",
       "3  0.793236  \n",
       "4  0.793236  "
      ]
     },
     "execution_count": 25,
     "metadata": {},
     "output_type": "execute_result"
    }
   ],
   "source": [
    "X_reg_skb = pd.DataFrame(X_reg_skb, columns=skb_reg.get_feature_names_out())\n",
    "X_reg_skb.head()"
   ]
  },
  {
   "cell_type": "code",
   "execution_count": 24,
   "id": "9eb5e7b4-d361-48c1-92da-e4b01b3f8731",
   "metadata": {},
   "outputs": [
    {
     "name": "stdout",
     "output_type": "stream",
     "text": [
      "              precision    recall  f1-score   support\n",
      "\n",
      "           0       0.99      0.80      0.89      1288\n",
      "           1       0.83      0.99      0.91      1288\n",
      "\n",
      "    accuracy                           0.90      2576\n",
      "   macro avg       0.91      0.90      0.90      2576\n",
      "weighted avg       0.91      0.90      0.90      2576\n",
      "\n"
     ]
    }
   ],
   "source": [
    "skb_class = SelectKBest(k=2)\n",
    "X_class_skb = skb_class.fit_transform(X_class, y_class)\n",
    "test_class(X_class_skb, y_class)"
   ]
  },
  {
   "cell_type": "code",
   "execution_count": 26,
   "id": "25fe5693-ae8b-4fa9-8f9c-a14249f2a48a",
   "metadata": {},
   "outputs": [
    {
     "data": {
      "text/html": [
       "<div>\n",
       "<style scoped>\n",
       "    .dataframe tbody tr th:only-of-type {\n",
       "        vertical-align: middle;\n",
       "    }\n",
       "\n",
       "    .dataframe tbody tr th {\n",
       "        vertical-align: top;\n",
       "    }\n",
       "\n",
       "    .dataframe thead th {\n",
       "        text-align: right;\n",
       "    }\n",
       "</style>\n",
       "<table border=\"1\" class=\"dataframe\">\n",
       "  <thead>\n",
       "    <tr style=\"text-align: right;\">\n",
       "      <th></th>\n",
       "      <th>x0</th>\n",
       "      <th>x4</th>\n",
       "    </tr>\n",
       "  </thead>\n",
       "  <tbody>\n",
       "    <tr>\n",
       "      <th>0</th>\n",
       "      <td>0.895676</td>\n",
       "      <td>-0.839079</td>\n",
       "    </tr>\n",
       "    <tr>\n",
       "      <th>1</th>\n",
       "      <td>-1.358699</td>\n",
       "      <td>2.371637</td>\n",
       "    </tr>\n",
       "    <tr>\n",
       "      <th>2</th>\n",
       "      <td>-0.549921</td>\n",
       "      <td>0.074540</td>\n",
       "    </tr>\n",
       "    <tr>\n",
       "      <th>3</th>\n",
       "      <td>0.811314</td>\n",
       "      <td>-0.804274</td>\n",
       "    </tr>\n",
       "    <tr>\n",
       "      <th>4</th>\n",
       "      <td>-1.168858</td>\n",
       "      <td>1.205686</td>\n",
       "    </tr>\n",
       "  </tbody>\n",
       "</table>\n",
       "</div>"
      ],
      "text/plain": [
       "         x0        x4\n",
       "0  0.895676 -0.839079\n",
       "1 -1.358699  2.371637\n",
       "2 -0.549921  0.074540\n",
       "3  0.811314 -0.804274\n",
       "4 -1.168858  1.205686"
      ]
     },
     "execution_count": 26,
     "metadata": {},
     "output_type": "execute_result"
    }
   ],
   "source": [
    "X_class_skb = pd.DataFrame(X_class_skb, columns=skb_class.get_feature_names_out())\n",
    "X_class_skb.head()"
   ]
  },
  {
   "cell_type": "markdown",
   "id": "d160c1e0-388a-4cb9-b8ba-8a86a3a8c5b9",
   "metadata": {},
   "source": [
    "## RFE"
   ]
  },
  {
   "cell_type": "markdown",
   "id": "d45f0916-212d-4e49-bc59-5442fc0dd044",
   "metadata": {},
   "source": [
    "Рекурсивный отбор признаков предполагает обучение множества моделей. Сначала модель обучается на всех признаках, а затем мы начинаем исключать из модели признаки с низкой значимостью. Делаем это до тех пор, пока не останется столько признаков, сколько нам нужно получить"
   ]
  },
  {
   "cell_type": "code",
   "execution_count": 27,
   "id": "0f1b5442-05f5-40ea-b967-c1e8ea976f9b",
   "metadata": {},
   "outputs": [],
   "source": [
    "from sklearn.feature_selection import RFE\n",
    "from sklearn.tree import DecisionTreeClassifier\n",
    "from sklearn.tree import DecisionTreeRegressor"
   ]
  },
  {
   "cell_type": "code",
   "execution_count": 28,
   "id": "31c7f821-7ace-42d1-91aa-7238394034b7",
   "metadata": {},
   "outputs": [],
   "source": [
    "tree_reg = DecisionTreeRegressor().fit(X_reg, y_reg)"
   ]
  },
  {
   "cell_type": "code",
   "execution_count": 61,
   "id": "4b954313-ecae-4c69-9b9d-f591615829b4",
   "metadata": {},
   "outputs": [
    {
     "data": {
      "text/html": [
       "<div>\n",
       "<style scoped>\n",
       "    .dataframe tbody tr th:only-of-type {\n",
       "        vertical-align: middle;\n",
       "    }\n",
       "\n",
       "    .dataframe tbody tr th {\n",
       "        vertical-align: top;\n",
       "    }\n",
       "\n",
       "    .dataframe thead th {\n",
       "        text-align: right;\n",
       "    }\n",
       "</style>\n",
       "<table border=\"1\" class=\"dataframe\">\n",
       "  <thead>\n",
       "    <tr style=\"text-align: right;\">\n",
       "      <th></th>\n",
       "      <th>x0</th>\n",
       "      <th>x2</th>\n",
       "      <th>x3</th>\n",
       "      <th>x10</th>\n",
       "      <th>x12</th>\n",
       "      <th>x15</th>\n",
       "      <th>x16</th>\n",
       "      <th>x18</th>\n",
       "      <th>x20</th>\n",
       "      <th>x21</th>\n",
       "    </tr>\n",
       "  </thead>\n",
       "  <tbody>\n",
       "    <tr>\n",
       "      <th>0</th>\n",
       "      <td>3.529821</td>\n",
       "      <td>1.898045</td>\n",
       "      <td>-0.502294</td>\n",
       "      <td>0.468781</td>\n",
       "      <td>0.955186</td>\n",
       "      <td>-1.962166</td>\n",
       "      <td>1.129838</td>\n",
       "      <td>0.954814</td>\n",
       "      <td>-3.007110</td>\n",
       "      <td>0.793236</td>\n",
       "    </tr>\n",
       "    <tr>\n",
       "      <th>1</th>\n",
       "      <td>3.529821</td>\n",
       "      <td>1.668064</td>\n",
       "      <td>-0.502294</td>\n",
       "      <td>0.468781</td>\n",
       "      <td>0.948888</td>\n",
       "      <td>-1.962166</td>\n",
       "      <td>1.122786</td>\n",
       "      <td>0.962018</td>\n",
       "      <td>-2.993485</td>\n",
       "      <td>0.793236</td>\n",
       "    </tr>\n",
       "    <tr>\n",
       "      <th>2</th>\n",
       "      <td>3.529821</td>\n",
       "      <td>1.567925</td>\n",
       "      <td>-0.502294</td>\n",
       "      <td>0.456555</td>\n",
       "      <td>0.919355</td>\n",
       "      <td>-1.962166</td>\n",
       "      <td>1.097143</td>\n",
       "      <td>0.947609</td>\n",
       "      <td>-2.979861</td>\n",
       "      <td>0.793236</td>\n",
       "    </tr>\n",
       "    <tr>\n",
       "      <th>3</th>\n",
       "      <td>4.858128</td>\n",
       "      <td>1.508521</td>\n",
       "      <td>-0.502294</td>\n",
       "      <td>0.456555</td>\n",
       "      <td>0.928041</td>\n",
       "      <td>-2.013136</td>\n",
       "      <td>1.070218</td>\n",
       "      <td>0.923595</td>\n",
       "      <td>-2.966236</td>\n",
       "      <td>0.793236</td>\n",
       "    </tr>\n",
       "    <tr>\n",
       "      <th>4</th>\n",
       "      <td>4.858128</td>\n",
       "      <td>1.576412</td>\n",
       "      <td>-0.502294</td>\n",
       "      <td>0.456555</td>\n",
       "      <td>0.975925</td>\n",
       "      <td>-2.013136</td>\n",
       "      <td>1.070218</td>\n",
       "      <td>0.923595</td>\n",
       "      <td>-2.952611</td>\n",
       "      <td>0.793236</td>\n",
       "    </tr>\n",
       "  </tbody>\n",
       "</table>\n",
       "</div>"
      ],
      "text/plain": [
       "         x0        x2        x3       x10       x12       x15       x16  \\\n",
       "0  3.529821  1.898045 -0.502294  0.468781  0.955186 -1.962166  1.129838   \n",
       "1  3.529821  1.668064 -0.502294  0.468781  0.948888 -1.962166  1.122786   \n",
       "2  3.529821  1.567925 -0.502294  0.456555  0.919355 -1.962166  1.097143   \n",
       "3  4.858128  1.508521 -0.502294  0.456555  0.928041 -2.013136  1.070218   \n",
       "4  4.858128  1.576412 -0.502294  0.456555  0.975925 -2.013136  1.070218   \n",
       "\n",
       "        x18       x20       x21  \n",
       "0  0.954814 -3.007110  0.793236  \n",
       "1  0.962018 -2.993485  0.793236  \n",
       "2  0.947609 -2.979861  0.793236  \n",
       "3  0.923595 -2.966236  0.793236  \n",
       "4  0.923595 -2.952611  0.793236  "
      ]
     },
     "execution_count": 61,
     "metadata": {},
     "output_type": "execute_result"
    }
   ],
   "source": [
    "rfe_reg = RFE(estimator=tree_reg, n_features_to_select=10, step=1).fit(X_reg, y_reg)\n",
    "X_rfe_reg = pd.DataFrame(rfe_reg.transform(X_reg), columns=rfe_reg.get_feature_names_out())\n",
    "X_rfe_reg.head()"
   ]
  },
  {
   "cell_type": "code",
   "execution_count": 66,
   "id": "7cc6d9f7-326e-4313-bb0f-a83c144103d6",
   "metadata": {},
   "outputs": [
    {
     "name": "stdout",
     "output_type": "stream",
     "text": [
      "MAE: 17.96803649360633\n",
      "MSE: 578.5702220925508\n",
      "RMSE: 24.053486693046203\n",
      "MAPE: 0.30375161881867163\n",
      "R^2: 0.2864274547811091\n"
     ]
    }
   ],
   "source": [
    "test_reg(X_rfe_reg, y_reg)"
   ]
  },
  {
   "cell_type": "code",
   "execution_count": 31,
   "id": "7d390966-ca01-4d62-9c34-2fc363b91fc2",
   "metadata": {},
   "outputs": [],
   "source": [
    "tree_class = DecisionTreeClassifier().fit(X_class, y_class)"
   ]
  },
  {
   "cell_type": "code",
   "execution_count": 62,
   "id": "91f54c29-4859-4e9e-a4e1-4764f0dd8d13",
   "metadata": {},
   "outputs": [
    {
     "data": {
      "text/html": [
       "<div>\n",
       "<style scoped>\n",
       "    .dataframe tbody tr th:only-of-type {\n",
       "        vertical-align: middle;\n",
       "    }\n",
       "\n",
       "    .dataframe tbody tr th {\n",
       "        vertical-align: top;\n",
       "    }\n",
       "\n",
       "    .dataframe thead th {\n",
       "        text-align: right;\n",
       "    }\n",
       "</style>\n",
       "<table border=\"1\" class=\"dataframe\">\n",
       "  <thead>\n",
       "    <tr style=\"text-align: right;\">\n",
       "      <th></th>\n",
       "      <th>x0</th>\n",
       "      <th>x2</th>\n",
       "    </tr>\n",
       "  </thead>\n",
       "  <tbody>\n",
       "    <tr>\n",
       "      <th>0</th>\n",
       "      <td>0.895676</td>\n",
       "      <td>-0.271907</td>\n",
       "    </tr>\n",
       "    <tr>\n",
       "      <th>1</th>\n",
       "      <td>-1.358699</td>\n",
       "      <td>-0.331233</td>\n",
       "    </tr>\n",
       "    <tr>\n",
       "      <th>2</th>\n",
       "      <td>-0.549921</td>\n",
       "      <td>-1.010881</td>\n",
       "    </tr>\n",
       "    <tr>\n",
       "      <th>3</th>\n",
       "      <td>0.811314</td>\n",
       "      <td>-0.508347</td>\n",
       "    </tr>\n",
       "    <tr>\n",
       "      <th>4</th>\n",
       "      <td>-1.168858</td>\n",
       "      <td>1.424533</td>\n",
       "    </tr>\n",
       "  </tbody>\n",
       "</table>\n",
       "</div>"
      ],
      "text/plain": [
       "         x0        x2\n",
       "0  0.895676 -0.271907\n",
       "1 -1.358699 -0.331233\n",
       "2 -0.549921 -1.010881\n",
       "3  0.811314 -0.508347\n",
       "4 -1.168858  1.424533"
      ]
     },
     "execution_count": 62,
     "metadata": {},
     "output_type": "execute_result"
    }
   ],
   "source": [
    "rfe_class = RFE(estimator=tree_class, n_features_to_select=2, step=1).fit(X_class, y_class)\n",
    "X_rfe_class = pd.DataFrame(rfe_class.transform(X_class), columns=rfe_class.get_feature_names_out())\n",
    "X_rfe_class.head()"
   ]
  },
  {
   "cell_type": "code",
   "execution_count": 63,
   "id": "52b915aa-2541-4123-ad59-6c9ad0604a18",
   "metadata": {},
   "outputs": [
    {
     "name": "stdout",
     "output_type": "stream",
     "text": [
      "              precision    recall  f1-score   support\n",
      "\n",
      "           0       0.84      0.85      0.85      1288\n",
      "           1       0.85      0.84      0.84      1288\n",
      "\n",
      "    accuracy                           0.84      2576\n",
      "   macro avg       0.84      0.84      0.84      2576\n",
      "weighted avg       0.84      0.84      0.84      2576\n",
      "\n"
     ]
    }
   ],
   "source": [
    "test_class(X_rfe_class, y_class)"
   ]
  },
  {
   "cell_type": "markdown",
   "id": "6950eab3-ef37-4970-b839-5261cc74ab79",
   "metadata": {},
   "source": [
    "## PCA"
   ]
  },
  {
   "cell_type": "markdown",
   "id": "8eb2c9a0-117a-49e5-97e5-74b3ef40770c",
   "metadata": {},
   "source": [
    "Уменьшает размерность пространства путём создание новых признаков на основе старых. Является линейным методом понижения размерности"
   ]
  },
  {
   "cell_type": "code",
   "execution_count": 34,
   "id": "73e59fd0-65cd-4772-8a56-6a23ee4d2598",
   "metadata": {},
   "outputs": [],
   "source": [
    "from sklearn.decomposition import PCA"
   ]
  },
  {
   "cell_type": "code",
   "execution_count": 35,
   "id": "1dde62e1-42b4-4fd6-8df2-525134224d9f",
   "metadata": {},
   "outputs": [
    {
     "data": {
      "text/plain": [
       "(17597, 12)"
      ]
     },
     "execution_count": 35,
     "metadata": {},
     "output_type": "execute_result"
    }
   ],
   "source": [
    "pca_reg = PCA(n_components=12)\n",
    "X_pca_reg = pca_reg.fit_transform(X_reg, y_reg)\n",
    "X_pca_reg.shape"
   ]
  },
  {
   "cell_type": "code",
   "execution_count": 36,
   "id": "38c8583e-96a3-47f7-af9b-0ecf02c33481",
   "metadata": {},
   "outputs": [
    {
     "data": {
      "text/plain": [
       "0.965312314978688"
      ]
     },
     "execution_count": 36,
     "metadata": {},
     "output_type": "execute_result"
    }
   ],
   "source": [
    "sum(pca_reg.explained_variance_ratio_)"
   ]
  },
  {
   "cell_type": "code",
   "execution_count": 37,
   "id": "d741be96-ff50-48c1-a10f-7b8cac99d0d5",
   "metadata": {},
   "outputs": [
    {
     "name": "stdout",
     "output_type": "stream",
     "text": [
      "MAE: 17.675858804902873\n",
      "MSE: 570.5242285375812\n",
      "RMSE: 23.885649008088123\n",
      "MAPE: 0.29787129332427154\n",
      "R^2: 0.2963508830541185\n"
     ]
    }
   ],
   "source": [
    "test_reg(X_pca_reg, y_reg)"
   ]
  },
  {
   "cell_type": "code",
   "execution_count": 67,
   "id": "3964c127-16ec-471a-a071-5a8f6496edae",
   "metadata": {},
   "outputs": [
    {
     "data": {
      "text/plain": [
       "(12878, 2)"
      ]
     },
     "execution_count": 67,
     "metadata": {},
     "output_type": "execute_result"
    }
   ],
   "source": [
    "pca_class = PCA(n_components=2)\n",
    "X_pca_class = pca_class.fit_transform(X_class, y_class)\n",
    "X_pca_class.shape"
   ]
  },
  {
   "cell_type": "code",
   "execution_count": 68,
   "id": "2b4d5391-c5de-4b1e-aff7-5b92b09ef0b9",
   "metadata": {},
   "outputs": [
    {
     "data": {
      "text/plain": [
       "0.8328065730929246"
      ]
     },
     "execution_count": 68,
     "metadata": {},
     "output_type": "execute_result"
    }
   ],
   "source": [
    "sum(pca_class.explained_variance_ratio_)"
   ]
  },
  {
   "cell_type": "code",
   "execution_count": 69,
   "id": "24c96287-4f1f-4078-9db2-e6d480996d18",
   "metadata": {},
   "outputs": [
    {
     "name": "stdout",
     "output_type": "stream",
     "text": [
      "              precision    recall  f1-score   support\n",
      "\n",
      "           0       0.90      0.83      0.86      1288\n",
      "           1       0.84      0.91      0.87      1288\n",
      "\n",
      "    accuracy                           0.87      2576\n",
      "   macro avg       0.87      0.87      0.87      2576\n",
      "weighted avg       0.87      0.87      0.87      2576\n",
      "\n"
     ]
    }
   ],
   "source": [
    "test_class(X_pca_class, y_class)"
   ]
  },
  {
   "cell_type": "markdown",
   "id": "45142161-71de-437c-b0cb-7cf6f6e54850",
   "metadata": {},
   "source": [
    "## tSNE"
   ]
  },
  {
   "cell_type": "markdown",
   "id": "e94fd4e7-a2b0-4ed3-b44f-cfaadef7a238",
   "metadata": {},
   "source": [
    "Нелинейный метод уменьшения размерности"
   ]
  },
  {
   "cell_type": "code",
   "execution_count": 41,
   "id": "ebdf6ea9-8bec-41cf-8da5-e951ea81aade",
   "metadata": {},
   "outputs": [],
   "source": [
    "from sklearn.manifold import TSNE"
   ]
  },
  {
   "cell_type": "code",
   "execution_count": 42,
   "id": "65899fa1-9bb5-4a06-9aa0-6a04867f3892",
   "metadata": {},
   "outputs": [
    {
     "data": {
      "text/plain": [
       "(17597, 3)"
      ]
     },
     "execution_count": 42,
     "metadata": {},
     "output_type": "execute_result"
    }
   ],
   "source": [
    "tsne_reg = TSNE(n_components=3)\n",
    "X_tsne_reg = tsne_reg.fit_transform(X_reg)\n",
    "X_tsne_reg.shape"
   ]
  },
  {
   "cell_type": "code",
   "execution_count": 43,
   "id": "574ac982-e65a-4923-8ec9-30cb3c1159ae",
   "metadata": {},
   "outputs": [
    {
     "name": "stdout",
     "output_type": "stream",
     "text": [
      "MAE: 17.65498924225547\n",
      "MSE: 559.3875313524121\n",
      "RMSE: 23.651374830068804\n",
      "MAPE: 0.29938484169492935\n",
      "R^2: 0.31008619305160035\n"
     ]
    }
   ],
   "source": [
    "test_reg(X_pca_reg, y_reg)"
   ]
  },
  {
   "cell_type": "code",
   "execution_count": 44,
   "id": "1d4acc3c-abd1-4aad-9590-74f6cf022c8b",
   "metadata": {},
   "outputs": [
    {
     "data": {
      "text/plain": [
       "(12878, 2)"
      ]
     },
     "execution_count": 44,
     "metadata": {},
     "output_type": "execute_result"
    }
   ],
   "source": [
    "tsne_class = TSNE(n_components=2)\n",
    "X_tsne_class = tsne_class.fit_transform(X_class)\n",
    "X_tsne_class.shape"
   ]
  },
  {
   "cell_type": "code",
   "execution_count": 45,
   "id": "8f79656d-76a5-47c5-bd95-90bd648a4f5f",
   "metadata": {},
   "outputs": [
    {
     "name": "stdout",
     "output_type": "stream",
     "text": [
      "              precision    recall  f1-score   support\n",
      "\n",
      "           0       0.85      0.83      0.84      1288\n",
      "           1       0.83      0.85      0.84      1288\n",
      "\n",
      "    accuracy                           0.84      2576\n",
      "   macro avg       0.84      0.84      0.84      2576\n",
      "weighted avg       0.84      0.84      0.84      2576\n",
      "\n"
     ]
    }
   ],
   "source": [
    "test_class(X_tsne_class, y_class)"
   ]
  },
  {
   "cell_type": "markdown",
   "id": "bf043652-f7d3-4c0d-a835-306d13bb7021",
   "metadata": {},
   "source": [
    "## Isomap"
   ]
  },
  {
   "cell_type": "markdown",
   "id": "dfb27e15-1efb-49c8-b143-60a2368c1dad",
   "metadata": {},
   "source": [
    "Нелинейный метод уменьшения размерности"
   ]
  },
  {
   "cell_type": "code",
   "execution_count": 46,
   "id": "f5df0e0f-77ea-4e00-9ccf-6dfad65e0c53",
   "metadata": {},
   "outputs": [],
   "source": [
    "from sklearn.manifold import Isomap"
   ]
  },
  {
   "cell_type": "code",
   "execution_count": 47,
   "id": "c03c911a-e3c9-46e6-87b4-ae9ed7fc3439",
   "metadata": {},
   "outputs": [
    {
     "data": {
      "text/plain": [
       "(17597, 4)"
      ]
     },
     "execution_count": 47,
     "metadata": {},
     "output_type": "execute_result"
    }
   ],
   "source": [
    "isomap_reg = Isomap(n_components=4)\n",
    "X_isomap_reg = isomap_reg.fit_transform(X_reg)\n",
    "X_isomap_reg.shape"
   ]
  },
  {
   "cell_type": "code",
   "execution_count": 48,
   "id": "4119ad2f-e2e9-4405-8a8a-d3128faebd2c",
   "metadata": {},
   "outputs": [
    {
     "name": "stdout",
     "output_type": "stream",
     "text": [
      "MAE: 22.153191041823845\n",
      "MSE: 793.5597617378113\n",
      "RMSE: 28.170192788438833\n",
      "MAPE: 0.3781887078617764\n",
      "R^2: 0.02127272136732139\n"
     ]
    }
   ],
   "source": [
    "test_reg(X_isomap_reg, y_reg)"
   ]
  },
  {
   "cell_type": "code",
   "execution_count": 49,
   "id": "7f3f9779-32c7-44e0-b655-72a3e43b1754",
   "metadata": {},
   "outputs": [
    {
     "data": {
      "text/plain": [
       "(12878, 2)"
      ]
     },
     "execution_count": 49,
     "metadata": {},
     "output_type": "execute_result"
    }
   ],
   "source": [
    "isomap_class = Isomap(n_components=2)\n",
    "X_isomap_class = isomap_class.fit_transform(X_class)\n",
    "X_isomap_class.shape"
   ]
  },
  {
   "cell_type": "code",
   "execution_count": 50,
   "id": "bcb00de4-7653-4dfe-b8c4-71ede3a30604",
   "metadata": {},
   "outputs": [
    {
     "name": "stdout",
     "output_type": "stream",
     "text": [
      "              precision    recall  f1-score   support\n",
      "\n",
      "           0       0.90      0.82      0.86      1288\n",
      "           1       0.83      0.91      0.87      1288\n",
      "\n",
      "    accuracy                           0.86      2576\n",
      "   macro avg       0.87      0.86      0.86      2576\n",
      "weighted avg       0.87      0.86      0.86      2576\n",
      "\n"
     ]
    }
   ],
   "source": [
    "test_class(X_isomap_class, y_class)"
   ]
  },
  {
   "cell_type": "markdown",
   "id": "5dd610fd-14b2-4643-b408-2ee1c4d7afac",
   "metadata": {},
   "source": [
    "## Заключение"
   ]
  },
  {
   "cell_type": "markdown",
   "id": "f65b3063-2df1-4869-a47c-f25ecd7603a7",
   "metadata": {},
   "source": [
    "Для датасета на регрессию лучше всего себя показали: метод главный компонент (PCA), рекурсивный отбор признаков(RFE), tSNE и SelectKBest. Для датасета на классификацию лучше всего себя показали: SelectKBest и VarianceThreshold, остальные методы также показали себя неплохо"
   ]
  },
  {
   "cell_type": "markdown",
   "id": "634c7635-a398-4b2b-a0ae-40e80b4f0ac7",
   "metadata": {},
   "source": [
    "# Задание №2"
   ]
  },
  {
   "cell_type": "markdown",
   "id": "cb227433-45ae-4409-b758-244bfe95426b",
   "metadata": {},
   "source": [
    "ЗАДАНИЕ №2**.\n",
    "1. Самостоятельно реализуйте алгоритм PCA. На основе датасета для задачи классификации выполните понижение размерности до 2 (преобразуйте данные в двумерное пространство). Выполните визуализацию данных (точки на плоскости).\n",
    "2. Выполнить кластеризацию преобразованных в пункте 1 данных с помощью Вашей реализации алгоритма KMeans из ЛР6.\n"
   ]
  },
  {
   "cell_type": "code",
   "execution_count": 51,
   "id": "eaf9d8aa-5431-445f-8080-e23b22f44533",
   "metadata": {},
   "outputs": [],
   "source": [
    "import sys\n",
    "sys.path.append(\"..\")\n",
    "from models.PCA import myPCA"
   ]
  },
  {
   "cell_type": "code",
   "execution_count": 53,
   "id": "d6f32851-b098-43ff-8d43-789388c4a7e3",
   "metadata": {},
   "outputs": [
    {
     "data": {
      "text/plain": [
       "(12878, 2)"
      ]
     },
     "execution_count": 53,
     "metadata": {},
     "output_type": "execute_result"
    }
   ],
   "source": [
    "mypca_class = myPCA(2)\n",
    "X_mypca_class = mypca_class.transform(X_class)\n",
    "X_mypca_class.shape"
   ]
  },
  {
   "cell_type": "code",
   "execution_count": 54,
   "id": "9dd7825f-168c-48b4-8833-ef0c01fa502f",
   "metadata": {},
   "outputs": [
    {
     "name": "stdout",
     "output_type": "stream",
     "text": [
      "              precision    recall  f1-score   support\n",
      "\n",
      "           0       0.97      0.82      0.89      1288\n",
      "           1       0.85      0.97      0.90      1288\n",
      "\n",
      "    accuracy                           0.90      2576\n",
      "   macro avg       0.91      0.90      0.90      2576\n",
      "weighted avg       0.91      0.90      0.90      2576\n",
      "\n"
     ]
    }
   ],
   "source": [
    "test_class(X_mypca_class, y_class)"
   ]
  },
  {
   "cell_type": "code",
   "execution_count": 55,
   "id": "0826fdb9-1d39-4b39-a22c-74bf8928e930",
   "metadata": {},
   "outputs": [
    {
     "data": {
      "image/png": "[encoded data removed]",
      "text/plain": [
       "<Figure size 640x480 with 1 Axes>"
      ]
     },
     "metadata": {},
     "output_type": "display_data"
    }
   ],
   "source": [
    "plt.scatter(X_mypca_class[:,0], X_mypca_class[:,1], c=y_class);"
   ]
  },
  {
   "cell_type": "code",
   "execution_count": 56,
   "id": "4b989c68-adc4-4f4c-9207-be20c9e477b0",
   "metadata": {},
   "outputs": [],
   "source": [
    "import sys\n",
    "sys.path.append(\"..\")\n",
    "from models.KMeans import myKMeans"
   ]
  },
  {
   "cell_type": "code",
   "execution_count": 57,
   "id": "fa8eb22e-5e02-42ff-bc95-c919d8323739",
   "metadata": {},
   "outputs": [],
   "source": [
    "from sklearn.metrics import davies_bouldin_score, rand_score, silhouette_score, fowlkes_mallows_score, make_scorer\n",
    "def metrics(model, X, Y): \n",
    "        print('\\nВнутренние метрики')\n",
    "        print('Силуэт:', silhouette_score(X, model.predict(X)))\n",
    "        print('Индекс Дэвиса-Болдуина:', davies_bouldin_score(X, model.predict(X)))\n",
    "        print('\\nВнешние метрики')\n",
    "        print('Индекс RAND:', rand_score(Y, model.predict(X)))\n",
    "        print('Индекс Фоулкса – Мэллова', fowlkes_mallows_score(Y, model.predict(X)))"
   ]
  },
  {
   "cell_type": "code",
   "execution_count": 58,
   "id": "616f3f2a-5e6f-4248-ba71-2bbcdc0cac33",
   "metadata": {},
   "outputs": [],
   "source": [
    "mykmeans = myKMeans(k=2, max_iter=500)"
   ]
  },
  {
   "cell_type": "code",
   "execution_count": 59,
   "id": "14c372a9-2148-462f-8016-c4825b95f5ae",
   "metadata": {},
   "outputs": [
    {
     "name": "stdout",
     "output_type": "stream",
     "text": [
      "\n",
      "Внутренние метрики\n",
      "Силуэт: 0.5432084456348134\n",
      "Индекс Дэвиса-Болдуина: 0.6543316148567895\n",
      "\n",
      "Внешние метрики\n",
      "Индекс RAND: 0.7273381633960744\n",
      "Индекс Фоулкса – Мэллова 0.7302768078311399\n"
     ]
    }
   ],
   "source": [
    "mykmeans.fit(X_mypca_class)\n",
    "\n",
    "label = mykmeans.predict(X_mypca_class)\n",
    "metrics(mykmeans, X_mypca_class, y_class)"
   ]
  },
  {
   "cell_type": "code",
   "execution_count": 60,
   "id": "55663016-c60d-41c9-bc7a-dbd69a3f9f7b",
   "metadata": {},
   "outputs": [
    {
     "data": {
      "image/png": "[encoded data removed]",
      "text/plain": [
       "<Figure size 640x480 with 1 Axes>"
      ]
     },
     "metadata": {},
     "output_type": "display_data"
    }
   ],
   "source": [
    "plt.scatter(X_mypca_class[:,0], X_mypca_class[:,1], c=label);"
   ]
  }
 ],
 "metadata": {
  "kernelspec": {
   "display_name": "Python 3 (ipykernel)",
   "language": "python",
   "name": "python3"
  },
  "language_info": {
   "codemirror_mode": {
    "name": "ipython",
    "version": 3
   },
   "file_extension": ".py",
   "mimetype": "text/x-python",
   "name": "python",
   "nbconvert_exporter": "python",
   "pygments_lexer": "ipython3",
   "version": "3.10.4"
  }
 },
 "nbformat": 4,
 "nbformat_minor": 5
}
