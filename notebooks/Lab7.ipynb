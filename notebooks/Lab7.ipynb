{
 "cells": [
  {
   "cell_type": "code",
   "execution_count": 1,
   "id": "89517c60-df17-4885-af09-5e29bb279eb4",
   "metadata": {},
   "outputs": [],
   "source": [
    "import pandas as pd\n",
    "import matplotlib.pyplot as plt\n",
    "import numpy as np\n",
    "import seaborn as sns\n",
    "from sklearn.model_selection import GridSearchCV\n",
    "from sklearn.model_selection import train_test_split\n",
    "from imblearn.under_sampling import NearMiss\n",
    "from sklearn.preprocessing import StandardScaler\n",
    "from sklearn.metrics import confusion_matrix, classification_report\n",
    "import tensorflow as tf"
   ]
  },
  {
   "cell_type": "code",
   "execution_count": 2,
   "id": "bb987d34-6d08-45e4-a21f-e87449ed8a10",
   "metadata": {},
   "outputs": [
    {
     "data": {
      "text/html": [
       "<div>\n",
       "<style scoped>\n",
       "    .dataframe tbody tr th:only-of-type {\n",
       "        vertical-align: middle;\n",
       "    }\n",
       "\n",
       "    .dataframe tbody tr th {\n",
       "        vertical-align: top;\n",
       "    }\n",
       "\n",
       "    .dataframe thead th {\n",
       "        text-align: right;\n",
       "    }\n",
       "</style>\n",
       "<table border=\"1\" class=\"dataframe\">\n",
       "  <thead>\n",
       "    <tr style=\"text-align: right;\">\n",
       "      <th></th>\n",
       "      <th>Unnamed: 0</th>\n",
       "      <th>date</th>\n",
       "      <th>appliances</th>\n",
       "      <th>lights</th>\n",
       "      <th>T1</th>\n",
       "      <th>RH_1</th>\n",
       "      <th>T2</th>\n",
       "      <th>RH_2</th>\n",
       "      <th>T3</th>\n",
       "      <th>RH_3</th>\n",
       "      <th>...</th>\n",
       "      <th>RH_8</th>\n",
       "      <th>T9</th>\n",
       "      <th>RH_9</th>\n",
       "      <th>T_out</th>\n",
       "      <th>press_mm_hg</th>\n",
       "      <th>RH_out</th>\n",
       "      <th>windspeed</th>\n",
       "      <th>visibility</th>\n",
       "      <th>tdewpoint</th>\n",
       "      <th>weekday</th>\n",
       "    </tr>\n",
       "  </thead>\n",
       "  <tbody>\n",
       "    <tr>\n",
       "      <th>0</th>\n",
       "      <td>0</td>\n",
       "      <td>2016-01-11 17:00:00</td>\n",
       "      <td>60</td>\n",
       "      <td>30</td>\n",
       "      <td>19.89</td>\n",
       "      <td>47.596667</td>\n",
       "      <td>19.2</td>\n",
       "      <td>44.790000</td>\n",
       "      <td>19.79</td>\n",
       "      <td>44.730000</td>\n",
       "      <td>...</td>\n",
       "      <td>48.900000</td>\n",
       "      <td>17.033333</td>\n",
       "      <td>45.53</td>\n",
       "      <td>6.60</td>\n",
       "      <td>733.5</td>\n",
       "      <td>92.0</td>\n",
       "      <td>7.000000</td>\n",
       "      <td>63.000000</td>\n",
       "      <td>5.3</td>\n",
       "      <td>Monday</td>\n",
       "    </tr>\n",
       "    <tr>\n",
       "      <th>1</th>\n",
       "      <td>1</td>\n",
       "      <td>2016-01-11 17:10:00</td>\n",
       "      <td>60</td>\n",
       "      <td>30</td>\n",
       "      <td>19.89</td>\n",
       "      <td>46.693333</td>\n",
       "      <td>19.2</td>\n",
       "      <td>44.722500</td>\n",
       "      <td>19.79</td>\n",
       "      <td>44.790000</td>\n",
       "      <td>...</td>\n",
       "      <td>48.863333</td>\n",
       "      <td>17.066667</td>\n",
       "      <td>45.56</td>\n",
       "      <td>6.48</td>\n",
       "      <td>733.6</td>\n",
       "      <td>92.0</td>\n",
       "      <td>6.666667</td>\n",
       "      <td>59.166667</td>\n",
       "      <td>5.2</td>\n",
       "      <td>Monday</td>\n",
       "    </tr>\n",
       "    <tr>\n",
       "      <th>2</th>\n",
       "      <td>2</td>\n",
       "      <td>2016-01-11 17:20:00</td>\n",
       "      <td>50</td>\n",
       "      <td>30</td>\n",
       "      <td>19.89</td>\n",
       "      <td>46.300000</td>\n",
       "      <td>19.2</td>\n",
       "      <td>44.626667</td>\n",
       "      <td>19.79</td>\n",
       "      <td>44.933333</td>\n",
       "      <td>...</td>\n",
       "      <td>48.730000</td>\n",
       "      <td>17.000000</td>\n",
       "      <td>45.50</td>\n",
       "      <td>6.37</td>\n",
       "      <td>733.7</td>\n",
       "      <td>92.0</td>\n",
       "      <td>6.333333</td>\n",
       "      <td>55.333333</td>\n",
       "      <td>5.1</td>\n",
       "      <td>Monday</td>\n",
       "    </tr>\n",
       "    <tr>\n",
       "      <th>3</th>\n",
       "      <td>3</td>\n",
       "      <td>2016-01-11 17:30:00</td>\n",
       "      <td>50</td>\n",
       "      <td>40</td>\n",
       "      <td>19.89</td>\n",
       "      <td>46.066667</td>\n",
       "      <td>19.2</td>\n",
       "      <td>44.590000</td>\n",
       "      <td>19.79</td>\n",
       "      <td>45.000000</td>\n",
       "      <td>...</td>\n",
       "      <td>48.590000</td>\n",
       "      <td>17.000000</td>\n",
       "      <td>45.40</td>\n",
       "      <td>6.25</td>\n",
       "      <td>733.8</td>\n",
       "      <td>92.0</td>\n",
       "      <td>6.000000</td>\n",
       "      <td>51.500000</td>\n",
       "      <td>5.0</td>\n",
       "      <td>Monday</td>\n",
       "    </tr>\n",
       "    <tr>\n",
       "      <th>4</th>\n",
       "      <td>4</td>\n",
       "      <td>2016-01-11 17:40:00</td>\n",
       "      <td>60</td>\n",
       "      <td>40</td>\n",
       "      <td>19.89</td>\n",
       "      <td>46.333333</td>\n",
       "      <td>19.2</td>\n",
       "      <td>44.530000</td>\n",
       "      <td>19.79</td>\n",
       "      <td>45.000000</td>\n",
       "      <td>...</td>\n",
       "      <td>48.590000</td>\n",
       "      <td>17.000000</td>\n",
       "      <td>45.40</td>\n",
       "      <td>6.13</td>\n",
       "      <td>733.9</td>\n",
       "      <td>92.0</td>\n",
       "      <td>5.666667</td>\n",
       "      <td>47.666667</td>\n",
       "      <td>4.9</td>\n",
       "      <td>Monday</td>\n",
       "    </tr>\n",
       "  </tbody>\n",
       "</table>\n",
       "<p>5 rows × 29 columns</p>\n",
       "</div>"
      ],
      "text/plain": [
       "   Unnamed: 0                 date  appliances  lights     T1       RH_1  \\\n",
       "0           0  2016-01-11 17:00:00          60      30  19.89  47.596667   \n",
       "1           1  2016-01-11 17:10:00          60      30  19.89  46.693333   \n",
       "2           2  2016-01-11 17:20:00          50      30  19.89  46.300000   \n",
       "3           3  2016-01-11 17:30:00          50      40  19.89  46.066667   \n",
       "4           4  2016-01-11 17:40:00          60      40  19.89  46.333333   \n",
       "\n",
       "     T2       RH_2     T3       RH_3  ...       RH_8         T9   RH_9  T_out  \\\n",
       "0  19.2  44.790000  19.79  44.730000  ...  48.900000  17.033333  45.53   6.60   \n",
       "1  19.2  44.722500  19.79  44.790000  ...  48.863333  17.066667  45.56   6.48   \n",
       "2  19.2  44.626667  19.79  44.933333  ...  48.730000  17.000000  45.50   6.37   \n",
       "3  19.2  44.590000  19.79  45.000000  ...  48.590000  17.000000  45.40   6.25   \n",
       "4  19.2  44.530000  19.79  45.000000  ...  48.590000  17.000000  45.40   6.13   \n",
       "\n",
       "   press_mm_hg  RH_out  windspeed  visibility  tdewpoint  weekday  \n",
       "0        733.5    92.0   7.000000   63.000000        5.3   Monday  \n",
       "1        733.6    92.0   6.666667   59.166667        5.2   Monday  \n",
       "2        733.7    92.0   6.333333   55.333333        5.1   Monday  \n",
       "3        733.8    92.0   6.000000   51.500000        5.0   Monday  \n",
       "4        733.9    92.0   5.666667   47.666667        4.9   Monday  \n",
       "\n",
       "[5 rows x 29 columns]"
      ]
     },
     "execution_count": 2,
     "metadata": {},
     "output_type": "execute_result"
    }
   ],
   "source": [
    "df_reg = pd.read_csv('../data/Lab3_Mrdak_MO-221.csv')\n",
    "df_reg.head()"
   ]
  },
  {
   "cell_type": "code",
   "execution_count": 3,
   "id": "777f40a4-3e10-4c3a-8bbf-adc3fb4d92f9",
   "metadata": {},
   "outputs": [
    {
     "data": {
      "text/html": [
       "<div>\n",
       "<style scoped>\n",
       "    .dataframe tbody tr th:only-of-type {\n",
       "        vertical-align: middle;\n",
       "    }\n",
       "\n",
       "    .dataframe tbody tr th {\n",
       "        vertical-align: top;\n",
       "    }\n",
       "\n",
       "    .dataframe thead th {\n",
       "        text-align: right;\n",
       "    }\n",
       "</style>\n",
       "<table border=\"1\" class=\"dataframe\">\n",
       "  <thead>\n",
       "    <tr style=\"text-align: right;\">\n",
       "      <th></th>\n",
       "      <th>Unnamed: 0</th>\n",
       "      <th>name</th>\n",
       "      <th>est_diameter_min</th>\n",
       "      <th>est_diameter_max</th>\n",
       "      <th>relative_velocity</th>\n",
       "      <th>miss_distance</th>\n",
       "      <th>absolute_magnitude</th>\n",
       "      <th>hazardous</th>\n",
       "    </tr>\n",
       "  </thead>\n",
       "  <tbody>\n",
       "    <tr>\n",
       "      <th>0</th>\n",
       "      <td>0</td>\n",
       "      <td>(2011 GZ2)</td>\n",
       "      <td>0.016016</td>\n",
       "      <td>0.035813</td>\n",
       "      <td>56014.078517</td>\n",
       "      <td>1.024333e+06</td>\n",
       "      <td>26.1</td>\n",
       "      <td>0</td>\n",
       "    </tr>\n",
       "    <tr>\n",
       "      <th>1</th>\n",
       "      <td>1</td>\n",
       "      <td>(2020 HT6)</td>\n",
       "      <td>0.030518</td>\n",
       "      <td>0.068240</td>\n",
       "      <td>7864.348060</td>\n",
       "      <td>3.268186e+07</td>\n",
       "      <td>24.7</td>\n",
       "      <td>0</td>\n",
       "    </tr>\n",
       "    <tr>\n",
       "      <th>2</th>\n",
       "      <td>2</td>\n",
       "      <td>(2016 ED156)</td>\n",
       "      <td>0.055533</td>\n",
       "      <td>0.124177</td>\n",
       "      <td>55257.544508</td>\n",
       "      <td>6.538636e+07</td>\n",
       "      <td>23.4</td>\n",
       "      <td>0</td>\n",
       "    </tr>\n",
       "    <tr>\n",
       "      <th>3</th>\n",
       "      <td>3</td>\n",
       "      <td>(2013 FD8)</td>\n",
       "      <td>0.019256</td>\n",
       "      <td>0.043057</td>\n",
       "      <td>41531.404722</td>\n",
       "      <td>1.260796e+07</td>\n",
       "      <td>25.7</td>\n",
       "      <td>0</td>\n",
       "    </tr>\n",
       "    <tr>\n",
       "      <th>4</th>\n",
       "      <td>4</td>\n",
       "      <td>(2016 CW31)</td>\n",
       "      <td>0.139494</td>\n",
       "      <td>0.311918</td>\n",
       "      <td>67639.394481</td>\n",
       "      <td>7.130590e+07</td>\n",
       "      <td>21.4</td>\n",
       "      <td>0</td>\n",
       "    </tr>\n",
       "  </tbody>\n",
       "</table>\n",
       "</div>"
      ],
      "text/plain": [
       "   Unnamed: 0          name  est_diameter_min  est_diameter_max  \\\n",
       "0           0    (2011 GZ2)          0.016016          0.035813   \n",
       "1           1    (2020 HT6)          0.030518          0.068240   \n",
       "2           2  (2016 ED156)          0.055533          0.124177   \n",
       "3           3    (2013 FD8)          0.019256          0.043057   \n",
       "4           4   (2016 CW31)          0.139494          0.311918   \n",
       "\n",
       "   relative_velocity  miss_distance  absolute_magnitude  hazardous  \n",
       "0       56014.078517   1.024333e+06                26.1          0  \n",
       "1        7864.348060   3.268186e+07                24.7          0  \n",
       "2       55257.544508   6.538636e+07                23.4          0  \n",
       "3       41531.404722   1.260796e+07                25.7          0  \n",
       "4       67639.394481   7.130590e+07                21.4          0  "
      ]
     },
     "execution_count": 3,
     "metadata": {},
     "output_type": "execute_result"
    }
   ],
   "source": [
    "df_class = pd.read_csv('../data/Lab4_Mrdak_MO-221.csv')\n",
    "df_class.head()"
   ]
  },
  {
   "cell_type": "markdown",
   "id": "8cbed1fe-0511-40a6-b8cb-0e50bfc3ba2f",
   "metadata": {},
   "source": [
    "## Удаление ненужных столбцов"
   ]
  },
  {
   "cell_type": "code",
   "execution_count": 4,
   "id": "7f5eae9b-c3e5-436f-93b0-3cf2cb92fceb",
   "metadata": {},
   "outputs": [
    {
     "data": {
      "text/html": [
       "<div>\n",
       "<style scoped>\n",
       "    .dataframe tbody tr th:only-of-type {\n",
       "        vertical-align: middle;\n",
       "    }\n",
       "\n",
       "    .dataframe tbody tr th {\n",
       "        vertical-align: top;\n",
       "    }\n",
       "\n",
       "    .dataframe thead th {\n",
       "        text-align: right;\n",
       "    }\n",
       "</style>\n",
       "<table border=\"1\" class=\"dataframe\">\n",
       "  <thead>\n",
       "    <tr style=\"text-align: right;\">\n",
       "      <th></th>\n",
       "      <th>appliances</th>\n",
       "      <th>lights</th>\n",
       "      <th>T1</th>\n",
       "      <th>RH_1</th>\n",
       "      <th>T2</th>\n",
       "      <th>RH_2</th>\n",
       "      <th>T3</th>\n",
       "      <th>RH_3</th>\n",
       "      <th>T4</th>\n",
       "      <th>RH_4</th>\n",
       "      <th>...</th>\n",
       "      <th>T8</th>\n",
       "      <th>RH_8</th>\n",
       "      <th>T9</th>\n",
       "      <th>RH_9</th>\n",
       "      <th>T_out</th>\n",
       "      <th>press_mm_hg</th>\n",
       "      <th>RH_out</th>\n",
       "      <th>windspeed</th>\n",
       "      <th>visibility</th>\n",
       "      <th>tdewpoint</th>\n",
       "    </tr>\n",
       "  </thead>\n",
       "  <tbody>\n",
       "    <tr>\n",
       "      <th>0</th>\n",
       "      <td>60</td>\n",
       "      <td>30</td>\n",
       "      <td>19.89</td>\n",
       "      <td>47.596667</td>\n",
       "      <td>19.2</td>\n",
       "      <td>44.790000</td>\n",
       "      <td>19.79</td>\n",
       "      <td>44.730000</td>\n",
       "      <td>19.000000</td>\n",
       "      <td>45.566667</td>\n",
       "      <td>...</td>\n",
       "      <td>18.2</td>\n",
       "      <td>48.900000</td>\n",
       "      <td>17.033333</td>\n",
       "      <td>45.53</td>\n",
       "      <td>6.60</td>\n",
       "      <td>733.5</td>\n",
       "      <td>92.0</td>\n",
       "      <td>7.000000</td>\n",
       "      <td>63.000000</td>\n",
       "      <td>5.3</td>\n",
       "    </tr>\n",
       "    <tr>\n",
       "      <th>1</th>\n",
       "      <td>60</td>\n",
       "      <td>30</td>\n",
       "      <td>19.89</td>\n",
       "      <td>46.693333</td>\n",
       "      <td>19.2</td>\n",
       "      <td>44.722500</td>\n",
       "      <td>19.79</td>\n",
       "      <td>44.790000</td>\n",
       "      <td>19.000000</td>\n",
       "      <td>45.992500</td>\n",
       "      <td>...</td>\n",
       "      <td>18.2</td>\n",
       "      <td>48.863333</td>\n",
       "      <td>17.066667</td>\n",
       "      <td>45.56</td>\n",
       "      <td>6.48</td>\n",
       "      <td>733.6</td>\n",
       "      <td>92.0</td>\n",
       "      <td>6.666667</td>\n",
       "      <td>59.166667</td>\n",
       "      <td>5.2</td>\n",
       "    </tr>\n",
       "    <tr>\n",
       "      <th>2</th>\n",
       "      <td>50</td>\n",
       "      <td>30</td>\n",
       "      <td>19.89</td>\n",
       "      <td>46.300000</td>\n",
       "      <td>19.2</td>\n",
       "      <td>44.626667</td>\n",
       "      <td>19.79</td>\n",
       "      <td>44.933333</td>\n",
       "      <td>18.926667</td>\n",
       "      <td>45.890000</td>\n",
       "      <td>...</td>\n",
       "      <td>18.2</td>\n",
       "      <td>48.730000</td>\n",
       "      <td>17.000000</td>\n",
       "      <td>45.50</td>\n",
       "      <td>6.37</td>\n",
       "      <td>733.7</td>\n",
       "      <td>92.0</td>\n",
       "      <td>6.333333</td>\n",
       "      <td>55.333333</td>\n",
       "      <td>5.1</td>\n",
       "    </tr>\n",
       "    <tr>\n",
       "      <th>3</th>\n",
       "      <td>50</td>\n",
       "      <td>40</td>\n",
       "      <td>19.89</td>\n",
       "      <td>46.066667</td>\n",
       "      <td>19.2</td>\n",
       "      <td>44.590000</td>\n",
       "      <td>19.79</td>\n",
       "      <td>45.000000</td>\n",
       "      <td>18.890000</td>\n",
       "      <td>45.723333</td>\n",
       "      <td>...</td>\n",
       "      <td>18.1</td>\n",
       "      <td>48.590000</td>\n",
       "      <td>17.000000</td>\n",
       "      <td>45.40</td>\n",
       "      <td>6.25</td>\n",
       "      <td>733.8</td>\n",
       "      <td>92.0</td>\n",
       "      <td>6.000000</td>\n",
       "      <td>51.500000</td>\n",
       "      <td>5.0</td>\n",
       "    </tr>\n",
       "    <tr>\n",
       "      <th>4</th>\n",
       "      <td>60</td>\n",
       "      <td>40</td>\n",
       "      <td>19.89</td>\n",
       "      <td>46.333333</td>\n",
       "      <td>19.2</td>\n",
       "      <td>44.530000</td>\n",
       "      <td>19.79</td>\n",
       "      <td>45.000000</td>\n",
       "      <td>18.890000</td>\n",
       "      <td>45.530000</td>\n",
       "      <td>...</td>\n",
       "      <td>18.1</td>\n",
       "      <td>48.590000</td>\n",
       "      <td>17.000000</td>\n",
       "      <td>45.40</td>\n",
       "      <td>6.13</td>\n",
       "      <td>733.9</td>\n",
       "      <td>92.0</td>\n",
       "      <td>5.666667</td>\n",
       "      <td>47.666667</td>\n",
       "      <td>4.9</td>\n",
       "    </tr>\n",
       "  </tbody>\n",
       "</table>\n",
       "<p>5 rows × 26 columns</p>\n",
       "</div>"
      ],
      "text/plain": [
       "   appliances  lights     T1       RH_1    T2       RH_2     T3       RH_3  \\\n",
       "0          60      30  19.89  47.596667  19.2  44.790000  19.79  44.730000   \n",
       "1          60      30  19.89  46.693333  19.2  44.722500  19.79  44.790000   \n",
       "2          50      30  19.89  46.300000  19.2  44.626667  19.79  44.933333   \n",
       "3          50      40  19.89  46.066667  19.2  44.590000  19.79  45.000000   \n",
       "4          60      40  19.89  46.333333  19.2  44.530000  19.79  45.000000   \n",
       "\n",
       "          T4       RH_4  ...    T8       RH_8         T9   RH_9  T_out  \\\n",
       "0  19.000000  45.566667  ...  18.2  48.900000  17.033333  45.53   6.60   \n",
       "1  19.000000  45.992500  ...  18.2  48.863333  17.066667  45.56   6.48   \n",
       "2  18.926667  45.890000  ...  18.2  48.730000  17.000000  45.50   6.37   \n",
       "3  18.890000  45.723333  ...  18.1  48.590000  17.000000  45.40   6.25   \n",
       "4  18.890000  45.530000  ...  18.1  48.590000  17.000000  45.40   6.13   \n",
       "\n",
       "   press_mm_hg  RH_out  windspeed  visibility  tdewpoint  \n",
       "0        733.5    92.0   7.000000   63.000000        5.3  \n",
       "1        733.6    92.0   6.666667   59.166667        5.2  \n",
       "2        733.7    92.0   6.333333   55.333333        5.1  \n",
       "3        733.8    92.0   6.000000   51.500000        5.0  \n",
       "4        733.9    92.0   5.666667   47.666667        4.9  \n",
       "\n",
       "[5 rows x 26 columns]"
      ]
     },
     "execution_count": 4,
     "metadata": {},
     "output_type": "execute_result"
    }
   ],
   "source": [
    "df_reg = df_reg.drop(['Unnamed: 0', 'date', 'weekday'], axis=1)\n",
    "df_reg.head()"
   ]
  },
  {
   "cell_type": "code",
   "execution_count": 5,
   "id": "80077c5e-6657-46c1-9842-5972e3e3baca",
   "metadata": {},
   "outputs": [
    {
     "data": {
      "text/html": [
       "<div>\n",
       "<style scoped>\n",
       "    .dataframe tbody tr th:only-of-type {\n",
       "        vertical-align: middle;\n",
       "    }\n",
       "\n",
       "    .dataframe tbody tr th {\n",
       "        vertical-align: top;\n",
       "    }\n",
       "\n",
       "    .dataframe thead th {\n",
       "        text-align: right;\n",
       "    }\n",
       "</style>\n",
       "<table border=\"1\" class=\"dataframe\">\n",
       "  <thead>\n",
       "    <tr style=\"text-align: right;\">\n",
       "      <th></th>\n",
       "      <th>est_diameter_min</th>\n",
       "      <th>est_diameter_max</th>\n",
       "      <th>relative_velocity</th>\n",
       "      <th>miss_distance</th>\n",
       "      <th>absolute_magnitude</th>\n",
       "      <th>hazardous</th>\n",
       "    </tr>\n",
       "  </thead>\n",
       "  <tbody>\n",
       "    <tr>\n",
       "      <th>0</th>\n",
       "      <td>0.016016</td>\n",
       "      <td>0.035813</td>\n",
       "      <td>56014.078517</td>\n",
       "      <td>1.024333e+06</td>\n",
       "      <td>26.1</td>\n",
       "      <td>0</td>\n",
       "    </tr>\n",
       "    <tr>\n",
       "      <th>1</th>\n",
       "      <td>0.030518</td>\n",
       "      <td>0.068240</td>\n",
       "      <td>7864.348060</td>\n",
       "      <td>3.268186e+07</td>\n",
       "      <td>24.7</td>\n",
       "      <td>0</td>\n",
       "    </tr>\n",
       "    <tr>\n",
       "      <th>2</th>\n",
       "      <td>0.055533</td>\n",
       "      <td>0.124177</td>\n",
       "      <td>55257.544508</td>\n",
       "      <td>6.538636e+07</td>\n",
       "      <td>23.4</td>\n",
       "      <td>0</td>\n",
       "    </tr>\n",
       "    <tr>\n",
       "      <th>3</th>\n",
       "      <td>0.019256</td>\n",
       "      <td>0.043057</td>\n",
       "      <td>41531.404722</td>\n",
       "      <td>1.260796e+07</td>\n",
       "      <td>25.7</td>\n",
       "      <td>0</td>\n",
       "    </tr>\n",
       "    <tr>\n",
       "      <th>4</th>\n",
       "      <td>0.139494</td>\n",
       "      <td>0.311918</td>\n",
       "      <td>67639.394481</td>\n",
       "      <td>7.130590e+07</td>\n",
       "      <td>21.4</td>\n",
       "      <td>0</td>\n",
       "    </tr>\n",
       "  </tbody>\n",
       "</table>\n",
       "</div>"
      ],
      "text/plain": [
       "   est_diameter_min  est_diameter_max  relative_velocity  miss_distance  \\\n",
       "0          0.016016          0.035813       56014.078517   1.024333e+06   \n",
       "1          0.030518          0.068240        7864.348060   3.268186e+07   \n",
       "2          0.055533          0.124177       55257.544508   6.538636e+07   \n",
       "3          0.019256          0.043057       41531.404722   1.260796e+07   \n",
       "4          0.139494          0.311918       67639.394481   7.130590e+07   \n",
       "\n",
       "   absolute_magnitude  hazardous  \n",
       "0                26.1          0  \n",
       "1                24.7          0  \n",
       "2                23.4          0  \n",
       "3                25.7          0  \n",
       "4                21.4          0  "
      ]
     },
     "execution_count": 5,
     "metadata": {},
     "output_type": "execute_result"
    }
   ],
   "source": [
    "df_class = df_class.drop(['Unnamed: 0', 'name'], axis=1)\n",
    "df_class.head()"
   ]
  },
  {
   "cell_type": "markdown",
   "id": "76000d58-06b3-4b4c-af21-1cd91c21054d",
   "metadata": {},
   "source": [
    "## Выделение целевого признака для обоих датасетов"
   ]
  },
  {
   "cell_type": "code",
   "execution_count": 6,
   "id": "5bc92629-2816-41fe-a03c-80ca98aea6ef",
   "metadata": {},
   "outputs": [],
   "source": [
    "y_reg = df_reg[\"appliances\"]\n",
    "X_reg = df_reg.drop([\"appliances\"], axis=1)"
   ]
  },
  {
   "cell_type": "code",
   "execution_count": 7,
   "id": "8c98f158-142e-4f6d-a2ce-e1c89671fb80",
   "metadata": {},
   "outputs": [],
   "source": [
    "X_train_reg, X_test_reg, y_train_reg, y_test_reg = train_test_split(X_reg, y_reg, test_size=0.2, stratify = y_reg)"
   ]
  },
  {
   "cell_type": "code",
   "execution_count": 8,
   "id": "297c3d65-3ee5-4667-9479-a5cc7ce0723f",
   "metadata": {},
   "outputs": [],
   "source": [
    "y_class = df_class[\"hazardous\"]\n",
    "X_class = df_class.drop([\"hazardous\"], axis=1)"
   ]
  },
  {
   "cell_type": "code",
   "execution_count": 9,
   "id": "21f65f61-1f03-4c60-bd13-7d4cde29db9f",
   "metadata": {},
   "outputs": [],
   "source": [
    "nm = NearMiss()\n",
    "X_class, y_class = nm.fit_resample(X_class, y_class.ravel())"
   ]
  },
  {
   "cell_type": "code",
   "execution_count": 10,
   "id": "8d530636-41a6-4d17-a7fe-0088cd1bdad4",
   "metadata": {},
   "outputs": [],
   "source": [
    "X_train_class, X_test_class, y_train_class, y_test_class = train_test_split(X_class, y_class, test_size=0.2, stratify = y_class)"
   ]
  },
  {
   "cell_type": "markdown",
   "id": "b8c4cddf-0d32-452b-ac09-4446150b1f22",
   "metadata": {},
   "source": [
    "## Масштабирование"
   ]
  },
  {
   "cell_type": "code",
   "execution_count": 11,
   "id": "23b4d625-bf9d-4d4a-a3d1-ad317f030f19",
   "metadata": {},
   "outputs": [],
   "source": [
    "sc_reg = StandardScaler()\n",
    "X_train_reg = sc_reg.fit_transform(X_train_reg)\n",
    "X_test_reg = sc_reg.transform(X_test_reg)"
   ]
  },
  {
   "cell_type": "code",
   "execution_count": 12,
   "id": "50f5d411-ef7f-4edd-a635-5faf920b6158",
   "metadata": {},
   "outputs": [],
   "source": [
    "sc_class = StandardScaler()\n",
    "X_train_class = sc_class.fit_transform(X_train_class)\n",
    "X_test_class = sc_class.transform(X_test_class)"
   ]
  },
  {
   "cell_type": "markdown",
   "id": "2c8e5119-a599-402e-8930-236e788699cc",
   "metadata": {},
   "source": [
    "## Создание вспомогательных функций"
   ]
  },
  {
   "cell_type": "code",
   "execution_count": 13,
   "id": "a340ffcd-0e83-45bb-a06c-673f60a3f026",
   "metadata": {},
   "outputs": [],
   "source": [
    "from sklearn.metrics import mean_squared_error, mean_absolute_error, mean_absolute_percentage_error, r2_score\n",
    "from math import sqrt\n",
    "def metrics(name, y_test, y_pred):\n",
    "    print(name)\n",
    "    print(f'MAE: {mean_absolute_error(y_test, y_pred)}')\n",
    "    print(f'MSE: {mean_squared_error(y_test, y_pred)}')\n",
    "    print(f'RMSE: {sqrt(mean_squared_error(y_test, y_pred))}')\n",
    "    print(f'MAPE: {mean_absolute_percentage_error(y_test, y_pred)}')\n",
    "    print(f'R^2: {r2_score(y_test, y_pred)}')"
   ]
  },
  {
   "cell_type": "code",
   "execution_count": 14,
   "id": "27f9264e-ff80-41bd-9361-85925f6c97eb",
   "metadata": {},
   "outputs": [],
   "source": [
    "from sklearn.metrics import roc_auc_score\n",
    "def auc_roc(X_test, y_test, model):\n",
    "    y_scores = model.predict_proba(X_test)   \n",
    "    print(roc_auc_score(y_test, y_scores[:,1]))"
   ]
  },
  {
   "cell_type": "markdown",
   "id": "472476fa-9c77-4bba-a99d-bcd0b6ae1bae",
   "metadata": {},
   "source": [
    "## Построение моделей"
   ]
  },
  {
   "cell_type": "markdown",
   "id": "f3ecbb1f-fbd0-429c-a91c-f851ca86ae8a",
   "metadata": {},
   "source": [
    "### Регрессия"
   ]
  },
  {
   "cell_type": "code",
   "execution_count": 15,
   "id": "62628b2b-8cc8-4992-8db2-c76165dab411",
   "metadata": {},
   "outputs": [],
   "source": [
    "model_regression = tf.keras.Sequential(\n",
    "    [\n",
    "        tf.keras.layers.Dense(64, activation=\"relu\", input_shape=(25,)),\n",
    "        tf.keras.layers.Dense(32, activation=\"linear\"),\n",
    "        tf.keras.layers.Dropout(0.1),\n",
    "        tf.keras.layers.Dense(32, activation=\"relu\"),\n",
    "        tf.keras.layers.Dropout(0.1),\n",
    "        tf.keras.layers.Dense(1, activation=\"linear\"),\n",
    "    ]\n",
    ")"
   ]
  },
  {
   "cell_type": "code",
   "execution_count": 16,
   "id": "46bd12c5-19c5-4d4e-a59d-ec6869376700",
   "metadata": {},
   "outputs": [
    {
     "name": "stdout",
     "output_type": "stream",
     "text": [
      "Model: \"sequential\"\n",
      "_________________________________________________________________\n",
      " Layer (type)                Output Shape              Param #   \n",
      "=================================================================\n",
      " dense (Dense)               (None, 64)                1664      \n",
      "                                                                 \n",
      " dense_1 (Dense)             (None, 32)                2080      \n",
      "                                                                 \n",
      " dropout (Dropout)           (None, 32)                0         \n",
      "                                                                 \n",
      " dense_2 (Dense)             (None, 32)                1056      \n",
      "                                                                 \n",
      " dropout_1 (Dropout)         (None, 32)                0         \n",
      "                                                                 \n",
      " dense_3 (Dense)             (None, 1)                 33        \n",
      "                                                                 \n",
      "=================================================================\n",
      "Total params: 4833 (18.88 KB)\n",
      "Trainable params: 4833 (18.88 KB)\n",
      "Non-trainable params: 0 (0.00 Byte)\n",
      "_________________________________________________________________\n"
     ]
    }
   ],
   "source": [
    "model_regression.summary()"
   ]
  },
  {
   "cell_type": "code",
   "execution_count": 17,
   "id": "285ae1a8-838e-4101-83c7-4d29a5a3a467",
   "metadata": {},
   "outputs": [],
   "source": [
    "model_regression.compile(optimizer=tf.keras.optimizers.Adam(learning_rate=0.005), loss=\"mse\")"
   ]
  },
  {
   "cell_type": "code",
   "execution_count": 18,
   "id": "c8d6763f-5809-4aae-a4e2-58885748c1ee",
   "metadata": {},
   "outputs": [
    {
     "data": {
      "text/plain": [
       "<keras.src.callbacks.History at 0x1f04e4886d0>"
      ]
     },
     "execution_count": 18,
     "metadata": {},
     "output_type": "execute_result"
    }
   ],
   "source": [
    "model_regression.fit(X_train_reg, y_train_reg, epochs=150, verbose = None)"
   ]
  },
  {
   "cell_type": "code",
   "execution_count": 19,
   "id": "1175c946-82de-4654-ac21-b6cc67ca5d31",
   "metadata": {},
   "outputs": [
    {
     "name": "stdout",
     "output_type": "stream",
     "text": [
      "110/110 [==============================] - 0s 835us/step\n",
      "Регрессия\n",
      "MAE: 12.576800413565202\n",
      "MSE: 327.7374951721774\n",
      "RMSE: 18.103521623490202\n",
      "MAPE: 0.2050711421964972\n",
      "R^2: 0.595788947194962\n"
     ]
    }
   ],
   "source": [
    "metrics(\"Регрессия\", y_test_reg, model_regression.predict(X_test_reg))"
   ]
  },
  {
   "cell_type": "markdown",
   "id": "a6c3920e-b4ec-44d5-a8fe-46e476bd458c",
   "metadata": {},
   "source": [
    "### Классификация"
   ]
  },
  {
   "cell_type": "code",
   "execution_count": 20,
   "id": "c2620b2c-b620-4748-b583-9c4a85c64bbe",
   "metadata": {},
   "outputs": [],
   "source": [
    "model_classification = tf.keras.Sequential(\n",
    "    [\n",
    "        tf.keras.layers.Dense(64, activation=\"relu\", input_shape=(5,)),\n",
    "        tf.keras.layers.Dense(128, activation=\"relu\"),\n",
    "        tf.keras.layers.Dropout(0.05),\n",
    "        tf.keras.layers.Dense(64, activation=\"relu\"),\n",
    "        tf.keras.layers.Dense(32, activation=\"relu\"),\n",
    "        tf.keras.layers.Dense(16, activation=\"relu\"),\n",
    "        tf.keras.layers.Dense(2, activation=\"softmax\"),\n",
    "    ]\n",
    ")"
   ]
  },
  {
   "cell_type": "code",
   "execution_count": 21,
   "id": "5196077b-69b3-4528-b108-6a34fbe1fe0f",
   "metadata": {},
   "outputs": [],
   "source": [
    "model_classification.compile(optimizer=tf.keras.optimizers.Adam(learning_rate=0.005), loss=\"sparse_categorical_crossentropy\")"
   ]
  },
  {
   "cell_type": "code",
   "execution_count": 22,
   "id": "24cf6893-3ce4-47cd-8c3d-e51210c17214",
   "metadata": {},
   "outputs": [
    {
     "name": "stdout",
     "output_type": "stream",
     "text": [
      "Epoch 1/50\n",
      "322/322 [==============================] - 1s 1ms/step - loss: 0.2827\n",
      "Epoch 2/50\n",
      "322/322 [==============================] - 0s 1ms/step - loss: 0.2632\n",
      "Epoch 3/50\n",
      "322/322 [==============================] - 0s 1ms/step - loss: 0.2611\n",
      "Epoch 4/50\n",
      "322/322 [==============================] - 0s 1ms/step - loss: 0.2598\n",
      "Epoch 5/50\n",
      "322/322 [==============================] - 0s 1ms/step - loss: 0.2574\n",
      "Epoch 6/50\n",
      "322/322 [==============================] - 0s 1ms/step - loss: 0.2568\n",
      "Epoch 7/50\n",
      "322/322 [==============================] - 0s 1ms/step - loss: 0.2567\n",
      "Epoch 8/50\n",
      "322/322 [==============================] - 0s 1ms/step - loss: 0.2556\n",
      "Epoch 9/50\n",
      "322/322 [==============================] - 0s 1ms/step - loss: 0.2553\n",
      "Epoch 10/50\n",
      "322/322 [==============================] - 0s 1ms/step - loss: 0.2552\n",
      "Epoch 11/50\n",
      "322/322 [==============================] - 0s 1ms/step - loss: 0.2545\n",
      "Epoch 12/50\n",
      "322/322 [==============================] - 0s 1ms/step - loss: 0.2559\n",
      "Epoch 13/50\n",
      "322/322 [==============================] - 0s 1ms/step - loss: 0.2535\n",
      "Epoch 14/50\n",
      "322/322 [==============================] - 0s 1ms/step - loss: 0.2555\n",
      "Epoch 15/50\n",
      "322/322 [==============================] - 0s 1ms/step - loss: 0.2528\n",
      "Epoch 16/50\n",
      "322/322 [==============================] - 0s 1ms/step - loss: 0.2547\n",
      "Epoch 17/50\n",
      "322/322 [==============================] - 0s 1ms/step - loss: 0.2531\n",
      "Epoch 18/50\n",
      "322/322 [==============================] - 0s 1ms/step - loss: 0.2540\n",
      "Epoch 19/50\n",
      "322/322 [==============================] - 0s 1ms/step - loss: 0.2519\n",
      "Epoch 20/50\n",
      "322/322 [==============================] - 0s 1ms/step - loss: 0.2532\n",
      "Epoch 21/50\n",
      "322/322 [==============================] - 0s 1ms/step - loss: 0.2527\n",
      "Epoch 22/50\n",
      "322/322 [==============================] - 0s 1ms/step - loss: 0.2527\n",
      "Epoch 23/50\n",
      "322/322 [==============================] - 0s 1ms/step - loss: 0.2524\n",
      "Epoch 24/50\n",
      "322/322 [==============================] - 0s 1ms/step - loss: 0.2505\n",
      "Epoch 25/50\n",
      "322/322 [==============================] - 0s 1ms/step - loss: 0.2524\n",
      "Epoch 26/50\n",
      "322/322 [==============================] - 0s 1ms/step - loss: 0.2514\n",
      "Epoch 27/50\n",
      "322/322 [==============================] - 0s 1ms/step - loss: 0.2500\n",
      "Epoch 28/50\n",
      "322/322 [==============================] - 0s 1ms/step - loss: 0.2526\n",
      "Epoch 29/50\n",
      "322/322 [==============================] - 0s 1ms/step - loss: 0.2501\n",
      "Epoch 30/50\n",
      "322/322 [==============================] - 0s 1ms/step - loss: 0.2524\n",
      "Epoch 31/50\n",
      "322/322 [==============================] - 0s 1ms/step - loss: 0.2528\n",
      "Epoch 32/50\n",
      "322/322 [==============================] - 0s 1ms/step - loss: 0.2513\n",
      "Epoch 33/50\n",
      "322/322 [==============================] - 0s 1ms/step - loss: 0.2521\n",
      "Epoch 34/50\n",
      "322/322 [==============================] - 0s 1ms/step - loss: 0.2502\n",
      "Epoch 35/50\n",
      "322/322 [==============================] - 0s 1ms/step - loss: 0.2505\n",
      "Epoch 36/50\n",
      "322/322 [==============================] - 0s 1ms/step - loss: 0.2506\n",
      "Epoch 37/50\n",
      "322/322 [==============================] - 0s 1ms/step - loss: 0.2491\n",
      "Epoch 38/50\n",
      "322/322 [==============================] - 0s 1ms/step - loss: 0.2497\n",
      "Epoch 39/50\n",
      "322/322 [==============================] - 0s 1ms/step - loss: 0.2496\n",
      "Epoch 40/50\n",
      "322/322 [==============================] - 0s 1ms/step - loss: 0.2508\n",
      "Epoch 41/50\n",
      "322/322 [==============================] - 0s 1ms/step - loss: 0.2506\n",
      "Epoch 42/50\n",
      "322/322 [==============================] - 0s 1ms/step - loss: 0.2491\n",
      "Epoch 43/50\n",
      "322/322 [==============================] - 0s 1ms/step - loss: 0.2494\n",
      "Epoch 44/50\n",
      "322/322 [==============================] - 0s 1ms/step - loss: 0.2499\n",
      "Epoch 45/50\n",
      "322/322 [==============================] - 0s 1ms/step - loss: 0.2488\n",
      "Epoch 46/50\n",
      "322/322 [==============================] - 0s 1ms/step - loss: 0.2475\n",
      "Epoch 47/50\n",
      "322/322 [==============================] - 0s 1ms/step - loss: 0.2482\n",
      "Epoch 48/50\n",
      "322/322 [==============================] - 0s 1ms/step - loss: 0.2493\n",
      "Epoch 49/50\n",
      "322/322 [==============================] - 0s 1ms/step - loss: 0.2515\n",
      "Epoch 50/50\n",
      "322/322 [==============================] - 0s 1ms/step - loss: 0.2468\n"
     ]
    },
    {
     "data": {
      "text/plain": [
       "<keras.src.callbacks.History at 0x1f052bac1f0>"
      ]
     },
     "execution_count": 22,
     "metadata": {},
     "output_type": "execute_result"
    }
   ],
   "source": [
    "model_classification.fit(X_train_class, y_train_class, epochs=50)"
   ]
  },
  {
   "cell_type": "code",
   "execution_count": 23,
   "id": "2be40e8c-a21e-4816-a721-0b42d9a37024",
   "metadata": {},
   "outputs": [
    {
     "name": "stdout",
     "output_type": "stream",
     "text": [
      "81/81 [==============================] - 0s 800us/step\n"
     ]
    }
   ],
   "source": [
    "y_pred = [np.argmax(pred) for pred in model_classification.predict(X_test_class)]"
   ]
  },
  {
   "cell_type": "code",
   "execution_count": 24,
   "id": "f3cf35b4-b17c-4599-8931-4e868079f3d2",
   "metadata": {},
   "outputs": [
    {
     "name": "stdout",
     "output_type": "stream",
     "text": [
      "              precision    recall  f1-score   support\n",
      "\n",
      "           0       0.98      0.81      0.89      1288\n",
      "           1       0.84      0.98      0.90      1288\n",
      "\n",
      "    accuracy                           0.90      2576\n",
      "   macro avg       0.91      0.90      0.89      2576\n",
      "weighted avg       0.91      0.90      0.89      2576\n",
      "\n",
      "[[1039  249]\n",
      " [  20 1268]]\n"
     ]
    }
   ],
   "source": [
    "print(classification_report(y_test_class, y_pred))\n",
    "print(confusion_matrix(y_test_class, y_pred))"
   ]
  },
  {
   "cell_type": "markdown",
   "id": "19f39b71-a295-4897-852d-57a453d69704",
   "metadata": {},
   "source": [
    "# Реализация MLP"
   ]
  },
  {
   "cell_type": "markdown",
   "id": "f56a7eb5-15d0-4eea-8b0d-5e0087c65960",
   "metadata": {},
   "source": [
    "Задание №2. Разработать многослойный персептрон (MLP), с помощью которого можно решать задачи регрессии и классификации. Предусмотреть возможность использования таких функции активации, как sigmoid, tanh и relu; также предусмотреть возможность указать, сколько слоев нужно, сколько на каждом из них нейронов и какую функцию активации должен иметь слой. Реализовать обучение MLP методом обратного распространения ошибки; самостоятельно найти производные функций sigmoid, tanh и relu; реализовать классический градиентный спуск с возможностью указания шага."
   ]
  },
  {
   "cell_type": "code",
   "execution_count": 25,
   "id": "dc00d572-49cc-4e7f-9895-617a47828006",
   "metadata": {},
   "outputs": [],
   "source": [
    "#input_layer = [64, \"relu\", 25]\n",
    "#hidden_layers = [[64, \"relu\"], [32, \"relu\"], [16, \"relu\"]]\n",
    "#output_layer = [1, \"relu\"]"
   ]
  },
  {
   "cell_type": "code",
   "execution_count": 26,
   "id": "08f57ebc-ed1f-4f13-b1fb-d7240d569293",
   "metadata": {},
   "outputs": [],
   "source": [
    "class MLP:\n",
    "    def __init__(self, input_size, hidden_layers):\n",
    "        self.input_size = input_size\n",
    "        self.hidden_layers = hidden_layers\n",
    "        self.weights = []\n",
    "        self.biases = []\n",
    "        self.activation = []\n",
    "        self.der_activation = []\n",
    "        #self.activation.append(self.relu)\n",
    "        #self.der_activation.append(self.relu)\n",
    "        for i in range(len(self.hidden_layers)):\n",
    "            if i == 0:\n",
    "                self.weights.append(np.random.randn(input_size, hidden_layers[i][0]))\n",
    "            else:\n",
    "                self.weights.append(np.random.randn(hidden_layers[i-1][0], hidden_layers[i][0]))\n",
    "            \n",
    "            if hidden_layers[i][1] == \"sigmoid\":\n",
    "                self.activation.append(self.sigmoid)\n",
    "                self.der_activation.append(self.der_sigmoid)\n",
    "            elif hidden_layers[i][1] == \"tanh\":\n",
    "                self.activation.append(self.tanh)\n",
    "                self.der_activation.append(self.der_tanh)\n",
    "            else:\n",
    "                self.activation.append(self.relu)\n",
    "                self.der_activation.append(self.der_relu)\n",
    "            print(self.weights[i].shape)\n",
    "            self.biases.append(np.matrix(np.zeros(self.hidden_layers[i][0])))\n",
    "            print(self.biases[i].shape)\n",
    "        \n",
    "        \n",
    "    def sigmoid(self, x):\n",
    "        return 1 / (1 + np.exp(-x))\n",
    "    def relu(self, x):\n",
    "        return np.maximum(0, x)\n",
    "    def tanh(self, x):\n",
    "        return np.tanh(x)\n",
    "        \n",
    "    def der_sigmoid(self, x):\n",
    "        return np.array(self.sigmoid(x)) * (1 - np.array(self.sigmoid(x)))\n",
    "    def der_relu(self, x):\n",
    "        return np.where(x > 0, 1, 0)\n",
    "    def der_tanh(self, x):\n",
    "        return 1 - np.array(np.tanh(x)) ** 2\n",
    "\n",
    "    def forward(self, x):\n",
    "        self.t = []\n",
    "        self.h = [np.matrix(x)]\n",
    "        h = x\n",
    "        for i in range(len(self.hidden_layers)):\n",
    "            t = (h @ self.weights[i]) + self.biases[i]\n",
    "            h = (self.activation[i](t))\n",
    "            self.t.append(np.matrix(t))\n",
    "            self.h.append(np.matrix(h))\n",
    "        return h\n",
    "        \n",
    "    def fit(self, X, y, l_rate, ep):\n",
    "        indices = np.arange(X.shape[0])\n",
    "        np.random.shuffle(indices)\n",
    "        X = X[indices]\n",
    "        y = y[indices]\n",
    "        for i in range (ep):\n",
    "            for j in range(len(X)):\n",
    "                out = self.forward(X[j])\n",
    "                weights, biases = self.backprop(X[j], y[j])\n",
    "                for l in range(len(self.weights)):\n",
    "                    self.weights[l] -= l_rate * weights[len(self.weights)-1-l]\n",
    "                    self.biases[l] -= l_rate * biases[len(self.weights)-1-l]\n",
    "            print(i)\n",
    "            \n",
    "    def predict(self, X):\n",
    "        out = np.zeros(len(X))\n",
    "        for j in range(len(X)):\n",
    "            out[j] = self.forward(X[j])\n",
    "        return out\n",
    "\n",
    "    def backprop(self, x, y):\n",
    "        dedw = []\n",
    "        dedb = []\n",
    "        for i in reversed(range(len(self.hidden_layers))):\n",
    "            if i == len(self.hidden_layers) - 1:\n",
    "                dedt = (self.h[i+1] - y)\n",
    "                dedw.append((self.h[i].T) @ dedt)\n",
    "                dedb.append(dedt)\n",
    "            else:\n",
    "                dedh = dedt @ self.weights[i+1].T\n",
    "                dedt = np.array(dedh) * np.array(self.der_activation[i](self.t[i]))\n",
    "                dedw.append(self.h[i].T @ dedt)\n",
    "                dedb.append(dedt)                \n",
    "        return dedw, dedb"
   ]
  },
  {
   "cell_type": "markdown",
   "id": "ee39d4b4-e3e3-4829-b787-5411bda0a0f7",
   "metadata": {},
   "source": [
    "### Классификация"
   ]
  },
  {
   "cell_type": "code",
   "execution_count": 27,
   "id": "4693bada-3729-4f24-94a2-027dc597fd7a",
   "metadata": {
    "scrolled": true
   },
   "outputs": [
    {
     "name": "stdout",
     "output_type": "stream",
     "text": [
      "(5, 10)\n",
      "(1, 10)\n",
      "(10, 10)\n",
      "(1, 10)\n",
      "(10, 1)\n",
      "(1, 1)\n"
     ]
    }
   ],
   "source": [
    "m2 = MLP(5, [[10, \"relu\"], [10, \"relu\"], [1, \"sigmoid\"]])"
   ]
  },
  {
   "cell_type": "code",
   "execution_count": 28,
   "id": "c65fc7de-a701-4d95-8933-9f8db9c65d16",
   "metadata": {
    "scrolled": true
   },
   "outputs": [
    {
     "name": "stdout",
     "output_type": "stream",
     "text": [
      "0\n",
      "1\n",
      "2\n",
      "3\n",
      "4\n",
      "5\n",
      "6\n",
      "7\n",
      "8\n",
      "9\n",
      "10\n",
      "11\n",
      "12\n",
      "13\n",
      "14\n",
      "15\n",
      "16\n",
      "17\n",
      "18\n",
      "19\n"
     ]
    }
   ],
   "source": [
    "m2.fit(X_train_class, np.ravel(y_train_class), ep=20, l_rate = 0.01)"
   ]
  },
  {
   "cell_type": "code",
   "execution_count": 29,
   "id": "099b44d7-25fc-412e-b2f0-ecb2c49fef4e",
   "metadata": {
    "scrolled": true
   },
   "outputs": [
    {
     "name": "stdout",
     "output_type": "stream",
     "text": [
      "              precision    recall  f1-score   support\n",
      "\n",
      "           0       0.98      0.81      0.88      1288\n",
      "           1       0.83      0.98      0.90      1288\n",
      "\n",
      "    accuracy                           0.89      2576\n",
      "   macro avg       0.91      0.89      0.89      2576\n",
      "weighted avg       0.91      0.89      0.89      2576\n",
      "\n",
      "[[1038  250]\n",
      " [  24 1264]]\n"
     ]
    }
   ],
   "source": [
    "y_pred2 = np.around(m2.predict(X_test_class))\n",
    "print(classification_report(y_test_class, y_pred2))\n",
    "print(confusion_matrix(y_test_class, y_pred2))"
   ]
  },
  {
   "cell_type": "markdown",
   "id": "a5c67031-12df-43ff-bde6-4c5fa2bc4df2",
   "metadata": {},
   "source": [
    "### Регрессия"
   ]
  },
  {
   "cell_type": "code",
   "execution_count": 44,
   "id": "b9bf7cf6-cc55-4105-87e9-59d3e1c583bb",
   "metadata": {},
   "outputs": [
    {
     "name": "stdout",
     "output_type": "stream",
     "text": [
      "(25, 16)\n",
      "(1, 16)\n",
      "(16, 32)\n",
      "(1, 32)\n",
      "(32, 8)\n",
      "(1, 8)\n",
      "(8, 1)\n",
      "(1, 1)\n"
     ]
    }
   ],
   "source": [
    "m = MLP(25, [[16, \"tanh\"], [32, \"relu\"], [8, \"relu\"], [1, \"relu\"]])"
   ]
  },
  {
   "cell_type": "code",
   "execution_count": 45,
   "id": "217604bc-dadd-47af-a68e-77d95ddc6821",
   "metadata": {},
   "outputs": [
    {
     "name": "stdout",
     "output_type": "stream",
     "text": [
      "0\n",
      "1\n",
      "2\n",
      "3\n",
      "4\n",
      "5\n",
      "6\n",
      "7\n",
      "8\n",
      "9\n",
      "10\n",
      "11\n",
      "12\n",
      "13\n",
      "14\n",
      "15\n",
      "16\n",
      "17\n",
      "18\n",
      "19\n",
      "20\n",
      "21\n",
      "22\n",
      "23\n",
      "24\n",
      "25\n",
      "26\n",
      "27\n",
      "28\n",
      "29\n",
      "30\n",
      "31\n",
      "32\n",
      "33\n",
      "34\n",
      "35\n",
      "36\n",
      "37\n",
      "38\n",
      "39\n",
      "40\n",
      "41\n",
      "42\n",
      "43\n",
      "44\n",
      "45\n",
      "46\n",
      "47\n",
      "48\n",
      "49\n"
     ]
    }
   ],
   "source": [
    "m.fit(X_train_reg, np.ravel(y_train_reg), ep=50, l_rate = 0.0005)"
   ]
  },
  {
   "cell_type": "code",
   "execution_count": 46,
   "id": "134f8d88-8f44-47ba-b14d-82b01cacb8fd",
   "metadata": {},
   "outputs": [],
   "source": [
    "y_pred = m.predict(X_test_reg)"
   ]
  },
  {
   "cell_type": "code",
   "execution_count": 47,
   "id": "68e21483-f949-4ed4-8c18-dee24154ccdd",
   "metadata": {},
   "outputs": [
    {
     "data": {
      "text/plain": [
       "array([ 54.03763229,  54.34738085,  54.36266097, ..., 122.91786351,\n",
       "       124.28466687, 142.71701931])"
      ]
     },
     "execution_count": 47,
     "metadata": {},
     "output_type": "execute_result"
    }
   ],
   "source": [
    "np.unique(y_pred)"
   ]
  },
  {
   "cell_type": "code",
   "execution_count": 48,
   "id": "1f7616ad-1447-44ae-a9b2-e6e5af46837a",
   "metadata": {},
   "outputs": [
    {
     "name": "stdout",
     "output_type": "stream",
     "text": [
      "Регрессия\n",
      "MAE: 16.759829712594996\n",
      "MSE: 526.1291586840075\n",
      "RMSE: 22.937505502648005\n",
      "MAPE: 0.2808089385332923\n",
      "R^2: 0.35110500240027\n"
     ]
    }
   ],
   "source": [
    "metrics(\"Регрессия\", y_test_reg, y_pred)"
   ]
  },
  {
   "cell_type": "code",
   "execution_count": null,
   "id": "f5493bf5-2b8a-459f-8d83-7f898110bd6e",
   "metadata": {},
   "outputs": [],
   "source": []
  }
 ],
 "metadata": {
  "kernelspec": {
   "display_name": "Python 3 (ipykernel)",
   "language": "python",
   "name": "python3"
  },
  "language_info": {
   "codemirror_mode": {
    "name": "ipython",
    "version": 3
   },
   "file_extension": ".py",
   "mimetype": "text/x-python",
   "name": "python",
   "nbconvert_exporter": "python",
   "pygments_lexer": "ipython3",
   "version": "3.10.4"
  }
 },
 "nbformat": 4,
 "nbformat_minor": 5
}
