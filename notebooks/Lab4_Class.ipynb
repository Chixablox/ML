{
 "cells": [
  {
   "cell_type": "code",
   "execution_count": 1,
   "id": "493ce5a5-2488-47c7-9d10-48ac34adc2b2",
   "metadata": {},
   "outputs": [],
   "source": [
    "import pandas as pd\n",
    "import matplotlib.pyplot as plt\n",
    "import numpy as np\n",
    "import seaborn as sns\n",
    "import warnings\n",
    "from datetime import datetime, timedelta\n",
    "from imblearn.over_sampling import SMOTE\n",
    "from sklearn.metrics import confusion_matrix"
   ]
  },
  {
   "cell_type": "code",
   "execution_count": 2,
   "id": "7018576f-1403-4afb-a329-3a7eea18492d",
   "metadata": {},
   "outputs": [],
   "source": [
    "import warnings\n",
    "warnings.filterwarnings('ignore')"
   ]
  },
  {
   "cell_type": "code",
   "execution_count": 3,
   "id": "c165ca6b-d297-4f33-a3b2-1a4ae6898fbb",
   "metadata": {},
   "outputs": [
    {
     "data": {
      "text/html": [
       "<div>\n",
       "<style scoped>\n",
       "    .dataframe tbody tr th:only-of-type {\n",
       "        vertical-align: middle;\n",
       "    }\n",
       "\n",
       "    .dataframe tbody tr th {\n",
       "        vertical-align: top;\n",
       "    }\n",
       "\n",
       "    .dataframe thead th {\n",
       "        text-align: right;\n",
       "    }\n",
       "</style>\n",
       "<table border=\"1\" class=\"dataframe\">\n",
       "  <thead>\n",
       "    <tr style=\"text-align: right;\">\n",
       "      <th></th>\n",
       "      <th>id</th>\n",
       "      <th>name</th>\n",
       "      <th>est_diameter_min</th>\n",
       "      <th>est_diameter_max</th>\n",
       "      <th>relative_velocity</th>\n",
       "      <th>miss_distance</th>\n",
       "      <th>absolute_magnitude</th>\n",
       "      <th>hazardous</th>\n",
       "    </tr>\n",
       "  </thead>\n",
       "  <tbody>\n",
       "    <tr>\n",
       "      <th>0</th>\n",
       "      <td>3561024.0</td>\n",
       "      <td>(2011 GZ2)</td>\n",
       "      <td>0.016016</td>\n",
       "      <td>0.035813</td>\n",
       "      <td>56014.078517</td>\n",
       "      <td>1.024333e+06</td>\n",
       "      <td>26.10</td>\n",
       "      <td>False</td>\n",
       "    </tr>\n",
       "    <tr>\n",
       "      <th>1</th>\n",
       "      <td>54016766.0</td>\n",
       "      <td>(2020 HT6)</td>\n",
       "      <td>0.030518</td>\n",
       "      <td>0.068240</td>\n",
       "      <td>7864.348060</td>\n",
       "      <td>3.268186e+07</td>\n",
       "      <td>24.70</td>\n",
       "      <td>False</td>\n",
       "    </tr>\n",
       "    <tr>\n",
       "      <th>2</th>\n",
       "      <td>3746620.0</td>\n",
       "      <td>(2016 ED156)</td>\n",
       "      <td>0.055533</td>\n",
       "      <td>0.124177</td>\n",
       "      <td>55257.544508</td>\n",
       "      <td>6.538636e+07</td>\n",
       "      <td>23.40</td>\n",
       "      <td>False</td>\n",
       "    </tr>\n",
       "    <tr>\n",
       "      <th>3</th>\n",
       "      <td>3633054.0</td>\n",
       "      <td>(2013 FD8)</td>\n",
       "      <td>0.019256</td>\n",
       "      <td>0.043057</td>\n",
       "      <td>41531.404722</td>\n",
       "      <td>1.260796e+07</td>\n",
       "      <td>25.70</td>\n",
       "      <td>False</td>\n",
       "    </tr>\n",
       "    <tr>\n",
       "      <th>4</th>\n",
       "      <td>3742124.0</td>\n",
       "      <td>(2016 CW31)</td>\n",
       "      <td>0.139494</td>\n",
       "      <td>0.311918</td>\n",
       "      <td>67639.394481</td>\n",
       "      <td>7.130590e+07</td>\n",
       "      <td>21.40</td>\n",
       "      <td>False</td>\n",
       "    </tr>\n",
       "    <tr>\n",
       "      <th>...</th>\n",
       "      <td>...</td>\n",
       "      <td>...</td>\n",
       "      <td>...</td>\n",
       "      <td>...</td>\n",
       "      <td>...</td>\n",
       "      <td>...</td>\n",
       "      <td>...</td>\n",
       "      <td>...</td>\n",
       "    </tr>\n",
       "    <tr>\n",
       "      <th>90831</th>\n",
       "      <td>54231436.0</td>\n",
       "      <td>(2021 YE)</td>\n",
       "      <td>0.017561</td>\n",
       "      <td>0.039268</td>\n",
       "      <td>23264.740825</td>\n",
       "      <td>1.635007e+06</td>\n",
       "      <td>25.90</td>\n",
       "      <td>False</td>\n",
       "    </tr>\n",
       "    <tr>\n",
       "      <th>90832</th>\n",
       "      <td>3824972.0</td>\n",
       "      <td>(2018 KL)</td>\n",
       "      <td>0.110804</td>\n",
       "      <td>0.247765</td>\n",
       "      <td>24802.519406</td>\n",
       "      <td>3.351901e+07</td>\n",
       "      <td>21.90</td>\n",
       "      <td>False</td>\n",
       "    </tr>\n",
       "    <tr>\n",
       "      <th>90833</th>\n",
       "      <td>3740101.0</td>\n",
       "      <td>(2016 AB166)</td>\n",
       "      <td>0.035039</td>\n",
       "      <td>0.078350</td>\n",
       "      <td>116288.999548</td>\n",
       "      <td>5.471396e+07</td>\n",
       "      <td>24.40</td>\n",
       "      <td>False</td>\n",
       "    </tr>\n",
       "    <tr>\n",
       "      <th>90834</th>\n",
       "      <td>3691093.0</td>\n",
       "      <td>(2014 SQ260)</td>\n",
       "      <td>0.044112</td>\n",
       "      <td>0.098637</td>\n",
       "      <td>45763.317060</td>\n",
       "      <td>2.694877e+07</td>\n",
       "      <td>23.90</td>\n",
       "      <td>False</td>\n",
       "    </tr>\n",
       "    <tr>\n",
       "      <th>90835</th>\n",
       "      <td>3600600.0</td>\n",
       "      <td>(2012 EQ3)</td>\n",
       "      <td>0.084441</td>\n",
       "      <td>0.188817</td>\n",
       "      <td>79519.526381</td>\n",
       "      <td>3.631207e+07</td>\n",
       "      <td>22.49</td>\n",
       "      <td>False</td>\n",
       "    </tr>\n",
       "  </tbody>\n",
       "</table>\n",
       "<p>90836 rows × 8 columns</p>\n",
       "</div>"
      ],
      "text/plain": [
       "               id          name  est_diameter_min  est_diameter_max  \\\n",
       "0       3561024.0    (2011 GZ2)          0.016016          0.035813   \n",
       "1      54016766.0    (2020 HT6)          0.030518          0.068240   \n",
       "2       3746620.0  (2016 ED156)          0.055533          0.124177   \n",
       "3       3633054.0    (2013 FD8)          0.019256          0.043057   \n",
       "4       3742124.0   (2016 CW31)          0.139494          0.311918   \n",
       "...           ...           ...               ...               ...   \n",
       "90831  54231436.0     (2021 YE)          0.017561          0.039268   \n",
       "90832   3824972.0     (2018 KL)          0.110804          0.247765   \n",
       "90833   3740101.0  (2016 AB166)          0.035039          0.078350   \n",
       "90834   3691093.0  (2014 SQ260)          0.044112          0.098637   \n",
       "90835   3600600.0    (2012 EQ3)          0.084441          0.188817   \n",
       "\n",
       "       relative_velocity  miss_distance  absolute_magnitude  hazardous  \n",
       "0           56014.078517   1.024333e+06               26.10      False  \n",
       "1            7864.348060   3.268186e+07               24.70      False  \n",
       "2           55257.544508   6.538636e+07               23.40      False  \n",
       "3           41531.404722   1.260796e+07               25.70      False  \n",
       "4           67639.394481   7.130590e+07               21.40      False  \n",
       "...                  ...            ...                 ...        ...  \n",
       "90831       23264.740825   1.635007e+06               25.90      False  \n",
       "90832       24802.519406   3.351901e+07               21.90      False  \n",
       "90833      116288.999548   5.471396e+07               24.40      False  \n",
       "90834       45763.317060   2.694877e+07               23.90      False  \n",
       "90835       79519.526381   3.631207e+07               22.49      False  \n",
       "\n",
       "[90836 rows x 8 columns]"
      ]
     },
     "execution_count": 3,
     "metadata": {},
     "output_type": "execute_result"
    }
   ],
   "source": [
    "df = pd.read_csv('../data/neo_task.csv')\n",
    "df"
   ]
  },
  {
   "cell_type": "code",
   "execution_count": 4,
   "id": "fc0eb5fd-2f0e-4a07-ab2c-c631dd610155",
   "metadata": {},
   "outputs": [
    {
     "name": "stdout",
     "output_type": "stream",
     "text": [
      "<class 'pandas.core.frame.DataFrame'>\n",
      "RangeIndex: 90836 entries, 0 to 90835\n",
      "Data columns (total 8 columns):\n",
      " #   Column              Non-Null Count  Dtype  \n",
      "---  ------              --------------  -----  \n",
      " 0   id                  90266 non-null  float64\n",
      " 1   name                90790 non-null  object \n",
      " 2   est_diameter_min    90836 non-null  float64\n",
      " 3   est_diameter_max    90379 non-null  float64\n",
      " 4   relative_velocity   90279 non-null  float64\n",
      " 5   miss_distance       90836 non-null  float64\n",
      " 6   absolute_magnitude  90152 non-null  float64\n",
      " 7   hazardous           90836 non-null  bool   \n",
      "dtypes: bool(1), float64(6), object(1)\n",
      "memory usage: 4.9+ MB\n"
     ]
    }
   ],
   "source": [
    "df.info()"
   ]
  },
  {
   "cell_type": "code",
   "execution_count": 5,
   "id": "a86c6937-0373-444f-9f05-a5165a9ad0af",
   "metadata": {},
   "outputs": [],
   "source": [
    "df = df.drop(['id'], axis = 1)"
   ]
  },
  {
   "cell_type": "markdown",
   "id": "053c4c30-d7fe-4f7e-b72b-901e138cbc00",
   "metadata": {},
   "source": [
    "Столбец 'id' удалим, так как он никак не характеризует объекты, не заполнен полностью, но при этом всё равно может оказать влияние на итоговый результат"
   ]
  },
  {
   "cell_type": "code",
   "execution_count": 6,
   "id": "e26884a5-39d8-4f29-acec-5a7a7d72e788",
   "metadata": {},
   "outputs": [
    {
     "data": {
      "text/plain": [
       "Index(['name', 'est_diameter_min', 'est_diameter_max', 'relative_velocity',\n",
       "       'miss_distance', 'absolute_magnitude', 'hazardous'],\n",
       "      dtype='object')"
      ]
     },
     "execution_count": 6,
     "metadata": {},
     "output_type": "execute_result"
    }
   ],
   "source": [
    "df.columns"
   ]
  },
  {
   "cell_type": "markdown",
   "id": "1ae08089-fe98-4ad9-9b98-902ae86e120c",
   "metadata": {},
   "source": [
    "Столбцы можно не переименовывать, названия у столбцов приемлимы"
   ]
  },
  {
   "cell_type": "markdown",
   "id": "2a11f0a6-237d-4a49-8359-3c2273380cf8",
   "metadata": {},
   "source": [
    "## Обработка пропущенных значений"
   ]
  },
  {
   "cell_type": "code",
   "execution_count": 7,
   "id": "1c12a0d3-acaf-4681-9b3c-8dc9b808b05d",
   "metadata": {},
   "outputs": [
    {
     "data": {
      "text/plain": [
       "name                   46\n",
       "est_diameter_min        0\n",
       "est_diameter_max      457\n",
       "relative_velocity     557\n",
       "miss_distance           0\n",
       "absolute_magnitude    684\n",
       "hazardous               0\n",
       "dtype: int64"
      ]
     },
     "execution_count": 7,
     "metadata": {},
     "output_type": "execute_result"
    }
   ],
   "source": [
    "df.isna().sum()"
   ]
  },
  {
   "cell_type": "markdown",
   "id": "d104bcac-a1af-4069-a919-8ff382eec05e",
   "metadata": {},
   "source": [
    "В столбеце 'name' заменин неизвестные значения unknown'ами"
   ]
  },
  {
   "cell_type": "code",
   "execution_count": 8,
   "id": "9efe0d40-68a0-4d3b-9d54-a9a626e13a4a",
   "metadata": {},
   "outputs": [],
   "source": [
    "df['name'] = df['name'].fillna('Unknown')"
   ]
  },
  {
   "cell_type": "markdown",
   "id": "79561575-911c-492e-8d2e-c319893b980b",
   "metadata": {},
   "source": [
    "В остальные столбцы с неизвестными добавим медиану, так как всего данно более 90 000 строк, а значит знаечние одно и то же, встречающееся в 700 строках не критично "
   ]
  },
  {
   "cell_type": "code",
   "execution_count": 9,
   "id": "7ecd4861-fdde-4d4f-a3da-7774ee5dbb3e",
   "metadata": {},
   "outputs": [],
   "source": [
    "df['est_diameter_max'] = df['est_diameter_max'].fillna(df['est_diameter_max'].median())\n",
    "df['relative_velocity'] = df['relative_velocity'].fillna(df['relative_velocity'].median())\n",
    "df['absolute_magnitude'] = df['absolute_magnitude'].fillna(df['absolute_magnitude'].median())"
   ]
  },
  {
   "cell_type": "code",
   "execution_count": 10,
   "id": "c98cfeb6-8e39-4f91-b038-b16f1b6356fa",
   "metadata": {},
   "outputs": [
    {
     "data": {
      "text/plain": [
       "name                  0\n",
       "est_diameter_min      0\n",
       "est_diameter_max      0\n",
       "relative_velocity     0\n",
       "miss_distance         0\n",
       "absolute_magnitude    0\n",
       "hazardous             0\n",
       "dtype: int64"
      ]
     },
     "execution_count": 10,
     "metadata": {},
     "output_type": "execute_result"
    }
   ],
   "source": [
    "df.isna().sum()"
   ]
  },
  {
   "cell_type": "code",
   "execution_count": 11,
   "id": "306329de-f25a-4bd2-ad78-664ed7b92a73",
   "metadata": {},
   "outputs": [
    {
     "data": {
      "text/plain": [
       "hazardous\n",
       "False    81996\n",
       "True      8840\n",
       "Name: count, dtype: int64"
      ]
     },
     "execution_count": 11,
     "metadata": {},
     "output_type": "execute_result"
    }
   ],
   "source": [
    "df['hazardous'].value_counts()"
   ]
  },
  {
   "cell_type": "markdown",
   "id": "85691814-eda5-4733-b02a-74ca0f155d68",
   "metadata": {},
   "source": [
    "## Коррекция типов данных"
   ]
  },
  {
   "cell_type": "markdown",
   "id": "52ae0bc3-6263-4d4b-9eec-4f9433ee4a74",
   "metadata": {},
   "source": [
    "Я хочу исправить тип данных столбца 'hazardous', заменив True и False на 1 и 0 соответсвенно."
   ]
  },
  {
   "cell_type": "code",
   "execution_count": 12,
   "id": "ebacfde0-7665-4c99-b8de-200c0128664e",
   "metadata": {},
   "outputs": [],
   "source": [
    "df['hazardous'] = df['hazardous'].astype(int)"
   ]
  },
  {
   "cell_type": "code",
   "execution_count": 13,
   "id": "f6cff3c2-eaa5-43e4-9aac-b450ab6fa248",
   "metadata": {},
   "outputs": [
    {
     "data": {
      "text/plain": [
       "array([0, 1])"
      ]
     },
     "execution_count": 13,
     "metadata": {},
     "output_type": "execute_result"
    }
   ],
   "source": [
    "df['hazardous'].unique()"
   ]
  },
  {
   "cell_type": "code",
   "execution_count": 14,
   "id": "7dd4a02d-a0c6-4b99-8e43-02f2f493856c",
   "metadata": {},
   "outputs": [
    {
     "name": "stdout",
     "output_type": "stream",
     "text": [
      "<class 'pandas.core.frame.DataFrame'>\n",
      "RangeIndex: 90836 entries, 0 to 90835\n",
      "Data columns (total 7 columns):\n",
      " #   Column              Non-Null Count  Dtype  \n",
      "---  ------              --------------  -----  \n",
      " 0   name                90836 non-null  object \n",
      " 1   est_diameter_min    90836 non-null  float64\n",
      " 2   est_diameter_max    90836 non-null  float64\n",
      " 3   relative_velocity   90836 non-null  float64\n",
      " 4   miss_distance       90836 non-null  float64\n",
      " 5   absolute_magnitude  90836 non-null  float64\n",
      " 6   hazardous           90836 non-null  int32  \n",
      "dtypes: float64(5), int32(1), object(1)\n",
      "memory usage: 4.5+ MB\n"
     ]
    }
   ],
   "source": [
    "df.info()"
   ]
  },
  {
   "cell_type": "code",
   "execution_count": 15,
   "id": "09720437-f9b5-40e4-8b10-cf9578d42f5f",
   "metadata": {},
   "outputs": [
    {
     "data": {
      "text/html": [
       "<div>\n",
       "<style scoped>\n",
       "    .dataframe tbody tr th:only-of-type {\n",
       "        vertical-align: middle;\n",
       "    }\n",
       "\n",
       "    .dataframe tbody tr th {\n",
       "        vertical-align: top;\n",
       "    }\n",
       "\n",
       "    .dataframe thead th {\n",
       "        text-align: right;\n",
       "    }\n",
       "</style>\n",
       "<table border=\"1\" class=\"dataframe\">\n",
       "  <thead>\n",
       "    <tr style=\"text-align: right;\">\n",
       "      <th></th>\n",
       "      <th>name</th>\n",
       "      <th>est_diameter_min</th>\n",
       "      <th>est_diameter_max</th>\n",
       "      <th>relative_velocity</th>\n",
       "      <th>miss_distance</th>\n",
       "      <th>absolute_magnitude</th>\n",
       "      <th>hazardous</th>\n",
       "    </tr>\n",
       "  </thead>\n",
       "  <tbody>\n",
       "    <tr>\n",
       "      <th>0</th>\n",
       "      <td>(2011 GZ2)</td>\n",
       "      <td>0.016016</td>\n",
       "      <td>0.035813</td>\n",
       "      <td>56014.078517</td>\n",
       "      <td>1.024333e+06</td>\n",
       "      <td>26.10</td>\n",
       "      <td>0</td>\n",
       "    </tr>\n",
       "    <tr>\n",
       "      <th>1</th>\n",
       "      <td>(2020 HT6)</td>\n",
       "      <td>0.030518</td>\n",
       "      <td>0.068240</td>\n",
       "      <td>7864.348060</td>\n",
       "      <td>3.268186e+07</td>\n",
       "      <td>24.70</td>\n",
       "      <td>0</td>\n",
       "    </tr>\n",
       "    <tr>\n",
       "      <th>2</th>\n",
       "      <td>(2016 ED156)</td>\n",
       "      <td>0.055533</td>\n",
       "      <td>0.124177</td>\n",
       "      <td>55257.544508</td>\n",
       "      <td>6.538636e+07</td>\n",
       "      <td>23.40</td>\n",
       "      <td>0</td>\n",
       "    </tr>\n",
       "    <tr>\n",
       "      <th>3</th>\n",
       "      <td>(2013 FD8)</td>\n",
       "      <td>0.019256</td>\n",
       "      <td>0.043057</td>\n",
       "      <td>41531.404722</td>\n",
       "      <td>1.260796e+07</td>\n",
       "      <td>25.70</td>\n",
       "      <td>0</td>\n",
       "    </tr>\n",
       "    <tr>\n",
       "      <th>4</th>\n",
       "      <td>(2016 CW31)</td>\n",
       "      <td>0.139494</td>\n",
       "      <td>0.311918</td>\n",
       "      <td>67639.394481</td>\n",
       "      <td>7.130590e+07</td>\n",
       "      <td>21.40</td>\n",
       "      <td>0</td>\n",
       "    </tr>\n",
       "    <tr>\n",
       "      <th>...</th>\n",
       "      <td>...</td>\n",
       "      <td>...</td>\n",
       "      <td>...</td>\n",
       "      <td>...</td>\n",
       "      <td>...</td>\n",
       "      <td>...</td>\n",
       "      <td>...</td>\n",
       "    </tr>\n",
       "    <tr>\n",
       "      <th>90831</th>\n",
       "      <td>(2021 YE)</td>\n",
       "      <td>0.017561</td>\n",
       "      <td>0.039268</td>\n",
       "      <td>23264.740825</td>\n",
       "      <td>1.635007e+06</td>\n",
       "      <td>25.90</td>\n",
       "      <td>0</td>\n",
       "    </tr>\n",
       "    <tr>\n",
       "      <th>90832</th>\n",
       "      <td>(2018 KL)</td>\n",
       "      <td>0.110804</td>\n",
       "      <td>0.247765</td>\n",
       "      <td>24802.519406</td>\n",
       "      <td>3.351901e+07</td>\n",
       "      <td>21.90</td>\n",
       "      <td>0</td>\n",
       "    </tr>\n",
       "    <tr>\n",
       "      <th>90833</th>\n",
       "      <td>(2016 AB166)</td>\n",
       "      <td>0.035039</td>\n",
       "      <td>0.078350</td>\n",
       "      <td>116288.999548</td>\n",
       "      <td>5.471396e+07</td>\n",
       "      <td>24.40</td>\n",
       "      <td>0</td>\n",
       "    </tr>\n",
       "    <tr>\n",
       "      <th>90834</th>\n",
       "      <td>(2014 SQ260)</td>\n",
       "      <td>0.044112</td>\n",
       "      <td>0.098637</td>\n",
       "      <td>45763.317060</td>\n",
       "      <td>2.694877e+07</td>\n",
       "      <td>23.90</td>\n",
       "      <td>0</td>\n",
       "    </tr>\n",
       "    <tr>\n",
       "      <th>90835</th>\n",
       "      <td>(2012 EQ3)</td>\n",
       "      <td>0.084441</td>\n",
       "      <td>0.188817</td>\n",
       "      <td>79519.526381</td>\n",
       "      <td>3.631207e+07</td>\n",
       "      <td>22.49</td>\n",
       "      <td>0</td>\n",
       "    </tr>\n",
       "  </tbody>\n",
       "</table>\n",
       "<p>90836 rows × 7 columns</p>\n",
       "</div>"
      ],
      "text/plain": [
       "               name  est_diameter_min  est_diameter_max  relative_velocity  \\\n",
       "0        (2011 GZ2)          0.016016          0.035813       56014.078517   \n",
       "1        (2020 HT6)          0.030518          0.068240        7864.348060   \n",
       "2      (2016 ED156)          0.055533          0.124177       55257.544508   \n",
       "3        (2013 FD8)          0.019256          0.043057       41531.404722   \n",
       "4       (2016 CW31)          0.139494          0.311918       67639.394481   \n",
       "...             ...               ...               ...                ...   \n",
       "90831     (2021 YE)          0.017561          0.039268       23264.740825   \n",
       "90832     (2018 KL)          0.110804          0.247765       24802.519406   \n",
       "90833  (2016 AB166)          0.035039          0.078350      116288.999548   \n",
       "90834  (2014 SQ260)          0.044112          0.098637       45763.317060   \n",
       "90835    (2012 EQ3)          0.084441          0.188817       79519.526381   \n",
       "\n",
       "       miss_distance  absolute_magnitude  hazardous  \n",
       "0       1.024333e+06               26.10          0  \n",
       "1       3.268186e+07               24.70          0  \n",
       "2       6.538636e+07               23.40          0  \n",
       "3       1.260796e+07               25.70          0  \n",
       "4       7.130590e+07               21.40          0  \n",
       "...              ...                 ...        ...  \n",
       "90831   1.635007e+06               25.90          0  \n",
       "90832   3.351901e+07               21.90          0  \n",
       "90833   5.471396e+07               24.40          0  \n",
       "90834   2.694877e+07               23.90          0  \n",
       "90835   3.631207e+07               22.49          0  \n",
       "\n",
       "[90836 rows x 7 columns]"
      ]
     },
     "execution_count": 15,
     "metadata": {},
     "output_type": "execute_result"
    }
   ],
   "source": [
    "df"
   ]
  },
  {
   "cell_type": "markdown",
   "id": "9fbac94f-5f15-49e1-8018-554f84c4786c",
   "metadata": {},
   "source": [
    "##  Исследование основных параметров(проверка на выбросы)"
   ]
  },
  {
   "cell_type": "code",
   "execution_count": 16,
   "id": "5f229b6e-8940-483c-952c-a650494efaa2",
   "metadata": {},
   "outputs": [
    {
     "data": {
      "text/html": [
       "<div>\n",
       "<style scoped>\n",
       "    .dataframe tbody tr th:only-of-type {\n",
       "        vertical-align: middle;\n",
       "    }\n",
       "\n",
       "    .dataframe tbody tr th {\n",
       "        vertical-align: top;\n",
       "    }\n",
       "\n",
       "    .dataframe thead th {\n",
       "        text-align: right;\n",
       "    }\n",
       "</style>\n",
       "<table border=\"1\" class=\"dataframe\">\n",
       "  <thead>\n",
       "    <tr style=\"text-align: right;\">\n",
       "      <th></th>\n",
       "      <th>est_diameter_min</th>\n",
       "      <th>est_diameter_max</th>\n",
       "      <th>relative_velocity</th>\n",
       "      <th>miss_distance</th>\n",
       "      <th>absolute_magnitude</th>\n",
       "    </tr>\n",
       "  </thead>\n",
       "  <tbody>\n",
       "    <tr>\n",
       "      <th>count</th>\n",
       "      <td>90836.000000</td>\n",
       "      <td>90836.000000</td>\n",
       "      <td>90836.000000</td>\n",
       "      <td>9.083600e+04</td>\n",
       "      <td>90836.000000</td>\n",
       "    </tr>\n",
       "    <tr>\n",
       "      <th>mean</th>\n",
       "      <td>0.127432</td>\n",
       "      <td>0.284022</td>\n",
       "      <td>48042.236980</td>\n",
       "      <td>3.706655e+07</td>\n",
       "      <td>23.527958</td>\n",
       "    </tr>\n",
       "    <tr>\n",
       "      <th>std</th>\n",
       "      <td>0.298511</td>\n",
       "      <td>0.666582</td>\n",
       "      <td>25218.666659</td>\n",
       "      <td>2.235204e+07</td>\n",
       "      <td>2.883104</td>\n",
       "    </tr>\n",
       "    <tr>\n",
       "      <th>min</th>\n",
       "      <td>0.000609</td>\n",
       "      <td>0.001362</td>\n",
       "      <td>203.346433</td>\n",
       "      <td>6.745533e+03</td>\n",
       "      <td>9.230000</td>\n",
       "    </tr>\n",
       "    <tr>\n",
       "      <th>25%</th>\n",
       "      <td>0.019256</td>\n",
       "      <td>0.043057</td>\n",
       "      <td>28714.148508</td>\n",
       "      <td>1.721082e+07</td>\n",
       "      <td>21.380000</td>\n",
       "    </tr>\n",
       "    <tr>\n",
       "      <th>50%</th>\n",
       "      <td>0.048368</td>\n",
       "      <td>0.108153</td>\n",
       "      <td>44190.108201</td>\n",
       "      <td>3.784658e+07</td>\n",
       "      <td>23.700000</td>\n",
       "    </tr>\n",
       "    <tr>\n",
       "      <th>75%</th>\n",
       "      <td>0.143402</td>\n",
       "      <td>0.316257</td>\n",
       "      <td>62804.910500</td>\n",
       "      <td>5.654900e+07</td>\n",
       "      <td>25.700000</td>\n",
       "    </tr>\n",
       "    <tr>\n",
       "      <th>max</th>\n",
       "      <td>37.892650</td>\n",
       "      <td>84.730541</td>\n",
       "      <td>236990.128088</td>\n",
       "      <td>7.479865e+07</td>\n",
       "      <td>33.200000</td>\n",
       "    </tr>\n",
       "  </tbody>\n",
       "</table>\n",
       "</div>"
      ],
      "text/plain": [
       "       est_diameter_min  est_diameter_max  relative_velocity  miss_distance  \\\n",
       "count      90836.000000      90836.000000       90836.000000   9.083600e+04   \n",
       "mean           0.127432          0.284022       48042.236980   3.706655e+07   \n",
       "std            0.298511          0.666582       25218.666659   2.235204e+07   \n",
       "min            0.000609          0.001362         203.346433   6.745533e+03   \n",
       "25%            0.019256          0.043057       28714.148508   1.721082e+07   \n",
       "50%            0.048368          0.108153       44190.108201   3.784658e+07   \n",
       "75%            0.143402          0.316257       62804.910500   5.654900e+07   \n",
       "max           37.892650         84.730541      236990.128088   7.479865e+07   \n",
       "\n",
       "       absolute_magnitude  \n",
       "count        90836.000000  \n",
       "mean            23.527958  \n",
       "std              2.883104  \n",
       "min              9.230000  \n",
       "25%             21.380000  \n",
       "50%             23.700000  \n",
       "75%             25.700000  \n",
       "max             33.200000  "
      ]
     },
     "execution_count": 16,
     "metadata": {},
     "output_type": "execute_result"
    }
   ],
   "source": [
    "df.describe()[['est_diameter_min', 'est_diameter_max', 'relative_velocity', 'miss_distance', 'absolute_magnitude']]"
   ]
  },
  {
   "cell_type": "code",
   "execution_count": 17,
   "id": "67edcffb-a249-4c4b-bde3-054fabc3edb5",
   "metadata": {},
   "outputs": [
    {
     "data": {
      "image/png": "[encoded data removed]",
      "text/plain": [
       "<Figure size 640x480 with 1 Axes>"
      ]
     },
     "metadata": {},
     "output_type": "display_data"
    },
    {
     "data": {
      "image/png": "[encoded data removed]",
      "text/plain": [
       "<Figure size 640x480 with 1 Axes>"
      ]
     },
     "metadata": {},
     "output_type": "display_data"
    },
    {
     "data": {
      "image/png": "[encoded data removed]",
      "text/plain": [
       "<Figure size 640x480 with 1 Axes>"
      ]
     },
     "metadata": {},
     "output_type": "display_data"
    },
    {
     "data": {
      "image/png": "[encoded data removed]",
      "text/plain": [
       "<Figure size 640x480 with 1 Axes>"
      ]
     },
     "metadata": {},
     "output_type": "display_data"
    },
    {
     "data": {
      "image/png": "[encoded data removed]",
      "text/plain": [
       "<Figure size 640x480 with 1 Axes>"
      ]
     },
     "metadata": {},
     "output_type": "display_data"
    }
   ],
   "source": [
    "columns = ['est_diameter_min', 'est_diameter_max', 'relative_velocity', 'miss_distance', 'absolute_magnitude']\n",
    "\n",
    "for column in columns:\n",
    "    df.hist(column, bins = 100)"
   ]
  },
  {
   "cell_type": "markdown",
   "id": "156d6568-5176-4665-81f9-e4b2eefbcc9c",
   "metadata": {},
   "source": [
    "Почистим от выбросов столбцы 'est_diameter_min', 'est_diameter_max' и 'relative_velocity'"
   ]
  },
  {
   "cell_type": "code",
   "execution_count": 18,
   "id": "e06a9b65-ced9-404e-8a49-27b72005fc90",
   "metadata": {},
   "outputs": [
    {
     "data": {
      "text/html": [
       "<div>\n",
       "<style scoped>\n",
       "    .dataframe tbody tr th:only-of-type {\n",
       "        vertical-align: middle;\n",
       "    }\n",
       "\n",
       "    .dataframe tbody tr th {\n",
       "        vertical-align: top;\n",
       "    }\n",
       "\n",
       "    .dataframe thead th {\n",
       "        text-align: right;\n",
       "    }\n",
       "</style>\n",
       "<table border=\"1\" class=\"dataframe\">\n",
       "  <thead>\n",
       "    <tr style=\"text-align: right;\">\n",
       "      <th></th>\n",
       "      <th>est_diameter_min</th>\n",
       "      <th>est_diameter_max</th>\n",
       "      <th>relative_velocity</th>\n",
       "    </tr>\n",
       "  </thead>\n",
       "  <tbody>\n",
       "    <tr>\n",
       "      <th>0</th>\n",
       "      <td>0.016016</td>\n",
       "      <td>0.035813</td>\n",
       "      <td>56014.078517</td>\n",
       "    </tr>\n",
       "    <tr>\n",
       "      <th>1</th>\n",
       "      <td>0.030518</td>\n",
       "      <td>0.068240</td>\n",
       "      <td>7864.348060</td>\n",
       "    </tr>\n",
       "    <tr>\n",
       "      <th>2</th>\n",
       "      <td>0.055533</td>\n",
       "      <td>0.124177</td>\n",
       "      <td>55257.544508</td>\n",
       "    </tr>\n",
       "    <tr>\n",
       "      <th>3</th>\n",
       "      <td>0.019256</td>\n",
       "      <td>0.043057</td>\n",
       "      <td>41531.404722</td>\n",
       "    </tr>\n",
       "    <tr>\n",
       "      <th>4</th>\n",
       "      <td>0.139494</td>\n",
       "      <td>0.311918</td>\n",
       "      <td>67639.394481</td>\n",
       "    </tr>\n",
       "    <tr>\n",
       "      <th>...</th>\n",
       "      <td>...</td>\n",
       "      <td>...</td>\n",
       "      <td>...</td>\n",
       "    </tr>\n",
       "    <tr>\n",
       "      <th>90831</th>\n",
       "      <td>0.017561</td>\n",
       "      <td>0.039268</td>\n",
       "      <td>23264.740825</td>\n",
       "    </tr>\n",
       "    <tr>\n",
       "      <th>90832</th>\n",
       "      <td>0.110804</td>\n",
       "      <td>0.247765</td>\n",
       "      <td>24802.519406</td>\n",
       "    </tr>\n",
       "    <tr>\n",
       "      <th>90833</th>\n",
       "      <td>0.035039</td>\n",
       "      <td>0.078350</td>\n",
       "      <td>116288.999548</td>\n",
       "    </tr>\n",
       "    <tr>\n",
       "      <th>90834</th>\n",
       "      <td>0.044112</td>\n",
       "      <td>0.098637</td>\n",
       "      <td>45763.317060</td>\n",
       "    </tr>\n",
       "    <tr>\n",
       "      <th>90835</th>\n",
       "      <td>0.084441</td>\n",
       "      <td>0.188817</td>\n",
       "      <td>79519.526381</td>\n",
       "    </tr>\n",
       "  </tbody>\n",
       "</table>\n",
       "<p>90836 rows × 3 columns</p>\n",
       "</div>"
      ],
      "text/plain": [
       "       est_diameter_min  est_diameter_max  relative_velocity\n",
       "0              0.016016          0.035813       56014.078517\n",
       "1              0.030518          0.068240        7864.348060\n",
       "2              0.055533          0.124177       55257.544508\n",
       "3              0.019256          0.043057       41531.404722\n",
       "4              0.139494          0.311918       67639.394481\n",
       "...                 ...               ...                ...\n",
       "90831          0.017561          0.039268       23264.740825\n",
       "90832          0.110804          0.247765       24802.519406\n",
       "90833          0.035039          0.078350      116288.999548\n",
       "90834          0.044112          0.098637       45763.317060\n",
       "90835          0.084441          0.188817       79519.526381\n",
       "\n",
       "[90836 rows x 3 columns]"
      ]
     },
     "execution_count": 18,
     "metadata": {},
     "output_type": "execute_result"
    }
   ],
   "source": [
    "outlier = df[[\"est_diameter_min\",\"est_diameter_max\", \"relative_velocity\"]]\n",
    "outlier"
   ]
  },
  {
   "cell_type": "code",
   "execution_count": 19,
   "id": "9a53cb66-bdac-48e0-ba91-a8a480816971",
   "metadata": {},
   "outputs": [
    {
     "data": {
      "text/plain": [
       "est_diameter_min         0.019256\n",
       "est_diameter_max         0.043057\n",
       "relative_velocity    28714.148508\n",
       "Name: 0.25, dtype: float64"
      ]
     },
     "execution_count": 19,
     "metadata": {},
     "output_type": "execute_result"
    }
   ],
   "source": [
    "Q1 = outlier.quantile(0.25)\n",
    "Q1"
   ]
  },
  {
   "cell_type": "code",
   "execution_count": 20,
   "id": "354269ef-d3f5-41a2-9cdc-a7c680e19066",
   "metadata": {},
   "outputs": [
    {
     "data": {
      "text/plain": [
       "est_diameter_min         0.143402\n",
       "est_diameter_max         0.316257\n",
       "relative_velocity    62804.910500\n",
       "Name: 0.75, dtype: float64"
      ]
     },
     "execution_count": 20,
     "metadata": {},
     "output_type": "execute_result"
    }
   ],
   "source": [
    "Q3 = outlier.quantile(0.75)\n",
    "Q3"
   ]
  },
  {
   "cell_type": "code",
   "execution_count": 21,
   "id": "7acb67fc-ec92-4acf-aefb-c786190bd798",
   "metadata": {},
   "outputs": [
    {
     "data": {
      "text/html": [
       "<div>\n",
       "<style scoped>\n",
       "    .dataframe tbody tr th:only-of-type {\n",
       "        vertical-align: middle;\n",
       "    }\n",
       "\n",
       "    .dataframe tbody tr th {\n",
       "        vertical-align: top;\n",
       "    }\n",
       "\n",
       "    .dataframe thead th {\n",
       "        text-align: right;\n",
       "    }\n",
       "</style>\n",
       "<table border=\"1\" class=\"dataframe\">\n",
       "  <thead>\n",
       "    <tr style=\"text-align: right;\">\n",
       "      <th></th>\n",
       "      <th>est_diameter_min</th>\n",
       "      <th>est_diameter_max</th>\n",
       "      <th>relative_velocity</th>\n",
       "    </tr>\n",
       "  </thead>\n",
       "  <tbody>\n",
       "    <tr>\n",
       "      <th>0</th>\n",
       "      <td>0.016016</td>\n",
       "      <td>0.035813</td>\n",
       "      <td>56014.078517</td>\n",
       "    </tr>\n",
       "    <tr>\n",
       "      <th>1</th>\n",
       "      <td>0.030518</td>\n",
       "      <td>0.068240</td>\n",
       "      <td>7864.348060</td>\n",
       "    </tr>\n",
       "    <tr>\n",
       "      <th>2</th>\n",
       "      <td>0.055533</td>\n",
       "      <td>0.124177</td>\n",
       "      <td>55257.544508</td>\n",
       "    </tr>\n",
       "    <tr>\n",
       "      <th>3</th>\n",
       "      <td>0.019256</td>\n",
       "      <td>0.043057</td>\n",
       "      <td>41531.404722</td>\n",
       "    </tr>\n",
       "    <tr>\n",
       "      <th>4</th>\n",
       "      <td>0.139494</td>\n",
       "      <td>0.311918</td>\n",
       "      <td>67639.394481</td>\n",
       "    </tr>\n",
       "    <tr>\n",
       "      <th>...</th>\n",
       "      <td>...</td>\n",
       "      <td>...</td>\n",
       "      <td>...</td>\n",
       "    </tr>\n",
       "    <tr>\n",
       "      <th>90830</th>\n",
       "      <td>0.008405</td>\n",
       "      <td>0.018795</td>\n",
       "      <td>8424.366481</td>\n",
       "    </tr>\n",
       "    <tr>\n",
       "      <th>90831</th>\n",
       "      <td>0.017561</td>\n",
       "      <td>0.039268</td>\n",
       "      <td>23264.740825</td>\n",
       "    </tr>\n",
       "    <tr>\n",
       "      <th>90832</th>\n",
       "      <td>0.110804</td>\n",
       "      <td>0.247765</td>\n",
       "      <td>24802.519406</td>\n",
       "    </tr>\n",
       "    <tr>\n",
       "      <th>90834</th>\n",
       "      <td>0.044112</td>\n",
       "      <td>0.098637</td>\n",
       "      <td>45763.317060</td>\n",
       "    </tr>\n",
       "    <tr>\n",
       "      <th>90835</th>\n",
       "      <td>0.084441</td>\n",
       "      <td>0.188817</td>\n",
       "      <td>79519.526381</td>\n",
       "    </tr>\n",
       "  </tbody>\n",
       "</table>\n",
       "<p>81570 rows × 3 columns</p>\n",
       "</div>"
      ],
      "text/plain": [
       "       est_diameter_min  est_diameter_max  relative_velocity\n",
       "0              0.016016          0.035813       56014.078517\n",
       "1              0.030518          0.068240        7864.348060\n",
       "2              0.055533          0.124177       55257.544508\n",
       "3              0.019256          0.043057       41531.404722\n",
       "4              0.139494          0.311918       67639.394481\n",
       "...                 ...               ...                ...\n",
       "90830          0.008405          0.018795        8424.366481\n",
       "90831          0.017561          0.039268       23264.740825\n",
       "90832          0.110804          0.247765       24802.519406\n",
       "90834          0.044112          0.098637       45763.317060\n",
       "90835          0.084441          0.188817       79519.526381\n",
       "\n",
       "[81570 rows x 3 columns]"
      ]
     },
     "execution_count": 21,
     "metadata": {},
     "output_type": "execute_result"
    }
   ],
   "source": [
    "# IQR-оценки\n",
    "IQR = Q3-Q1\n",
    "# Отфильтрованные данные, из которых удалены выбросы\n",
    "data_filtered = outlier[~((outlier < (Q1 - 1.5 * IQR)) |(outlier > (Q3 + 1.5 * IQR))).any(axis=1)]\n",
    "data_filtered"
   ]
  },
  {
   "cell_type": "code",
   "execution_count": 22,
   "id": "c06e76b5-2ae0-4e55-a379-315e1e28f987",
   "metadata": {},
   "outputs": [
    {
     "data": {
      "text/html": [
       "<div>\n",
       "<style scoped>\n",
       "    .dataframe tbody tr th:only-of-type {\n",
       "        vertical-align: middle;\n",
       "    }\n",
       "\n",
       "    .dataframe tbody tr th {\n",
       "        vertical-align: top;\n",
       "    }\n",
       "\n",
       "    .dataframe thead th {\n",
       "        text-align: right;\n",
       "    }\n",
       "</style>\n",
       "<table border=\"1\" class=\"dataframe\">\n",
       "  <thead>\n",
       "    <tr style=\"text-align: right;\">\n",
       "      <th></th>\n",
       "      <th>est_diameter_min</th>\n",
       "      <th>est_diameter_max</th>\n",
       "      <th>relative_velocity</th>\n",
       "    </tr>\n",
       "  </thead>\n",
       "  <tbody>\n",
       "    <tr>\n",
       "      <th>count</th>\n",
       "      <td>81570.000000</td>\n",
       "      <td>81570.000000</td>\n",
       "      <td>81570.000000</td>\n",
       "    </tr>\n",
       "    <tr>\n",
       "      <th>mean</th>\n",
       "      <td>0.071778</td>\n",
       "      <td>0.160219</td>\n",
       "      <td>45108.792180</td>\n",
       "    </tr>\n",
       "    <tr>\n",
       "      <th>std</th>\n",
       "      <td>0.074778</td>\n",
       "      <td>0.166778</td>\n",
       "      <td>22156.048349</td>\n",
       "    </tr>\n",
       "    <tr>\n",
       "      <th>min</th>\n",
       "      <td>0.000609</td>\n",
       "      <td>0.001362</td>\n",
       "      <td>203.346433</td>\n",
       "    </tr>\n",
       "    <tr>\n",
       "      <th>25%</th>\n",
       "      <td>0.017561</td>\n",
       "      <td>0.039268</td>\n",
       "      <td>27701.160918</td>\n",
       "    </tr>\n",
       "    <tr>\n",
       "      <th>50%</th>\n",
       "      <td>0.040230</td>\n",
       "      <td>0.089958</td>\n",
       "      <td>42231.256197</td>\n",
       "    </tr>\n",
       "    <tr>\n",
       "      <th>75%</th>\n",
       "      <td>0.101054</td>\n",
       "      <td>0.225964</td>\n",
       "      <td>59513.924131</td>\n",
       "    </tr>\n",
       "    <tr>\n",
       "      <th>max</th>\n",
       "      <td>0.324007</td>\n",
       "      <td>0.724503</td>\n",
       "      <td>113930.799284</td>\n",
       "    </tr>\n",
       "  </tbody>\n",
       "</table>\n",
       "</div>"
      ],
      "text/plain": [
       "       est_diameter_min  est_diameter_max  relative_velocity\n",
       "count      81570.000000      81570.000000       81570.000000\n",
       "mean           0.071778          0.160219       45108.792180\n",
       "std            0.074778          0.166778       22156.048349\n",
       "min            0.000609          0.001362         203.346433\n",
       "25%            0.017561          0.039268       27701.160918\n",
       "50%            0.040230          0.089958       42231.256197\n",
       "75%            0.101054          0.225964       59513.924131\n",
       "max            0.324007          0.724503      113930.799284"
      ]
     },
     "execution_count": 22,
     "metadata": {},
     "output_type": "execute_result"
    }
   ],
   "source": [
    "data_filtered.describe()[[\"est_diameter_min\",\"est_diameter_max\", \"relative_velocity\"]]"
   ]
  },
  {
   "cell_type": "code",
   "execution_count": 23,
   "id": "99dff058-ce93-4574-9ed3-e58e947455fd",
   "metadata": {},
   "outputs": [
    {
     "data": {
      "image/png": "[encoded data removed]",
      "text/plain": [
       "<Figure size 640x480 with 1 Axes>"
      ]
     },
     "metadata": {},
     "output_type": "display_data"
    },
    {
     "data": {
      "image/png": "[encoded data removed]",
      "text/plain": [
       "<Figure size 640x480 with 1 Axes>"
      ]
     },
     "metadata": {},
     "output_type": "display_data"
    },
    {
     "data": {
      "image/png": "[encoded data removed]",
      "text/plain": [
       "<Figure size 640x480 with 1 Axes>"
      ]
     },
     "metadata": {},
     "output_type": "display_data"
    }
   ],
   "source": [
    "# создать гистограмму с отфильтрованным выбросом\n",
    "filtered_outlier = data_filtered[[\"est_diameter_min\",\"est_diameter_max\", \"relative_velocity\"]]\n",
    "\n",
    "for col in filtered_outlier:\n",
    "    data_filtered.hist(col, bins=100)"
   ]
  },
  {
   "cell_type": "code",
   "execution_count": 24,
   "id": "e9699ae7-1c2f-4e24-ac70-0d97c91c5bf1",
   "metadata": {},
   "outputs": [],
   "source": [
    "index_list = list(data_filtered.index.values)"
   ]
  },
  {
   "cell_type": "code",
   "execution_count": 25,
   "id": "e0ea8d98-e361-4be6-8939-bfa204f3c3b2",
   "metadata": {},
   "outputs": [
    {
     "data": {
      "text/html": [
       "<div>\n",
       "<style scoped>\n",
       "    .dataframe tbody tr th:only-of-type {\n",
       "        vertical-align: middle;\n",
       "    }\n",
       "\n",
       "    .dataframe tbody tr th {\n",
       "        vertical-align: top;\n",
       "    }\n",
       "\n",
       "    .dataframe thead th {\n",
       "        text-align: right;\n",
       "    }\n",
       "</style>\n",
       "<table border=\"1\" class=\"dataframe\">\n",
       "  <thead>\n",
       "    <tr style=\"text-align: right;\">\n",
       "      <th></th>\n",
       "      <th>name</th>\n",
       "      <th>est_diameter_min</th>\n",
       "      <th>est_diameter_max</th>\n",
       "      <th>relative_velocity</th>\n",
       "      <th>miss_distance</th>\n",
       "      <th>absolute_magnitude</th>\n",
       "      <th>hazardous</th>\n",
       "    </tr>\n",
       "  </thead>\n",
       "  <tbody>\n",
       "    <tr>\n",
       "      <th>0</th>\n",
       "      <td>(2011 GZ2)</td>\n",
       "      <td>0.016016</td>\n",
       "      <td>0.035813</td>\n",
       "      <td>56014.078517</td>\n",
       "      <td>1.024333e+06</td>\n",
       "      <td>26.10</td>\n",
       "      <td>0</td>\n",
       "    </tr>\n",
       "    <tr>\n",
       "      <th>1</th>\n",
       "      <td>(2020 HT6)</td>\n",
       "      <td>0.030518</td>\n",
       "      <td>0.068240</td>\n",
       "      <td>7864.348060</td>\n",
       "      <td>3.268186e+07</td>\n",
       "      <td>24.70</td>\n",
       "      <td>0</td>\n",
       "    </tr>\n",
       "    <tr>\n",
       "      <th>2</th>\n",
       "      <td>(2016 ED156)</td>\n",
       "      <td>0.055533</td>\n",
       "      <td>0.124177</td>\n",
       "      <td>55257.544508</td>\n",
       "      <td>6.538636e+07</td>\n",
       "      <td>23.40</td>\n",
       "      <td>0</td>\n",
       "    </tr>\n",
       "    <tr>\n",
       "      <th>3</th>\n",
       "      <td>(2013 FD8)</td>\n",
       "      <td>0.019256</td>\n",
       "      <td>0.043057</td>\n",
       "      <td>41531.404722</td>\n",
       "      <td>1.260796e+07</td>\n",
       "      <td>25.70</td>\n",
       "      <td>0</td>\n",
       "    </tr>\n",
       "    <tr>\n",
       "      <th>4</th>\n",
       "      <td>(2016 CW31)</td>\n",
       "      <td>0.139494</td>\n",
       "      <td>0.311918</td>\n",
       "      <td>67639.394481</td>\n",
       "      <td>7.130590e+07</td>\n",
       "      <td>21.40</td>\n",
       "      <td>0</td>\n",
       "    </tr>\n",
       "    <tr>\n",
       "      <th>...</th>\n",
       "      <td>...</td>\n",
       "      <td>...</td>\n",
       "      <td>...</td>\n",
       "      <td>...</td>\n",
       "      <td>...</td>\n",
       "      <td>...</td>\n",
       "      <td>...</td>\n",
       "    </tr>\n",
       "    <tr>\n",
       "      <th>90830</th>\n",
       "      <td>(2019 GF1)</td>\n",
       "      <td>0.008405</td>\n",
       "      <td>0.018795</td>\n",
       "      <td>8424.366481</td>\n",
       "      <td>3.821292e+06</td>\n",
       "      <td>27.50</td>\n",
       "      <td>0</td>\n",
       "    </tr>\n",
       "    <tr>\n",
       "      <th>90831</th>\n",
       "      <td>(2021 YE)</td>\n",
       "      <td>0.017561</td>\n",
       "      <td>0.039268</td>\n",
       "      <td>23264.740825</td>\n",
       "      <td>1.635007e+06</td>\n",
       "      <td>25.90</td>\n",
       "      <td>0</td>\n",
       "    </tr>\n",
       "    <tr>\n",
       "      <th>90832</th>\n",
       "      <td>(2018 KL)</td>\n",
       "      <td>0.110804</td>\n",
       "      <td>0.247765</td>\n",
       "      <td>24802.519406</td>\n",
       "      <td>3.351901e+07</td>\n",
       "      <td>21.90</td>\n",
       "      <td>0</td>\n",
       "    </tr>\n",
       "    <tr>\n",
       "      <th>90834</th>\n",
       "      <td>(2014 SQ260)</td>\n",
       "      <td>0.044112</td>\n",
       "      <td>0.098637</td>\n",
       "      <td>45763.317060</td>\n",
       "      <td>2.694877e+07</td>\n",
       "      <td>23.90</td>\n",
       "      <td>0</td>\n",
       "    </tr>\n",
       "    <tr>\n",
       "      <th>90835</th>\n",
       "      <td>(2012 EQ3)</td>\n",
       "      <td>0.084441</td>\n",
       "      <td>0.188817</td>\n",
       "      <td>79519.526381</td>\n",
       "      <td>3.631207e+07</td>\n",
       "      <td>22.49</td>\n",
       "      <td>0</td>\n",
       "    </tr>\n",
       "  </tbody>\n",
       "</table>\n",
       "<p>81570 rows × 7 columns</p>\n",
       "</div>"
      ],
      "text/plain": [
       "               name  est_diameter_min  est_diameter_max  relative_velocity  \\\n",
       "0        (2011 GZ2)          0.016016          0.035813       56014.078517   \n",
       "1        (2020 HT6)          0.030518          0.068240        7864.348060   \n",
       "2      (2016 ED156)          0.055533          0.124177       55257.544508   \n",
       "3        (2013 FD8)          0.019256          0.043057       41531.404722   \n",
       "4       (2016 CW31)          0.139494          0.311918       67639.394481   \n",
       "...             ...               ...               ...                ...   \n",
       "90830    (2019 GF1)          0.008405          0.018795        8424.366481   \n",
       "90831     (2021 YE)          0.017561          0.039268       23264.740825   \n",
       "90832     (2018 KL)          0.110804          0.247765       24802.519406   \n",
       "90834  (2014 SQ260)          0.044112          0.098637       45763.317060   \n",
       "90835    (2012 EQ3)          0.084441          0.188817       79519.526381   \n",
       "\n",
       "       miss_distance  absolute_magnitude  hazardous  \n",
       "0       1.024333e+06               26.10          0  \n",
       "1       3.268186e+07               24.70          0  \n",
       "2       6.538636e+07               23.40          0  \n",
       "3       1.260796e+07               25.70          0  \n",
       "4       7.130590e+07               21.40          0  \n",
       "...              ...                 ...        ...  \n",
       "90830   3.821292e+06               27.50          0  \n",
       "90831   1.635007e+06               25.90          0  \n",
       "90832   3.351901e+07               21.90          0  \n",
       "90834   2.694877e+07               23.90          0  \n",
       "90835   3.631207e+07               22.49          0  \n",
       "\n",
       "[81570 rows x 7 columns]"
      ]
     },
     "execution_count": 25,
     "metadata": {},
     "output_type": "execute_result"
    }
   ],
   "source": [
    "df = df[df.index.isin(index_list)]\n",
    "df"
   ]
  },
  {
   "cell_type": "markdown",
   "id": "c9539b28-d78f-4bee-9f5f-0482628bb38c",
   "metadata": {},
   "source": [
    "## Выделение целевого признака и предикторов"
   ]
  },
  {
   "cell_type": "code",
   "execution_count": 26,
   "id": "929eeb1f-ca8c-496e-90c7-9c5f4e63d449",
   "metadata": {},
   "outputs": [
    {
     "data": {
      "text/plain": [
       "hazardous\n",
       "0    75131\n",
       "1     6439\n",
       "Name: count, dtype: int64"
      ]
     },
     "execution_count": 26,
     "metadata": {},
     "output_type": "execute_result"
    }
   ],
   "source": [
    "df['hazardous'].value_counts()"
   ]
  },
  {
   "cell_type": "code",
   "execution_count": 27,
   "id": "604d45ef-a9dd-4094-a512-3afecf39edaa",
   "metadata": {},
   "outputs": [],
   "source": [
    "y = df[\"hazardous\"]\n",
    "X = df.drop([\"hazardous\"], axis=1)"
   ]
  },
  {
   "cell_type": "markdown",
   "id": "861d028c-115d-4a26-b89f-258f546e5ac4",
   "metadata": {},
   "source": [
    "Придётся дропнуть столбец с названием объекта, так как для каждого объекта данные в данном столбеце уникалены, а значит OneHot кодирование бесполезно "
   ]
  },
  {
   "cell_type": "code",
   "execution_count": 28,
   "id": "6fdc4c38-2bee-411f-97ad-ea69c500b3e0",
   "metadata": {},
   "outputs": [],
   "source": [
    "X = X.drop([\"name\"], axis=1)"
   ]
  },
  {
   "cell_type": "code",
   "execution_count": 29,
   "id": "98deac98-1b3f-42ea-84ec-c7fda0810439",
   "metadata": {},
   "outputs": [
    {
     "data": {
      "text/plain": [
       "0        0\n",
       "1        0\n",
       "2        0\n",
       "3        0\n",
       "4        0\n",
       "        ..\n",
       "90830    0\n",
       "90831    0\n",
       "90832    0\n",
       "90834    0\n",
       "90835    0\n",
       "Name: hazardous, Length: 81570, dtype: int32"
      ]
     },
     "execution_count": 29,
     "metadata": {},
     "output_type": "execute_result"
    }
   ],
   "source": [
    "y"
   ]
  },
  {
   "cell_type": "code",
   "execution_count": 30,
   "id": "2c011014-1431-462f-942c-6366c34a03f7",
   "metadata": {},
   "outputs": [
    {
     "data": {
      "text/html": [
       "<div>\n",
       "<style scoped>\n",
       "    .dataframe tbody tr th:only-of-type {\n",
       "        vertical-align: middle;\n",
       "    }\n",
       "\n",
       "    .dataframe tbody tr th {\n",
       "        vertical-align: top;\n",
       "    }\n",
       "\n",
       "    .dataframe thead th {\n",
       "        text-align: right;\n",
       "    }\n",
       "</style>\n",
       "<table border=\"1\" class=\"dataframe\">\n",
       "  <thead>\n",
       "    <tr style=\"text-align: right;\">\n",
       "      <th></th>\n",
       "      <th>est_diameter_min</th>\n",
       "      <th>est_diameter_max</th>\n",
       "      <th>relative_velocity</th>\n",
       "      <th>miss_distance</th>\n",
       "      <th>absolute_magnitude</th>\n",
       "    </tr>\n",
       "  </thead>\n",
       "  <tbody>\n",
       "    <tr>\n",
       "      <th>0</th>\n",
       "      <td>0.016016</td>\n",
       "      <td>0.035813</td>\n",
       "      <td>56014.078517</td>\n",
       "      <td>1.024333e+06</td>\n",
       "      <td>26.10</td>\n",
       "    </tr>\n",
       "    <tr>\n",
       "      <th>1</th>\n",
       "      <td>0.030518</td>\n",
       "      <td>0.068240</td>\n",
       "      <td>7864.348060</td>\n",
       "      <td>3.268186e+07</td>\n",
       "      <td>24.70</td>\n",
       "    </tr>\n",
       "    <tr>\n",
       "      <th>2</th>\n",
       "      <td>0.055533</td>\n",
       "      <td>0.124177</td>\n",
       "      <td>55257.544508</td>\n",
       "      <td>6.538636e+07</td>\n",
       "      <td>23.40</td>\n",
       "    </tr>\n",
       "    <tr>\n",
       "      <th>3</th>\n",
       "      <td>0.019256</td>\n",
       "      <td>0.043057</td>\n",
       "      <td>41531.404722</td>\n",
       "      <td>1.260796e+07</td>\n",
       "      <td>25.70</td>\n",
       "    </tr>\n",
       "    <tr>\n",
       "      <th>4</th>\n",
       "      <td>0.139494</td>\n",
       "      <td>0.311918</td>\n",
       "      <td>67639.394481</td>\n",
       "      <td>7.130590e+07</td>\n",
       "      <td>21.40</td>\n",
       "    </tr>\n",
       "    <tr>\n",
       "      <th>...</th>\n",
       "      <td>...</td>\n",
       "      <td>...</td>\n",
       "      <td>...</td>\n",
       "      <td>...</td>\n",
       "      <td>...</td>\n",
       "    </tr>\n",
       "    <tr>\n",
       "      <th>90830</th>\n",
       "      <td>0.008405</td>\n",
       "      <td>0.018795</td>\n",
       "      <td>8424.366481</td>\n",
       "      <td>3.821292e+06</td>\n",
       "      <td>27.50</td>\n",
       "    </tr>\n",
       "    <tr>\n",
       "      <th>90831</th>\n",
       "      <td>0.017561</td>\n",
       "      <td>0.039268</td>\n",
       "      <td>23264.740825</td>\n",
       "      <td>1.635007e+06</td>\n",
       "      <td>25.90</td>\n",
       "    </tr>\n",
       "    <tr>\n",
       "      <th>90832</th>\n",
       "      <td>0.110804</td>\n",
       "      <td>0.247765</td>\n",
       "      <td>24802.519406</td>\n",
       "      <td>3.351901e+07</td>\n",
       "      <td>21.90</td>\n",
       "    </tr>\n",
       "    <tr>\n",
       "      <th>90834</th>\n",
       "      <td>0.044112</td>\n",
       "      <td>0.098637</td>\n",
       "      <td>45763.317060</td>\n",
       "      <td>2.694877e+07</td>\n",
       "      <td>23.90</td>\n",
       "    </tr>\n",
       "    <tr>\n",
       "      <th>90835</th>\n",
       "      <td>0.084441</td>\n",
       "      <td>0.188817</td>\n",
       "      <td>79519.526381</td>\n",
       "      <td>3.631207e+07</td>\n",
       "      <td>22.49</td>\n",
       "    </tr>\n",
       "  </tbody>\n",
       "</table>\n",
       "<p>81570 rows × 5 columns</p>\n",
       "</div>"
      ],
      "text/plain": [
       "       est_diameter_min  est_diameter_max  relative_velocity  miss_distance  \\\n",
       "0              0.016016          0.035813       56014.078517   1.024333e+06   \n",
       "1              0.030518          0.068240        7864.348060   3.268186e+07   \n",
       "2              0.055533          0.124177       55257.544508   6.538636e+07   \n",
       "3              0.019256          0.043057       41531.404722   1.260796e+07   \n",
       "4              0.139494          0.311918       67639.394481   7.130590e+07   \n",
       "...                 ...               ...                ...            ...   \n",
       "90830          0.008405          0.018795        8424.366481   3.821292e+06   \n",
       "90831          0.017561          0.039268       23264.740825   1.635007e+06   \n",
       "90832          0.110804          0.247765       24802.519406   3.351901e+07   \n",
       "90834          0.044112          0.098637       45763.317060   2.694877e+07   \n",
       "90835          0.084441          0.188817       79519.526381   3.631207e+07   \n",
       "\n",
       "       absolute_magnitude  \n",
       "0                   26.10  \n",
       "1                   24.70  \n",
       "2                   23.40  \n",
       "3                   25.70  \n",
       "4                   21.40  \n",
       "...                   ...  \n",
       "90830               27.50  \n",
       "90831               25.90  \n",
       "90832               21.90  \n",
       "90834               23.90  \n",
       "90835               22.49  \n",
       "\n",
       "[81570 rows x 5 columns]"
      ]
     },
     "execution_count": 30,
     "metadata": {},
     "output_type": "execute_result"
    }
   ],
   "source": [
    "X"
   ]
  },
  {
   "cell_type": "code",
   "execution_count": 31,
   "id": "59b86432-c313-491c-9e63-0f3b74022470",
   "metadata": {},
   "outputs": [],
   "source": [
    "from sklearn.model_selection import train_test_split\n",
    "X_train, X_test, y_train, y_test = train_test_split(X, y, test_size=0.2, stratify = y)"
   ]
  },
  {
   "cell_type": "code",
   "execution_count": 32,
   "id": "510930b6-aeff-440f-8891-eaf7fdcb1ab9",
   "metadata": {},
   "outputs": [
    {
     "data": {
      "text/plain": [
       "((65256, 5), (65256,), (16314, 5), (16314,))"
      ]
     },
     "execution_count": 32,
     "metadata": {},
     "output_type": "execute_result"
    }
   ],
   "source": [
    "X_train.shape, y_train.shape, X_test.shape, y_test.shape"
   ]
  },
  {
   "cell_type": "markdown",
   "id": "2db3522d-dbdd-40bc-9dd1-af5ff82814c7",
   "metadata": {},
   "source": [
    "## Балансировка"
   ]
  },
  {
   "cell_type": "code",
   "execution_count": 33,
   "id": "9a94e8d7-1a79-4139-a7f2-d666b472d3ac",
   "metadata": {},
   "outputs": [],
   "source": [
    "smote = SMOTE()\n",
    "X_train, y_train = smote.fit_resample(X_train, y_train)"
   ]
  },
  {
   "cell_type": "code",
   "execution_count": 34,
   "id": "062d2384-938e-418d-8b80-cbb0a19035c0",
   "metadata": {},
   "outputs": [
    {
     "data": {
      "text/plain": [
       "((120210, 5), (120210,))"
      ]
     },
     "execution_count": 34,
     "metadata": {},
     "output_type": "execute_result"
    }
   ],
   "source": [
    "X_train.shape,  y_train.shape"
   ]
  },
  {
   "cell_type": "markdown",
   "id": "f5f6f015-6df8-4ee9-9241-44cc74464bb0",
   "metadata": {},
   "source": [
    "## Масштабирование"
   ]
  },
  {
   "cell_type": "code",
   "execution_count": 35,
   "id": "75c17ee6-c1b4-418b-a74d-7aac7cb26936",
   "metadata": {},
   "outputs": [],
   "source": [
    "from sklearn.preprocessing import StandardScaler\n",
    "sc = StandardScaler()\n",
    "X_train = sc.fit_transform(X_train)\n",
    "X_test = sc.transform(X_test)"
   ]
  },
  {
   "cell_type": "markdown",
   "id": "d115ddaf-9458-4bc7-9235-b0b9554aef9c",
   "metadata": {},
   "source": [
    "# Логистическая регрессия"
   ]
  },
  {
   "cell_type": "code",
   "execution_count": 36,
   "id": "4c09becc-c3fd-4b1c-a25e-e2480f275085",
   "metadata": {},
   "outputs": [
    {
     "name": "stdout",
     "output_type": "stream",
     "text": [
      "              precision    recall  f1-score   support\n",
      "\n",
      "           0       1.00      0.81      0.90     15026\n",
      "           1       0.31      0.96      0.46      1288\n",
      "\n",
      "    accuracy                           0.82     16314\n",
      "   macro avg       0.65      0.89      0.68     16314\n",
      "weighted avg       0.94      0.82      0.86     16314\n",
      "\n"
     ]
    }
   ],
   "source": [
    "from sklearn.linear_model import LogisticRegression\n",
    "from sklearn.metrics import classification_report\n",
    "\n",
    "log_reg = LogisticRegression()\n",
    "log_reg.fit(X_train, y_train)\n",
    "log_reg_pred = log_reg.predict(X_test)\n",
    "\n",
    "print(classification_report(y_test, log_reg_pred))"
   ]
  },
  {
   "cell_type": "code",
   "execution_count": 37,
   "id": "dd218db5-bf09-41e3-a2bf-cd958de69007",
   "metadata": {},
   "outputs": [
    {
     "name": "stdout",
     "output_type": "stream",
     "text": [
      "[[12219  2807]\n",
      " [   51  1237]]\n"
     ]
    }
   ],
   "source": [
    "cm = confusion_matrix(y_test, log_reg_pred)\n",
    "\n",
    "print(cm)"
   ]
  },
  {
   "cell_type": "code",
   "execution_count": 38,
   "id": "a81421b8-07fb-4490-8de5-b728d3727522",
   "metadata": {},
   "outputs": [
    {
     "data": {
      "image/png": "[encoded data removed]",
      "text/plain": [
       "<Figure size 600x600 with 1 Axes>"
      ]
     },
     "metadata": {},
     "output_type": "display_data"
    }
   ],
   "source": [
    "from sklearn.metrics import roc_curve, roc_auc_score\n",
    "import matplotlib\n",
    "import matplotlib.pyplot as plt\n",
    "%matplotlib inline\n",
    "\n",
    "y_scores = log_reg.predict_proba(X_test)\n",
    "# Вычислить ROC кривую\n",
    "fpr, tpr, thresholds = roc_curve(y_test, y_scores[:,1])\n",
    "\n",
    "# Построить ROC кривую\n",
    "fig = plt.figure(figsize=(6, 6))\n",
    "# Постройте диагональную линию 50%\n",
    "plt.plot([0, 1], [0, 1], 'k--')\n",
    "# Построить FPR and TPR, которые достигаются нашей моделью\n",
    "plt.plot(fpr, tpr)\n",
    "plt.xlabel('False Positive Rate')\n",
    "plt.ylabel('True Positive Rate')\n",
    "plt.title('ROC Curve')\n",
    "plt.show()"
   ]
  },
  {
   "cell_type": "code",
   "execution_count": 39,
   "id": "55c91df2-f48c-421b-8b62-e6a59af1ba66",
   "metadata": {},
   "outputs": [
    {
     "name": "stdout",
     "output_type": "stream",
     "text": [
      "0.9112718596255105\n"
     ]
    }
   ],
   "source": [
    "auc = roc_auc_score(y_test,y_scores[:,1])\n",
    "print(auc)"
   ]
  },
  {
   "cell_type": "markdown",
   "id": "b6a9c604-6782-4d13-8fc1-91d18fece351",
   "metadata": {},
   "source": [
    "# Наивный байесовский классификатор "
   ]
  },
  {
   "cell_type": "code",
   "execution_count": 40,
   "id": "fc71bb7b-3aeb-4734-8a8a-c0fb265e0572",
   "metadata": {},
   "outputs": [
    {
     "data": {
      "text/html": [
       "<style>#sk-container-id-1 {color: black;}#sk-container-id-1 pre{padding: 0;}#sk-container-id-1 div.sk-toggleable {background-color: white;}#sk-container-id-1 label.sk-toggleable__label {cursor: pointer;display: block;width: 100%;margin-bottom: 0;padding: 0.3em;box-sizing: border-box;text-align: center;}#sk-container-id-1 label.sk-toggleable__label-arrow:before {content: \"▸\";float: left;margin-right: 0.25em;color: #696969;}#sk-container-id-1 label.sk-toggleable__label-arrow:hover:before {color: black;}#sk-container-id-1 div.sk-estimator:hover label.sk-toggleable__label-arrow:before {color: black;}#sk-container-id-1 div.sk-toggleable__content {max-height: 0;max-width: 0;overflow: hidden;text-align: left;background-color: #f0f8ff;}#sk-container-id-1 div.sk-toggleable__content pre {margin: 0.2em;color: black;border-radius: 0.25em;background-color: #f0f8ff;}#sk-container-id-1 input.sk-toggleable__control:checked~div.sk-toggleable__content {max-height: 200px;max-width: 100%;overflow: auto;}#sk-container-id-1 input.sk-toggleable__control:checked~label.sk-toggleable__label-arrow:before {content: \"▾\";}#sk-container-id-1 div.sk-estimator input.sk-toggleable__control:checked~label.sk-toggleable__label {background-color: #d4ebff;}#sk-container-id-1 div.sk-label input.sk-toggleable__control:checked~label.sk-toggleable__label {background-color: #d4ebff;}#sk-container-id-1 input.sk-hidden--visually {border: 0;clip: rect(1px 1px 1px 1px);clip: rect(1px, 1px, 1px, 1px);height: 1px;margin: -1px;overflow: hidden;padding: 0;position: absolute;width: 1px;}#sk-container-id-1 div.sk-estimator {font-family: monospace;background-color: #f0f8ff;border: 1px dotted black;border-radius: 0.25em;box-sizing: border-box;margin-bottom: 0.5em;}#sk-container-id-1 div.sk-estimator:hover {background-color: #d4ebff;}#sk-container-id-1 div.sk-parallel-item::after {content: \"\";width: 100%;border-bottom: 1px solid gray;flex-grow: 1;}#sk-container-id-1 div.sk-label:hover label.sk-toggleable__label {background-color: #d4ebff;}#sk-container-id-1 div.sk-serial::before {content: \"\";position: absolute;border-left: 1px solid gray;box-sizing: border-box;top: 0;bottom: 0;left: 50%;z-index: 0;}#sk-container-id-1 div.sk-serial {display: flex;flex-direction: column;align-items: center;background-color: white;padding-right: 0.2em;padding-left: 0.2em;position: relative;}#sk-container-id-1 div.sk-item {position: relative;z-index: 1;}#sk-container-id-1 div.sk-parallel {display: flex;align-items: stretch;justify-content: center;background-color: white;position: relative;}#sk-container-id-1 div.sk-item::before, #sk-container-id-1 div.sk-parallel-item::before {content: \"\";position: absolute;border-left: 1px solid gray;box-sizing: border-box;top: 0;bottom: 0;left: 50%;z-index: -1;}#sk-container-id-1 div.sk-parallel-item {display: flex;flex-direction: column;z-index: 1;position: relative;background-color: white;}#sk-container-id-1 div.sk-parallel-item:first-child::after {align-self: flex-end;width: 50%;}#sk-container-id-1 div.sk-parallel-item:last-child::after {align-self: flex-start;width: 50%;}#sk-container-id-1 div.sk-parallel-item:only-child::after {width: 0;}#sk-container-id-1 div.sk-dashed-wrapped {border: 1px dashed gray;margin: 0 0.4em 0.5em 0.4em;box-sizing: border-box;padding-bottom: 0.4em;background-color: white;}#sk-container-id-1 div.sk-label label {font-family: monospace;font-weight: bold;display: inline-block;line-height: 1.2em;}#sk-container-id-1 div.sk-label-container {text-align: center;}#sk-container-id-1 div.sk-container {/* jupyter's `normalize.less` sets `[hidden] { display: none; }` but bootstrap.min.css set `[hidden] { display: none !important; }` so we also need the `!important` here to be able to override the default hidden behavior on the sphinx rendered scikit-learn.org. See: https://github.com/scikit-learn/scikit-learn/issues/21755 */display: inline-block !important;position: relative;}#sk-container-id-1 div.sk-text-repr-fallback {display: none;}</style><div id=\"sk-container-id-1\" class=\"sk-top-container\"><div class=\"sk-text-repr-fallback\"><pre>GaussianNB()</pre><b>In a Jupyter environment, please rerun this cell to show the HTML representation or trust the notebook. <br />On GitHub, the HTML representation is unable to render, please try loading this page with nbviewer.org.</b></div><div class=\"sk-container\" hidden><div class=\"sk-item\"><div class=\"sk-estimator sk-toggleable\"><input class=\"sk-toggleable__control sk-hidden--visually\" id=\"sk-estimator-id-1\" type=\"checkbox\" checked><label for=\"sk-estimator-id-1\" class=\"sk-toggleable__label sk-toggleable__label-arrow\">GaussianNB</label><div class=\"sk-toggleable__content\"><pre>GaussianNB()</pre></div></div></div></div></div>"
      ],
      "text/plain": [
       "GaussianNB()"
      ]
     },
     "execution_count": 40,
     "metadata": {},
     "output_type": "execute_result"
    }
   ],
   "source": [
    "from sklearn.naive_bayes import MultinomialNB, BernoulliNB, GaussianNB\n",
    "\n",
    "naive_bayes_classifier = GaussianNB()\n",
    "naive_bayes_classifier.fit(X_train, y_train)"
   ]
  },
  {
   "cell_type": "code",
   "execution_count": 41,
   "id": "a9bae708-71cc-4240-9720-f3cd5df20c59",
   "metadata": {},
   "outputs": [],
   "source": [
    "naive_bayes_pred = naive_bayes_classifier.predict(X_test)"
   ]
  },
  {
   "cell_type": "code",
   "execution_count": 42,
   "id": "fb30e686-0ab8-46bd-88ed-99eeb0d37242",
   "metadata": {},
   "outputs": [
    {
     "name": "stdout",
     "output_type": "stream",
     "text": [
      "[[12548  2478]\n",
      " [  122  1166]]\n"
     ]
    }
   ],
   "source": [
    "cm = confusion_matrix(y_test, naive_bayes_pred)\n",
    "\n",
    "print(cm)"
   ]
  },
  {
   "cell_type": "code",
   "execution_count": 43,
   "id": "48ace5fe-019f-48b2-b0d2-f207037535fd",
   "metadata": {},
   "outputs": [
    {
     "name": "stdout",
     "output_type": "stream",
     "text": [
      "              precision    recall  f1-score   support\n",
      "\n",
      "           0       0.99      0.84      0.91     15026\n",
      "           1       0.32      0.91      0.47      1288\n",
      "\n",
      "    accuracy                           0.84     16314\n",
      "   macro avg       0.66      0.87      0.69     16314\n",
      "weighted avg       0.94      0.84      0.87     16314\n",
      "\n"
     ]
    }
   ],
   "source": [
    "print(classification_report(y_test, naive_bayes_pred))"
   ]
  },
  {
   "cell_type": "code",
   "execution_count": 44,
   "id": "086444bb-37db-4282-9e54-31b3a73d0690",
   "metadata": {},
   "outputs": [
    {
     "data": {
      "image/png": "[encoded data removed]",
      "text/plain": [
       "<Figure size 600x600 with 1 Axes>"
      ]
     },
     "metadata": {},
     "output_type": "display_data"
    }
   ],
   "source": [
    "%matplotlib inline\n",
    "\n",
    "y_scores = naive_bayes_classifier.predict_proba(X_test)\n",
    "# Вычислить ROC кривую\n",
    "fpr, tpr, thresholds = roc_curve(y_test, y_scores[:,1])\n",
    "\n",
    "# Построить ROC кривую\n",
    "fig2 = plt.figure(figsize=(6, 6))\n",
    "# Постройте диагональную линию 50%\n",
    "plt.plot([0, 1], [0, 1], 'k--')\n",
    "# Построить FPR and TPR, которые достигаются нашей моделью\n",
    "plt.plot(fpr, tpr)\n",
    "plt.xlabel('False Positive Rate')\n",
    "plt.ylabel('True Positive Rate')\n",
    "plt.title('ROC Curve')\n",
    "plt.show()"
   ]
  },
  {
   "cell_type": "code",
   "execution_count": 45,
   "id": "c8666743-72e2-497d-ae77-fb5cfd8d6a39",
   "metadata": {},
   "outputs": [
    {
     "name": "stdout",
     "output_type": "stream",
     "text": [
      "0.9058798600024968\n"
     ]
    }
   ],
   "source": [
    "auc = roc_auc_score(y_test, y_scores[:,1])\n",
    "print(auc)"
   ]
  },
  {
   "cell_type": "markdown",
   "id": "b052cdee-c409-45fe-afa4-5c081818decb",
   "metadata": {},
   "source": [
    "# SVM"
   ]
  },
  {
   "cell_type": "code",
   "execution_count": 46,
   "id": "5bdf60c1-2a12-49f7-85b0-35eefa081bab",
   "metadata": {},
   "outputs": [
    {
     "data": {
      "text/plain": [
       "{'C': 0.1, 'degree': 2, 'kernel': 'linear'}"
      ]
     },
     "execution_count": 46,
     "metadata": {},
     "output_type": "execute_result"
    }
   ],
   "source": [
    "from sklearn.svm import SVC\n",
    "from sklearn.model_selection import GridSearchCV, RandomizedSearchCV\n",
    "\n",
    "svc = SVC(max_iter = 1000)\n",
    "\n",
    "param_grid = {\n",
    "    \"C\": np.arange(0.1, 1, 0.1),\n",
    "    \"kernel\": [\"linear\", \"poly\", \"rbf\", \"sigmoid\"],\n",
    "    \"degree\": [2, 3, 4],  \n",
    "}\n",
    "\n",
    "gridsearch = GridSearchCV(svc, param_grid)\n",
    "gridsearch.fit(X_train, y_train)\n",
    "\n",
    "best_c = gridsearch.best_params_['C']\n",
    "best_kernel = gridsearch.best_params_['kernel']\n",
    "best_degree = gridsearch.best_params_['degree']\n",
    "\n",
    "gridsearch.best_params_"
   ]
  },
  {
   "cell_type": "code",
   "execution_count": 47,
   "id": "53a9f076-065c-4c91-a77a-31e14272a3c7",
   "metadata": {},
   "outputs": [
    {
     "data": {
      "text/html": [
       "<style>#sk-container-id-2 {color: black;}#sk-container-id-2 pre{padding: 0;}#sk-container-id-2 div.sk-toggleable {background-color: white;}#sk-container-id-2 label.sk-toggleable__label {cursor: pointer;display: block;width: 100%;margin-bottom: 0;padding: 0.3em;box-sizing: border-box;text-align: center;}#sk-container-id-2 label.sk-toggleable__label-arrow:before {content: \"▸\";float: left;margin-right: 0.25em;color: #696969;}#sk-container-id-2 label.sk-toggleable__label-arrow:hover:before {color: black;}#sk-container-id-2 div.sk-estimator:hover label.sk-toggleable__label-arrow:before {color: black;}#sk-container-id-2 div.sk-toggleable__content {max-height: 0;max-width: 0;overflow: hidden;text-align: left;background-color: #f0f8ff;}#sk-container-id-2 div.sk-toggleable__content pre {margin: 0.2em;color: black;border-radius: 0.25em;background-color: #f0f8ff;}#sk-container-id-2 input.sk-toggleable__control:checked~div.sk-toggleable__content {max-height: 200px;max-width: 100%;overflow: auto;}#sk-container-id-2 input.sk-toggleable__control:checked~label.sk-toggleable__label-arrow:before {content: \"▾\";}#sk-container-id-2 div.sk-estimator input.sk-toggleable__control:checked~label.sk-toggleable__label {background-color: #d4ebff;}#sk-container-id-2 div.sk-label input.sk-toggleable__control:checked~label.sk-toggleable__label {background-color: #d4ebff;}#sk-container-id-2 input.sk-hidden--visually {border: 0;clip: rect(1px 1px 1px 1px);clip: rect(1px, 1px, 1px, 1px);height: 1px;margin: -1px;overflow: hidden;padding: 0;position: absolute;width: 1px;}#sk-container-id-2 div.sk-estimator {font-family: monospace;background-color: #f0f8ff;border: 1px dotted black;border-radius: 0.25em;box-sizing: border-box;margin-bottom: 0.5em;}#sk-container-id-2 div.sk-estimator:hover {background-color: #d4ebff;}#sk-container-id-2 div.sk-parallel-item::after {content: \"\";width: 100%;border-bottom: 1px solid gray;flex-grow: 1;}#sk-container-id-2 div.sk-label:hover label.sk-toggleable__label {background-color: #d4ebff;}#sk-container-id-2 div.sk-serial::before {content: \"\";position: absolute;border-left: 1px solid gray;box-sizing: border-box;top: 0;bottom: 0;left: 50%;z-index: 0;}#sk-container-id-2 div.sk-serial {display: flex;flex-direction: column;align-items: center;background-color: white;padding-right: 0.2em;padding-left: 0.2em;position: relative;}#sk-container-id-2 div.sk-item {position: relative;z-index: 1;}#sk-container-id-2 div.sk-parallel {display: flex;align-items: stretch;justify-content: center;background-color: white;position: relative;}#sk-container-id-2 div.sk-item::before, #sk-container-id-2 div.sk-parallel-item::before {content: \"\";position: absolute;border-left: 1px solid gray;box-sizing: border-box;top: 0;bottom: 0;left: 50%;z-index: -1;}#sk-container-id-2 div.sk-parallel-item {display: flex;flex-direction: column;z-index: 1;position: relative;background-color: white;}#sk-container-id-2 div.sk-parallel-item:first-child::after {align-self: flex-end;width: 50%;}#sk-container-id-2 div.sk-parallel-item:last-child::after {align-self: flex-start;width: 50%;}#sk-container-id-2 div.sk-parallel-item:only-child::after {width: 0;}#sk-container-id-2 div.sk-dashed-wrapped {border: 1px dashed gray;margin: 0 0.4em 0.5em 0.4em;box-sizing: border-box;padding-bottom: 0.4em;background-color: white;}#sk-container-id-2 div.sk-label label {font-family: monospace;font-weight: bold;display: inline-block;line-height: 1.2em;}#sk-container-id-2 div.sk-label-container {text-align: center;}#sk-container-id-2 div.sk-container {/* jupyter's `normalize.less` sets `[hidden] { display: none; }` but bootstrap.min.css set `[hidden] { display: none !important; }` so we also need the `!important` here to be able to override the default hidden behavior on the sphinx rendered scikit-learn.org. See: https://github.com/scikit-learn/scikit-learn/issues/21755 */display: inline-block !important;position: relative;}#sk-container-id-2 div.sk-text-repr-fallback {display: none;}</style><div id=\"sk-container-id-2\" class=\"sk-top-container\"><div class=\"sk-text-repr-fallback\"><pre>SVC(C=0.1, degree=2, kernel=&#x27;linear&#x27;, max_iter=1000, probability=True)</pre><b>In a Jupyter environment, please rerun this cell to show the HTML representation or trust the notebook. <br />On GitHub, the HTML representation is unable to render, please try loading this page with nbviewer.org.</b></div><div class=\"sk-container\" hidden><div class=\"sk-item\"><div class=\"sk-estimator sk-toggleable\"><input class=\"sk-toggleable__control sk-hidden--visually\" id=\"sk-estimator-id-2\" type=\"checkbox\" checked><label for=\"sk-estimator-id-2\" class=\"sk-toggleable__label sk-toggleable__label-arrow\">SVC</label><div class=\"sk-toggleable__content\"><pre>SVC(C=0.1, degree=2, kernel=&#x27;linear&#x27;, max_iter=1000, probability=True)</pre></div></div></div></div></div>"
      ],
      "text/plain": [
       "SVC(C=0.1, degree=2, kernel='linear', max_iter=1000, probability=True)"
      ]
     },
     "execution_count": 47,
     "metadata": {},
     "output_type": "execute_result"
    }
   ],
   "source": [
    "model_SVC = SVC(kernel=best_kernel, max_iter = 1000, C= best_c, degree = best_degree, probability=True)\n",
    "model_SVC.fit(X_train, y_train)"
   ]
  },
  {
   "cell_type": "code",
   "execution_count": 48,
   "id": "67d6efeb-6a32-4de9-a37a-699907ef4ef8",
   "metadata": {},
   "outputs": [],
   "source": [
    "SVC_pred = model_SVC.predict(X_test)"
   ]
  },
  {
   "cell_type": "code",
   "execution_count": 49,
   "id": "f4ca2acf-ed06-4f47-a66b-d0eeedde352c",
   "metadata": {
    "scrolled": true
   },
   "outputs": [
    {
     "name": "stdout",
     "output_type": "stream",
     "text": [
      "              precision    recall  f1-score   support\n",
      "\n",
      "           0       1.00      0.55      0.71     15026\n",
      "           1       0.16      0.99      0.27      1288\n",
      "\n",
      "    accuracy                           0.58     16314\n",
      "   macro avg       0.58      0.77      0.49     16314\n",
      "weighted avg       0.93      0.58      0.67     16314\n",
      "\n"
     ]
    }
   ],
   "source": [
    "print(classification_report(y_test, SVC_pred))"
   ]
  },
  {
   "cell_type": "code",
   "execution_count": 50,
   "id": "daea21e8-75dd-4492-b430-61b96c539055",
   "metadata": {},
   "outputs": [
    {
     "name": "stdout",
     "output_type": "stream",
     "text": [
      "[[8209 6817]\n",
      " [  18 1270]]\n"
     ]
    }
   ],
   "source": [
    "cm = confusion_matrix(y_test, SVC_pred)\n",
    "\n",
    "print(cm)"
   ]
  },
  {
   "cell_type": "code",
   "execution_count": 51,
   "id": "986c297b-af5e-457e-b6b7-e0540e0f62b6",
   "metadata": {},
   "outputs": [
    {
     "data": {
      "image/png": "[encoded data removed]",
      "text/plain": [
       "<Figure size 600x600 with 1 Axes>"
      ]
     },
     "metadata": {},
     "output_type": "display_data"
    }
   ],
   "source": [
    "#%matplotlib inline\n",
    "\n",
    "y_scores = model_SVC.predict_proba(X_test)\n",
    "# Вычислить ROC кривую\n",
    "fpr, tpr, thresholds = roc_curve(y_test, y_scores[:,1])\n",
    "\n",
    "# Построить ROC кривую\n",
    "fig3 = plt.figure(figsize=(6, 6))\n",
    "# Постройте диагональную линию 50%\n",
    "plt.plot([0, 1], [0, 1], 'k--')\n",
    "# Построить FPR and TPR, которые достигаются нашей моделью\n",
    "plt.plot(fpr, tpr)\n",
    "plt.xlabel('False Positive Rate')\n",
    "plt.ylabel('True Positive Rate')\n",
    "plt.title('ROC Curve')\n",
    "plt.show()"
   ]
  },
  {
   "cell_type": "code",
   "execution_count": 52,
   "id": "51490252-0711-456d-929f-1004ce63c9ea",
   "metadata": {},
   "outputs": [
    {
     "name": "stdout",
     "output_type": "stream",
     "text": [
      "0.912783318438516\n"
     ]
    }
   ],
   "source": [
    "auc = roc_auc_score(y_test,y_scores[:,1])\n",
    "print(auc)"
   ]
  },
  {
   "cell_type": "markdown",
   "id": "e1a0cd64-a5fc-46a8-b279-5bce18283e11",
   "metadata": {},
   "source": [
    "## kNN"
   ]
  },
  {
   "cell_type": "code",
   "execution_count": 53,
   "id": "a4fbeb5c-0a3d-493b-9b7e-59e2513321ca",
   "metadata": {},
   "outputs": [],
   "source": [
    "from sklearn.neighbors import KNeighborsClassifier"
   ]
  },
  {
   "cell_type": "code",
   "execution_count": 54,
   "id": "8c17df66-bfd5-4c9a-9101-48ce7353f46d",
   "metadata": {},
   "outputs": [],
   "source": [
    "param_grid = {\n",
    "    \"n_neighbors\": [3, 5, 7, 11, 13, 15, 20, 25, 35, 47, 50, 55, 75, 83, 90, 95, 100, 110, 115, 120, 125],\n",
    "    \"p\": [1, 2],\n",
    "}"
   ]
  },
  {
   "cell_type": "code",
   "execution_count": 55,
   "id": "60a43070-b607-40ea-8aab-2ce63fdc702d",
   "metadata": {},
   "outputs": [
    {
     "data": {
      "text/plain": [
       "{'n_neighbors': 11, 'p': 1}"
      ]
     },
     "execution_count": 55,
     "metadata": {},
     "output_type": "execute_result"
    }
   ],
   "source": [
    "gridseach = GridSearchCV(KNeighborsClassifier(weights=\"distance\", metric=\"minkowski\"), param_grid=param_grid, scoring=\"f1_micro\")\n",
    "gridseach.fit(X_train, y_train)\n",
    "\n",
    "best_neighbors = gridseach.best_params_['n_neighbors']\n",
    "best_p = gridseach.best_params_['p']\n",
    "gridseach.best_params_"
   ]
  },
  {
   "cell_type": "code",
   "execution_count": 56,
   "id": "de6076ba-ff9d-451b-baf0-42265af6bebc",
   "metadata": {},
   "outputs": [
    {
     "name": "stdout",
     "output_type": "stream",
     "text": [
      "              precision    recall  f1-score   support\n",
      "\n",
      "           0       0.99      0.87      0.92     15026\n",
      "           1       0.36      0.88      0.51      1288\n",
      "\n",
      "    accuracy                           0.87     16314\n",
      "   macro avg       0.67      0.87      0.72     16314\n",
      "weighted avg       0.94      0.87      0.89     16314\n",
      "\n"
     ]
    }
   ],
   "source": [
    "knn = KNeighborsClassifier(n_neighbors=best_neighbors, metric='minkowski', p=best_p, weights=\"distance\")\n",
    "knn.fit(X_train, y_train)\n",
    "knn_pred = knn.predict(X_test)\n",
    "\n",
    "print(classification_report(y_test, knn_pred))"
   ]
  },
  {
   "cell_type": "code",
   "execution_count": 57,
   "id": "c82173df-b5e9-405c-b73d-d8ed33995ebe",
   "metadata": {},
   "outputs": [
    {
     "name": "stdout",
     "output_type": "stream",
     "text": [
      "[[13005  2021]\n",
      " [  157  1131]]\n"
     ]
    }
   ],
   "source": [
    "cm = confusion_matrix(y_test, knn_pred)\n",
    "print(cm)"
   ]
  },
  {
   "cell_type": "code",
   "execution_count": 58,
   "id": "21e4c108-8d1b-4592-a71e-bb3ff169b2a5",
   "metadata": {},
   "outputs": [
    {
     "data": {
      "image/png": "[encoded data removed]",
      "text/plain": [
       "<Figure size 600x600 with 1 Axes>"
      ]
     },
     "metadata": {},
     "output_type": "display_data"
    }
   ],
   "source": [
    "%matplotlib inline\n",
    "\n",
    "y_scores = knn.predict_proba(X_test)\n",
    "# Вычислить ROC кривую\n",
    "fpr, tpr, thresholds = roc_curve(y_test, y_scores[:,1])\n",
    "\n",
    "# Построить ROC кривую\n",
    "fig = plt.figure(figsize=(6, 6))\n",
    "# Постройте диагональную линию 50%\n",
    "plt.plot([0, 1], [0, 1], 'k--')\n",
    "# Построить FPR and TPR, которые достигаются нашей моделью\n",
    "plt.plot(fpr, tpr)\n",
    "plt.xlabel('False Positive Rate')\n",
    "plt.ylabel('True Positive Rate')\n",
    "plt.title('ROC Curve')\n",
    "plt.show()"
   ]
  },
  {
   "cell_type": "code",
   "execution_count": 59,
   "id": "33c4ae17-6e6d-4901-a358-42e3a7545846",
   "metadata": {},
   "outputs": [
    {
     "name": "stdout",
     "output_type": "stream",
     "text": [
      "0.9344556133757388\n"
     ]
    }
   ],
   "source": [
    "auc = roc_auc_score(y_test,y_scores[:,1])\n",
    "print(auc)"
   ]
  },
  {
   "cell_type": "markdown",
   "id": "bb9c099b-265f-4b27-bcb4-df398ab1de43",
   "metadata": {},
   "source": [
    "# Вычисление основных метрик"
   ]
  },
  {
   "cell_type": "markdown",
   "id": "9f889cc6-57dd-445b-90c7-e966757ff85c",
   "metadata": {},
   "source": [
    "# Построение итоговой модели классификаторов"
   ]
  },
  {
   "cell_type": "code",
   "execution_count": 60,
   "id": "410ea3c5-e8ab-47de-8f6b-3a1b797b171c",
   "metadata": {},
   "outputs": [],
   "source": [
    "from sklearn.metrics import accuracy_score,precision_score,confusion_matrix,classification_report, precision_recall_curve"
   ]
  },
  {
   "cell_type": "code",
   "execution_count": 61,
   "id": "b5895b33-2e47-4c7f-aa03-2159c8a365ec",
   "metadata": {},
   "outputs": [],
   "source": [
    "classifiers = {\n",
    "    'Logistic Regression': LogisticRegression(),\n",
    "    'Naive Bayes' : GaussianNB(),\n",
    "    'SVC': SVC(kernel=best_kernel, max_iter = 5000, C= best_c, degree = best_degree, probability=True),\n",
    "    'KNN classifier': KNeighborsClassifier(n_neighbors=best_neighbors, metric='minkowski', p=best_p, weights=\"distance\")\n",
    "}"
   ]
  },
  {
   "cell_type": "code",
   "execution_count": 62,
   "id": "1ab47e14-b6f7-472a-9251-2ef72b28a8a5",
   "metadata": {},
   "outputs": [
    {
     "name": "stdout",
     "output_type": "stream",
     "text": [
      "Accuracy (train) for Logistic Regression: 82.5% \n",
      "              precision    recall  f1-score   support\n",
      "\n",
      "           0       1.00      0.81      0.90     15026\n",
      "           1       0.31      0.96      0.46      1288\n",
      "\n",
      "    accuracy                           0.82     16314\n",
      "   macro avg       0.65      0.89      0.68     16314\n",
      "weighted avg       0.94      0.82      0.86     16314\n",
      " \n",
      "\n",
      "\n",
      "Accuracy (train) for Naive Bayes: 84.1% \n",
      "              precision    recall  f1-score   support\n",
      "\n",
      "           0       0.99      0.84      0.91     15026\n",
      "           1       0.32      0.91      0.47      1288\n",
      "\n",
      "    accuracy                           0.84     16314\n",
      "   macro avg       0.66      0.87      0.69     16314\n",
      "weighted avg       0.94      0.84      0.87     16314\n",
      " \n",
      "\n",
      "\n",
      "Accuracy (train) for SVC: 81.1% \n",
      "              precision    recall  f1-score   support\n",
      "\n",
      "           0       0.97      0.82      0.89     15026\n",
      "           1       0.26      0.75      0.38      1288\n",
      "\n",
      "    accuracy                           0.81     16314\n",
      "   macro avg       0.62      0.78      0.64     16314\n",
      "weighted avg       0.92      0.81      0.85     16314\n",
      " \n",
      "\n",
      "\n",
      "Accuracy (train) for KNN classifier: 86.6% \n",
      "              precision    recall  f1-score   support\n",
      "\n",
      "           0       0.99      0.87      0.92     15026\n",
      "           1       0.36      0.88      0.51      1288\n",
      "\n",
      "    accuracy                           0.87     16314\n",
      "   macro avg       0.67      0.87      0.72     16314\n",
      "weighted avg       0.94      0.87      0.89     16314\n",
      " \n",
      "\n",
      "\n"
     ]
    }
   ],
   "source": [
    "n_classifiers = len(classifiers)\n",
    "\n",
    "for index, (name, classifier) in enumerate(classifiers.items()):\n",
    "    classifier.fit(X_train, np.ravel(y_train))\n",
    "    y_pred = classifier.predict(X_test)\n",
    "    accuracy = accuracy_score(y_test, y_pred)\n",
    "    print(\"Accuracy (train) for %s: %0.1f%% \" % (name, accuracy * 100))\n",
    "    print(classification_report(y_test,y_pred), '\\n\\n')"
   ]
  },
  {
   "cell_type": "markdown",
   "id": "f5c64cef-dfe7-42bf-9c72-f1b4ea7f76ad",
   "metadata": {},
   "source": [
    "# Заключение"
   ]
  },
  {
   "cell_type": "markdown",
   "id": "6ab7dc16-8a9c-45fd-8da0-5c3d35574c83",
   "metadata": {},
   "source": [
    "Из представленного выше можно сдлеать вывод, что лучше всего себя проявила модель на основе kNN классификатора, так её метркии самые высокие в сравнении с метриками остальных классификаторов."
   ]
  },
  {
   "cell_type": "markdown",
   "id": "3d2c10b2-96fe-477d-a92e-6ea33c6ace6e",
   "metadata": {},
   "source": [
    "# Собственная реализация"
   ]
  },
  {
   "cell_type": "code",
   "execution_count": 63,
   "id": "12dca4c4-8894-472a-b147-9d3ce854a3ed",
   "metadata": {},
   "outputs": [],
   "source": [
    "import sys\n",
    "sys.path.append(\"..\")\n",
    "from models.metrics2 import mAccuracy, mPrecision, mRecall, mF1Score, mConfusionMatrix"
   ]
  },
  {
   "cell_type": "code",
   "execution_count": 100,
   "id": "50cbe2a5-a367-44d8-8c1a-602b2f863739",
   "metadata": {},
   "outputs": [],
   "source": [
    "def met(name, y_test, y_pred):\n",
    "    print(name)\n",
    "    print('\\nAccuracy: ', mAccuracy(np.ravel(y_test), np.ravel(y_pred)))\n",
    "    prec0, prec1 = mPrecision(np.ravel(y_test), np.ravel(y_pred))\n",
    "    print('\\nPrecision для класса 0: ', prec0, '\\nPrecision для класса 1: ', prec1)\n",
    "    recall0, recall1 = mRecall(np.ravel(y_test), np.ravel(y_pred))\n",
    "    print('\\nRecall для класса 0: ', recall0, '\\nRecall для класса 1: ', recall1)\n",
    "    f1_0, f1_1 = mF1Score(np.ravel(y_test), np.ravel(y_pred))\n",
    "    print('\\nF1-score для класса 0: ', f1_0, '\\nF1-score для класса 1: ', f1_1 )\n",
    "    print()"
   ]
  },
  {
   "cell_type": "code",
   "execution_count": 101,
   "id": "cccb0eb1-faa7-4891-89fe-fb91e5aec913",
   "metadata": {
    "scrolled": true
   },
   "outputs": [
    {
     "name": "stdout",
     "output_type": "stream",
     "text": [
      "Logistic Regression\n",
      "\n",
      "Accuracy:  0.8248130440112786\n",
      "\n",
      "Precision для класса 0:  0.9958435207823961 \n",
      "Precision для класса 1:  0.30588526211671613\n",
      "\n",
      "Recall для класса 0:  0.8131904698522561 \n",
      "Recall для класса 1:  0.9604037267080745\n",
      "\n",
      "F1-score для класса 0:  0.8952960140679953 \n",
      "F1-score для класса 1:  0.4639909977494374\n",
      "\n"
     ]
    }
   ],
   "source": [
    "met(\"Logistic Regression\", y_test, log_reg_pred)"
   ]
  },
  {
   "cell_type": "code",
   "execution_count": 102,
   "id": "fa79cf9b-245f-4076-b1d6-55c1daa59210",
   "metadata": {},
   "outputs": [
    {
     "name": "stdout",
     "output_type": "stream",
     "text": [
      "Naive Bayes\n",
      "\n",
      "Accuracy:  0.8406276817457399\n",
      "\n",
      "Precision для класса 0:  0.990370955011839 \n",
      "Precision для класса 1:  0.3199780461031833\n",
      "\n",
      "Recall для класса 0:  0.8350858511912684 \n",
      "Recall для класса 1:  0.90527950310559\n",
      "\n",
      "F1-score для класса 0:  0.9061236279607163 \n",
      "F1-score для класса 1:  0.4728304947283049\n",
      "\n"
     ]
    }
   ],
   "source": [
    "met(\"Naive Bayes\", y_test, naive_bayes_pred)"
   ]
  },
  {
   "cell_type": "code",
   "execution_count": 103,
   "id": "e036d3a3-e808-4640-9c2a-ee9f823fd1ac",
   "metadata": {},
   "outputs": [
    {
     "name": "stdout",
     "output_type": "stream",
     "text": [
      "SVC\n",
      "\n",
      "Accuracy:  0.581034694127743\n",
      "\n",
      "Precision для класса 0:  0.9978120821684697 \n",
      "Precision для класса 1:  0.15704216643996538\n",
      "\n",
      "Recall для класса 0:  0.5463197124983362 \n",
      "Recall для класса 1:  0.9860248447204969\n",
      "\n",
      "F1-score для класса 0:  0.7060594331914163 \n",
      "F1-score для класса 1:  0.27093333333333336\n",
      "\n"
     ]
    }
   ],
   "source": [
    "met(\"SVC\", y_test, SVC_pred)"
   ]
  },
  {
   "cell_type": "code",
   "execution_count": 104,
   "id": "d625c8f9-cdb2-4391-bb01-7234515ee604",
   "metadata": {},
   "outputs": [
    {
     "name": "stdout",
     "output_type": "stream",
     "text": [
      "kNN\n",
      "\n",
      "Accuracy:  0.8664950349393159\n",
      "\n",
      "Precision для класса 0:  0.9880717216228536 \n",
      "Precision для класса 1:  0.3588197969543147\n",
      "\n",
      "Recall для класса 0:  0.8654998003460668 \n",
      "Recall для класса 1:  0.8781055900621118\n",
      "\n",
      "F1-score для класса 0:  0.9227330779054916 \n",
      "F1-score для класса 1:  0.5094594594594594\n",
      "\n"
     ]
    }
   ],
   "source": [
    "met(\"kNN\", y_test, knn_pred)"
   ]
  },
  {
   "cell_type": "code",
   "execution_count": 69,
   "id": "d94a7ab2-6f63-41d0-a27f-6d82d7263fee",
   "metadata": {},
   "outputs": [],
   "source": [
    "import sys\n",
    "sys.path.append(\"..\")\n",
    "from models.kNN import kNN"
   ]
  },
  {
   "cell_type": "code",
   "execution_count": 110,
   "id": "294fe2ce-2772-4b80-9b01-a8de26257985",
   "metadata": {},
   "outputs": [],
   "source": [
    "myknn = kNN(k=5)"
   ]
  },
  {
   "cell_type": "code",
   "execution_count": 111,
   "id": "f6199a85-6493-493d-8ad3-7e2b0d8e3c2c",
   "metadata": {},
   "outputs": [],
   "source": [
    "myknn.fit(X_train[:10000], np.ravel(y_train[:10000]))"
   ]
  },
  {
   "cell_type": "code",
   "execution_count": 112,
   "id": "2692f530-8d13-420c-9e44-901e875e47a9",
   "metadata": {},
   "outputs": [],
   "source": [
    "myknn_pred = myknn.predict(X_test[:2500])"
   ]
  },
  {
   "cell_type": "code",
   "execution_count": 113,
   "id": "fd676e62-4925-41c8-a873-63c58a0d64be",
   "metadata": {},
   "outputs": [
    {
     "name": "stdout",
     "output_type": "stream",
     "text": [
      "[[2210   71]\n",
      " [ 166   53]]\n"
     ]
    }
   ],
   "source": [
    "cm = confusion_matrix( np.ravel(y_test.iloc[:2500]), myknn_pred)\n",
    "\n",
    "print(cm)"
   ]
  },
  {
   "cell_type": "code",
   "execution_count": 114,
   "id": "7e6e33a1-460e-49c1-b28c-97abfe57729f",
   "metadata": {},
   "outputs": [
    {
     "name": "stdout",
     "output_type": "stream",
     "text": [
      "              precision    recall  f1-score   support\n",
      "\n",
      "           0       0.93      0.97      0.95      2281\n",
      "           1       0.43      0.24      0.31       219\n",
      "\n",
      "    accuracy                           0.91      2500\n",
      "   macro avg       0.68      0.61      0.63      2500\n",
      "weighted avg       0.89      0.91      0.89      2500\n",
      "\n"
     ]
    }
   ],
   "source": [
    "print(classification_report(y_test.iloc[:2500], myknn_pred))"
   ]
  },
  {
   "cell_type": "markdown",
   "id": "f419d400-98a7-4928-9d27-85efbbbf4969",
   "metadata": {},
   "source": [
    "# Задание\n",
    "Какова вероятность отправиться на прогулку если идёт дождь, при наличии следующих наблюдений?"
   ]
  },
  {
   "cell_type": "code",
   "execution_count": 118,
   "id": "10cf6a77-4417-4de4-b0bf-b96526771520",
   "metadata": {},
   "outputs": [],
   "source": [
    "data = [\n",
    "        ('солнечно', True),\n",
    "        ('снег', False),\n",
    "        ('облачно', False),\n",
    "        ('дождь', False),\n",
    "        ('солнечно', True),\n",
    "        ('снег', False),\n",
    "        ('облачно', True),\n",
    "        ('снег', False),\n",
    "        ('солнечно', False),\n",
    "        ('облачно', True),\n",
    "        ('снег', True),\n",
    "        ('солнечно', True),\n",
    "        ('дождь', False),\n",
    "        ('дождь', True),\n",
    "        ('облачно', True),\n",
    "]"
   ]
  },
  {
   "cell_type": "code",
   "execution_count": 120,
   "id": "009bd01f-642c-4cb9-afb9-d0449be4da3a",
   "metadata": {},
   "outputs": [
    {
     "data": {
      "text/html": [
       "<div>\n",
       "<style scoped>\n",
       "    .dataframe tbody tr th:only-of-type {\n",
       "        vertical-align: middle;\n",
       "    }\n",
       "\n",
       "    .dataframe tbody tr th {\n",
       "        vertical-align: top;\n",
       "    }\n",
       "\n",
       "    .dataframe thead th {\n",
       "        text-align: right;\n",
       "    }\n",
       "</style>\n",
       "<table border=\"1\" class=\"dataframe\">\n",
       "  <thead>\n",
       "    <tr style=\"text-align: right;\">\n",
       "      <th></th>\n",
       "      <th>weather</th>\n",
       "      <th>probability</th>\n",
       "    </tr>\n",
       "  </thead>\n",
       "  <tbody>\n",
       "    <tr>\n",
       "      <th>0</th>\n",
       "      <td>солнечно</td>\n",
       "      <td>True</td>\n",
       "    </tr>\n",
       "    <tr>\n",
       "      <th>1</th>\n",
       "      <td>снег</td>\n",
       "      <td>False</td>\n",
       "    </tr>\n",
       "    <tr>\n",
       "      <th>2</th>\n",
       "      <td>облачно</td>\n",
       "      <td>False</td>\n",
       "    </tr>\n",
       "    <tr>\n",
       "      <th>3</th>\n",
       "      <td>дождь</td>\n",
       "      <td>False</td>\n",
       "    </tr>\n",
       "    <tr>\n",
       "      <th>4</th>\n",
       "      <td>солнечно</td>\n",
       "      <td>True</td>\n",
       "    </tr>\n",
       "    <tr>\n",
       "      <th>5</th>\n",
       "      <td>снег</td>\n",
       "      <td>False</td>\n",
       "    </tr>\n",
       "    <tr>\n",
       "      <th>6</th>\n",
       "      <td>облачно</td>\n",
       "      <td>True</td>\n",
       "    </tr>\n",
       "    <tr>\n",
       "      <th>7</th>\n",
       "      <td>снег</td>\n",
       "      <td>False</td>\n",
       "    </tr>\n",
       "    <tr>\n",
       "      <th>8</th>\n",
       "      <td>солнечно</td>\n",
       "      <td>False</td>\n",
       "    </tr>\n",
       "    <tr>\n",
       "      <th>9</th>\n",
       "      <td>облачно</td>\n",
       "      <td>True</td>\n",
       "    </tr>\n",
       "    <tr>\n",
       "      <th>10</th>\n",
       "      <td>снег</td>\n",
       "      <td>True</td>\n",
       "    </tr>\n",
       "    <tr>\n",
       "      <th>11</th>\n",
       "      <td>солнечно</td>\n",
       "      <td>True</td>\n",
       "    </tr>\n",
       "    <tr>\n",
       "      <th>12</th>\n",
       "      <td>дождь</td>\n",
       "      <td>False</td>\n",
       "    </tr>\n",
       "    <tr>\n",
       "      <th>13</th>\n",
       "      <td>дождь</td>\n",
       "      <td>True</td>\n",
       "    </tr>\n",
       "    <tr>\n",
       "      <th>14</th>\n",
       "      <td>облачно</td>\n",
       "      <td>True</td>\n",
       "    </tr>\n",
       "  </tbody>\n",
       "</table>\n",
       "</div>"
      ],
      "text/plain": [
       "     weather  probability\n",
       "0   солнечно         True\n",
       "1       снег        False\n",
       "2    облачно        False\n",
       "3      дождь        False\n",
       "4   солнечно         True\n",
       "5       снег        False\n",
       "6    облачно         True\n",
       "7       снег        False\n",
       "8   солнечно        False\n",
       "9    облачно         True\n",
       "10      снег         True\n",
       "11  солнечно         True\n",
       "12     дождь        False\n",
       "13     дождь         True\n",
       "14   облачно         True"
      ]
     },
     "execution_count": 120,
     "metadata": {},
     "output_type": "execute_result"
    }
   ],
   "source": [
    "data = pd.DataFrame(data, columns=['weather', 'probability'])\n",
    "data"
   ]
  },
  {
   "cell_type": "markdown",
   "id": "7608c651-97d3-4231-ab2e-e758ba919fe6",
   "metadata": {},
   "source": [
    "Составим сводную таблицу, куда отберём только те случаи, когда погода дождливая"
   ]
  },
  {
   "cell_type": "code",
   "execution_count": 132,
   "id": "c9bc9d07-7be4-4340-afc9-bc177bd79c0d",
   "metadata": {},
   "outputs": [],
   "source": [
    "data = data.loc[data.loc[:,'weather'] == 'дождь']"
   ]
  },
  {
   "cell_type": "markdown",
   "id": "d6dc9c8e-9140-4a98-af93-2ca6fe50f545",
   "metadata": {},
   "source": [
    "Найдём число строк, где значение столбца 'probability' равно True и общее число строк"
   ]
  },
  {
   "cell_type": "code",
   "execution_count": 133,
   "id": "34287209-2ea5-4cd3-844f-1764dfa1d7d6",
   "metadata": {},
   "outputs": [],
   "source": [
    "true_data = len(data[data['probability']==True])\n",
    "all_data = len(data)"
   ]
  },
  {
   "cell_type": "markdown",
   "id": "cc8ae21b-31c7-4299-9936-b3fdbb4ecb61",
   "metadata": {},
   "source": [
    "Разделим true_data на all_data и найдём вероятность прогулки в дождь"
   ]
  },
  {
   "cell_type": "code",
   "execution_count": 134,
   "id": "c3add9ef-82c7-4b01-8663-709c36b812f9",
   "metadata": {},
   "outputs": [
    {
     "name": "stdout",
     "output_type": "stream",
     "text": [
      "Вероятность прогулки в дождь равна  0.3333333333333333\n"
     ]
    }
   ],
   "source": [
    "print(\"Вероятность прогулки в дождь равна \", (true_data/all_data))"
   ]
  }
 ],
 "metadata": {
  "kernelspec": {
   "display_name": "Python 3 (ipykernel)",
   "language": "python",
   "name": "python3"
  },
  "language_info": {
   "codemirror_mode": {
    "name": "ipython",
    "version": 3
   },
   "file_extension": ".py",
   "mimetype": "text/x-python",
   "name": "python",
   "nbconvert_exporter": "python",
   "pygments_lexer": "ipython3",
   "version": "3.10.4"
  }
 },
 "nbformat": 4,
 "nbformat_minor": 5
}
